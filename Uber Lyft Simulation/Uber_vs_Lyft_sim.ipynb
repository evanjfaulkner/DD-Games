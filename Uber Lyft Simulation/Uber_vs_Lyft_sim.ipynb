{
 "cells": [
  {
   "cell_type": "markdown",
   "metadata": {},
   "source": [
    "# Decision Dependent Games Simulation\n",
    "## Uber vs. Lyft\n",
    "\n",
    "We introduce fictional performative effects on top of real data scraped from Uber and Lyft to simulate a decision dependent risk minimization game."
   ]
  },
  {
   "cell_type": "code",
   "execution_count": 1,
   "metadata": {},
   "outputs": [
    {
     "name": "stderr",
     "output_type": "stream",
     "text": [
      "C:\\Users\\evanj\\anaconda3\\lib\\site-packages\\tqdm\\std.py:697: FutureWarning: The Panel class is removed from pandas. Accessing it from the top-level namespace will also be removed in the next version\n",
      "  from pandas import Panel\n"
     ]
    }
   ],
   "source": [
    "import math\n",
    "import numpy as np\n",
    "import pandas as pd\n",
    "import sys\n",
    "import datetime\n",
    "\n",
    "sys.path.append(\"../utils/\")\n",
    "from utils_rideshare import *\n",
    "\n",
    "from dd_game_rideshare import *\n",
    "from two_stage_player_rideshare import *\n",
    "from dfo_player_rideshare import *\n",
    "\n",
    "import matplotlib as mpl\n",
    "import matplotlib.pyplot as plt\n",
    "from matplotlib.colors import LogNorm\n",
    "import seaborn as sns\n",
    "sns.set_style('darkgrid')\n",
    "\n",
    "from tqdm import tqdm, trange\n",
    "tqdm.pandas()"
   ]
  },
  {
   "cell_type": "code",
   "execution_count": 2,
   "metadata": {},
   "outputs": [
    {
     "name": "stderr",
     "output_type": "stream",
     "text": [
      "100%|███████████████████████████████████████████████████████████████████████| 693071/693071 [00:17<00:00, 39419.27it/s]\n",
      "100%|██████████████████████████████████████████████████████████████████████| 637976/637976 [00:05<00:00, 115449.89it/s]\n",
      "100%|██████████████████████████████████████████████████████████████████████| 637976/637976 [00:05<00:00, 110376.30it/s]\n",
      "100%|████████████████████████████████████████████████████████████████████████████████████| 1/1 [00:01<00:00,  1.02s/it]\n",
      "100%|████████████████████████████████████████████████████████████████████████████████████| 1/1 [00:01<00:00,  1.02s/it]\n"
     ]
    }
   ],
   "source": [
    "rides = pd.read_csv('../data/rideshare_kaggle.csv')\n",
    "rides['date'] = rides.progress_apply(lambda row: datetime.datetime.strptime(row['datetime'], '%Y-%m-%d %H:%M:%S').date(), axis=1)\n",
    "\n",
    "new_rides = rides[['hour','cab_type','price','distance','date']].dropna(subset = ['price']).reset_index()\n",
    "new_rides['distance'] = new_rides.progress_apply(lambda row: math.ceil(row['distance']), axis=1)\n",
    "new_rides['price'] = new_rides.progress_apply(lambda row: 5*math.floor(row['price']/5), axis=1)\n",
    "\n",
    "cab_types_ = new_rides.cab_type.unique()\n",
    "distances_ = new_rides.distance.unique()\n",
    "hours_ = np.array([17,18,19])  # new_rides.hour.unique()\n",
    "prices_ = np.array([10])# np.array([5*(i) for i in range(5)])  # new_rides.price.unique()\n",
    "dates = len(new_rides.date.unique())\n",
    "\n",
    "g = np.zeros((len(cab_types_),len(prices_),len(hours_),len(distances_)))\n",
    "\n",
    "for i in range(len(cab_types_)):\n",
    "    for j in trange(len(prices_)):\n",
    "        for k in range(len(hours_)):\n",
    "            for m in range(len(distances_)):\n",
    "                g[i,j,k,m] = len(new_rides[(new_rides['cab_type']==cab_types_[i])\n",
    "                                          &(new_rides['price']==prices_[j])\n",
    "                                          &(new_rides['hour']==hours_[k])\n",
    "                                          &(new_rides['distance']==distances_[m])])/dates\n",
    "\n",
    "np.random.seed(37)"
   ]
  },
  {
   "cell_type": "markdown",
   "metadata": {},
   "source": [
    "# Configurations"
   ]
  },
  {
   "cell_type": "code",
   "execution_count": 3,
   "metadata": {},
   "outputs": [
    {
     "name": "stdout",
     "output_type": "stream",
     "text": [
      "g_uber = \n",
      "[[52.11764706]]\n",
      "g_lyft = \n",
      "[[76.64705882]]\n"
     ]
    }
   ],
   "source": [
    "x = [17,2]  # [time, distance]\n",
    "g_uber = g[np.where(cab_types_=='Uber'),:,np.where(hours_==x[0]),np.where(distances_==x[1])].reshape((-1,1))\n",
    "g_lyft = g[np.where(cab_types_=='Lyft'),:,np.where(hours_==x[0]),np.where(distances_==x[1])].reshape((-1,1))\n",
    "\n",
    "prices_ = prices_.reshape((-1,1))\n",
    "\n",
    "print(f'g_uber = \\n{g_uber}')\n",
    "print(f'g_lyft = \\n{g_lyft}')\n",
    "\n",
    "d_1 = len(g_uber)  # Dimension of each player's data/strategy\n",
    "d_2 = len(g_lyft)\n",
    "\n",
    "lambda_p1 = 1e-3\n",
    "lambda_p2 = 1e-3\n",
    "\n",
    "eta_p1 = 1e-3\n",
    "eta_p2 = 1e-3\n",
    "\n",
    "mu_p1 = -0.1*g_uber\n",
    "gamma_p1 = 0.05*g_uber\n",
    "mu_p2 = -0.1*g_lyft\n",
    "gamma_p2 = 0.05*g_lyft"
   ]
  },
  {
   "cell_type": "code",
   "execution_count": 4,
   "metadata": {},
   "outputs": [],
   "source": [
    "p1_data_params = (g_uber, d_1, mu_p1, gamma_p1, lambda_p1, eta_p1, prices_)\n",
    "p1_data_generating_func = sample_from_location_family_rideshare\n",
    "\n",
    "p2_data_params = (g_lyft, d_2, mu_p2, gamma_p2, lambda_p2, eta_p2, prices_)\n",
    "p2_data_generating_func = sample_from_location_family_rideshare"
   ]
  },
  {
   "cell_type": "code",
   "execution_count": 5,
   "metadata": {},
   "outputs": [],
   "source": [
    "num_rounds_lst = np.logspace(1,5,5,dtype='int')\n",
    "num_test = 10000\n",
    "num_alternate_rounds = 1000"
   ]
  },
  {
   "cell_type": "markdown",
   "metadata": {},
   "source": [
    "# Run game with 2-stage algorithm"
   ]
  },
  {
   "cell_type": "code",
   "execution_count": 6,
   "metadata": {},
   "outputs": [
    {
     "name": "stdout",
     "output_type": "stream",
     "text": [
      "num_rounds = 10\n",
      "---------------------\n",
      "Player 1: mu error\n",
      "17.078038354188116\n",
      "Player 1: gamma error\n",
      "1.9566204869927932\n",
      "Player 1 Risk:\n",
      "-620.7154029104302\n",
      "Player 2: mu error\n",
      "4.256351973821822\n",
      "Player 2: gamma error\n",
      "9.451859245139204\n",
      "Player 2 Risk:\n",
      "-26.23461697027161\n",
      "---------------------\n",
      "num_rounds = 100\n",
      "---------------------\n",
      "Player 1: mu error\n",
      "1.6549112493432556\n",
      "Player 1: gamma error\n",
      "1.4942626428823265\n",
      "Player 1 Risk:\n",
      "-549.7503041391116\n",
      "Player 2: mu error\n",
      "1.9052208330069984\n",
      "Player 2: gamma error\n",
      "0.3462874099096176\n",
      "Player 2 Risk:\n",
      "-716.5627543323336\n",
      "---------------------\n",
      "num_rounds = 1000\n",
      "---------------------\n",
      "Player 1: mu error\n",
      "0.6294940543901264\n",
      "Player 1: gamma error\n",
      "0.6334843402640611\n",
      "Player 1 Risk:\n",
      "-511.55034264064597\n",
      "Player 2: mu error\n",
      "0.25559853872617744\n",
      "Player 2: gamma error\n",
      "0.07717954592680432\n",
      "Player 2 Risk:\n",
      "-744.4618819963356\n",
      "---------------------\n",
      "num_rounds = 10000\n",
      "---------------------\n",
      "Player 1: mu error\n",
      "0.06049760894992051\n",
      "Player 1: gamma error\n",
      "0.06839691778266133\n",
      "Player 1 Risk:\n",
      "-523.1705470644249\n",
      "Player 2: mu error\n",
      "0.06868089135665922\n",
      "Player 2: gamma error\n",
      "0.04516813217418081\n",
      "Player 2 Risk:\n",
      "-765.4889437752385\n",
      "---------------------\n",
      "num_rounds = 100000\n",
      "---------------------\n",
      "Player 1: mu error\n",
      "0.02355460427501299\n",
      "Player 1: gamma error\n",
      "0.04846650969326216\n",
      "Player 1 Risk:\n",
      "-519.7603260996661\n",
      "Player 2: mu error\n",
      "0.04832772924524953\n",
      "Player 2: gamma error\n",
      "0.06562193622880264\n",
      "Player 2 Risk:\n",
      "-764.9402056013348\n",
      "---------------------\n"
     ]
    }
   ],
   "source": [
    "p1_risks = []\n",
    "p2_risks = []\n",
    "theta_final_p1 = []\n",
    "theta_final_p2 = []\n",
    "\n",
    "for num_rounds in num_rounds_lst:\n",
    "    print(f\"num_rounds = {num_rounds}\")\n",
    "    player_one = TwoStagePlayer()\n",
    "    player_two = TwoStagePlayer()\n",
    "    game_ts = DecisionDependentGame(player_one, player_two,\n",
    "                                    p1_data_params, p2_data_params,\n",
    "                                    p1_data_generating_func, p2_data_generating_func,\n",
    "                                    num_rounds, num_alternate_rounds, num_test)\n",
    "    \n",
    "    game_ts.run_train()\n",
    "    game_ts.run_post_train_alternating()\n",
    "    \n",
    "    PR1 = game_ts.evaluate_perf_risk_p1()\n",
    "    PR2 = game_ts.evaluate_perf_risk_p2()\n",
    "    \n",
    "    p1_risks.append(PR1)\n",
    "    p2_risks.append(PR2)\n",
    "    \n",
    "    theta_final_p1.append(game_ts.theta_p1)\n",
    "    theta_final_p2.append(game_ts.theta_p2)\n",
    "    \n",
    "    #Change this flag if one wants to change print settings\n",
    "    if True:\n",
    "        print(\"---------------------\")\n",
    "        print(\"Player 1: mu error\")\n",
    "        print(np.linalg.norm(mu_p1-player_one.mu_hat))\n",
    "        print(\"Player 1: gamma error\")\n",
    "        print(np.linalg.norm(gamma_p1-player_one.gamma_hat))\n",
    "        print(\"Player 1 Risk:\")\n",
    "        print(PR1)\n",
    "\n",
    "        print(\"Player 2: mu error\")\n",
    "        print(np.linalg.norm(mu_p2-player_two.mu_hat))\n",
    "        print(\"Player 2: gamma error\")\n",
    "        print(np.linalg.norm(gamma_p2-player_two.gamma_hat))\n",
    "        print(\"Player 2 Risk:\")\n",
    "        print(PR2)\n",
    "        print(\"---------------------\")"
   ]
  },
  {
   "cell_type": "markdown",
   "metadata": {},
   "source": [
    "# Run game with DFO players"
   ]
  },
  {
   "cell_type": "code",
   "execution_count": null,
   "metadata": {},
   "outputs": [
    {
     "name": "stderr",
     "output_type": "stream",
     "text": [
      "  0%|▎                                                                          | 393/100001 [00:00<00:52, 1891.18it/s]"
     ]
    },
    {
     "name": "stdout",
     "output_type": "stream",
     "text": [
      "---------------------\n",
      "Iteration 10\n",
      "Player 3 risk:\n",
      "-447.09074299439675\n",
      "Player 4 risk:\n",
      "-786.773649867131\n",
      "---------------------\n",
      "---------------------\n",
      "Iteration 100\n",
      "Player 3 risk:\n",
      "-381.0837441042965\n",
      "Player 4 risk:\n",
      "-483.2154410411388\n",
      "---------------------\n"
     ]
    },
    {
     "name": "stderr",
     "output_type": "stream",
     "text": [
      "  1%|▉                                                                         | 1314/100001 [00:00<00:45, 2180.88it/s]"
     ]
    },
    {
     "name": "stdout",
     "output_type": "stream",
     "text": [
      "---------------------\n",
      "Iteration 1000\n",
      "Player 3 risk:\n",
      "-393.26060894080143\n",
      "Player 4 risk:\n",
      "-570.6290978537679\n",
      "---------------------\n"
     ]
    },
    {
     "name": "stderr",
     "output_type": "stream",
     "text": [
      " 10%|███████▌                                                                 | 10277/100001 [00:03<00:29, 2997.73it/s]"
     ]
    },
    {
     "name": "stdout",
     "output_type": "stream",
     "text": [
      "---------------------\n",
      "Iteration 10000\n",
      "Player 3 risk:\n",
      "-738.6039265186142\n",
      "Player 4 risk:\n",
      "-529.0907656533101\n",
      "---------------------\n"
     ]
    },
    {
     "name": "stderr",
     "output_type": "stream",
     "text": [
      " 48%|███████████████████████████████████▏                                     | 48286/100001 [00:18<00:17, 2943.46it/s]"
     ]
    }
   ],
   "source": [
    "p3_risks = []\n",
    "p4_risks = []\n",
    "theta_final_p3 = []\n",
    "theta_final_p4 = []\n",
    "\n",
    "delta = 1\n",
    "eta = 1e-3\n",
    "num_test_dfo = 1\n",
    "num_rounds = num_rounds_lst[-1]\n",
    "batch_size = 1\n",
    "\n",
    "player_three = DFOPlayer(delta,eta)\n",
    "player_four = DFOPlayer(delta,eta)\n",
    "game_dfo = DecisionDependentGame(player_three, player_four,\n",
    "                                 p1_data_params, p2_data_params,\n",
    "                                 p1_data_generating_func, p2_data_generating_func,\n",
    "                                 num_test_dfo)\n",
    "\n",
    "for i in trange(num_rounds+1):\n",
    "    PR_3_oracle = []\n",
    "    PR_4_oracle = []\n",
    "    for j in range(batch_size):\n",
    "        game_dfo.theta_p1 = player_three.perturb_theta()\n",
    "        game_dfo.theta_p2 = player_four.perturb_theta()\n",
    "\n",
    "        PR_3_oracle.append(game_dfo.evaluate_perf_risk_p1())\n",
    "        PR_4_oracle.append(game_dfo.evaluate_perf_risk_p2())\n",
    "    \n",
    "    game_dfo.theta_p1 = player_three.update_theta(PR_3_oracle)\n",
    "    game_dfo.theta_p2 = player_four.update_theta(PR_4_oracle)\n",
    "    \n",
    "    if i in num_rounds_lst:\n",
    "        p3_risks.append(evaluate_performative_risk(p1_data_generating_func, g_uber, prices_,\n",
    "                                                   mu_p1, gamma_p1,\n",
    "                                                   lambda_p1,\n",
    "                                                   game_dfo.theta_p1, game_dfo.theta_p2,\n",
    "                                                   num_test))\n",
    "        p4_risks.append(evaluate_performative_risk(p2_data_generating_func, g_lyft, prices_,\n",
    "                                                   mu_p2, gamma_p2,\n",
    "                                                   lambda_p2,\n",
    "                                                   game_dfo.theta_p2, game_dfo.theta_p1,\n",
    "                                                   num_test))\n",
    "        \n",
    "        theta_final_p3.append(game_dfo.theta_p1)\n",
    "        theta_final_p4.append(game_dfo.theta_p2)\n",
    "    \n",
    "        if True:\n",
    "            print(\"---------------------\")\n",
    "            print(f\"Iteration {i}\")\n",
    "            print(\"Player 3 risk:\")\n",
    "            print(p3_risks[-1])\n",
    "\n",
    "            print(\"Player 4 risk:\")\n",
    "            print(p4_risks[-1])\n",
    "            print(\"---------------------\")\n",
    "            \n",
    "# print(np.mean(game_dfo.p1.theta_history))\n",
    "# print(np.mean(game_dfo.p2.theta_history))\n",
    "# theta_final_p3[-1] = np.mean(game_dfo.p1.theta_history)\n",
    "# theta_final_p4[-1] = np.mean(game_dfo.p2.theta_history)"
   ]
  },
  {
   "cell_type": "markdown",
   "metadata": {},
   "source": [
    "## Plots"
   ]
  },
  {
   "cell_type": "code",
   "execution_count": null,
   "metadata": {},
   "outputs": [],
   "source": [
    "plt.figure(figsize=(20,7))\n",
    "plt.subplot(1,2,1)\n",
    "plt.semilogx(num_rounds_lst, -np.squeeze(p1_risks),\n",
    "             '--', color='#5553E6', label=r'$\\mathcal{R}_{TS1}$')\n",
    "plt.semilogx(num_rounds_lst, -np.squeeze(p2_risks),\n",
    "             '--', color='#E07110', label=r'$\\mathcal{R}_{TS2}$')\n",
    "\n",
    "plt.semilogx(num_rounds_lst, -np.squeeze(p3_risks),\n",
    "             '-', color='#5553E6', label=r'$\\mathcal{R}_{DFO1}$')\n",
    "plt.semilogx(num_rounds_lst, -np.squeeze(p4_risks),\n",
    "             '-', color='#E07110', label=r'$\\mathcal{R}_{DFO2}$')\n",
    "\n",
    "plt.xlabel(\"Number of Data Points\")\n",
    "plt.ylabel(r\"$PR(\\theta)$\")\n",
    "plt.title(\"Revenue\")\n",
    "plt.legend(fontsize=14)\n",
    "\n",
    "plt.subplot(1,2,2)\n",
    "plt.loglog(num_rounds_lst, -np.squeeze(p1_risks),\n",
    "           '--', color='#5553E6', label=r'$\\mathcal{R}_{TS1}$')\n",
    "plt.loglog(num_rounds_lst, -np.squeeze(p2_risks),\n",
    "           '--', color='#E07110', label=r'$\\mathcal{R}_{TS2}$')\n",
    "\n",
    "plt.loglog(num_rounds_lst, -np.squeeze(p3_risks),\n",
    "           '-', color='#5553E6', label=r'$\\mathcal{R}_{DFO1}$')\n",
    "plt.loglog(num_rounds_lst, -np.squeeze(p4_risks),\n",
    "           '-', color='#E07110', label=r'$\\mathcal{R}_{DFO2}$')\n",
    "\n",
    "plt.xlabel(\"Number of Data Points\")\n",
    "plt.ylabel(r\"$\\log(PR(\\theta))$\")\n",
    "plt.title('Revenue')\n",
    "plt.legend(fontsize=14)\n",
    "\n",
    "# plt.subplot(1,3,3)\n",
    "# plt.semilogx(num_rounds_lst, np.squeeze(theta_final_p1),\n",
    "#            '--', color='#5553E6', label=r'$\\theta_{TS1}$')\n",
    "# plt.semilogx(num_rounds_lst, np.squeeze(theta_final_p2),\n",
    "#            '--', color='#E07110', label=r'$\\theta_{TS2}$')\n",
    "\n",
    "# plt.semilogx(num_rounds_lst, np.squeeze(theta_final_p3),\n",
    "#            '-', color='#5553E6', label=r'$\\theta_{DFO1}$')\n",
    "# plt.semilogx(num_rounds_lst, np.squeeze(theta_final_p4),\n",
    "#            '-', color='#E07110', label=r'$\\theta_{DFO2}$')\n",
    "\n",
    "# plt.ylim(-10,10)\n",
    "plt.xlabel(\"Number of Data Points\")\n",
    "plt.ylabel(r\"$\\log(PR(\\theta))$\")\n",
    "plt.title('Strategies')\n",
    "plt.legend(fontsize=14)\n",
    "plt.tight_layout()\n",
    "plt.savefig('DD_regression_rideshare_convergence.jpg', format='jpg')\n",
    "plt.show()"
   ]
  },
  {
   "cell_type": "code",
   "execution_count": null,
   "metadata": {},
   "outputs": [],
   "source": [
    "plt.figure(figsize=(10,7))\n",
    "plt.plot(-np.squeeze(game_dfo.p1.risk_history))\n",
    "plt.plot(-np.squeeze(game_dfo.p2.risk_history))\n",
    "plt.show()"
   ]
  },
  {
   "cell_type": "code",
   "execution_count": null,
   "metadata": {},
   "outputs": [],
   "source": [
    "print(f'theta_1_ts - theta_1_dfo = \\n{game_ts.theta_p1-game_dfo.theta_p1}')\n",
    "print(f'theta_2_ts - theta_2_dfo = \\n{game_ts.theta_p2-game_dfo.theta_p2}')"
   ]
  },
  {
   "cell_type": "code",
   "execution_count": null,
   "metadata": {},
   "outputs": [],
   "source": [
    "print(f'theta_1_ts = \\n{game_ts.theta_p1}')\n",
    "print(f'theta_2_ts = \\n{game_ts.theta_p2}')"
   ]
  },
  {
   "cell_type": "code",
   "execution_count": null,
   "metadata": {},
   "outputs": [],
   "source": [
    "print(f'theta_1_dfo = \\n{game_dfo.theta_p1}')\n",
    "print(f'theta_2_dfo = \\n{game_dfo.theta_p2}')"
   ]
  },
  {
   "cell_type": "code",
   "execution_count": null,
   "metadata": {},
   "outputs": [],
   "source": [
    "plt.figure(figsize=(20,7))\n",
    "plt.subplot(1,2,1)\n",
    "plt.semilogx(num_rounds_lst, -np.squeeze(p1_risks),\n",
    "             '--', color='#5553E6', label=r'$\\mathcal{R}_{TS1}$')\n",
    "plt.semilogx(num_rounds_lst, -np.squeeze(p2_risks),\n",
    "             '--', color='#E07110', label=r'$\\mathcal{R}_{TS2}$')\n",
    "\n",
    "plt.semilogx(num_rounds_lst, -np.squeeze(p3_risks),\n",
    "             '-', color='#5553E6', label=r'$\\mathcal{R}_{DFO1}$')\n",
    "plt.semilogx(num_rounds_lst, -np.squeeze(p4_risks),\n",
    "             '-', color='#E07110', label=r'$\\mathcal{R}_{DFO2}$')\n",
    "\n",
    "plt.xlabel(\"Number of Data Points\")\n",
    "plt.ylabel(r\"$PR(\\theta)$\")\n",
    "plt.title(\"Revenue\")\n",
    "plt.legend(fontsize=14)\n",
    "\n",
    "plt.subplot(1,2,2)\n",
    "plt.loglog(num_rounds_lst, -np.squeeze(p1_risks),\n",
    "           '--', color='#5553E6', label=r'$\\mathcal{R}_{TS1}$')\n",
    "plt.loglog(num_rounds_lst, -np.squeeze(p2_risks),\n",
    "           '--', color='#E07110', label=r'$\\mathcal{R}_{TS2}$')\n",
    "\n",
    "plt.loglog(num_rounds_lst, -np.squeeze(p3_risks),\n",
    "           '-', color='#5553E6', label=r'$\\mathcal{R}_{DFO1}$')\n",
    "plt.loglog(num_rounds_lst, -np.squeeze(p4_risks),\n",
    "           '-', color='#E07110', label=r'$\\mathcal{R}_{DFO2}$')\n",
    "\n",
    "plt.xlabel(\"Number of Data Points\")\n",
    "plt.ylabel(r\"$\\log(PR(\\theta))$\")\n",
    "plt.title('Revenue')\n",
    "plt.legend(fontsize=14)\n",
    "\n",
    "# plt.subplot(1,3,3)\n",
    "# plt.semilogx(num_rounds_lst, np.squeeze(theta_final_p1),\n",
    "#            '--', color='#5553E6', label=r'$\\theta_{TS1}$')\n",
    "# plt.semilogx(num_rounds_lst, np.squeeze(theta_final_p2),\n",
    "#            '--', color='#E07110', label=r'$\\theta_{TS2}$')\n",
    "\n",
    "# plt.semilogx(num_rounds_lst, np.squeeze(theta_final_p3),\n",
    "#            '-', color='#5553E6', label=r'$\\theta_{DFO1}$')\n",
    "# plt.semilogx(num_rounds_lst, np.squeeze(theta_final_p4),\n",
    "#            '-', color='#E07110', label=r'$\\theta_{DFO2}$')\n",
    "\n",
    "# plt.ylim(-10,10)\n",
    "plt.xlabel(\"Number of Data Points\")\n",
    "plt.ylabel(r\"$\\log(PR(\\theta))$\")\n",
    "plt.title('Strategies')\n",
    "plt.legend(fontsize=14)\n",
    "plt.tight_layout()\n",
    "plt.savefig('DD_regression_rideshare_convergence.jpg', format='jpg')\n",
    "plt.show()"
   ]
  },
  {
   "cell_type": "code",
   "execution_count": null,
   "metadata": {},
   "outputs": [],
   "source": []
  }
 ],
 "metadata": {
  "kernelspec": {
   "display_name": "Python 3",
   "language": "python",
   "name": "python3"
  },
  "language_info": {
   "codemirror_mode": {
    "name": "ipython",
    "version": 3
   },
   "file_extension": ".py",
   "mimetype": "text/x-python",
   "name": "python",
   "nbconvert_exporter": "python",
   "pygments_lexer": "ipython3",
   "version": "3.8.5"
  }
 },
 "nbformat": 4,
 "nbformat_minor": 4
}
