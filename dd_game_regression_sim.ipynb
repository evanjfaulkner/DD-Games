{
 "cells": [
  {
   "cell_type": "markdown",
   "metadata": {},
   "source": [
    "# Decision Dependent Games Simulation\n",
    "## Synthetic Linear Regression Problem with Location Families\n",
    "\n",
    "We extend the linear regression example from Miller et. al. (http://arxiv.org/abs/2102.08570) to the multiplayer framework where the models of each player affect the distributions of data seen by all."
   ]
  },
  {
   "cell_type": "code",
   "execution_count": 1,
   "metadata": {},
   "outputs": [],
   "source": [
    "import numpy as np\n",
    "import matplotlib.pyplot as plt\n",
    "import math\n",
    "from dd_regression import *\n",
    "import seaborn as sns\n",
    "sns.set_style('darkgrid')"
   ]
  },
  {
   "cell_type": "markdown",
   "metadata": {},
   "source": [
    "The performative 2-player linear regression problem is set up as follows. For each player $k\\in\\{1,2\\}$ we generate data\n",
    "\n",
    "$$x^k \\sim \\mathcal{N}(0,\\Sigma_{x^k}),\\quad U^k \\sim \\mathcal{N}(0,\\sigma_{y^k}), \\quad y^k = \\langle \\beta^k, x^k \\rangle + \\langle \\mu^k, \\theta^k \\rangle + \\langle \\gamma^k, \\theta^{-k} \\rangle + U^k$$\n",
    "\n",
    "Where $x^k\\in\\mathbb{R}^d, y^k\\in\\mathbb{R}, U^k\\in\\mathbb{R}$. The performative effects are given by $\\mu^k,\\gamma^k$, which are drawn randomly. We can calculate the $\\varepsilon^k$-sensitivity parameters of the performative effects\n",
    "$$\\varepsilon^k = \\sqrt{||\\mu^k||_2^2+||\\gamma^k||_2^2}$$"
   ]
  },
  {
   "cell_type": "markdown",
   "metadata": {},
   "source": [
    "## Configuration"
   ]
  },
  {
   "cell_type": "code",
   "execution_count": 2,
   "metadata": {},
   "outputs": [],
   "source": [
    "np.random.seed(633788)\n",
    "\n",
    "d_1 = 20  # d_k is the dimension of the data for player k\n",
    "d_2 = 20\n",
    "\n",
    "perf_var = np.array([[1,1],[1,1]])  # perf_var[i,j] determines the size of the randomly drawn performative effects\n",
    "\n",
    "Sigma_x_1 = np.eye(d_1)  # Sigma_x_k defines the covariance of samples of features x for player k's data\n",
    "Sigma_x_2 = np.eye(d_2)\n",
    "sigma_y_1 = 10  # sigma_y_k defines the disturbance for player k's data\n",
    "sigma_y_2 = 10\n",
    "\n",
    "beta_1 = np.random.normal(size=d_1)  # randomly generate each player's parameter vector\n",
    "beta_2 = np.random.normal(size=d_2)\n",
    "mu_1 = np.random.normal(scale=perf_var[0,0], size=d_1)  # randomly generate location family parameters to define performative effects\n",
    "mu_2 = np.random.normal(scale=perf_var[1,1], size=d_2)\n",
    "gamma_1 = np.random.normal(scale=perf_var[0,1], size=d_1)\n",
    "gamma_2 = np.random.normal(scale=perf_var[1,0], size=d_2)\n",
    "\n",
    "stage_1_samples = int(1e4)  # Set number of samples in stage 1, iterations in stage 2\n",
    "stage_2_iter = int(70)"
   ]
  },
  {
   "cell_type": "code",
   "execution_count": 4,
   "metadata": {},
   "outputs": [
    {
     "name": "stderr",
     "output_type": "stream",
     "text": [
      "C:\\Users\\evanj\\Documents\\Python\\DD-Games\\dd_regression.py:23: VisibleDeprecationWarning: Creating an ndarray from ragged nested sequences (which is a list-or-tuple of lists-or-tuples-or ndarrays with different lengths or shapes) is deprecated. If you meant to do this, you must specify 'dtype=object' when creating the ndarray\n",
      "  return np.array(z_1_lst), np.array(z_2_lst), np.array(theta_1_lst), np.array(theta_2_lst)\n"
     ]
    }
   ],
   "source": [
    "n_lst = [10, 20, 30, 50, 100, 1000, 10000]\n",
    "pr_1_lst = []\n",
    "pr_2_lst = []\n",
    "\n",
    "for n_r in n_lst:\n",
    "    pr_1, pr_2 = run_game(n_r, d_1, d_2, mu_1, gamma_1, mu_2, gamma_2,\n",
    "                          stage_2_iter, stage_1_samples,\n",
    "                          Sigma_x_1, Sigma_x_2, sigma_y_1, sigma_y_2,\n",
    "                          beta_1, beta_2)\n",
    "    pr_1_lst.append(pr_1)\n",
    "    pr_2_lst.append(pr_2)"
   ]
  },
  {
   "cell_type": "code",
   "execution_count": 5,
   "metadata": {},
   "outputs": [
    {
     "data": {
      "image/png": "[encoded data removed]",
      "text/plain": [
       "<Figure size 432x288 with 1 Axes>"
      ]
     },
     "metadata": {},
     "output_type": "display_data"
    }
   ],
   "source": [
    "plt.plot(n_lst[2:], pr_1_lst[2:], label = 'First Player')\n",
    "plt.plot(n_lst[2:], pr_2_lst[2:], label = 'Second Player')\n",
    "plt.xscale('log')\n",
    "plt.yscale('log')\n",
    "plt.legend()\n",
    "\n",
    "plt.xlabel(\"Num. train points both phases\")\n",
    "plt.ylabel(r\"$PR(\\theta)$\")\n",
    "# plt.savefig(\"/Users/evanj/Desktop/multiplayer_pp_simulation.pdf\", format = 'pdf')\n",
    "plt.show()"
   ]
  }
 ],
 "metadata": {
  "kernelspec": {
   "display_name": "Python 3",
   "language": "python",
   "name": "python3"
  },
  "language_info": {
   "codemirror_mode": {
    "name": "ipython",
    "version": 3
   },
   "file_extension": ".py",
   "mimetype": "text/x-python",
   "name": "python",
   "nbconvert_exporter": "python",
   "pygments_lexer": "ipython3",
   "version": "3.8.5"
  }
 },
 "nbformat": 4,
 "nbformat_minor": 4
}
