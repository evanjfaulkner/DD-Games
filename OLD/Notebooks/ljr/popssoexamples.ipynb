{
 "cells": [
  {
   "cell_type": "code",
   "execution_count": 106,
   "metadata": {},
   "outputs": [],
   "source": [
    "import numpy as np\n",
    "import numpy.linalg as la\n",
    "import autograd\n",
    "%matplotlib inline\n",
    "\n",
    "import matplotlib.pyplot as plt\n",
    "import autograd.numpy as np_\n",
    "np.set_printoptions(precision=3)"
   ]
  },
  {
   "cell_type": "code",
   "execution_count": 104,
   "metadata": {},
   "outputs": [
    {
     "name": "stdout",
     "output_type": "stream",
     "text": [
      "$\\xi_1/(2\\beta_1)$ :  1.5\n",
      "$\\xi_2/(2\\beta_2)$ :  2.5\n"
     ]
    }
   ],
   "source": [
    "xi    = [3, 5]  \n",
    "beta  = [1,1]\n",
    "eps   = [1,1] \n",
    "gamma = [1,1]\n",
    "print(r\"$\\xi_1/(2\\beta_1)$ : \", xi[0]/(2*beta[0]))\n",
    "print(r\"$\\xi_2/(2\\beta_2)$ : \", xi[1]/(2*beta[1]))\n",
    "a=1\n",
    "h=lambda x: (x-a)\n",
    "\n",
    "f1=lambda x: (xi[0]/2)*x[0]**2-beta[0]*eps[0]*x[0]*h(x[0])-beta[0]*gamma[0]*x[0]*x[1]\n",
    "f2=lambda x: (xi[1]/2)*x[1]**2-beta[1]*eps[1]*x[1]*x[1]-beta[1]*gamma[1]*x[0]*x[1]\n",
    "\n",
    "f1_=lambda x,y: (xi[0]/2)*x**2-beta[0]*eps[0]*x*h(x)-beta[0]*gamma[0]*x*y\n",
    "f2_=lambda x,y: (xi[1]/2)*y**2-beta[1]*eps[1]*y**2-beta[1]*gamma[1]*x*y\n",
    "\n",
    "socost= lambda x,y: f1_(x,y)+f2_(x,y)\n",
    "\n",
    "def getNash():\n",
    "    denom1=(xi[0]*(-2*beta[1]*eps[1] + xi[1]) + beta[0]*(4*beta[1]*eps[0]*eps[1] - beta[1]*gamma[1]*gamma[0] - 2*eps[0]*xi[1]))\n",
    "    NE1=(a*beta[0]*eps[0]*(2*beta[1]*eps[1] - xi[1]))/denom1\n",
    "    denom2=(4*beta[0]*beta[1]*eps[1]*eps[0] - beta[0]*beta[1]*gamma[0]*gamma[1] -   2*beta[1]*eps[1]*xi[0] - 2*beta[0]*eps[0] *xi[1] + xi[0]*xi[1])\n",
    "    NE2=-(a*beta[0]*beta[1]*eps[0]*gamma[1])/denom2\n",
    "    return np.array([NE1,NE2])\n",
    "\n",
    "def getSO():\n",
    "    beta1=beta[0]; beta2=beta[1]\n",
    "    gamma1=gamma[0]; gamma2=gamma[1]\n",
    "    eps1=eps[0]; eps2=eps[1]; xi1=xi[0]; xi2=xi[1]\n",
    "    \n",
    "    denom1=(beta1**2*gamma1**2 + beta2**2*gamma2**2 + 2*beta2*eps2*xi1 - xi1*xi2 + beta1*(-4*beta2*eps1*eps2 + 2*beta2*gamma1*gamma2 + 2*eps1*xi2))\n",
    "    SO1=(a*beta1*eps1*(-2*beta2*eps2 + xi2))/denom1\n",
    "    \n",
    "    denom2=(beta1**2*gamma1**2 + beta2**2*gamma2**2 + 2*beta2*eps2*xi1 - xi1*xi2 + beta1*(-4*beta2*eps1*eps2 + 2*beta2*gamma1*gamma2 + 2*eps1*xi2))\n",
    "    SO2=(a*beta1*eps1*(beta1*gamma1 + beta2*gamma2))/denom2\n",
    "    return np.array([SO1,SO2])\n",
    "    \n",
    "def getPS():\n",
    "    beta1=beta[0]; beta2=beta[1]\n",
    "    gamma1=gamma[0]; gamma2=gamma[1]\n",
    "    eps1=eps[0]; eps2=eps[1]; xi1=xi[0]; xi2=xi[1]\n",
    "    \n",
    "    denom1=(xi1*(-beta2*eps2 + xi2) +  beta1*(beta2*eps1*eps2 - beta2*gamma1*gamma2 - eps1*xi2))\n",
    "    PS1=(a*beta1*eps1*(beta2*eps2 - xi2))/denom1\n",
    "    \n",
    "    denom2=(beta1*beta2*eps1*eps2 - beta1*beta2*gamma1*gamma2 - beta2*eps2*xi1 - beta1*eps1*xi2 + xi1*xi2)\n",
    "    PS2=-(a*beta1*beta2*eps1*gamma2)/denom2\n",
    "    \n",
    "    return np.array([PS1,PS2])\n",
    "    \n",
    "df1= autograd.grad(f1_,0)\n",
    "df2= autograd.grad(f2_,1)\n",
    "d11f1 = autograd.grad(df1,0)\n",
    "d12f1 = autograd.grad(df1,1)\n",
    "d22f2 = autograd.grad(df2,1)\n",
    "d21f2 = autograd.grad(df2,0)\n",
    "\n",
    "def gamejac(x):\n",
    "    x_,y_=x\n",
    "    return np.array([[d11f1(x_,y_), d12f1(x_,y_)],[d21f2(x_,y_),d22f2(x_,y_)]])\n",
    "\n",
    "def isNash(x):\n",
    "    x_,y_=x\n",
    "    if d11f1(x_,y_)>0 and d22f2(x_,y_)>0:\n",
    "        print(\" {},{} is a Nash equilibrium\".format(x_,y_))\n",
    "        out=True\n",
    "    else:\n",
    "        print(\" {},{} is NOT a Nash equilibrium\".format(x_,y_))\n",
    "        out=False\n",
    "    return out\n",
    "\n",
    "def globalmin()"
   ]
  },
  {
   "cell_type": "code",
   "execution_count": 105,
   "metadata": {},
   "outputs": [
    {
     "name": "stdout",
     "output_type": "stream",
     "text": [
      "Nash :  [-0.015 -0.005]\n",
      "SO   :  [0.03 0.02]\n",
      "PS   :  [-0.006 -0.001]\n"
     ]
    }
   ],
   "source": [
    "ne=getNash()\n",
    "so=getSO()\n",
    "ps=getPS()\n",
    "print(\"Nash : \", ne)\n",
    "print(\"SO   : \", so)\n",
    "print(\"PS   : \", ps)"
   ]
  },
  {
   "cell_type": "code",
   "execution_count": 102,
   "metadata": {},
   "outputs": [],
   "source": [
    "#df1(ne[0],ne[1]), ddf1(ne[0],ne[1])\n",
    "#la.eigvals(gamejac(ne))"
   ]
  },
  {
   "cell_type": "code",
   "execution_count": 103,
   "metadata": {},
   "outputs": [
    {
     "name": "stdout",
     "output_type": "stream",
     "text": [
      "Player 1 : \n",
      "Nash Cost : -0.011\n",
      "So Cost   : 0.015\n",
      "PS Cost   : -0.005\n",
      "\n",
      "Player 2 : \n",
      "Nash Cost : -0.004\n",
      "So Cost   : 0.000\n",
      "PS Cost   : -0.001\n"
     ]
    }
   ],
   "source": [
    "print(\"Player 1 : \")\n",
    "print(\"Nash Cost : {:0.3f}\".format(f1(ne)))\n",
    "print(\"So Cost   : {:0.3f}\".format(f1(so)))\n",
    "print(\"PS Cost   : {:0.3f}\".format( f1(ps)))\n",
    "print()\n",
    "print(\"Player 2 : \")\n",
    "print(\"Nash Cost : {:0.3f}\".format(f2(ne)))\n",
    "print(\"So Cost   : {:0.3f}\".format(f2(so)))\n",
    "print(\"PS Cost   : {:0.3f}\".format(f2(ps)))"
   ]
  },
  {
   "cell_type": "code",
   "execution_count": 134,
   "metadata": {},
   "outputs": [
    {
     "data": {
      "text/plain": [
       "(0.0, 0.0)"
      ]
     },
     "execution_count": 134,
     "metadata": {},
     "output_type": "execute_result"
    }
   ],
   "source": [
    "f1_(0,0), f2_(0,0)"
   ]
  },
  {
   "cell_type": "code",
   "execution_count": 130,
   "metadata": {},
   "outputs": [
    {
     "data": {
      "image/png": "[encoded data removed]",
      "text/plain": [
       "<Figure size 432x288 with 1 Axes>"
      ]
     },
     "metadata": {
      "needs_background": "light"
     },
     "output_type": "display_data"
    }
   ],
   "source": [
    "\n",
    "\n",
    "x = np.linspace(-2, 2, 30)\n",
    "y = np.linspace(-2, 2, 30)\n",
    "\n",
    "X, Y = np.meshgrid(x, y)\n",
    "Z1 = f1_(X, Y)\n",
    "Z2 = f2_(X,Y)\n",
    "Z3=f1_(X,Y)+f2_(X,Y)\n",
    "fig = plt.figure()\n",
    "ax = plt.axes(projection='3d')\n",
    "ax.contour3D(X, Y, Z, 50)\n",
    "ax.set_xlabel('x')\n",
    "ax.set_ylabel('y')\n",
    "ax.set_zlabel('z');"
   ]
  },
  {
   "cell_type": "code",
   "execution_count": 131,
   "metadata": {},
   "outputs": [
    {
     "data": {
      "application/vnd.plotly.v1+json": {
       "config": {
        "plotlyServerURL": "https://plot.ly"
       },
       "data": [
        {
         "type": "surface",
         "z": [
          [
           -2.0199999999999996,
           -2.00910820451843,
           -1.9791914387633773,
           -1.9302497027348395,
           -1.862282996432818,
           -1.7752913198573128,
           -1.6692746730083237,
           -1.5442330558858501,
           -1.400166468489893,
           -1.2370749108204517,
           -1.0549583828775266,
           -0.8538168846611178,
           -0.6336504161712248,
           -0.39445897740784774,
           -0.1362425683709872,
           0.1409988109393582,
           0.4372651605231866,
           0.7525564803804989,
           1.0868727705112964,
           1.4402140309155764,
           1.8125802615933417,
           2.20397146254459,
           2.614387633769322,
           3.043828775267539,
           3.4922948870392387,
           3.9597859690844226,
           4.446302021403092,
           4.951843043995243,
           5.476409036860879,
           6.02
          ],
          [
           -1.7441379310344822,
           -1.752271105826397,
           -1.7413793103448278,
           -1.7114625445897742,
           -1.6625208085612364,
           -1.5945541022592153,
           -1.50756242568371,
           -1.4015457788347205,
           -1.2765041617122472,
           -1.13243757431629,
           -0.9693460166468488,
           -0.787229488703924,
           -0.5860879904875148,
           -0.3659215219976218,
           -0.1267300832342452,
           0.1314863258026162,
           0.40872770511296064,
           0.7049940546967891,
           1.0202853745541025,
           1.3546016646848988,
           1.70794292508918,
           2.0803091557669444,
           2.471700356718192,
           2.8821165279429253,
           3.3115576694411413,
           3.760023781212841,
           4.227514863258026,
           4.714030915576693,
           5.219571938168846,
           5.744137931034483
          ],
          [
           -1.4682758620689649,
           -1.4954340071343633,
           -1.5035671819262784,
           -1.4926753864447084,
           -1.4627586206896548,
           -1.4138168846611179,
           -1.3458501783590966,
           -1.2588585017835907,
           -1.1528418549346016,
           -1.0278002378121283,
           -0.883733650416171,
           -0.7206420927467301,
           -0.538525564803805,
           -0.3373840665873959,
           -0.1172175980975032,
           0.1219738406658742,
           0.38019024970273474,
           0.6574316290130792,
           0.9536979785969085,
           1.2689892984542208,
           1.6033055885850183,
           1.9566468489892985,
           2.329013079667063,
           2.720404280618312,
           3.130820451843044,
           3.56026159334126,
           4.00872770511296,
           4.476218787158144,
           4.962734839476812,
           5.468275862068966
          ],
          [
           -1.192413793103448,
           -1.2385969084423305,
           -1.2657550535077293,
           -1.2738882282996435,
           -1.2629964328180736,
           -1.2330796670630204,
           -1.184137931034483,
           -1.1161712247324613,
           -1.029179548156956,
           -0.9231629013079669,
           -0.7981212841854934,
           -0.6540546967895364,
           -0.49096313912009515,
           -0.30884661117717,
           -0.10770511296076123,
           0.11246135552913222,
           0.35165279429250884,
           0.6098692033293694,
           0.8871105826397149,
           1.1833769322235432,
           1.4986682520808565,
           1.832984542211653,
           2.186325802615933,
           2.558692033293698,
           2.9500832342449463,
           3.3604994054696786,
           3.789940546967896,
           4.238406658739595,
           4.7058977407847795,
           5.192413793103448
          ],
          [
           -0.9165517241379306,
           -0.9817598097502969,
           -1.0279429250891798,
           -1.0551010701545778,
           -1.0632342449464924,
           -1.0523424494649227,
           -1.0224256837098693,
           -0.9734839476813317,
           -0.9055172413793102,
           -0.8185255648038051,
           -0.7125089179548156,
           -0.5874673008323426,
           -0.4434007134363853,
           -0.2803091557669441,
           -0.09819262782401922,
           0.10294887039239022,
           0.32311533888228294,
           0.5623067776456596,
           0.820523186682521,
           1.0977645659928656,
           1.3940309155766948,
           1.7093222354340072,
           2.0436385255648037,
           2.3969797859690845,
           2.769346016646849,
           3.160737217598097,
           3.57115338882283,
           4.000594530321045,
           4.449060642092745,
           4.916551724137931
          ],
          [
           -0.6406896551724133,
           -0.7249227110582637,
           -0.7901307966706308,
           -0.8363139120095124,
           -0.8634720570749106,
           -0.8716052318668253,
           -0.8607134363852558,
           -0.8307966706302019,
           -0.7818549346016646,
           -0.7138882282996433,
           -0.6268965517241378,
           -0.5208799048751487,
           -0.3958382877526754,
           -0.25177170035671814,
           -0.08868014268727722,
           0.09343638525564822,
           0.294577883472057,
           0.5147443519619497,
           0.7539357907253271,
           1.0121521997621876,
           1.289393579072533,
           1.5856599286563617,
           1.900951248513674,
           2.235267538644471,
           2.5886087990487514,
           2.9609750297265154,
           3.352366230677765,
           3.7627824019024962,
           4.192223543400712,
           4.640689655172414
          ],
          [
           -0.36482758620689637,
           -0.4680856123662305,
           -0.5523186682520818,
           -0.6175267538644473,
           -0.6637098692033294,
           -0.690868014268728,
           -0.6990011890606425,
           -0.6881093935790725,
           -0.6581926278240191,
           -0.6092508917954816,
           -0.5412841854934602,
           -0.4542925089179549,
           -0.34827586206896555,
           -0.22323424494649227,
           -0.07916765755053524,
           0.08392390011890624,
           0.26604042806183115,
           0.46718192627823996,
           0.6873483947681334,
           0.9265398335315101,
           1.1847562425683713,
           1.4619976218787163,
           1.7582639714625445,
           2.073555291319858,
           2.407871581450654,
           2.761212841854934,
           3.1335790725327,
           3.524970273483947,
           3.9353864447086795,
           4.364827586206896
          ],
          [
           -0.08896551724137902,
           -0.21124851367419728,
           -0.31450653983353205,
           -0.3987395957193818,
           -0.463947681331748,
           -0.5101307966706303,
           -0.5372889417360287,
           -0.5454221165279429,
           -0.5345303210463733,
           -0.5046135552913199,
           -0.4556718192627824,
           -0.38770511296076104,
           -0.3007134363852557,
           -0.19469678953626635,
           -0.06965517241379325,
           0.07441141498216425,
           0.23750297265160522,
           0.41961950059453007,
           0.6207609988109395,
           0.8409274673008323,
           1.0801189060642096,
           1.3383353151010704,
           1.615576694411415,
           1.911843043995244,
           2.2271343638525565,
           2.5614506539833526,
           2.914791914387634,
           3.2871581450653977,
           3.678549346016646,
           4.0889655172413795
          ],
          [
           0.18689655172413833,
           0.045588585017836136,
           -0.07669441141498279,
           -0.17995243757431623,
           -0.2641854934601664,
           -0.32939357907253286,
           -0.37557669441141517,
           -0.4027348394768132,
           -0.41086801426872765,
           -0.39997621878715817,
           -0.3700594530321046,
           -0.3211177170035672,
           -0.2531510107015458,
           -0.16615933412604042,
           -0.06014268727705124,
           0.06489892984542225,
           0.2089655172413793,
           0.3720570749108202,
           0.5541736028537457,
           0.7553151010701545,
           0.9754815695600478,
           1.2146730083234247,
           1.4728894173602853,
           1.7501307966706305,
           2.046397146254459,
           2.3616884661117714,
           2.6960047562425684,
           3.0493460166468482,
           3.4217122473246127,
           3.813103448275862
          ],
          [
           0.4627586206896557,
           0.30242568370986955,
           0.1611177170035667,
           0.038834720570749104,
           -0.064423305588585,
           -0.14865636147443528,
           -0.2138644470868014,
           -0.2600475624256835,
           -0.2872057074910819,
           -0.29533888228299643,
           -0.2844470868014268,
           -0.25453032104637335,
           -0.20558858501783592,
           -0.1376218787158145,
           -0.05063020214030925,
           0.05538644470868025,
           0.18042806183115337,
           0.32449464922711035,
           0.48758620689655185,
           0.6697027348394767,
           0.8708442330558861,
           1.091010701545779,
           1.3302021403091557,
           1.5884185493460168,
           1.865659928656361,
           2.16192627824019,
           2.4772175980975035,
           2.8115338882282987,
           3.1648751486325795,
           3.5372413793103448
          ],
          [
           0.738620689655173,
           0.559262782401903,
           0.3989298454221162,
           0.25762187871581466,
           0.13533888228299662,
           0.032080856123662294,
           -0.05215219976218788,
           -0.1173602853745539,
           -0.1635434007134362,
           -0.1907015457788347,
           -0.19883472057074902,
           -0.18794292508917948,
           -0.15802615933412603,
           -0.10908442330558854,
           -0.04111771700356725,
           0.04587395957193825,
           0.15189060642092742,
           0.2769322235434005,
           0.420998810939358,
           0.584090368608799,
           0.7662068965517244,
           0.9673483947681333,
           1.1875148632580261,
           1.4267063020214032,
           1.6849227110582636,
           1.9621640903686082,
           2.2584304399524378,
           2.5737217598097493,
           2.908038049940546,
           3.2613793103448274
          ],
          [
           1.01448275862069,
           0.8160998810939359,
           0.6367419738406652,
           0.47640903686087976,
           0.3351010701545778,
           0.21281807372175954,
           0.10956004756242554,
           0.025326991676575594,
           -0.0398810939357907,
           -0.08606420927467312,
           -0.11322235434007133,
           -0.12135552913198577,
           -0.1104637336504162,
           -0.08054696789536267,
           -0.03160523186682527,
           0.03636147443519627,
           0.12335315101070154,
           0.2293697978596907,
           0.3544114149821642,
           0.4984780023781213,
           0.6615695600475626,
           0.8436860879904877,
           1.0448275862068965,
           1.26499405469679,
           1.5041854934601664,
           1.762401902497027,
           2.039643281807373,
           2.3359096313912002,
           2.651200951248513,
           2.9855172413793105
          ],
          [
           1.2903448275862073,
           1.0729369797859694,
           0.8745541022592146,
           0.6951961950059453,
           0.5348632580261594,
           0.3935552913198571,
           0.2712722948870392,
           0.16801426872770525,
           0.08378121284185502,
           0.018573127229488617,
           -0.02760998810939358,
           -0.0547681331747919,
           -0.06290130796670632,
           -0.05200951248513675,
           -0.022092746730083275,
           0.026848989298454282,
           0.09481569560047562,
           0.18180737217598086,
           0.28782401902497035,
           0.41286563614744354,
           0.5569322235434009,
           0.720023781212842,
           0.9021403091557669,
           1.1032818073721762,
           1.3234482758620687,
           1.5626397146254456,
           1.820856123662307,
           2.0980975029726507,
           2.39436385255648,
           2.709655172413793
          ],
          [
           1.5662068965517246,
           1.3297740784780028,
           1.112366230677764,
           0.9139833531510109,
           0.7346254458977408,
           0.5742925089179547,
           0.43298454221165283,
           0.3107015457788349,
           0.20744351961950072,
           0.12321046373365035,
           0.058002378121284226,
           0.011819262782401946,
           -0.01533888228299643,
           -0.023472057074910818,
           -0.012580261593341278,
           0.017336504161712285,
           0.06627824019024968,
           0.13424494649227098,
           0.22123662306777653,
           0.32725326991676573,
           0.45229488703923915,
           0.5963614744351964,
           0.7594530321046373,
           0.9415695600475625,
           1.1427110582639712,
           1.3628775267538642,
           1.6020689655172415,
           1.8602853745541015,
           2.1375267538644462,
           2.433793103448276
          ],
          [
           1.8420689655172415,
           1.5866111771700357,
           1.350178359096313,
           1.132770511296076,
           0.9343876337693221,
           0.7550297265160519,
           0.5946967895362661,
           0.45338882282996434,
           0.33110582639714625,
           0.22784780023781195,
           0.14361474435196186,
           0.0784066587395957,
           0.032223543400713386,
           0.005065398335315063,
           -0.003067776456599297,
           0.007824019024970302,
           0.037740784780023795,
           0.0866825208085612,
           0.15464922711058277,
           0.2416409036860881,
           0.3476575505350775,
           0.4726991676575508,
           0.6167657550535078,
           0.7798573127229492,
           0.961973840665874,
           1.1631153388822828,
           1.3832818073721764,
           1.6224732461355524,
           1.8806896551724133,
           2.157931034482759
          ],
          [
           2.1179310344827593,
           1.8434482758620694,
           1.587990487514863,
           1.3515576694411418,
           1.134149821640904,
           0.9357669441141498,
           0.7564090368608801,
           0.5960760998810942,
           0.45476813317479214,
           0.3324851367419739,
           0.22922711058263978,
           0.14499405469678966,
           0.07978596908442336,
           0.033602853745541034,
           0.006444708680142714,
           -0.0016884661117717087,
           0.009203329369797824,
           0.03912009512485126,
           0.08806183115338882,
           0.15602853745541018,
           0.24302021403091556,
           0.34903686087990493,
           0.474078478002378,
           0.6181450653983352,
           0.7812366230677761,
           0.9633531510107011,
           1.1644946492271107,
           1.3846611177170025,
           1.6238525564803796,
           1.8820689655172411
          ],
          [
           2.3937931034482762,
           2.1002853745541024,
           1.825802615933412,
           1.5703448275862069,
           1.3339120095124852,
           1.116504161712247,
           0.9181212841854934,
           0.7387633769322237,
           0.5784304399524377,
           0.43712247324613546,
           0.3148394768133174,
           0.2115814506539834,
           0.12734839476813317,
           0.06214030915576692,
           0.015957193816884697,
           -0.01120095124851369,
           -0.019334126040428057,
           -0.008442330558858513,
           0.021474435196195074,
           0.07041617122473254,
           0.13838287752675396,
           0.2253745541022594,
           0.3313912009512486,
           0.45643281807372194,
           0.6004994054696788,
           0.7635909631391199,
           0.9457074910820455,
           1.1468489892984535,
           1.3670154577883467,
           1.6062068965517242
          ],
          [
           2.669655172413793,
           2.3571224732461356,
           2.063614744351961,
           1.789131985731272,
           1.5336741973840664,
           1.2972413793103443,
           1.0798335315101069,
           0.8814506539833531,
           0.7020927467300832,
           0.541759809750297,
           0.40045184304399506,
           0.27816884661117713,
           0.17491082045184297,
           0.0906777645659928,
           0.025469678953626677,
           -0.02071343638525567,
           -0.047871581450653934,
           -0.0560047562425683,
           -0.04511296076099866,
           -0.015196195005945129,
           0.03374554102259236,
           0.10171224732461392,
           0.18870392390011914,
           0.2947205707491085,
           0.41976218787158154,
           0.5638287752675387,
           0.7269203329369803,
           0.9090368608799045,
           1.1101783590963137,
           1.3303448275862073
          ],
          [
           2.945517241379311,
           2.613959571938169,
           2.3014268727705107,
           2.0079191438763377,
           1.7334363852556482,
           1.4779785969084422,
           1.2415457788347206,
           1.024137931034483,
           0.8257550535077292,
           0.6463971462544589,
           0.486064209274673,
           0.3447562425683711,
           0.22247324613555294,
           0.11921521997621878,
           0.03498216409036869,
           -0.03022592152199768,
           -0.07640903686087991,
           -0.10356718192627823,
           -0.11170035671819264,
           -0.10080856123662302,
           -0.0708917954815696,
           -0.021950059453032023,
           0.04601664684898932,
           0.13300832342449465,
           0.23902497027348368,
           0.3640665873959569,
           0.5081331747919144,
           0.6712247324613547,
           0.8533412604042799,
           1.0544827586206895
          ],
          [
           3.221379310344828,
           2.8707966706302024,
           2.5392390011890598,
           2.226706302021403,
           1.9331985731272294,
           1.6587158145065395,
           1.4032580261593341,
           1.1668252080856125,
           0.9494173602853746,
           0.7510344827586205,
           0.5716765755053507,
           0.4113436385255648,
           0.2700356718192628,
           0.14775267538644465,
           0.04449464922711067,
           -0.039738406658739664,
           -0.10494649227110578,
           -0.15112960760998803,
           -0.17828775267538635,
           -0.1864209274673007,
           -0.17552913198573122,
           -0.14561236623067753,
           -0.09667063020214017,
           -0.028703923900118777,
           0.05828775267538644,
           0.1643043995243757,
           0.28934601664684934,
           0.4334126040428057,
           0.5965041617122471,
           0.7786206896551726
          ],
          [
           3.4972413793103456,
           3.127633769322236,
           2.7770511296076097,
           2.445493460166469,
           2.1329607609988113,
           1.8394530321046374,
           1.5649702734839481,
           1.3095124851367423,
           1.0730796670630205,
           0.8556718192627825,
           0.6572889417360286,
           0.4779310344827588,
           0.31759809750297274,
           0.17629013079667064,
           0.05400713436385268,
           -0.04925089179548168,
           -0.13348394768133176,
           -0.19869203329369794,
           -0.24487514863258034,
           -0.27203329369797863,
           -0.28016646848989313,
           -0.2692746730083234,
           -0.23935790725327,
           -0.19041617122473264,
           -0.12244946492271147,
           -0.03545778834720603,
           0.07055885850178356,
           0.19560047562425575,
           0.3396670630202132,
           0.5027586206896548
          ],
          [
           3.7731034482758625,
           3.3844708680142688,
           3.0148632580261587,
           2.664280618311534,
           2.3327229488703924,
           2.0201902497027344,
           1.7266825208085614,
           1.4521997621878717,
           1.1967419738406662,
           0.960309155766944,
           0.7429013079667062,
           0.5445184304399526,
           0.3651605231866826,
           0.20482758620689653,
           0.06351961950059466,
           -0.05876337693222366,
           -0.16202140309155766,
           -0.24625445897740772,
           -0.31146254458977407,
           -0.35764565992865627,
           -0.38480380499405475,
           -0.392936979785969,
           -0.3820451843043994,
           -0.35212841854934607,
           -0.3031866825208087,
           -0.2352199762187872,
           -0.14822829964328155,
           -0.042211652794293286,
           0.08282996432818024,
           0.22689655172413792
          ],
          [
           4.048965517241379,
           3.641307966706302,
           3.2526753864447078,
           2.883067776456599,
           2.5324851367419736,
           2.200927467300832,
           1.8883947681331748,
           1.5948870392390013,
           1.3204042806183116,
           1.0649464922711056,
           0.828513674197384,
           0.6111058263971463,
           0.4127229488703924,
           0.2333650416171224,
           0.07303210463733664,
           -0.06827586206896565,
           -0.19055885850178353,
           -0.29381688466111755,
           -0.37804994054696783,
           -0.44325802615933396,
           -0.4894411414982164,
           -0.5165992865636144,
           -0.5247324613555289,
           -0.5138406658739594,
           -0.48392390011890596,
           -0.4349821640903684,
           -0.36701545778834666,
           -0.2800237812128423,
           -0.17400713436385273,
           -0.048965517241378986
          ],
          [
           4.324827586206897,
           3.8981450653983356,
           3.4904875148632577,
           3.101854934601665,
           2.7322473246135557,
           2.38166468489893,
           2.0501070154577885,
           1.7375743162901311,
           1.4440665873959575,
           1.1695838287752673,
           0.9141260404280618,
           0.6776932223543403,
           0.46028537455410234,
           0.26190249702734836,
           0.08254458977407865,
           -0.07778834720570765,
           -0.2190963139120095,
           -0.3413793103448275,
           -0.4446373365041618,
           -0.5288703923900119,
           -0.5940784780023783,
           -0.6402615933412604,
           -0.6674197384066587,
           -0.6755529131985734,
           -0.6646611177170039,
           -0.6347443519619502,
           -0.5858026159334127,
           -0.5178359096313923,
           -0.4308442330558866,
           -0.3248275862068968
          ],
          [
           4.600689655172414,
           4.154982164090368,
           3.7282996432818067,
           3.32064209274673,
           2.932009512485137,
           2.562401902497027,
           2.2118192627824023,
           1.8802615933412605,
           1.567728894173603,
           1.274221165279429,
           0.9997384066587394,
           0.744280618311534,
           0.5078478002378122,
           0.29043995243757426,
           0.09205707491082063,
           -0.08730083234244963,
           -0.24763376932223538,
           -0.38894173602853727,
           -0.5112247324613556,
           -0.6144827586206895,
           -0.69871581450654,
           -0.7639239001189059,
           -0.8101070154577881,
           -0.8372651605231867,
           -0.8453983353151011,
           -0.8345065398335314,
           -0.8045897740784778,
           -0.7556480380499413,
           -0.6876813317479193,
           -0.6006896551724137
          ],
          [
           4.876551724137931,
           4.4118192627824016,
           3.966111771700356,
           3.5394292508917955,
           3.131771700356718,
           2.7431391200951243,
           2.373531510107015,
           2.02294887039239,
           1.6913912009512484,
           1.3788585017835908,
           1.0853507728894172,
           0.8108680142687278,
           0.555410225921522,
           0.31897740784780015,
           0.10156956004756261,
           -0.09681331747919161,
           -0.2761712247324613,
           -0.43650416171224704,
           -0.5778121284185493,
           -0.7000951248513672,
           -0.8033531510107015,
           -0.8875862068965513,
           -0.9527942925089175,
           -0.9989774078478,
           -1.0261355529131984,
           -1.0342687277051126,
           -1.023376932223543,
           -0.9934601664684903,
           -0.9445184304399525,
           -0.8765517241379306
          ],
          [
           5.152413793103449,
           4.668656361474436,
           4.203923900118905,
           3.7582164090368613,
           3.3315338882282997,
           2.923876337693222,
           2.5352437574316293,
           2.1656361474435197,
           1.8150535077288943,
           1.4834958382877526,
           1.170963139120095,
           0.8774554102259218,
           0.602972651605232,
           0.3475148632580261,
           0.11108204518430463,
           -0.10632580261593363,
           -0.30470868014268726,
           -0.484066587395957,
           -0.6443995243757433,
           -0.7857074910820451,
           -0.9079904875148634,
           -1.011248513674197,
           -1.0954815695600473,
           -1.160689655172414,
           -1.2068727705112963,
           -1.2340309155766946,
           -1.2421640903686089,
           -1.2312722948870398,
           -1.2013555291319862,
           -1.1524137931034484
          ],
          [
           5.428275862068966,
           4.925493460166468,
           4.441736028537454,
           3.977003567181926,
           3.531296076099881,
           3.1046135552913197,
           2.6969560047562426,
           2.3083234244946493,
           1.93871581450654,
           1.5881331747919143,
           1.2565755053507726,
           0.9440428061831154,
           0.6505350772889418,
           0.376052318668252,
           0.12059453032104661,
           -0.11583828775267561,
           -0.33324613555291316,
           -0.5316290130796667,
           -0.710986920332937,
           -0.8713198573127227,
           -1.0126278240190252,
           -1.134910820451843,
           -1.2381688466111769,
           -1.3224019024970275,
           -1.3876099881093937,
           -1.4337931034482758,
           -1.4609512485136738,
           -1.4690844233055889,
           -1.458192627824019,
           -1.4282758620689653
          ],
          [
           5.704137931034483,
           5.182330558858501,
           4.679548156956003,
           4.195790725326992,
           3.731058263971462,
           3.2853507728894167,
           2.8586682520808564,
           2.451010701545779,
           2.062378121284185,
           1.6927705112960756,
           1.3421878715814501,
           1.0106302021403093,
           0.6980975029726516,
           0.4045897740784779,
           0.13010701545778858,
           -0.12535077288941757,
           -0.36178359096313906,
           -0.5791914387633765,
           -0.7775743162901307,
           -0.9569322235434002,
           -1.1172651605231867,
           -1.2585731272294884,
           -1.3808561236623063,
           -1.4841141498216408,
           -1.5683472057074908,
           -1.633555291319857,
           -1.679738406658739,
           -1.706896551724138,
           -1.7150297265160521,
           -1.7041379310344822
          ],
          [
           5.98,
           5.439167657550535,
           4.917360285374553,
           4.414577883472058,
           3.930820451843044,
           3.4660879904875146,
           3.02038049940547,
           2.593697978596909,
           2.1860404280618315,
           1.7974078478002378,
           1.4278002378121282,
           1.0772175980975032,
           0.7456599286563615,
           0.43312722948870386,
           0.1396195005945306,
           -0.1348632580261596,
           -0.390321046373365,
           -0.6267538644470865,
           -0.8441617122473247,
           -1.0425445897740784,
           -1.2219024970273487,
           -1.3822354340071343,
           -1.523543400713436,
           -1.6458263971462546,
           -1.7490844233055887,
           -1.8333174791914386,
           -1.8985255648038049,
           -1.9447086801426878,
           -1.9718668252080858,
           -1.98
          ]
         ]
        }
       ],
       "layout": {
        "autosize": true,
        "scene": {
         "aspectratio": {
          "x": 1,
          "y": 1,
          "z": 1
         },
         "camera": {
          "center": {
           "x": 0,
           "y": 0,
           "z": 0
          },
          "eye": {
           "x": 0.28448449507376095,
           "y": 2.560617134473679,
           "z": -0.009311873761586929
          },
          "projection": {
           "type": "perspective"
          },
          "up": {
           "x": 0,
           "y": 0,
           "z": 1
          }
         }
        },
        "template": {
         "data": {
          "bar": [
           {
            "error_x": {
             "color": "#2a3f5f"
            },
            "error_y": {
             "color": "#2a3f5f"
            },
            "marker": {
             "line": {
              "color": "#E5ECF6",
              "width": 0.5
             }
            },
            "type": "bar"
           }
          ],
          "barpolar": [
           {
            "marker": {
             "line": {
              "color": "#E5ECF6",
              "width": 0.5
             }
            },
            "type": "barpolar"
           }
          ],
          "carpet": [
           {
            "aaxis": {
             "endlinecolor": "#2a3f5f",
             "gridcolor": "white",
             "linecolor": "white",
             "minorgridcolor": "white",
             "startlinecolor": "#2a3f5f"
            },
            "baxis": {
             "endlinecolor": "#2a3f5f",
             "gridcolor": "white",
             "linecolor": "white",
             "minorgridcolor": "white",
             "startlinecolor": "#2a3f5f"
            },
            "type": "carpet"
           }
          ],
          "choropleth": [
           {
            "colorbar": {
             "outlinewidth": 0,
             "ticks": ""
            },
            "type": "choropleth"
           }
          ],
          "contour": [
           {
            "colorbar": {
             "outlinewidth": 0,
             "ticks": ""
            },
            "colorscale": [
             [
              0,
              "#0d0887"
             ],
             [
              0.1111111111111111,
              "#46039f"
             ],
             [
              0.2222222222222222,
              "#7201a8"
             ],
             [
              0.3333333333333333,
              "#9c179e"
             ],
             [
              0.4444444444444444,
              "#bd3786"
             ],
             [
              0.5555555555555556,
              "#d8576b"
             ],
             [
              0.6666666666666666,
              "#ed7953"
             ],
             [
              0.7777777777777778,
              "#fb9f3a"
             ],
             [
              0.8888888888888888,
              "#fdca26"
             ],
             [
              1,
              "#f0f921"
             ]
            ],
            "type": "contour"
           }
          ],
          "contourcarpet": [
           {
            "colorbar": {
             "outlinewidth": 0,
             "ticks": ""
            },
            "type": "contourcarpet"
           }
          ],
          "heatmap": [
           {
            "colorbar": {
             "outlinewidth": 0,
             "ticks": ""
            },
            "colorscale": [
             [
              0,
              "#0d0887"
             ],
             [
              0.1111111111111111,
              "#46039f"
             ],
             [
              0.2222222222222222,
              "#7201a8"
             ],
             [
              0.3333333333333333,
              "#9c179e"
             ],
             [
              0.4444444444444444,
              "#bd3786"
             ],
             [
              0.5555555555555556,
              "#d8576b"
             ],
             [
              0.6666666666666666,
              "#ed7953"
             ],
             [
              0.7777777777777778,
              "#fb9f3a"
             ],
             [
              0.8888888888888888,
              "#fdca26"
             ],
             [
              1,
              "#f0f921"
             ]
            ],
            "type": "heatmap"
           }
          ],
          "heatmapgl": [
           {
            "colorbar": {
             "outlinewidth": 0,
             "ticks": ""
            },
            "colorscale": [
             [
              0,
              "#0d0887"
             ],
             [
              0.1111111111111111,
              "#46039f"
             ],
             [
              0.2222222222222222,
              "#7201a8"
             ],
             [
              0.3333333333333333,
              "#9c179e"
             ],
             [
              0.4444444444444444,
              "#bd3786"
             ],
             [
              0.5555555555555556,
              "#d8576b"
             ],
             [
              0.6666666666666666,
              "#ed7953"
             ],
             [
              0.7777777777777778,
              "#fb9f3a"
             ],
             [
              0.8888888888888888,
              "#fdca26"
             ],
             [
              1,
              "#f0f921"
             ]
            ],
            "type": "heatmapgl"
           }
          ],
          "histogram": [
           {
            "marker": {
             "colorbar": {
              "outlinewidth": 0,
              "ticks": ""
             }
            },
            "type": "histogram"
           }
          ],
          "histogram2d": [
           {
            "colorbar": {
             "outlinewidth": 0,
             "ticks": ""
            },
            "colorscale": [
             [
              0,
              "#0d0887"
             ],
             [
              0.1111111111111111,
              "#46039f"
             ],
             [
              0.2222222222222222,
              "#7201a8"
             ],
             [
              0.3333333333333333,
              "#9c179e"
             ],
             [
              0.4444444444444444,
              "#bd3786"
             ],
             [
              0.5555555555555556,
              "#d8576b"
             ],
             [
              0.6666666666666666,
              "#ed7953"
             ],
             [
              0.7777777777777778,
              "#fb9f3a"
             ],
             [
              0.8888888888888888,
              "#fdca26"
             ],
             [
              1,
              "#f0f921"
             ]
            ],
            "type": "histogram2d"
           }
          ],
          "histogram2dcontour": [
           {
            "colorbar": {
             "outlinewidth": 0,
             "ticks": ""
            },
            "colorscale": [
             [
              0,
              "#0d0887"
             ],
             [
              0.1111111111111111,
              "#46039f"
             ],
             [
              0.2222222222222222,
              "#7201a8"
             ],
             [
              0.3333333333333333,
              "#9c179e"
             ],
             [
              0.4444444444444444,
              "#bd3786"
             ],
             [
              0.5555555555555556,
              "#d8576b"
             ],
             [
              0.6666666666666666,
              "#ed7953"
             ],
             [
              0.7777777777777778,
              "#fb9f3a"
             ],
             [
              0.8888888888888888,
              "#fdca26"
             ],
             [
              1,
              "#f0f921"
             ]
            ],
            "type": "histogram2dcontour"
           }
          ],
          "mesh3d": [
           {
            "colorbar": {
             "outlinewidth": 0,
             "ticks": ""
            },
            "type": "mesh3d"
           }
          ],
          "parcoords": [
           {
            "line": {
             "colorbar": {
              "outlinewidth": 0,
              "ticks": ""
             }
            },
            "type": "parcoords"
           }
          ],
          "pie": [
           {
            "automargin": true,
            "type": "pie"
           }
          ],
          "scatter": [
           {
            "marker": {
             "colorbar": {
              "outlinewidth": 0,
              "ticks": ""
             }
            },
            "type": "scatter"
           }
          ],
          "scatter3d": [
           {
            "line": {
             "colorbar": {
              "outlinewidth": 0,
              "ticks": ""
             }
            },
            "marker": {
             "colorbar": {
              "outlinewidth": 0,
              "ticks": ""
             }
            },
            "type": "scatter3d"
           }
          ],
          "scattercarpet": [
           {
            "marker": {
             "colorbar": {
              "outlinewidth": 0,
              "ticks": ""
             }
            },
            "type": "scattercarpet"
           }
          ],
          "scattergeo": [
           {
            "marker": {
             "colorbar": {
              "outlinewidth": 0,
              "ticks": ""
             }
            },
            "type": "scattergeo"
           }
          ],
          "scattergl": [
           {
            "marker": {
             "colorbar": {
              "outlinewidth": 0,
              "ticks": ""
             }
            },
            "type": "scattergl"
           }
          ],
          "scattermapbox": [
           {
            "marker": {
             "colorbar": {
              "outlinewidth": 0,
              "ticks": ""
             }
            },
            "type": "scattermapbox"
           }
          ],
          "scatterpolar": [
           {
            "marker": {
             "colorbar": {
              "outlinewidth": 0,
              "ticks": ""
             }
            },
            "type": "scatterpolar"
           }
          ],
          "scatterpolargl": [
           {
            "marker": {
             "colorbar": {
              "outlinewidth": 0,
              "ticks": ""
             }
            },
            "type": "scatterpolargl"
           }
          ],
          "scatterternary": [
           {
            "marker": {
             "colorbar": {
              "outlinewidth": 0,
              "ticks": ""
             }
            },
            "type": "scatterternary"
           }
          ],
          "surface": [
           {
            "colorbar": {
             "outlinewidth": 0,
             "ticks": ""
            },
            "colorscale": [
             [
              0,
              "#0d0887"
             ],
             [
              0.1111111111111111,
              "#46039f"
             ],
             [
              0.2222222222222222,
              "#7201a8"
             ],
             [
              0.3333333333333333,
              "#9c179e"
             ],
             [
              0.4444444444444444,
              "#bd3786"
             ],
             [
              0.5555555555555556,
              "#d8576b"
             ],
             [
              0.6666666666666666,
              "#ed7953"
             ],
             [
              0.7777777777777778,
              "#fb9f3a"
             ],
             [
              0.8888888888888888,
              "#fdca26"
             ],
             [
              1,
              "#f0f921"
             ]
            ],
            "type": "surface"
           }
          ],
          "table": [
           {
            "cells": {
             "fill": {
              "color": "#EBF0F8"
             },
             "line": {
              "color": "white"
             }
            },
            "header": {
             "fill": {
              "color": "#C8D4E3"
             },
             "line": {
              "color": "white"
             }
            },
            "type": "table"
           }
          ]
         },
         "layout": {
          "annotationdefaults": {
           "arrowcolor": "#2a3f5f",
           "arrowhead": 0,
           "arrowwidth": 1
          },
          "autotypenumbers": "strict",
          "coloraxis": {
           "colorbar": {
            "outlinewidth": 0,
            "ticks": ""
           }
          },
          "colorscale": {
           "diverging": [
            [
             0,
             "#8e0152"
            ],
            [
             0.1,
             "#c51b7d"
            ],
            [
             0.2,
             "#de77ae"
            ],
            [
             0.3,
             "#f1b6da"
            ],
            [
             0.4,
             "#fde0ef"
            ],
            [
             0.5,
             "#f7f7f7"
            ],
            [
             0.6,
             "#e6f5d0"
            ],
            [
             0.7,
             "#b8e186"
            ],
            [
             0.8,
             "#7fbc41"
            ],
            [
             0.9,
             "#4d9221"
            ],
            [
             1,
             "#276419"
            ]
           ],
           "sequential": [
            [
             0,
             "#0d0887"
            ],
            [
             0.1111111111111111,
             "#46039f"
            ],
            [
             0.2222222222222222,
             "#7201a8"
            ],
            [
             0.3333333333333333,
             "#9c179e"
            ],
            [
             0.4444444444444444,
             "#bd3786"
            ],
            [
             0.5555555555555556,
             "#d8576b"
            ],
            [
             0.6666666666666666,
             "#ed7953"
            ],
            [
             0.7777777777777778,
             "#fb9f3a"
            ],
            [
             0.8888888888888888,
             "#fdca26"
            ],
            [
             1,
             "#f0f921"
            ]
           ],
           "sequentialminus": [
            [
             0,
             "#0d0887"
            ],
            [
             0.1111111111111111,
             "#46039f"
            ],
            [
             0.2222222222222222,
             "#7201a8"
            ],
            [
             0.3333333333333333,
             "#9c179e"
            ],
            [
             0.4444444444444444,
             "#bd3786"
            ],
            [
             0.5555555555555556,
             "#d8576b"
            ],
            [
             0.6666666666666666,
             "#ed7953"
            ],
            [
             0.7777777777777778,
             "#fb9f3a"
            ],
            [
             0.8888888888888888,
             "#fdca26"
            ],
            [
             1,
             "#f0f921"
            ]
           ]
          },
          "colorway": [
           "#636efa",
           "#EF553B",
           "#00cc96",
           "#ab63fa",
           "#FFA15A",
           "#19d3f3",
           "#FF6692",
           "#B6E880",
           "#FF97FF",
           "#FECB52"
          ],
          "font": {
           "color": "#2a3f5f"
          },
          "geo": {
           "bgcolor": "white",
           "lakecolor": "white",
           "landcolor": "#E5ECF6",
           "showlakes": true,
           "showland": true,
           "subunitcolor": "white"
          },
          "hoverlabel": {
           "align": "left"
          },
          "hovermode": "closest",
          "mapbox": {
           "style": "light"
          },
          "paper_bgcolor": "white",
          "plot_bgcolor": "#E5ECF6",
          "polar": {
           "angularaxis": {
            "gridcolor": "white",
            "linecolor": "white",
            "ticks": ""
           },
           "bgcolor": "#E5ECF6",
           "radialaxis": {
            "gridcolor": "white",
            "linecolor": "white",
            "ticks": ""
           }
          },
          "scene": {
           "xaxis": {
            "backgroundcolor": "#E5ECF6",
            "gridcolor": "white",
            "gridwidth": 2,
            "linecolor": "white",
            "showbackground": true,
            "ticks": "",
            "zerolinecolor": "white"
           },
           "yaxis": {
            "backgroundcolor": "#E5ECF6",
            "gridcolor": "white",
            "gridwidth": 2,
            "linecolor": "white",
            "showbackground": true,
            "ticks": "",
            "zerolinecolor": "white"
           },
           "zaxis": {
            "backgroundcolor": "#E5ECF6",
            "gridcolor": "white",
            "gridwidth": 2,
            "linecolor": "white",
            "showbackground": true,
            "ticks": "",
            "zerolinecolor": "white"
           }
          },
          "shapedefaults": {
           "line": {
            "color": "#2a3f5f"
           }
          },
          "ternary": {
           "aaxis": {
            "gridcolor": "white",
            "linecolor": "white",
            "ticks": ""
           },
           "baxis": {
            "gridcolor": "white",
            "linecolor": "white",
            "ticks": ""
           },
           "bgcolor": "#E5ECF6",
           "caxis": {
            "gridcolor": "white",
            "linecolor": "white",
            "ticks": ""
           }
          },
          "title": {
           "x": 0.05
          },
          "xaxis": {
           "automargin": true,
           "gridcolor": "white",
           "linecolor": "white",
           "ticks": "",
           "title": {
            "standoff": 15
           },
           "zerolinecolor": "white",
           "zerolinewidth": 2
          },
          "yaxis": {
           "automargin": true,
           "gridcolor": "white",
           "linecolor": "white",
           "ticks": "",
           "title": {
            "standoff": 15
           },
           "zerolinecolor": "white",
           "zerolinewidth": 2
          }
         }
        }
       }
      },
      "image/png": "[encoded data removed]",
      "text/html": [
       "<div>                            <div id=\"3be0fccd-c596-4aa3-9506-09c5d336d6a0\" class=\"plotly-graph-div\" style=\"height:525px; width:100%;\"></div>            <script type=\"text/javascript\">                require([\"plotly\"], function(Plotly) {                    window.PLOTLYENV=window.PLOTLYENV || {};                                    if (document.getElementById(\"3be0fccd-c596-4aa3-9506-09c5d336d6a0\")) {                    Plotly.newPlot(                        \"3be0fccd-c596-4aa3-9506-09c5d336d6a0\",                        [{\"type\": \"surface\", \"z\": [[-2.0199999999999996, -2.00910820451843, -1.9791914387633773, -1.9302497027348395, -1.862282996432818, -1.7752913198573128, -1.6692746730083237, -1.5442330558858501, -1.400166468489893, -1.2370749108204517, -1.0549583828775266, -0.8538168846611178, -0.6336504161712248, -0.39445897740784774, -0.1362425683709872, 0.1409988109393582, 0.4372651605231866, 0.7525564803804989, 1.0868727705112964, 1.4402140309155764, 1.8125802615933417, 2.20397146254459, 2.614387633769322, 3.043828775267539, 3.4922948870392387, 3.9597859690844226, 4.446302021403092, 4.951843043995243, 5.476409036860879, 6.02], [-1.7441379310344822, -1.752271105826397, -1.7413793103448278, -1.7114625445897742, -1.6625208085612364, -1.5945541022592153, -1.50756242568371, -1.4015457788347205, -1.2765041617122472, -1.13243757431629, -0.9693460166468488, -0.787229488703924, -0.5860879904875148, -0.3659215219976218, -0.1267300832342452, 0.1314863258026162, 0.40872770511296064, 0.7049940546967891, 1.0202853745541025, 1.3546016646848988, 1.70794292508918, 2.0803091557669444, 2.471700356718192, 2.8821165279429253, 3.3115576694411413, 3.760023781212841, 4.227514863258026, 4.714030915576693, 5.219571938168846, 5.744137931034483], [-1.4682758620689649, -1.4954340071343633, -1.5035671819262784, -1.4926753864447084, -1.4627586206896548, -1.4138168846611179, -1.3458501783590966, -1.2588585017835907, -1.1528418549346016, -1.0278002378121283, -0.883733650416171, -0.7206420927467301, -0.538525564803805, -0.3373840665873959, -0.1172175980975032, 0.1219738406658742, 0.38019024970273474, 0.6574316290130792, 0.9536979785969085, 1.2689892984542208, 1.6033055885850183, 1.9566468489892985, 2.329013079667063, 2.720404280618312, 3.130820451843044, 3.56026159334126, 4.00872770511296, 4.476218787158144, 4.962734839476812, 5.468275862068966], [-1.192413793103448, -1.2385969084423305, -1.2657550535077293, -1.2738882282996435, -1.2629964328180736, -1.2330796670630204, -1.184137931034483, -1.1161712247324613, -1.029179548156956, -0.9231629013079669, -0.7981212841854934, -0.6540546967895364, -0.49096313912009515, -0.30884661117717, -0.10770511296076123, 0.11246135552913222, 0.35165279429250884, 0.6098692033293694, 0.8871105826397149, 1.1833769322235432, 1.4986682520808565, 1.832984542211653, 2.186325802615933, 2.558692033293698, 2.9500832342449463, 3.3604994054696786, 3.789940546967896, 4.238406658739595, 4.7058977407847795, 5.192413793103448], [-0.9165517241379306, -0.9817598097502969, -1.0279429250891798, -1.0551010701545778, -1.0632342449464924, -1.0523424494649227, -1.0224256837098693, -0.9734839476813317, -0.9055172413793102, -0.8185255648038051, -0.7125089179548156, -0.5874673008323426, -0.4434007134363853, -0.2803091557669441, -0.09819262782401922, 0.10294887039239022, 0.32311533888228294, 0.5623067776456596, 0.820523186682521, 1.0977645659928656, 1.3940309155766948, 1.7093222354340072, 2.0436385255648037, 2.3969797859690845, 2.769346016646849, 3.160737217598097, 3.57115338882283, 4.000594530321045, 4.449060642092745, 4.916551724137931], [-0.6406896551724133, -0.7249227110582637, -0.7901307966706308, -0.8363139120095124, -0.8634720570749106, -0.8716052318668253, -0.8607134363852558, -0.8307966706302019, -0.7818549346016646, -0.7138882282996433, -0.6268965517241378, -0.5208799048751487, -0.3958382877526754, -0.25177170035671814, -0.08868014268727722, 0.09343638525564822, 0.294577883472057, 0.5147443519619497, 0.7539357907253271, 1.0121521997621876, 1.289393579072533, 1.5856599286563617, 1.900951248513674, 2.235267538644471, 2.5886087990487514, 2.9609750297265154, 3.352366230677765, 3.7627824019024962, 4.192223543400712, 4.640689655172414], [-0.36482758620689637, -0.4680856123662305, -0.5523186682520818, -0.6175267538644473, -0.6637098692033294, -0.690868014268728, -0.6990011890606425, -0.6881093935790725, -0.6581926278240191, -0.6092508917954816, -0.5412841854934602, -0.4542925089179549, -0.34827586206896555, -0.22323424494649227, -0.07916765755053524, 0.08392390011890624, 0.26604042806183115, 0.46718192627823996, 0.6873483947681334, 0.9265398335315101, 1.1847562425683713, 1.4619976218787163, 1.7582639714625445, 2.073555291319858, 2.407871581450654, 2.761212841854934, 3.1335790725327, 3.524970273483947, 3.9353864447086795, 4.364827586206896], [-0.08896551724137902, -0.21124851367419728, -0.31450653983353205, -0.3987395957193818, -0.463947681331748, -0.5101307966706303, -0.5372889417360287, -0.5454221165279429, -0.5345303210463733, -0.5046135552913199, -0.4556718192627824, -0.38770511296076104, -0.3007134363852557, -0.19469678953626635, -0.06965517241379325, 0.07441141498216425, 0.23750297265160522, 0.41961950059453007, 0.6207609988109395, 0.8409274673008323, 1.0801189060642096, 1.3383353151010704, 1.615576694411415, 1.911843043995244, 2.2271343638525565, 2.5614506539833526, 2.914791914387634, 3.2871581450653977, 3.678549346016646, 4.0889655172413795], [0.18689655172413833, 0.045588585017836136, -0.07669441141498279, -0.17995243757431623, -0.2641854934601664, -0.32939357907253286, -0.37557669441141517, -0.4027348394768132, -0.41086801426872765, -0.39997621878715817, -0.3700594530321046, -0.3211177170035672, -0.2531510107015458, -0.16615933412604042, -0.06014268727705124, 0.06489892984542225, 0.2089655172413793, 0.3720570749108202, 0.5541736028537457, 0.7553151010701545, 0.9754815695600478, 1.2146730083234247, 1.4728894173602853, 1.7501307966706305, 2.046397146254459, 2.3616884661117714, 2.6960047562425684, 3.0493460166468482, 3.4217122473246127, 3.813103448275862], [0.4627586206896557, 0.30242568370986955, 0.1611177170035667, 0.038834720570749104, -0.064423305588585, -0.14865636147443528, -0.2138644470868014, -0.2600475624256835, -0.2872057074910819, -0.29533888228299643, -0.2844470868014268, -0.25453032104637335, -0.20558858501783592, -0.1376218787158145, -0.05063020214030925, 0.05538644470868025, 0.18042806183115337, 0.32449464922711035, 0.48758620689655185, 0.6697027348394767, 0.8708442330558861, 1.091010701545779, 1.3302021403091557, 1.5884185493460168, 1.865659928656361, 2.16192627824019, 2.4772175980975035, 2.8115338882282987, 3.1648751486325795, 3.5372413793103448], [0.738620689655173, 0.559262782401903, 0.3989298454221162, 0.25762187871581466, 0.13533888228299662, 0.032080856123662294, -0.05215219976218788, -0.1173602853745539, -0.1635434007134362, -0.1907015457788347, -0.19883472057074902, -0.18794292508917948, -0.15802615933412603, -0.10908442330558854, -0.04111771700356725, 0.04587395957193825, 0.15189060642092742, 0.2769322235434005, 0.420998810939358, 0.584090368608799, 0.7662068965517244, 0.9673483947681333, 1.1875148632580261, 1.4267063020214032, 1.6849227110582636, 1.9621640903686082, 2.2584304399524378, 2.5737217598097493, 2.908038049940546, 3.2613793103448274], [1.01448275862069, 0.8160998810939359, 0.6367419738406652, 0.47640903686087976, 0.3351010701545778, 0.21281807372175954, 0.10956004756242554, 0.025326991676575594, -0.0398810939357907, -0.08606420927467312, -0.11322235434007133, -0.12135552913198577, -0.1104637336504162, -0.08054696789536267, -0.03160523186682527, 0.03636147443519627, 0.12335315101070154, 0.2293697978596907, 0.3544114149821642, 0.4984780023781213, 0.6615695600475626, 0.8436860879904877, 1.0448275862068965, 1.26499405469679, 1.5041854934601664, 1.762401902497027, 2.039643281807373, 2.3359096313912002, 2.651200951248513, 2.9855172413793105], [1.2903448275862073, 1.0729369797859694, 0.8745541022592146, 0.6951961950059453, 0.5348632580261594, 0.3935552913198571, 0.2712722948870392, 0.16801426872770525, 0.08378121284185502, 0.018573127229488617, -0.02760998810939358, -0.0547681331747919, -0.06290130796670632, -0.05200951248513675, -0.022092746730083275, 0.026848989298454282, 0.09481569560047562, 0.18180737217598086, 0.28782401902497035, 0.41286563614744354, 0.5569322235434009, 0.720023781212842, 0.9021403091557669, 1.1032818073721762, 1.3234482758620687, 1.5626397146254456, 1.820856123662307, 2.0980975029726507, 2.39436385255648, 2.709655172413793], [1.5662068965517246, 1.3297740784780028, 1.112366230677764, 0.9139833531510109, 0.7346254458977408, 0.5742925089179547, 0.43298454221165283, 0.3107015457788349, 0.20744351961950072, 0.12321046373365035, 0.058002378121284226, 0.011819262782401946, -0.01533888228299643, -0.023472057074910818, -0.012580261593341278, 0.017336504161712285, 0.06627824019024968, 0.13424494649227098, 0.22123662306777653, 0.32725326991676573, 0.45229488703923915, 0.5963614744351964, 0.7594530321046373, 0.9415695600475625, 1.1427110582639712, 1.3628775267538642, 1.6020689655172415, 1.8602853745541015, 2.1375267538644462, 2.433793103448276], [1.8420689655172415, 1.5866111771700357, 1.350178359096313, 1.132770511296076, 0.9343876337693221, 0.7550297265160519, 0.5946967895362661, 0.45338882282996434, 0.33110582639714625, 0.22784780023781195, 0.14361474435196186, 0.0784066587395957, 0.032223543400713386, 0.005065398335315063, -0.003067776456599297, 0.007824019024970302, 0.037740784780023795, 0.0866825208085612, 0.15464922711058277, 0.2416409036860881, 0.3476575505350775, 0.4726991676575508, 0.6167657550535078, 0.7798573127229492, 0.961973840665874, 1.1631153388822828, 1.3832818073721764, 1.6224732461355524, 1.8806896551724133, 2.157931034482759], [2.1179310344827593, 1.8434482758620694, 1.587990487514863, 1.3515576694411418, 1.134149821640904, 0.9357669441141498, 0.7564090368608801, 0.5960760998810942, 0.45476813317479214, 0.3324851367419739, 0.22922711058263978, 0.14499405469678966, 0.07978596908442336, 0.033602853745541034, 0.006444708680142714, -0.0016884661117717087, 0.009203329369797824, 0.03912009512485126, 0.08806183115338882, 0.15602853745541018, 0.24302021403091556, 0.34903686087990493, 0.474078478002378, 0.6181450653983352, 0.7812366230677761, 0.9633531510107011, 1.1644946492271107, 1.3846611177170025, 1.6238525564803796, 1.8820689655172411], [2.3937931034482762, 2.1002853745541024, 1.825802615933412, 1.5703448275862069, 1.3339120095124852, 1.116504161712247, 0.9181212841854934, 0.7387633769322237, 0.5784304399524377, 0.43712247324613546, 0.3148394768133174, 0.2115814506539834, 0.12734839476813317, 0.06214030915576692, 0.015957193816884697, -0.01120095124851369, -0.019334126040428057, -0.008442330558858513, 0.021474435196195074, 0.07041617122473254, 0.13838287752675396, 0.2253745541022594, 0.3313912009512486, 0.45643281807372194, 0.6004994054696788, 0.7635909631391199, 0.9457074910820455, 1.1468489892984535, 1.3670154577883467, 1.6062068965517242], [2.669655172413793, 2.3571224732461356, 2.063614744351961, 1.789131985731272, 1.5336741973840664, 1.2972413793103443, 1.0798335315101069, 0.8814506539833531, 0.7020927467300832, 0.541759809750297, 0.40045184304399506, 0.27816884661117713, 0.17491082045184297, 0.0906777645659928, 0.025469678953626677, -0.02071343638525567, -0.047871581450653934, -0.0560047562425683, -0.04511296076099866, -0.015196195005945129, 0.03374554102259236, 0.10171224732461392, 0.18870392390011914, 0.2947205707491085, 0.41976218787158154, 0.5638287752675387, 0.7269203329369803, 0.9090368608799045, 1.1101783590963137, 1.3303448275862073], [2.945517241379311, 2.613959571938169, 2.3014268727705107, 2.0079191438763377, 1.7334363852556482, 1.4779785969084422, 1.2415457788347206, 1.024137931034483, 0.8257550535077292, 0.6463971462544589, 0.486064209274673, 0.3447562425683711, 0.22247324613555294, 0.11921521997621878, 0.03498216409036869, -0.03022592152199768, -0.07640903686087991, -0.10356718192627823, -0.11170035671819264, -0.10080856123662302, -0.0708917954815696, -0.021950059453032023, 0.04601664684898932, 0.13300832342449465, 0.23902497027348368, 0.3640665873959569, 0.5081331747919144, 0.6712247324613547, 0.8533412604042799, 1.0544827586206895], [3.221379310344828, 2.8707966706302024, 2.5392390011890598, 2.226706302021403, 1.9331985731272294, 1.6587158145065395, 1.4032580261593341, 1.1668252080856125, 0.9494173602853746, 0.7510344827586205, 0.5716765755053507, 0.4113436385255648, 0.2700356718192628, 0.14775267538644465, 0.04449464922711067, -0.039738406658739664, -0.10494649227110578, -0.15112960760998803, -0.17828775267538635, -0.1864209274673007, -0.17552913198573122, -0.14561236623067753, -0.09667063020214017, -0.028703923900118777, 0.05828775267538644, 0.1643043995243757, 0.28934601664684934, 0.4334126040428057, 0.5965041617122471, 0.7786206896551726], [3.4972413793103456, 3.127633769322236, 2.7770511296076097, 2.445493460166469, 2.1329607609988113, 1.8394530321046374, 1.5649702734839481, 1.3095124851367423, 1.0730796670630205, 0.8556718192627825, 0.6572889417360286, 0.4779310344827588, 0.31759809750297274, 0.17629013079667064, 0.05400713436385268, -0.04925089179548168, -0.13348394768133176, -0.19869203329369794, -0.24487514863258034, -0.27203329369797863, -0.28016646848989313, -0.2692746730083234, -0.23935790725327, -0.19041617122473264, -0.12244946492271147, -0.03545778834720603, 0.07055885850178356, 0.19560047562425575, 0.3396670630202132, 0.5027586206896548], [3.7731034482758625, 3.3844708680142688, 3.0148632580261587, 2.664280618311534, 2.3327229488703924, 2.0201902497027344, 1.7266825208085614, 1.4521997621878717, 1.1967419738406662, 0.960309155766944, 0.7429013079667062, 0.5445184304399526, 0.3651605231866826, 0.20482758620689653, 0.06351961950059466, -0.05876337693222366, -0.16202140309155766, -0.24625445897740772, -0.31146254458977407, -0.35764565992865627, -0.38480380499405475, -0.392936979785969, -0.3820451843043994, -0.35212841854934607, -0.3031866825208087, -0.2352199762187872, -0.14822829964328155, -0.042211652794293286, 0.08282996432818024, 0.22689655172413792], [4.048965517241379, 3.641307966706302, 3.2526753864447078, 2.883067776456599, 2.5324851367419736, 2.200927467300832, 1.8883947681331748, 1.5948870392390013, 1.3204042806183116, 1.0649464922711056, 0.828513674197384, 0.6111058263971463, 0.4127229488703924, 0.2333650416171224, 0.07303210463733664, -0.06827586206896565, -0.19055885850178353, -0.29381688466111755, -0.37804994054696783, -0.44325802615933396, -0.4894411414982164, -0.5165992865636144, -0.5247324613555289, -0.5138406658739594, -0.48392390011890596, -0.4349821640903684, -0.36701545778834666, -0.2800237812128423, -0.17400713436385273, -0.048965517241378986], [4.324827586206897, 3.8981450653983356, 3.4904875148632577, 3.101854934601665, 2.7322473246135557, 2.38166468489893, 2.0501070154577885, 1.7375743162901311, 1.4440665873959575, 1.1695838287752673, 0.9141260404280618, 0.6776932223543403, 0.46028537455410234, 0.26190249702734836, 0.08254458977407865, -0.07778834720570765, -0.2190963139120095, -0.3413793103448275, -0.4446373365041618, -0.5288703923900119, -0.5940784780023783, -0.6402615933412604, -0.6674197384066587, -0.6755529131985734, -0.6646611177170039, -0.6347443519619502, -0.5858026159334127, -0.5178359096313923, -0.4308442330558866, -0.3248275862068968], [4.600689655172414, 4.154982164090368, 3.7282996432818067, 3.32064209274673, 2.932009512485137, 2.562401902497027, 2.2118192627824023, 1.8802615933412605, 1.567728894173603, 1.274221165279429, 0.9997384066587394, 0.744280618311534, 0.5078478002378122, 0.29043995243757426, 0.09205707491082063, -0.08730083234244963, -0.24763376932223538, -0.38894173602853727, -0.5112247324613556, -0.6144827586206895, -0.69871581450654, -0.7639239001189059, -0.8101070154577881, -0.8372651605231867, -0.8453983353151011, -0.8345065398335314, -0.8045897740784778, -0.7556480380499413, -0.6876813317479193, -0.6006896551724137], [4.876551724137931, 4.4118192627824016, 3.966111771700356, 3.5394292508917955, 3.131771700356718, 2.7431391200951243, 2.373531510107015, 2.02294887039239, 1.6913912009512484, 1.3788585017835908, 1.0853507728894172, 0.8108680142687278, 0.555410225921522, 0.31897740784780015, 0.10156956004756261, -0.09681331747919161, -0.2761712247324613, -0.43650416171224704, -0.5778121284185493, -0.7000951248513672, -0.8033531510107015, -0.8875862068965513, -0.9527942925089175, -0.9989774078478, -1.0261355529131984, -1.0342687277051126, -1.023376932223543, -0.9934601664684903, -0.9445184304399525, -0.8765517241379306], [5.152413793103449, 4.668656361474436, 4.203923900118905, 3.7582164090368613, 3.3315338882282997, 2.923876337693222, 2.5352437574316293, 2.1656361474435197, 1.8150535077288943, 1.4834958382877526, 1.170963139120095, 0.8774554102259218, 0.602972651605232, 0.3475148632580261, 0.11108204518430463, -0.10632580261593363, -0.30470868014268726, -0.484066587395957, -0.6443995243757433, -0.7857074910820451, -0.9079904875148634, -1.011248513674197, -1.0954815695600473, -1.160689655172414, -1.2068727705112963, -1.2340309155766946, -1.2421640903686089, -1.2312722948870398, -1.2013555291319862, -1.1524137931034484], [5.428275862068966, 4.925493460166468, 4.441736028537454, 3.977003567181926, 3.531296076099881, 3.1046135552913197, 2.6969560047562426, 2.3083234244946493, 1.93871581450654, 1.5881331747919143, 1.2565755053507726, 0.9440428061831154, 0.6505350772889418, 0.376052318668252, 0.12059453032104661, -0.11583828775267561, -0.33324613555291316, -0.5316290130796667, -0.710986920332937, -0.8713198573127227, -1.0126278240190252, -1.134910820451843, -1.2381688466111769, -1.3224019024970275, -1.3876099881093937, -1.4337931034482758, -1.4609512485136738, -1.4690844233055889, -1.458192627824019, -1.4282758620689653], [5.704137931034483, 5.182330558858501, 4.679548156956003, 4.195790725326992, 3.731058263971462, 3.2853507728894167, 2.8586682520808564, 2.451010701545779, 2.062378121284185, 1.6927705112960756, 1.3421878715814501, 1.0106302021403093, 0.6980975029726516, 0.4045897740784779, 0.13010701545778858, -0.12535077288941757, -0.36178359096313906, -0.5791914387633765, -0.7775743162901307, -0.9569322235434002, -1.1172651605231867, -1.2585731272294884, -1.3808561236623063, -1.4841141498216408, -1.5683472057074908, -1.633555291319857, -1.679738406658739, -1.706896551724138, -1.7150297265160521, -1.7041379310344822], [5.98, 5.439167657550535, 4.917360285374553, 4.414577883472058, 3.930820451843044, 3.4660879904875146, 3.02038049940547, 2.593697978596909, 2.1860404280618315, 1.7974078478002378, 1.4278002378121282, 1.0772175980975032, 0.7456599286563615, 0.43312722948870386, 0.1396195005945306, -0.1348632580261596, -0.390321046373365, -0.6267538644470865, -0.8441617122473247, -1.0425445897740784, -1.2219024970273487, -1.3822354340071343, -1.523543400713436, -1.6458263971462546, -1.7490844233055887, -1.8333174791914386, -1.8985255648038049, -1.9447086801426878, -1.9718668252080858, -1.98]]}],                        {\"scene\": {\"aspectratio\": {\"x\": 1, \"y\": 1, \"z\": 1}, \"camera\": {\"eye\": {\"x\": 0, \"y\": -1, \"z\": 0.5}}}, \"template\": {\"data\": {\"bar\": [{\"error_x\": {\"color\": \"#2a3f5f\"}, \"error_y\": {\"color\": \"#2a3f5f\"}, \"marker\": {\"line\": {\"color\": \"#E5ECF6\", \"width\": 0.5}}, \"type\": \"bar\"}], \"barpolar\": [{\"marker\": {\"line\": {\"color\": \"#E5ECF6\", \"width\": 0.5}}, \"type\": \"barpolar\"}], \"carpet\": [{\"aaxis\": {\"endlinecolor\": \"#2a3f5f\", \"gridcolor\": \"white\", \"linecolor\": \"white\", \"minorgridcolor\": \"white\", \"startlinecolor\": \"#2a3f5f\"}, \"baxis\": {\"endlinecolor\": \"#2a3f5f\", \"gridcolor\": \"white\", \"linecolor\": \"white\", \"minorgridcolor\": \"white\", \"startlinecolor\": \"#2a3f5f\"}, \"type\": \"carpet\"}], \"choropleth\": [{\"colorbar\": {\"outlinewidth\": 0, \"ticks\": \"\"}, \"type\": \"choropleth\"}], \"contour\": [{\"colorbar\": {\"outlinewidth\": 0, \"ticks\": \"\"}, \"colorscale\": [[0.0, \"#0d0887\"], [0.1111111111111111, \"#46039f\"], [0.2222222222222222, \"#7201a8\"], [0.3333333333333333, \"#9c179e\"], [0.4444444444444444, \"#bd3786\"], [0.5555555555555556, \"#d8576b\"], [0.6666666666666666, \"#ed7953\"], [0.7777777777777778, \"#fb9f3a\"], [0.8888888888888888, \"#fdca26\"], [1.0, \"#f0f921\"]], \"type\": \"contour\"}], \"contourcarpet\": [{\"colorbar\": {\"outlinewidth\": 0, \"ticks\": \"\"}, \"type\": \"contourcarpet\"}], \"heatmap\": [{\"colorbar\": {\"outlinewidth\": 0, \"ticks\": \"\"}, \"colorscale\": [[0.0, \"#0d0887\"], [0.1111111111111111, \"#46039f\"], [0.2222222222222222, \"#7201a8\"], [0.3333333333333333, \"#9c179e\"], [0.4444444444444444, \"#bd3786\"], [0.5555555555555556, \"#d8576b\"], [0.6666666666666666, \"#ed7953\"], [0.7777777777777778, \"#fb9f3a\"], [0.8888888888888888, \"#fdca26\"], [1.0, \"#f0f921\"]], \"type\": \"heatmap\"}], \"heatmapgl\": [{\"colorbar\": {\"outlinewidth\": 0, \"ticks\": \"\"}, \"colorscale\": [[0.0, \"#0d0887\"], [0.1111111111111111, \"#46039f\"], [0.2222222222222222, \"#7201a8\"], [0.3333333333333333, \"#9c179e\"], [0.4444444444444444, \"#bd3786\"], [0.5555555555555556, \"#d8576b\"], [0.6666666666666666, \"#ed7953\"], [0.7777777777777778, \"#fb9f3a\"], [0.8888888888888888, \"#fdca26\"], [1.0, \"#f0f921\"]], \"type\": \"heatmapgl\"}], \"histogram\": [{\"marker\": {\"colorbar\": {\"outlinewidth\": 0, \"ticks\": \"\"}}, \"type\": \"histogram\"}], \"histogram2d\": [{\"colorbar\": {\"outlinewidth\": 0, \"ticks\": \"\"}, \"colorscale\": [[0.0, \"#0d0887\"], [0.1111111111111111, \"#46039f\"], [0.2222222222222222, \"#7201a8\"], [0.3333333333333333, \"#9c179e\"], [0.4444444444444444, \"#bd3786\"], [0.5555555555555556, \"#d8576b\"], [0.6666666666666666, \"#ed7953\"], [0.7777777777777778, \"#fb9f3a\"], [0.8888888888888888, \"#fdca26\"], [1.0, \"#f0f921\"]], \"type\": \"histogram2d\"}], \"histogram2dcontour\": [{\"colorbar\": {\"outlinewidth\": 0, \"ticks\": \"\"}, \"colorscale\": [[0.0, \"#0d0887\"], [0.1111111111111111, \"#46039f\"], [0.2222222222222222, \"#7201a8\"], [0.3333333333333333, \"#9c179e\"], [0.4444444444444444, \"#bd3786\"], [0.5555555555555556, \"#d8576b\"], [0.6666666666666666, \"#ed7953\"], [0.7777777777777778, \"#fb9f3a\"], [0.8888888888888888, \"#fdca26\"], [1.0, \"#f0f921\"]], \"type\": \"histogram2dcontour\"}], \"mesh3d\": [{\"colorbar\": {\"outlinewidth\": 0, \"ticks\": \"\"}, \"type\": \"mesh3d\"}], \"parcoords\": [{\"line\": {\"colorbar\": {\"outlinewidth\": 0, \"ticks\": \"\"}}, \"type\": \"parcoords\"}], \"pie\": [{\"automargin\": true, \"type\": \"pie\"}], \"scatter\": [{\"marker\": {\"colorbar\": {\"outlinewidth\": 0, \"ticks\": \"\"}}, \"type\": \"scatter\"}], \"scatter3d\": [{\"line\": {\"colorbar\": {\"outlinewidth\": 0, \"ticks\": \"\"}}, \"marker\": {\"colorbar\": {\"outlinewidth\": 0, \"ticks\": \"\"}}, \"type\": \"scatter3d\"}], \"scattercarpet\": [{\"marker\": {\"colorbar\": {\"outlinewidth\": 0, \"ticks\": \"\"}}, \"type\": \"scattercarpet\"}], \"scattergeo\": [{\"marker\": {\"colorbar\": {\"outlinewidth\": 0, \"ticks\": \"\"}}, \"type\": \"scattergeo\"}], \"scattergl\": [{\"marker\": {\"colorbar\": {\"outlinewidth\": 0, \"ticks\": \"\"}}, \"type\": \"scattergl\"}], \"scattermapbox\": [{\"marker\": {\"colorbar\": {\"outlinewidth\": 0, \"ticks\": \"\"}}, \"type\": \"scattermapbox\"}], \"scatterpolar\": [{\"marker\": {\"colorbar\": {\"outlinewidth\": 0, \"ticks\": \"\"}}, \"type\": \"scatterpolar\"}], \"scatterpolargl\": [{\"marker\": {\"colorbar\": {\"outlinewidth\": 0, \"ticks\": \"\"}}, \"type\": \"scatterpolargl\"}], \"scatterternary\": [{\"marker\": {\"colorbar\": {\"outlinewidth\": 0, \"ticks\": \"\"}}, \"type\": \"scatterternary\"}], \"surface\": [{\"colorbar\": {\"outlinewidth\": 0, \"ticks\": \"\"}, \"colorscale\": [[0.0, \"#0d0887\"], [0.1111111111111111, \"#46039f\"], [0.2222222222222222, \"#7201a8\"], [0.3333333333333333, \"#9c179e\"], [0.4444444444444444, \"#bd3786\"], [0.5555555555555556, \"#d8576b\"], [0.6666666666666666, \"#ed7953\"], [0.7777777777777778, \"#fb9f3a\"], [0.8888888888888888, \"#fdca26\"], [1.0, \"#f0f921\"]], \"type\": \"surface\"}], \"table\": [{\"cells\": {\"fill\": {\"color\": \"#EBF0F8\"}, \"line\": {\"color\": \"white\"}}, \"header\": {\"fill\": {\"color\": \"#C8D4E3\"}, \"line\": {\"color\": \"white\"}}, \"type\": \"table\"}]}, \"layout\": {\"annotationdefaults\": {\"arrowcolor\": \"#2a3f5f\", \"arrowhead\": 0, \"arrowwidth\": 1}, \"autotypenumbers\": \"strict\", \"coloraxis\": {\"colorbar\": {\"outlinewidth\": 0, \"ticks\": \"\"}}, \"colorscale\": {\"diverging\": [[0, \"#8e0152\"], [0.1, \"#c51b7d\"], [0.2, \"#de77ae\"], [0.3, \"#f1b6da\"], [0.4, \"#fde0ef\"], [0.5, \"#f7f7f7\"], [0.6, \"#e6f5d0\"], [0.7, \"#b8e186\"], [0.8, \"#7fbc41\"], [0.9, \"#4d9221\"], [1, \"#276419\"]], \"sequential\": [[0.0, \"#0d0887\"], [0.1111111111111111, \"#46039f\"], [0.2222222222222222, \"#7201a8\"], [0.3333333333333333, \"#9c179e\"], [0.4444444444444444, \"#bd3786\"], [0.5555555555555556, \"#d8576b\"], [0.6666666666666666, \"#ed7953\"], [0.7777777777777778, \"#fb9f3a\"], [0.8888888888888888, \"#fdca26\"], [1.0, \"#f0f921\"]], \"sequentialminus\": [[0.0, \"#0d0887\"], [0.1111111111111111, \"#46039f\"], [0.2222222222222222, \"#7201a8\"], [0.3333333333333333, \"#9c179e\"], [0.4444444444444444, \"#bd3786\"], [0.5555555555555556, \"#d8576b\"], [0.6666666666666666, \"#ed7953\"], [0.7777777777777778, \"#fb9f3a\"], [0.8888888888888888, \"#fdca26\"], [1.0, \"#f0f921\"]]}, \"colorway\": [\"#636efa\", \"#EF553B\", \"#00cc96\", \"#ab63fa\", \"#FFA15A\", \"#19d3f3\", \"#FF6692\", \"#B6E880\", \"#FF97FF\", \"#FECB52\"], \"font\": {\"color\": \"#2a3f5f\"}, \"geo\": {\"bgcolor\": \"white\", \"lakecolor\": \"white\", \"landcolor\": \"#E5ECF6\", \"showlakes\": true, \"showland\": true, \"subunitcolor\": \"white\"}, \"hoverlabel\": {\"align\": \"left\"}, \"hovermode\": \"closest\", \"mapbox\": {\"style\": \"light\"}, \"paper_bgcolor\": \"white\", \"plot_bgcolor\": \"#E5ECF6\", \"polar\": {\"angularaxis\": {\"gridcolor\": \"white\", \"linecolor\": \"white\", \"ticks\": \"\"}, \"bgcolor\": \"#E5ECF6\", \"radialaxis\": {\"gridcolor\": \"white\", \"linecolor\": \"white\", \"ticks\": \"\"}}, \"scene\": {\"xaxis\": {\"backgroundcolor\": \"#E5ECF6\", \"gridcolor\": \"white\", \"gridwidth\": 2, \"linecolor\": \"white\", \"showbackground\": true, \"ticks\": \"\", \"zerolinecolor\": \"white\"}, \"yaxis\": {\"backgroundcolor\": \"#E5ECF6\", \"gridcolor\": \"white\", \"gridwidth\": 2, \"linecolor\": \"white\", \"showbackground\": true, \"ticks\": \"\", \"zerolinecolor\": \"white\"}, \"zaxis\": {\"backgroundcolor\": \"#E5ECF6\", \"gridcolor\": \"white\", \"gridwidth\": 2, \"linecolor\": \"white\", \"showbackground\": true, \"ticks\": \"\", \"zerolinecolor\": \"white\"}}, \"shapedefaults\": {\"line\": {\"color\": \"#2a3f5f\"}}, \"ternary\": {\"aaxis\": {\"gridcolor\": \"white\", \"linecolor\": \"white\", \"ticks\": \"\"}, \"baxis\": {\"gridcolor\": \"white\", \"linecolor\": \"white\", \"ticks\": \"\"}, \"bgcolor\": \"#E5ECF6\", \"caxis\": {\"gridcolor\": \"white\", \"linecolor\": \"white\", \"ticks\": \"\"}}, \"title\": {\"x\": 0.05}, \"xaxis\": {\"automargin\": true, \"gridcolor\": \"white\", \"linecolor\": \"white\", \"ticks\": \"\", \"title\": {\"standoff\": 15}, \"zerolinecolor\": \"white\", \"zerolinewidth\": 2}, \"yaxis\": {\"automargin\": true, \"gridcolor\": \"white\", \"linecolor\": \"white\", \"ticks\": \"\", \"title\": {\"standoff\": 15}, \"zerolinecolor\": \"white\", \"zerolinewidth\": 2}}}},                        {\"responsive\": true}                    ).then(function(){\n",
       "                            \n",
       "var gd = document.getElementById('3be0fccd-c596-4aa3-9506-09c5d336d6a0');\n",
       "var x = new MutationObserver(function (mutations, observer) {{\n",
       "        var display = window.getComputedStyle(gd).display;\n",
       "        if (!display || display === 'none') {{\n",
       "            console.log([gd, 'removed!']);\n",
       "            Plotly.purge(gd);\n",
       "            observer.disconnect();\n",
       "        }}\n",
       "}});\n",
       "\n",
       "// Listen for the removal of the full notebook cells\n",
       "var notebookContainer = gd.closest('#notebook-container');\n",
       "if (notebookContainer) {{\n",
       "    x.observe(notebookContainer, {childList: true});\n",
       "}}\n",
       "\n",
       "// Listen for the clearing of the current output cell\n",
       "var outputEl = gd.closest('.output');\n",
       "if (outputEl) {{\n",
       "    x.observe(outputEl, {childList: true});\n",
       "}}\n",
       "\n",
       "                        })                };                });            </script>        </div>"
      ]
     },
     "metadata": {},
     "output_type": "display_data"
    }
   ],
   "source": [
    "import plotly.graph_objects as go\n",
    "fig = go.Figure(data=[go.Surface(z=Z1)])\n",
    "fig.update_layout( scene = {\n",
    "            #\"xaxis\": {\"nticks\": 20},\n",
    "            #\"zaxis\": {\"nticks\": 10},\n",
    "            'camera_eye': {\"x\": 0, \"y\": -1, \"z\": 0.5},\n",
    "            \"aspectratio\": {\"x\": 1, \"y\": 1, \"z\": 1}\n",
    "        }) #,width=500, height=400) #title='Mt Bruno Elevation', autosize=True,\n",
    "                  #width=500, height=400,\n",
    "                  #margin=dict(l=65, r=50, b=65, t=90))\n",
    "\n",
    "fig.show()"
   ]
  },
  {
   "cell_type": "code",
   "execution_count": 135,
   "metadata": {},
   "outputs": [
    {
     "data": {
      "application/vnd.plotly.v1+json": {
       "config": {
        "plotlyServerURL": "https://plot.ly"
       },
       "data": [
        {
         "type": "surface",
         "z": [
          [
           2,
           2.2758620689655173,
           2.5517241379310347,
           2.8275862068965516,
           3.103448275862069,
           3.3793103448275863,
           3.655172413793103,
           3.9310344827586206,
           4.206896551724138,
           4.482758620689655,
           4.758620689655173,
           5.0344827586206895,
           5.310344827586206,
           5.586206896551724,
           5.862068965517241,
           6.137931034482759,
           6.413793103448276,
           6.689655172413793,
           6.9655172413793105,
           7.241379310344827,
           7.517241379310345,
           7.793103448275862,
           8.068965517241379,
           8.344827586206897,
           8.620689655172413,
           8.89655172413793,
           9.172413793103448,
           9.448275862068964,
           9.724137931034482,
           10
          ],
          [
           1.4768133174791926,
           1.7336504161712258,
           1.9904875148632595,
           2.2473246135552922,
           2.504161712247326,
           2.760998810939359,
           3.0178359096313923,
           3.2746730083234254,
           3.5315101070154586,
           3.7883472057074923,
           4.045184304399526,
           4.302021403091558,
           4.558858501783592,
           4.8156956004756255,
           5.072532699167659,
           5.329369797859692,
           5.586206896551725,
           5.843043995243758,
           6.099881093935792,
           6.356718192627825,
           6.613555291319859,
           6.870392390011892,
           7.127229488703925,
           7.384066587395958,
           7.6409036860879915,
           7.897740784780025,
           8.154577883472058,
           8.411414982164091,
           8.668252080856124,
           8.925089179548158
          ],
          [
           1.0107015457788346,
           1.2485136741973841,
           1.4863258026159336,
           1.7241379310344827,
           1.9619500594530321,
           2.199762187871581,
           2.43757431629013,
           2.67538644470868,
           2.913198573127229,
           3.1510107015457787,
           3.388822829964328,
           3.626634958382877,
           3.8644470868014267,
           4.102259215219976,
           4.340071343638525,
           4.577883472057075,
           4.815695600475624,
           5.053507728894173,
           5.291319857312723,
           5.529131985731272,
           5.766944114149822,
           6.004756242568371,
           6.24256837098692,
           6.48038049940547,
           6.718192627824019,
           6.956004756242567,
           7.193816884661118,
           7.431629013079666,
           7.669441141498215,
           7.907253269916765
          ],
          [
           0.6016646848989304,
           0.8204518430439958,
           1.0392390011890615,
           1.2580261593341264,
           1.4768133174791922,
           1.6956004756242575,
           1.9143876337693226,
           2.133174791914388,
           2.3519619500594535,
           2.5707491082045193,
           2.7895362663495846,
           3.00832342449465,
           3.2271105826397153,
           3.4458977407847806,
           3.664684898929846,
           3.8834720570749117,
           4.102259215219977,
           4.321046373365042,
           4.539833531510108,
           4.758620689655173,
           4.977407847800238,
           5.196195005945304,
           5.414982164090369,
           5.633769322235435,
           5.8525564803805,
           6.0713436385255655,
           6.290130796670631,
           6.508917954815696,
           6.727705112960761,
           6.946492271105827
          ],
          [
           0.24970273483947736,
           0.449464922711059,
           0.6492271105826406,
           0.8489892984542218,
           1.048751486325803,
           1.2485136741973848,
           1.448275862068966,
           1.6480380499405474,
           1.847800237812129,
           2.0475624256837106,
           2.247324613555292,
           2.447086801426873,
           2.6468489892984546,
           2.846611177170036,
           3.0463733650416174,
           3.2461355529131994,
           3.4458977407847806,
           3.645659928656362,
           3.845422116527944,
           4.045184304399525,
           4.244946492271106,
           4.444708680142687,
           4.644470868014269,
           4.844233055885851,
           5.043995243757432,
           5.243757431629014,
           5.443519619500595,
           5.643281807372176,
           5.843043995243757,
           6.0428061831153395
          ],
          [
           -0.04518430439952503,
           0.13555291319857243,
           0.3162901307966699,
           0.49702734839476737,
           0.677764565992865,
           0.8585017835909625,
           1.0392390011890598,
           1.2199762187871575,
           1.400713436385255,
           1.5814506539833526,
           1.76218787158145,
           1.9429250891795473,
           2.123662306777645,
           2.3043995243757425,
           2.48513674197384,
           2.6658739595719374,
           2.846611177170035,
           3.0273483947681323,
           3.2080856123662302,
           3.3888228299643273,
           3.569560047562425,
           3.7502972651605226,
           3.9310344827586197,
           4.111771700356718,
           4.292508917954815,
           4.4732461355529125,
           4.65398335315101,
           4.834720570749107,
           5.015457788347204,
           5.196195005945302
          ],
          [
           -0.2829964328180732,
           -0.12128418549345943,
           0.04042806183115388,
           0.20214030915576742,
           0.3638525564803812,
           0.5255648038049947,
           0.687277051129608,
           0.8489892984542218,
           1.0107015457788353,
           1.172413793103449,
           1.3341260404280626,
           1.495838287752676,
           1.6575505350772897,
           1.8192627824019032,
           1.9809750297265167,
           2.1426872770511305,
           2.304399524375744,
           2.4661117717003576,
           2.6278240190249713,
           2.7895362663495846,
           2.9512485136741984,
           3.1129607609988117,
           3.2746730083234254,
           3.436385255648039,
           3.5980975029726525,
           3.759809750297266,
           3.9215219976218796,
           4.083234244946493,
           4.244946492271106,
           4.40665873959572
          ],
          [
           -0.4637336504161711,
           -0.3210463733650415,
           -0.17835909631391167,
           -0.03567181926278229,
           0.10701545778834731,
           0.24970273483947714,
           0.3923900118906065,
           0.5350772889417361,
           0.6777645659928658,
           0.8204518430439955,
           0.9631391200951251,
           1.1058263971462545,
           1.2485136741973843,
           1.391200951248514,
           1.5338882282996433,
           1.6765755053507734,
           1.8192627824019028,
           1.9619500594530321,
           2.104637336504162,
           2.247324613555292,
           2.3900118906064214,
           2.532699167657551,
           2.67538644470868,
           2.81807372175981,
           2.9607609988109393,
           3.1034482758620694,
           3.246135552913199,
           3.3888228299643286,
           3.5315101070154578,
           3.674197384066588
          ],
          [
           -0.5873959571938165,
           -0.4637336504161709,
           -0.3400713436385252,
           -0.21640903686087953,
           -0.09274673008323386,
           0.030915576694411806,
           0.15457788347205725,
           0.27824019024970303,
           0.4019024970273487,
           0.5255648038049945,
           0.6492271105826402,
           0.7728894173602856,
           0.8965517241379314,
           1.0202140309155772,
           1.1438763376932226,
           1.2675386444708685,
           1.391200951248514,
           1.5148632580261596,
           1.6385255648038055,
           1.762187871581451,
           1.8858501783590969,
           2.0095124851367423,
           2.1331747919143877,
           2.256837098692034,
           2.3804994054696795,
           2.504161712247325,
           2.6278240190249704,
           2.7514863258026163,
           2.8751486325802618,
           2.9988109393579077
          ],
          [
           -0.6539833531510106,
           -0.5493460166468489,
           -0.44470868014268716,
           -0.34007134363852565,
           -0.2354340071343639,
           -0.13079667063020206,
           -0.026159334126040434,
           0.0784780023781213,
           0.18311533888228304,
           0.2877526753864448,
           0.3923900118906065,
           0.4970273483947681,
           0.6016646848989298,
           0.7063020214030915,
           0.8109393579072531,
           0.9155766944114151,
           1.0202140309155767,
           1.1248513674197382,
           1.2294887039239002,
           1.3341260404280617,
           1.4387633769322237,
           1.5434007134363852,
           1.648038049940547,
           1.7526753864447087,
           1.8573127229488704,
           1.961950059453032,
           2.066587395957194,
           2.171224732461355,
           2.275862068965517,
           2.3804994054696786
          ],
          [
           -0.6634958382877527,
           -0.5778834720570749,
           -0.4922711058263971,
           -0.4066587395957195,
           -0.3210463733650417,
           -0.2354340071343639,
           -0.14982164090368633,
           -0.06420927467300852,
           0.021403091557669285,
           0.10701545778834709,
           0.19262782401902484,
           0.27824019024970253,
           0.3638525564803803,
           0.4494649227110581,
           0.5350772889417357,
           0.6206896551724137,
           0.7063020214030913,
           0.791914387633769,
           0.8775267538644469,
           0.9631391200951245,
           1.0487514863258025,
           1.13436385255648,
           1.2199762187871577,
           1.3055885850178357,
           1.3912009512485133,
           1.4768133174791909,
           1.562425683709869,
           1.6480380499405465,
           1.733650416171224,
           1.819262782401902
          ],
          [
           -0.6159334126040429,
           -0.549346016646849,
           -0.48275862068965514,
           -0.4161712247324615,
           -0.3495838287752676,
           -0.28299643281807374,
           -0.21640903686087998,
           -0.1498216409036861,
           -0.08323424494649229,
           -0.016646848989298413,
           0.04994054696789546,
           0.11652794292508917,
           0.18311533888228304,
           0.2497027348394769,
           0.3162901307966706,
           0.3828775267538646,
           0.4494649227110583,
           0.5160523186682521,
           0.5826397146254461,
           0.6492271105826397,
           0.7158145065398338,
           0.7824019024970275,
           0.8489892984542212,
           0.9155766944114152,
           0.982164090368609,
           1.0487514863258027,
           1.1153388822829968,
           1.1819262782401903,
           1.2485136741973841,
           1.315101070154578
          ],
          [
           -0.511296076099881,
           -0.46373365041617115,
           -0.4161712247324613,
           -0.3686087990487515,
           -0.3210463733650416,
           -0.2734839476813317,
           -0.2259215219976219,
           -0.178359096313912,
           -0.13079667063020212,
           -0.08323424494649223,
           -0.035671819262782345,
           0.011890606420927485,
           0.05945303210463737,
           0.10701545778834726,
           0.1545778834720571,
           0.20214030915576703,
           0.24970273483947686,
           0.2972651605231867,
           0.34482758620689663,
           0.39239001189060646,
           0.4399524375743164,
           0.48751486325802623,
           0.5350772889417361,
           0.5826397146254461,
           0.6302021403091558,
           0.6777645659928657,
           0.7253269916765757,
           0.7728894173602854,
           0.8204518430439953,
           0.8680142687277053
          ],
          [
           -0.3495838287752675,
           -0.32104637336504155,
           -0.29250891795481565,
           -0.26397146254458975,
           -0.23543400713436385,
           -0.2068965517241379,
           -0.17835909631391203,
           -0.1498216409036861,
           -0.12128418549346018,
           -0.09274673008323425,
           -0.0642092746730083,
           -0.03567181926278243,
           -0.007134363852556502,
           0.02140309155766943,
           0.04994054696789531,
           0.07847800237812129,
           0.10701545778834717,
           0.13555291319857304,
           0.16409036860879903,
           0.1926278240190249,
           0.22116527942925088,
           0.24970273483947678,
           0.27824019024970265,
           0.3067776456599286,
           0.3353151010701545,
           0.3638525564803804,
           0.39239001189060635,
           0.42092746730083225,
           0.44946492271105815,
           0.4780023781212841
          ],
          [
           -0.1307966706302024,
           -0.1212841854934604,
           -0.1117717003567184,
           -0.10225921521997643,
           -0.09274673008323442,
           -0.08323424494649242,
           -0.07372175980975045,
           -0.06420927467300845,
           -0.054696789536266444,
           -0.04518430439952445,
           -0.03567181926278245,
           -0.02615933412604047,
           -0.016646848989298475,
           -0.00713436385255648,
           0.002378121284185502,
           0.011890606420927513,
           0.021403091557669493,
           0.030915576694411473,
           0.04042806183115349,
           0.04994054696789547,
           0.05945303210463748,
           0.06896551724137946,
           0.07847800237812144,
           0.08799048751486345,
           0.09750297265160543,
           0.10701545778834741,
           0.11652794292508943,
           0.1260404280618314,
           0.13555291319857338,
           0.1450653983353154
          ],
          [
           0.1450653983353154,
           0.1355529131985734,
           0.1260404280618314,
           0.11652794292508943,
           0.10701545778834742,
           0.09750297265160543,
           0.08799048751486345,
           0.07847800237812146,
           0.06896551724137946,
           0.05945303210463747,
           0.04994054696789547,
           0.04042806183115349,
           0.030915576694411494,
           0.021403091557669493,
           0.011890606420927513,
           0.002378121284185502,
           -0.00713436385255648,
           -0.01664684898929846,
           -0.02615933412604047,
           -0.03567181926278245,
           -0.045184304399524464,
           -0.054696789536266444,
           -0.06420927467300844,
           -0.07372175980975045,
           -0.08323424494649242,
           -0.0927467300832344,
           -0.10225921521997643,
           -0.1117717003567184,
           -0.12128418549346037,
           -0.1307966706302024
          ],
          [
           0.4780023781212841,
           0.44946492271105815,
           0.42092746730083225,
           0.39239001189060635,
           0.36385255648038045,
           0.3353151010701545,
           0.3067776456599286,
           0.2782401902497027,
           0.24970273483947678,
           0.22116527942925085,
           0.1926278240190249,
           0.16409036860879903,
           0.1355529131985731,
           0.10701545778834717,
           0.07847800237812129,
           0.04994054696789531,
           0.02140309155766943,
           -0.007134363852556447,
           -0.03567181926278243,
           -0.0642092746730083,
           -0.09274673008323428,
           -0.12128418549346018,
           -0.14982164090368605,
           -0.17835909631391203,
           -0.2068965517241379,
           -0.2354340071343638,
           -0.26397146254458975,
           -0.29250891795481565,
           -0.32104637336504155,
           -0.3495838287752675
          ],
          [
           0.8680142687277046,
           0.8204518430439947,
           0.7728894173602847,
           0.725326991676575,
           0.6777645659928652,
           0.6302021403091553,
           0.5826397146254456,
           0.5350772889417357,
           0.4875148632580258,
           0.43995243757431596,
           0.39239001189060607,
           0.3448275862068963,
           0.29726516052318647,
           0.24970273483947658,
           0.2021403091557668,
           0.15457788347205687,
           0.10701545778834709,
           0.0594530321046373,
           0.011890606420927374,
           -0.03567181926278243,
           -0.08323424494649234,
           -0.13079667063020212,
           -0.17835909631391195,
           -0.2259215219976219,
           -0.27348394768133166,
           -0.32104637336504144,
           -0.3686087990487514,
           -0.4161712247324611,
           -0.46373365041617093,
           -0.5112960760998808
          ],
          [
           1.315101070154578,
           1.2485136741973841,
           1.1819262782401903,
           1.1153388822829968,
           1.048751486325803,
           0.982164090368609,
           0.9155766944114152,
           0.8489892984542213,
           0.7824019024970275,
           0.7158145065398336,
           0.6492271105826397,
           0.5826397146254461,
           0.5160523186682522,
           0.4494649227110583,
           0.3828775267538646,
           0.3162901307966706,
           0.2497027348394769,
           0.18311533888228315,
           0.11652794292508917,
           0.04994054696789546,
           -0.016646848989298524,
           -0.08323424494649229,
           -0.149821640903686,
           -0.21640903686087998,
           -0.28299643281807374,
           -0.3495838287752675,
           -0.4161712247324615,
           -0.48275862068965514,
           -0.5493460166468489,
           -0.6159334126040429
          ],
          [
           1.819262782401902,
           1.7336504161712243,
           1.6480380499405465,
           1.562425683709869,
           1.476813317479191,
           1.3912009512485133,
           1.3055885850178357,
           1.219976218787158,
           1.13436385255648,
           1.0487514863258023,
           0.9631391200951245,
           0.8775267538644469,
           0.7919143876337691,
           0.7063020214030913,
           0.6206896551724137,
           0.5350772889417357,
           0.4494649227110581,
           0.3638525564803804,
           0.27824019024970253,
           0.19262782401902484,
           0.10701545778834692,
           0.021403091557669285,
           -0.06420927467300841,
           -0.14982164090368633,
           -0.2354340071343639,
           -0.3210463733650416,
           -0.4066587395957195,
           -0.4922711058263971,
           -0.5778834720570747,
           -0.6634958382877527
          ],
          [
           2.3804994054696795,
           2.275862068965518,
           2.171224732461356,
           2.0665873959571943,
           1.9619500594530326,
           1.8573127229488708,
           1.7526753864447093,
           1.6480380499405474,
           1.5434007134363856,
           1.438763376932224,
           1.3341260404280622,
           1.2294887039239006,
           1.1248513674197387,
           1.020214030915577,
           0.9155766944114154,
           0.8109393579072535,
           0.7063020214030918,
           0.6016646848989302,
           0.4970273483947683,
           0.3923900118906067,
           0.2877526753864448,
           0.18311533888228315,
           0.07847800237812153,
           -0.026159334126040434,
           -0.13079667063020206,
           -0.23543400713436358,
           -0.34007134363852554,
           -0.4447086801426873,
           -0.5493460166468488,
           -0.6539833531510107
          ],
          [
           2.9988109393579077,
           2.875148632580262,
           2.7514863258026163,
           2.6278240190249704,
           2.504161712247325,
           2.3804994054696795,
           2.256837098692034,
           2.133174791914388,
           2.0095124851367423,
           1.8858501783590966,
           1.762187871581451,
           1.6385255648038055,
           1.5148632580261596,
           1.391200951248514,
           1.2675386444708685,
           1.1438763376932226,
           1.0202140309155772,
           0.8965517241379316,
           0.7728894173602856,
           0.6492271105826402,
           0.5255648038049943,
           0.4019024970273487,
           0.27824019024970326,
           0.15457788347205725,
           0.030915576694411806,
           -0.09274673008323364,
           -0.21640903686087953,
           -0.3400713436385252,
           -0.46373365041617065,
           -0.5873959571938165
          ],
          [
           3.6741973840665865,
           3.531510107015457,
           3.3888228299643273,
           3.2461355529131977,
           3.103448275862068,
           2.9607609988109385,
           2.8180737217598093,
           2.6753864447086793,
           2.5326991676575497,
           2.39001189060642,
           2.2473246135552905,
           2.104637336504161,
           1.9619500594530315,
           1.8192627824019019,
           1.6765755053507725,
           1.5338882282996424,
           1.391200951248513,
           1.2485136741973837,
           1.1058263971462539,
           0.9631391200951244,
           0.8204518430439945,
           0.6777645659928652,
           0.5350772889417357,
           0.39239001189060585,
           0.24970273483947647,
           0.10701545778834709,
           -0.035671819262782734,
           -0.17835909631391234,
           -0.3210463733650417,
           -0.46373365041617154
          ],
          [
           4.40665873959572,
           4.244946492271106,
           4.083234244946493,
           3.9215219976218796,
           3.759809750297266,
           3.5980975029726525,
           3.436385255648039,
           3.2746730083234254,
           3.1129607609988117,
           2.951248513674198,
           2.7895362663495846,
           2.6278240190249713,
           2.4661117717003576,
           2.304399524375744,
           2.1426872770511305,
           1.9809750297265167,
           1.8192627824019032,
           1.6575505350772899,
           1.495838287752676,
           1.3341260404280626,
           1.1724137931034488,
           1.0107015457788353,
           0.848989298454222,
           0.687277051129608,
           0.5255648038049947,
           0.3638525564803814,
           0.20214030915576742,
           0.04042806183115388,
           -0.12128418549345943,
           -0.2829964328180732
          ],
          [
           5.196195005945302,
           5.015457788347205,
           4.834720570749107,
           4.65398335315101,
           4.4732461355529125,
           4.292508917954815,
           4.111771700356718,
           3.93103448275862,
           3.7502972651605226,
           3.5695600475624247,
           3.3888228299643273,
           3.2080856123662302,
           3.0273483947681323,
           2.846611177170035,
           2.6658739595719374,
           2.48513674197384,
           2.3043995243757425,
           2.123662306777645,
           1.9429250891795473,
           1.76218787158145,
           1.5814506539833522,
           1.400713436385255,
           1.2199762187871577,
           1.0392390011890598,
           0.8585017835909625,
           0.6777645659928653,
           0.49702734839476737,
           0.3162901307966699,
           0.13555291319857288,
           -0.04518430439952503
          ],
          [
           6.042806183115337,
           5.843043995243756,
           5.643281807372174,
           5.443519619500593,
           5.243757431629012,
           5.04399524375743,
           4.844233055885849,
           4.644470868014268,
           4.444708680142686,
           4.244946492271104,
           4.045184304399523,
           3.8454221165279416,
           3.64565992865636,
           3.445897740784779,
           3.2461355529131977,
           3.0463733650416156,
           2.8466111771700344,
           2.6468489892984532,
           2.4470868014268716,
           2.2473246135552905,
           2.047562425683709,
           1.8478002378121274,
           1.6480380499405463,
           1.4482758620689644,
           1.2485136741973832,
           1.048751486325802,
           0.84898929845422,
           0.6492271105826388,
           0.44946492271105765,
           0.24970273483947603
          ],
          [
           6.946492271105827,
           6.727705112960762,
           6.508917954815696,
           6.290130796670631,
           6.0713436385255655,
           5.8525564803805,
           5.633769322235435,
           5.41498216409037,
           5.196195005945304,
           4.977407847800238,
           4.758620689655173,
           4.539833531510108,
           4.321046373365043,
           4.102259215219977,
           3.8834720570749117,
           3.664684898929846,
           3.4458977407847806,
           3.2271105826397157,
           3.00832342449465,
           2.7895362663495846,
           2.570749108204519,
           2.3519619500594535,
           2.1331747919143886,
           1.9143876337693226,
           1.6956004756242575,
           1.4768133174791922,
           1.2580261593341264,
           1.0392390011890615,
           0.8204518430439962,
           0.6016646848989304
          ],
          [
           7.907253269916765,
           7.669441141498216,
           7.431629013079666,
           7.193816884661118,
           6.956004756242567,
           6.718192627824019,
           6.48038049940547,
           6.24256837098692,
           6.004756242568371,
           5.766944114149821,
           5.529131985731272,
           5.291319857312723,
           5.053507728894173,
           4.815695600475624,
           4.577883472057075,
           4.340071343638525,
           4.102259215219976,
           3.864447086801427,
           3.626634958382877,
           3.388822829964328,
           3.1510107015457782,
           2.913198573127229,
           2.67538644470868,
           2.43757431629013,
           2.199762187871581,
           1.9619500594530321,
           1.7241379310344827,
           1.4863258026159336,
           1.2485136741973846,
           1.0107015457788346
          ],
          [
           8.925089179548154,
           8.66825208085612,
           8.411414982164088,
           8.154577883472054,
           7.897740784780021,
           7.640903686087988,
           7.384066587395955,
           7.127229488703922,
           6.870392390011888,
           6.613555291319854,
           6.356718192627821,
           6.099881093935788,
           5.843043995243755,
           5.5862068965517215,
           5.329369797859688,
           5.072532699167655,
           4.815695600475622,
           4.558858501783589,
           4.302021403091556,
           4.045184304399522,
           3.7883472057074883,
           3.5315101070154555,
           3.274673008323423,
           3.0178359096313887,
           2.760998810939356,
           2.5041617122473228,
           2.247324613555289,
           1.9904875148632564,
           1.7336504161712232,
           1.4768133174791895
          ],
          [
           10,
           9.724137931034482,
           9.448275862068964,
           9.172413793103448,
           8.89655172413793,
           8.620689655172413,
           8.344827586206897,
           8.068965517241379,
           7.793103448275862,
           7.517241379310345,
           7.241379310344827,
           6.9655172413793105,
           6.689655172413794,
           6.413793103448276,
           6.137931034482759,
           5.862068965517241,
           5.586206896551724,
           5.310344827586207,
           5.0344827586206895,
           4.758620689655173,
           4.482758620689655,
           4.206896551724138,
           3.931034482758621,
           3.655172413793103,
           3.3793103448275863,
           3.1034482758620694,
           2.8275862068965516,
           2.5517241379310347,
           2.275862068965518,
           2
          ]
         ]
        }
       ],
       "layout": {
        "autosize": true,
        "scene": {
         "aspectratio": {
          "x": 1,
          "y": 1,
          "z": 1
         },
         "camera": {
          "center": {
           "x": 0,
           "y": 0,
           "z": 0
          },
          "eye": {
           "x": 0.2140047540954676,
           "y": 0.21400475409546754,
           "z": 0.21400475409546754
          },
          "projection": {
           "type": "perspective"
          },
          "up": {
           "x": 0,
           "y": 0,
           "z": 1
          }
         }
        },
        "template": {
         "data": {
          "bar": [
           {
            "error_x": {
             "color": "#2a3f5f"
            },
            "error_y": {
             "color": "#2a3f5f"
            },
            "marker": {
             "line": {
              "color": "#E5ECF6",
              "width": 0.5
             }
            },
            "type": "bar"
           }
          ],
          "barpolar": [
           {
            "marker": {
             "line": {
              "color": "#E5ECF6",
              "width": 0.5
             }
            },
            "type": "barpolar"
           }
          ],
          "carpet": [
           {
            "aaxis": {
             "endlinecolor": "#2a3f5f",
             "gridcolor": "white",
             "linecolor": "white",
             "minorgridcolor": "white",
             "startlinecolor": "#2a3f5f"
            },
            "baxis": {
             "endlinecolor": "#2a3f5f",
             "gridcolor": "white",
             "linecolor": "white",
             "minorgridcolor": "white",
             "startlinecolor": "#2a3f5f"
            },
            "type": "carpet"
           }
          ],
          "choropleth": [
           {
            "colorbar": {
             "outlinewidth": 0,
             "ticks": ""
            },
            "type": "choropleth"
           }
          ],
          "contour": [
           {
            "colorbar": {
             "outlinewidth": 0,
             "ticks": ""
            },
            "colorscale": [
             [
              0,
              "#0d0887"
             ],
             [
              0.1111111111111111,
              "#46039f"
             ],
             [
              0.2222222222222222,
              "#7201a8"
             ],
             [
              0.3333333333333333,
              "#9c179e"
             ],
             [
              0.4444444444444444,
              "#bd3786"
             ],
             [
              0.5555555555555556,
              "#d8576b"
             ],
             [
              0.6666666666666666,
              "#ed7953"
             ],
             [
              0.7777777777777778,
              "#fb9f3a"
             ],
             [
              0.8888888888888888,
              "#fdca26"
             ],
             [
              1,
              "#f0f921"
             ]
            ],
            "type": "contour"
           }
          ],
          "contourcarpet": [
           {
            "colorbar": {
             "outlinewidth": 0,
             "ticks": ""
            },
            "type": "contourcarpet"
           }
          ],
          "heatmap": [
           {
            "colorbar": {
             "outlinewidth": 0,
             "ticks": ""
            },
            "colorscale": [
             [
              0,
              "#0d0887"
             ],
             [
              0.1111111111111111,
              "#46039f"
             ],
             [
              0.2222222222222222,
              "#7201a8"
             ],
             [
              0.3333333333333333,
              "#9c179e"
             ],
             [
              0.4444444444444444,
              "#bd3786"
             ],
             [
              0.5555555555555556,
              "#d8576b"
             ],
             [
              0.6666666666666666,
              "#ed7953"
             ],
             [
              0.7777777777777778,
              "#fb9f3a"
             ],
             [
              0.8888888888888888,
              "#fdca26"
             ],
             [
              1,
              "#f0f921"
             ]
            ],
            "type": "heatmap"
           }
          ],
          "heatmapgl": [
           {
            "colorbar": {
             "outlinewidth": 0,
             "ticks": ""
            },
            "colorscale": [
             [
              0,
              "#0d0887"
             ],
             [
              0.1111111111111111,
              "#46039f"
             ],
             [
              0.2222222222222222,
              "#7201a8"
             ],
             [
              0.3333333333333333,
              "#9c179e"
             ],
             [
              0.4444444444444444,
              "#bd3786"
             ],
             [
              0.5555555555555556,
              "#d8576b"
             ],
             [
              0.6666666666666666,
              "#ed7953"
             ],
             [
              0.7777777777777778,
              "#fb9f3a"
             ],
             [
              0.8888888888888888,
              "#fdca26"
             ],
             [
              1,
              "#f0f921"
             ]
            ],
            "type": "heatmapgl"
           }
          ],
          "histogram": [
           {
            "marker": {
             "colorbar": {
              "outlinewidth": 0,
              "ticks": ""
             }
            },
            "type": "histogram"
           }
          ],
          "histogram2d": [
           {
            "colorbar": {
             "outlinewidth": 0,
             "ticks": ""
            },
            "colorscale": [
             [
              0,
              "#0d0887"
             ],
             [
              0.1111111111111111,
              "#46039f"
             ],
             [
              0.2222222222222222,
              "#7201a8"
             ],
             [
              0.3333333333333333,
              "#9c179e"
             ],
             [
              0.4444444444444444,
              "#bd3786"
             ],
             [
              0.5555555555555556,
              "#d8576b"
             ],
             [
              0.6666666666666666,
              "#ed7953"
             ],
             [
              0.7777777777777778,
              "#fb9f3a"
             ],
             [
              0.8888888888888888,
              "#fdca26"
             ],
             [
              1,
              "#f0f921"
             ]
            ],
            "type": "histogram2d"
           }
          ],
          "histogram2dcontour": [
           {
            "colorbar": {
             "outlinewidth": 0,
             "ticks": ""
            },
            "colorscale": [
             [
              0,
              "#0d0887"
             ],
             [
              0.1111111111111111,
              "#46039f"
             ],
             [
              0.2222222222222222,
              "#7201a8"
             ],
             [
              0.3333333333333333,
              "#9c179e"
             ],
             [
              0.4444444444444444,
              "#bd3786"
             ],
             [
              0.5555555555555556,
              "#d8576b"
             ],
             [
              0.6666666666666666,
              "#ed7953"
             ],
             [
              0.7777777777777778,
              "#fb9f3a"
             ],
             [
              0.8888888888888888,
              "#fdca26"
             ],
             [
              1,
              "#f0f921"
             ]
            ],
            "type": "histogram2dcontour"
           }
          ],
          "mesh3d": [
           {
            "colorbar": {
             "outlinewidth": 0,
             "ticks": ""
            },
            "type": "mesh3d"
           }
          ],
          "parcoords": [
           {
            "line": {
             "colorbar": {
              "outlinewidth": 0,
              "ticks": ""
             }
            },
            "type": "parcoords"
           }
          ],
          "pie": [
           {
            "automargin": true,
            "type": "pie"
           }
          ],
          "scatter": [
           {
            "marker": {
             "colorbar": {
              "outlinewidth": 0,
              "ticks": ""
             }
            },
            "type": "scatter"
           }
          ],
          "scatter3d": [
           {
            "line": {
             "colorbar": {
              "outlinewidth": 0,
              "ticks": ""
             }
            },
            "marker": {
             "colorbar": {
              "outlinewidth": 0,
              "ticks": ""
             }
            },
            "type": "scatter3d"
           }
          ],
          "scattercarpet": [
           {
            "marker": {
             "colorbar": {
              "outlinewidth": 0,
              "ticks": ""
             }
            },
            "type": "scattercarpet"
           }
          ],
          "scattergeo": [
           {
            "marker": {
             "colorbar": {
              "outlinewidth": 0,
              "ticks": ""
             }
            },
            "type": "scattergeo"
           }
          ],
          "scattergl": [
           {
            "marker": {
             "colorbar": {
              "outlinewidth": 0,
              "ticks": ""
             }
            },
            "type": "scattergl"
           }
          ],
          "scattermapbox": [
           {
            "marker": {
             "colorbar": {
              "outlinewidth": 0,
              "ticks": ""
             }
            },
            "type": "scattermapbox"
           }
          ],
          "scatterpolar": [
           {
            "marker": {
             "colorbar": {
              "outlinewidth": 0,
              "ticks": ""
             }
            },
            "type": "scatterpolar"
           }
          ],
          "scatterpolargl": [
           {
            "marker": {
             "colorbar": {
              "outlinewidth": 0,
              "ticks": ""
             }
            },
            "type": "scatterpolargl"
           }
          ],
          "scatterternary": [
           {
            "marker": {
             "colorbar": {
              "outlinewidth": 0,
              "ticks": ""
             }
            },
            "type": "scatterternary"
           }
          ],
          "surface": [
           {
            "colorbar": {
             "outlinewidth": 0,
             "ticks": ""
            },
            "colorscale": [
             [
              0,
              "#0d0887"
             ],
             [
              0.1111111111111111,
              "#46039f"
             ],
             [
              0.2222222222222222,
              "#7201a8"
             ],
             [
              0.3333333333333333,
              "#9c179e"
             ],
             [
              0.4444444444444444,
              "#bd3786"
             ],
             [
              0.5555555555555556,
              "#d8576b"
             ],
             [
              0.6666666666666666,
              "#ed7953"
             ],
             [
              0.7777777777777778,
              "#fb9f3a"
             ],
             [
              0.8888888888888888,
              "#fdca26"
             ],
             [
              1,
              "#f0f921"
             ]
            ],
            "type": "surface"
           }
          ],
          "table": [
           {
            "cells": {
             "fill": {
              "color": "#EBF0F8"
             },
             "line": {
              "color": "white"
             }
            },
            "header": {
             "fill": {
              "color": "#C8D4E3"
             },
             "line": {
              "color": "white"
             }
            },
            "type": "table"
           }
          ]
         },
         "layout": {
          "annotationdefaults": {
           "arrowcolor": "#2a3f5f",
           "arrowhead": 0,
           "arrowwidth": 1
          },
          "autotypenumbers": "strict",
          "coloraxis": {
           "colorbar": {
            "outlinewidth": 0,
            "ticks": ""
           }
          },
          "colorscale": {
           "diverging": [
            [
             0,
             "#8e0152"
            ],
            [
             0.1,
             "#c51b7d"
            ],
            [
             0.2,
             "#de77ae"
            ],
            [
             0.3,
             "#f1b6da"
            ],
            [
             0.4,
             "#fde0ef"
            ],
            [
             0.5,
             "#f7f7f7"
            ],
            [
             0.6,
             "#e6f5d0"
            ],
            [
             0.7,
             "#b8e186"
            ],
            [
             0.8,
             "#7fbc41"
            ],
            [
             0.9,
             "#4d9221"
            ],
            [
             1,
             "#276419"
            ]
           ],
           "sequential": [
            [
             0,
             "#0d0887"
            ],
            [
             0.1111111111111111,
             "#46039f"
            ],
            [
             0.2222222222222222,
             "#7201a8"
            ],
            [
             0.3333333333333333,
             "#9c179e"
            ],
            [
             0.4444444444444444,
             "#bd3786"
            ],
            [
             0.5555555555555556,
             "#d8576b"
            ],
            [
             0.6666666666666666,
             "#ed7953"
            ],
            [
             0.7777777777777778,
             "#fb9f3a"
            ],
            [
             0.8888888888888888,
             "#fdca26"
            ],
            [
             1,
             "#f0f921"
            ]
           ],
           "sequentialminus": [
            [
             0,
             "#0d0887"
            ],
            [
             0.1111111111111111,
             "#46039f"
            ],
            [
             0.2222222222222222,
             "#7201a8"
            ],
            [
             0.3333333333333333,
             "#9c179e"
            ],
            [
             0.4444444444444444,
             "#bd3786"
            ],
            [
             0.5555555555555556,
             "#d8576b"
            ],
            [
             0.6666666666666666,
             "#ed7953"
            ],
            [
             0.7777777777777778,
             "#fb9f3a"
            ],
            [
             0.8888888888888888,
             "#fdca26"
            ],
            [
             1,
             "#f0f921"
            ]
           ]
          },
          "colorway": [
           "#636efa",
           "#EF553B",
           "#00cc96",
           "#ab63fa",
           "#FFA15A",
           "#19d3f3",
           "#FF6692",
           "#B6E880",
           "#FF97FF",
           "#FECB52"
          ],
          "font": {
           "color": "#2a3f5f"
          },
          "geo": {
           "bgcolor": "white",
           "lakecolor": "white",
           "landcolor": "#E5ECF6",
           "showlakes": true,
           "showland": true,
           "subunitcolor": "white"
          },
          "hoverlabel": {
           "align": "left"
          },
          "hovermode": "closest",
          "mapbox": {
           "style": "light"
          },
          "paper_bgcolor": "white",
          "plot_bgcolor": "#E5ECF6",
          "polar": {
           "angularaxis": {
            "gridcolor": "white",
            "linecolor": "white",
            "ticks": ""
           },
           "bgcolor": "#E5ECF6",
           "radialaxis": {
            "gridcolor": "white",
            "linecolor": "white",
            "ticks": ""
           }
          },
          "scene": {
           "xaxis": {
            "backgroundcolor": "#E5ECF6",
            "gridcolor": "white",
            "gridwidth": 2,
            "linecolor": "white",
            "showbackground": true,
            "ticks": "",
            "zerolinecolor": "white"
           },
           "yaxis": {
            "backgroundcolor": "#E5ECF6",
            "gridcolor": "white",
            "gridwidth": 2,
            "linecolor": "white",
            "showbackground": true,
            "ticks": "",
            "zerolinecolor": "white"
           },
           "zaxis": {
            "backgroundcolor": "#E5ECF6",
            "gridcolor": "white",
            "gridwidth": 2,
            "linecolor": "white",
            "showbackground": true,
            "ticks": "",
            "zerolinecolor": "white"
           }
          },
          "shapedefaults": {
           "line": {
            "color": "#2a3f5f"
           }
          },
          "ternary": {
           "aaxis": {
            "gridcolor": "white",
            "linecolor": "white",
            "ticks": ""
           },
           "baxis": {
            "gridcolor": "white",
            "linecolor": "white",
            "ticks": ""
           },
           "bgcolor": "#E5ECF6",
           "caxis": {
            "gridcolor": "white",
            "linecolor": "white",
            "ticks": ""
           }
          },
          "title": {
           "x": 0.05
          },
          "xaxis": {
           "automargin": true,
           "gridcolor": "white",
           "linecolor": "white",
           "ticks": "",
           "title": {
            "standoff": 15
           },
           "zerolinecolor": "white",
           "zerolinewidth": 2
          },
          "yaxis": {
           "automargin": true,
           "gridcolor": "white",
           "linecolor": "white",
           "ticks": "",
           "title": {
            "standoff": 15
           },
           "zerolinecolor": "white",
           "zerolinewidth": 2
          }
         }
        }
       }
      },
      "text/html": [
       "<div>                            <div id=\"96dddffe-6af2-4f18-b425-7a2685916e4f\" class=\"plotly-graph-div\" style=\"height:525px; width:100%;\"></div>            <script type=\"text/javascript\">                require([\"plotly\"], function(Plotly) {                    window.PLOTLYENV=window.PLOTLYENV || {};                                    if (document.getElementById(\"96dddffe-6af2-4f18-b425-7a2685916e4f\")) {                    Plotly.newPlot(                        \"96dddffe-6af2-4f18-b425-7a2685916e4f\",                        [{\"type\": \"surface\", \"z\": [[2.0, 2.2758620689655173, 2.5517241379310347, 2.8275862068965516, 3.103448275862069, 3.3793103448275863, 3.655172413793103, 3.9310344827586206, 4.206896551724138, 4.482758620689655, 4.758620689655173, 5.0344827586206895, 5.310344827586206, 5.586206896551724, 5.862068965517241, 6.137931034482759, 6.413793103448276, 6.689655172413793, 6.9655172413793105, 7.241379310344827, 7.517241379310345, 7.793103448275862, 8.068965517241379, 8.344827586206897, 8.620689655172413, 8.89655172413793, 9.172413793103448, 9.448275862068964, 9.724137931034482, 10.0], [1.4768133174791926, 1.7336504161712258, 1.9904875148632595, 2.2473246135552922, 2.504161712247326, 2.760998810939359, 3.0178359096313923, 3.2746730083234254, 3.5315101070154586, 3.7883472057074923, 4.045184304399526, 4.302021403091558, 4.558858501783592, 4.8156956004756255, 5.072532699167659, 5.329369797859692, 5.586206896551725, 5.843043995243758, 6.099881093935792, 6.356718192627825, 6.613555291319859, 6.870392390011892, 7.127229488703925, 7.384066587395958, 7.6409036860879915, 7.897740784780025, 8.154577883472058, 8.411414982164091, 8.668252080856124, 8.925089179548158], [1.0107015457788346, 1.2485136741973841, 1.4863258026159336, 1.7241379310344827, 1.9619500594530321, 2.199762187871581, 2.43757431629013, 2.67538644470868, 2.913198573127229, 3.1510107015457787, 3.388822829964328, 3.626634958382877, 3.8644470868014267, 4.102259215219976, 4.340071343638525, 4.577883472057075, 4.815695600475624, 5.053507728894173, 5.291319857312723, 5.529131985731272, 5.766944114149822, 6.004756242568371, 6.24256837098692, 6.48038049940547, 6.718192627824019, 6.956004756242567, 7.193816884661118, 7.431629013079666, 7.669441141498215, 7.907253269916765], [0.6016646848989304, 0.8204518430439958, 1.0392390011890615, 1.2580261593341264, 1.4768133174791922, 1.6956004756242575, 1.9143876337693226, 2.133174791914388, 2.3519619500594535, 2.5707491082045193, 2.7895362663495846, 3.00832342449465, 3.2271105826397153, 3.4458977407847806, 3.664684898929846, 3.8834720570749117, 4.102259215219977, 4.321046373365042, 4.539833531510108, 4.758620689655173, 4.977407847800238, 5.196195005945304, 5.414982164090369, 5.633769322235435, 5.8525564803805, 6.0713436385255655, 6.290130796670631, 6.508917954815696, 6.727705112960761, 6.946492271105827], [0.24970273483947736, 0.449464922711059, 0.6492271105826406, 0.8489892984542218, 1.048751486325803, 1.2485136741973848, 1.448275862068966, 1.6480380499405474, 1.847800237812129, 2.0475624256837106, 2.247324613555292, 2.447086801426873, 2.6468489892984546, 2.846611177170036, 3.0463733650416174, 3.2461355529131994, 3.4458977407847806, 3.645659928656362, 3.845422116527944, 4.045184304399525, 4.244946492271106, 4.444708680142687, 4.644470868014269, 4.844233055885851, 5.043995243757432, 5.243757431629014, 5.443519619500595, 5.643281807372176, 5.843043995243757, 6.0428061831153395], [-0.04518430439952503, 0.13555291319857243, 0.3162901307966699, 0.49702734839476737, 0.677764565992865, 0.8585017835909625, 1.0392390011890598, 1.2199762187871575, 1.400713436385255, 1.5814506539833526, 1.76218787158145, 1.9429250891795473, 2.123662306777645, 2.3043995243757425, 2.48513674197384, 2.6658739595719374, 2.846611177170035, 3.0273483947681323, 3.2080856123662302, 3.3888228299643273, 3.569560047562425, 3.7502972651605226, 3.9310344827586197, 4.111771700356718, 4.292508917954815, 4.4732461355529125, 4.65398335315101, 4.834720570749107, 5.015457788347204, 5.196195005945302], [-0.2829964328180732, -0.12128418549345943, 0.04042806183115388, 0.20214030915576742, 0.3638525564803812, 0.5255648038049947, 0.687277051129608, 0.8489892984542218, 1.0107015457788353, 1.172413793103449, 1.3341260404280626, 1.495838287752676, 1.6575505350772897, 1.8192627824019032, 1.9809750297265167, 2.1426872770511305, 2.304399524375744, 2.4661117717003576, 2.6278240190249713, 2.7895362663495846, 2.9512485136741984, 3.1129607609988117, 3.2746730083234254, 3.436385255648039, 3.5980975029726525, 3.759809750297266, 3.9215219976218796, 4.083234244946493, 4.244946492271106, 4.40665873959572], [-0.4637336504161711, -0.3210463733650415, -0.17835909631391167, -0.03567181926278229, 0.10701545778834731, 0.24970273483947714, 0.3923900118906065, 0.5350772889417361, 0.6777645659928658, 0.8204518430439955, 0.9631391200951251, 1.1058263971462545, 1.2485136741973843, 1.391200951248514, 1.5338882282996433, 1.6765755053507734, 1.8192627824019028, 1.9619500594530321, 2.104637336504162, 2.247324613555292, 2.3900118906064214, 2.532699167657551, 2.67538644470868, 2.81807372175981, 2.9607609988109393, 3.1034482758620694, 3.246135552913199, 3.3888228299643286, 3.5315101070154578, 3.674197384066588], [-0.5873959571938165, -0.4637336504161709, -0.3400713436385252, -0.21640903686087953, -0.09274673008323386, 0.030915576694411806, 0.15457788347205725, 0.27824019024970303, 0.4019024970273487, 0.5255648038049945, 0.6492271105826402, 0.7728894173602856, 0.8965517241379314, 1.0202140309155772, 1.1438763376932226, 1.2675386444708685, 1.391200951248514, 1.5148632580261596, 1.6385255648038055, 1.762187871581451, 1.8858501783590969, 2.0095124851367423, 2.1331747919143877, 2.256837098692034, 2.3804994054696795, 2.504161712247325, 2.6278240190249704, 2.7514863258026163, 2.8751486325802618, 2.9988109393579077], [-0.6539833531510106, -0.5493460166468489, -0.44470868014268716, -0.34007134363852565, -0.2354340071343639, -0.13079667063020206, -0.026159334126040434, 0.0784780023781213, 0.18311533888228304, 0.2877526753864448, 0.3923900118906065, 0.4970273483947681, 0.6016646848989298, 0.7063020214030915, 0.8109393579072531, 0.9155766944114151, 1.0202140309155767, 1.1248513674197382, 1.2294887039239002, 1.3341260404280617, 1.4387633769322237, 1.5434007134363852, 1.648038049940547, 1.7526753864447087, 1.8573127229488704, 1.961950059453032, 2.066587395957194, 2.171224732461355, 2.275862068965517, 2.3804994054696786], [-0.6634958382877527, -0.5778834720570749, -0.4922711058263971, -0.4066587395957195, -0.3210463733650417, -0.2354340071343639, -0.14982164090368633, -0.06420927467300852, 0.021403091557669285, 0.10701545778834709, 0.19262782401902484, 0.27824019024970253, 0.3638525564803803, 0.4494649227110581, 0.5350772889417357, 0.6206896551724137, 0.7063020214030913, 0.791914387633769, 0.8775267538644469, 0.9631391200951245, 1.0487514863258025, 1.13436385255648, 1.2199762187871577, 1.3055885850178357, 1.3912009512485133, 1.4768133174791909, 1.562425683709869, 1.6480380499405465, 1.733650416171224, 1.819262782401902], [-0.6159334126040429, -0.549346016646849, -0.48275862068965514, -0.4161712247324615, -0.3495838287752676, -0.28299643281807374, -0.21640903686087998, -0.1498216409036861, -0.08323424494649229, -0.016646848989298413, 0.04994054696789546, 0.11652794292508917, 0.18311533888228304, 0.2497027348394769, 0.3162901307966706, 0.3828775267538646, 0.4494649227110583, 0.5160523186682521, 0.5826397146254461, 0.6492271105826397, 0.7158145065398338, 0.7824019024970275, 0.8489892984542212, 0.9155766944114152, 0.982164090368609, 1.0487514863258027, 1.1153388822829968, 1.1819262782401903, 1.2485136741973841, 1.315101070154578], [-0.511296076099881, -0.46373365041617115, -0.4161712247324613, -0.3686087990487515, -0.3210463733650416, -0.2734839476813317, -0.2259215219976219, -0.178359096313912, -0.13079667063020212, -0.08323424494649223, -0.035671819262782345, 0.011890606420927485, 0.05945303210463737, 0.10701545778834726, 0.1545778834720571, 0.20214030915576703, 0.24970273483947686, 0.2972651605231867, 0.34482758620689663, 0.39239001189060646, 0.4399524375743164, 0.48751486325802623, 0.5350772889417361, 0.5826397146254461, 0.6302021403091558, 0.6777645659928657, 0.7253269916765757, 0.7728894173602854, 0.8204518430439953, 0.8680142687277053], [-0.3495838287752675, -0.32104637336504155, -0.29250891795481565, -0.26397146254458975, -0.23543400713436385, -0.2068965517241379, -0.17835909631391203, -0.1498216409036861, -0.12128418549346018, -0.09274673008323425, -0.0642092746730083, -0.03567181926278243, -0.007134363852556502, 0.02140309155766943, 0.04994054696789531, 0.07847800237812129, 0.10701545778834717, 0.13555291319857304, 0.16409036860879903, 0.1926278240190249, 0.22116527942925088, 0.24970273483947678, 0.27824019024970265, 0.3067776456599286, 0.3353151010701545, 0.3638525564803804, 0.39239001189060635, 0.42092746730083225, 0.44946492271105815, 0.4780023781212841], [-0.1307966706302024, -0.1212841854934604, -0.1117717003567184, -0.10225921521997643, -0.09274673008323442, -0.08323424494649242, -0.07372175980975045, -0.06420927467300845, -0.054696789536266444, -0.04518430439952445, -0.03567181926278245, -0.02615933412604047, -0.016646848989298475, -0.00713436385255648, 0.002378121284185502, 0.011890606420927513, 0.021403091557669493, 0.030915576694411473, 0.04042806183115349, 0.04994054696789547, 0.05945303210463748, 0.06896551724137946, 0.07847800237812144, 0.08799048751486345, 0.09750297265160543, 0.10701545778834741, 0.11652794292508943, 0.1260404280618314, 0.13555291319857338, 0.1450653983353154], [0.1450653983353154, 0.1355529131985734, 0.1260404280618314, 0.11652794292508943, 0.10701545778834742, 0.09750297265160543, 0.08799048751486345, 0.07847800237812146, 0.06896551724137946, 0.05945303210463747, 0.04994054696789547, 0.04042806183115349, 0.030915576694411494, 0.021403091557669493, 0.011890606420927513, 0.002378121284185502, -0.00713436385255648, -0.01664684898929846, -0.02615933412604047, -0.03567181926278245, -0.045184304399524464, -0.054696789536266444, -0.06420927467300844, -0.07372175980975045, -0.08323424494649242, -0.0927467300832344, -0.10225921521997643, -0.1117717003567184, -0.12128418549346037, -0.1307966706302024], [0.4780023781212841, 0.44946492271105815, 0.42092746730083225, 0.39239001189060635, 0.36385255648038045, 0.3353151010701545, 0.3067776456599286, 0.2782401902497027, 0.24970273483947678, 0.22116527942925085, 0.1926278240190249, 0.16409036860879903, 0.1355529131985731, 0.10701545778834717, 0.07847800237812129, 0.04994054696789531, 0.02140309155766943, -0.007134363852556447, -0.03567181926278243, -0.0642092746730083, -0.09274673008323428, -0.12128418549346018, -0.14982164090368605, -0.17835909631391203, -0.2068965517241379, -0.2354340071343638, -0.26397146254458975, -0.29250891795481565, -0.32104637336504155, -0.3495838287752675], [0.8680142687277046, 0.8204518430439947, 0.7728894173602847, 0.725326991676575, 0.6777645659928652, 0.6302021403091553, 0.5826397146254456, 0.5350772889417357, 0.4875148632580258, 0.43995243757431596, 0.39239001189060607, 0.3448275862068963, 0.29726516052318647, 0.24970273483947658, 0.2021403091557668, 0.15457788347205687, 0.10701545778834709, 0.0594530321046373, 0.011890606420927374, -0.03567181926278243, -0.08323424494649234, -0.13079667063020212, -0.17835909631391195, -0.2259215219976219, -0.27348394768133166, -0.32104637336504144, -0.3686087990487514, -0.4161712247324611, -0.46373365041617093, -0.5112960760998808], [1.315101070154578, 1.2485136741973841, 1.1819262782401903, 1.1153388822829968, 1.048751486325803, 0.982164090368609, 0.9155766944114152, 0.8489892984542213, 0.7824019024970275, 0.7158145065398336, 0.6492271105826397, 0.5826397146254461, 0.5160523186682522, 0.4494649227110583, 0.3828775267538646, 0.3162901307966706, 0.2497027348394769, 0.18311533888228315, 0.11652794292508917, 0.04994054696789546, -0.016646848989298524, -0.08323424494649229, -0.149821640903686, -0.21640903686087998, -0.28299643281807374, -0.3495838287752675, -0.4161712247324615, -0.48275862068965514, -0.5493460166468489, -0.6159334126040429], [1.819262782401902, 1.7336504161712243, 1.6480380499405465, 1.562425683709869, 1.476813317479191, 1.3912009512485133, 1.3055885850178357, 1.219976218787158, 1.13436385255648, 1.0487514863258023, 0.9631391200951245, 0.8775267538644469, 0.7919143876337691, 0.7063020214030913, 0.6206896551724137, 0.5350772889417357, 0.4494649227110581, 0.3638525564803804, 0.27824019024970253, 0.19262782401902484, 0.10701545778834692, 0.021403091557669285, -0.06420927467300841, -0.14982164090368633, -0.2354340071343639, -0.3210463733650416, -0.4066587395957195, -0.4922711058263971, -0.5778834720570747, -0.6634958382877527], [2.3804994054696795, 2.275862068965518, 2.171224732461356, 2.0665873959571943, 1.9619500594530326, 1.8573127229488708, 1.7526753864447093, 1.6480380499405474, 1.5434007134363856, 1.438763376932224, 1.3341260404280622, 1.2294887039239006, 1.1248513674197387, 1.020214030915577, 0.9155766944114154, 0.8109393579072535, 0.7063020214030918, 0.6016646848989302, 0.4970273483947683, 0.3923900118906067, 0.2877526753864448, 0.18311533888228315, 0.07847800237812153, -0.026159334126040434, -0.13079667063020206, -0.23543400713436358, -0.34007134363852554, -0.4447086801426873, -0.5493460166468488, -0.6539833531510107], [2.9988109393579077, 2.875148632580262, 2.7514863258026163, 2.6278240190249704, 2.504161712247325, 2.3804994054696795, 2.256837098692034, 2.133174791914388, 2.0095124851367423, 1.8858501783590966, 1.762187871581451, 1.6385255648038055, 1.5148632580261596, 1.391200951248514, 1.2675386444708685, 1.1438763376932226, 1.0202140309155772, 0.8965517241379316, 0.7728894173602856, 0.6492271105826402, 0.5255648038049943, 0.4019024970273487, 0.27824019024970326, 0.15457788347205725, 0.030915576694411806, -0.09274673008323364, -0.21640903686087953, -0.3400713436385252, -0.46373365041617065, -0.5873959571938165], [3.6741973840665865, 3.531510107015457, 3.3888228299643273, 3.2461355529131977, 3.103448275862068, 2.9607609988109385, 2.8180737217598093, 2.6753864447086793, 2.5326991676575497, 2.39001189060642, 2.2473246135552905, 2.104637336504161, 1.9619500594530315, 1.8192627824019019, 1.6765755053507725, 1.5338882282996424, 1.391200951248513, 1.2485136741973837, 1.1058263971462539, 0.9631391200951244, 0.8204518430439945, 0.6777645659928652, 0.5350772889417357, 0.39239001189060585, 0.24970273483947647, 0.10701545778834709, -0.035671819262782734, -0.17835909631391234, -0.3210463733650417, -0.46373365041617154], [4.40665873959572, 4.244946492271106, 4.083234244946493, 3.9215219976218796, 3.759809750297266, 3.5980975029726525, 3.436385255648039, 3.2746730083234254, 3.1129607609988117, 2.951248513674198, 2.7895362663495846, 2.6278240190249713, 2.4661117717003576, 2.304399524375744, 2.1426872770511305, 1.9809750297265167, 1.8192627824019032, 1.6575505350772899, 1.495838287752676, 1.3341260404280626, 1.1724137931034488, 1.0107015457788353, 0.848989298454222, 0.687277051129608, 0.5255648038049947, 0.3638525564803814, 0.20214030915576742, 0.04042806183115388, -0.12128418549345943, -0.2829964328180732], [5.196195005945302, 5.015457788347205, 4.834720570749107, 4.65398335315101, 4.4732461355529125, 4.292508917954815, 4.111771700356718, 3.93103448275862, 3.7502972651605226, 3.5695600475624247, 3.3888228299643273, 3.2080856123662302, 3.0273483947681323, 2.846611177170035, 2.6658739595719374, 2.48513674197384, 2.3043995243757425, 2.123662306777645, 1.9429250891795473, 1.76218787158145, 1.5814506539833522, 1.400713436385255, 1.2199762187871577, 1.0392390011890598, 0.8585017835909625, 0.6777645659928653, 0.49702734839476737, 0.3162901307966699, 0.13555291319857288, -0.04518430439952503], [6.042806183115337, 5.843043995243756, 5.643281807372174, 5.443519619500593, 5.243757431629012, 5.04399524375743, 4.844233055885849, 4.644470868014268, 4.444708680142686, 4.244946492271104, 4.045184304399523, 3.8454221165279416, 3.64565992865636, 3.445897740784779, 3.2461355529131977, 3.0463733650416156, 2.8466111771700344, 2.6468489892984532, 2.4470868014268716, 2.2473246135552905, 2.047562425683709, 1.8478002378121274, 1.6480380499405463, 1.4482758620689644, 1.2485136741973832, 1.048751486325802, 0.84898929845422, 0.6492271105826388, 0.44946492271105765, 0.24970273483947603], [6.946492271105827, 6.727705112960762, 6.508917954815696, 6.290130796670631, 6.0713436385255655, 5.8525564803805, 5.633769322235435, 5.41498216409037, 5.196195005945304, 4.977407847800238, 4.758620689655173, 4.539833531510108, 4.321046373365043, 4.102259215219977, 3.8834720570749117, 3.664684898929846, 3.4458977407847806, 3.2271105826397157, 3.00832342449465, 2.7895362663495846, 2.570749108204519, 2.3519619500594535, 2.1331747919143886, 1.9143876337693226, 1.6956004756242575, 1.4768133174791922, 1.2580261593341264, 1.0392390011890615, 0.8204518430439962, 0.6016646848989304], [7.907253269916765, 7.669441141498216, 7.431629013079666, 7.193816884661118, 6.956004756242567, 6.718192627824019, 6.48038049940547, 6.24256837098692, 6.004756242568371, 5.766944114149821, 5.529131985731272, 5.291319857312723, 5.053507728894173, 4.815695600475624, 4.577883472057075, 4.340071343638525, 4.102259215219976, 3.864447086801427, 3.626634958382877, 3.388822829964328, 3.1510107015457782, 2.913198573127229, 2.67538644470868, 2.43757431629013, 2.199762187871581, 1.9619500594530321, 1.7241379310344827, 1.4863258026159336, 1.2485136741973846, 1.0107015457788346], [8.925089179548154, 8.66825208085612, 8.411414982164088, 8.154577883472054, 7.897740784780021, 7.640903686087988, 7.384066587395955, 7.127229488703922, 6.870392390011888, 6.613555291319854, 6.356718192627821, 6.099881093935788, 5.843043995243755, 5.5862068965517215, 5.329369797859688, 5.072532699167655, 4.815695600475622, 4.558858501783589, 4.302021403091556, 4.045184304399522, 3.7883472057074883, 3.5315101070154555, 3.274673008323423, 3.0178359096313887, 2.760998810939356, 2.5041617122473228, 2.247324613555289, 1.9904875148632564, 1.7336504161712232, 1.4768133174791895], [10.0, 9.724137931034482, 9.448275862068964, 9.172413793103448, 8.89655172413793, 8.620689655172413, 8.344827586206897, 8.068965517241379, 7.793103448275862, 7.517241379310345, 7.241379310344827, 6.9655172413793105, 6.689655172413794, 6.413793103448276, 6.137931034482759, 5.862068965517241, 5.586206896551724, 5.310344827586207, 5.0344827586206895, 4.758620689655173, 4.482758620689655, 4.206896551724138, 3.931034482758621, 3.655172413793103, 3.3793103448275863, 3.1034482758620694, 2.8275862068965516, 2.5517241379310347, 2.275862068965518, 2.0]]}],                        {\"scene\": {\"aspectratio\": {\"x\": 1, \"y\": 1, \"z\": 1}}, \"template\": {\"data\": {\"bar\": [{\"error_x\": {\"color\": \"#2a3f5f\"}, \"error_y\": {\"color\": \"#2a3f5f\"}, \"marker\": {\"line\": {\"color\": \"#E5ECF6\", \"width\": 0.5}}, \"type\": \"bar\"}], \"barpolar\": [{\"marker\": {\"line\": {\"color\": \"#E5ECF6\", \"width\": 0.5}}, \"type\": \"barpolar\"}], \"carpet\": [{\"aaxis\": {\"endlinecolor\": \"#2a3f5f\", \"gridcolor\": \"white\", \"linecolor\": \"white\", \"minorgridcolor\": \"white\", \"startlinecolor\": \"#2a3f5f\"}, \"baxis\": {\"endlinecolor\": \"#2a3f5f\", \"gridcolor\": \"white\", \"linecolor\": \"white\", \"minorgridcolor\": \"white\", \"startlinecolor\": \"#2a3f5f\"}, \"type\": \"carpet\"}], \"choropleth\": [{\"colorbar\": {\"outlinewidth\": 0, \"ticks\": \"\"}, \"type\": \"choropleth\"}], \"contour\": [{\"colorbar\": {\"outlinewidth\": 0, \"ticks\": \"\"}, \"colorscale\": [[0.0, \"#0d0887\"], [0.1111111111111111, \"#46039f\"], [0.2222222222222222, \"#7201a8\"], [0.3333333333333333, \"#9c179e\"], [0.4444444444444444, \"#bd3786\"], [0.5555555555555556, \"#d8576b\"], [0.6666666666666666, \"#ed7953\"], [0.7777777777777778, \"#fb9f3a\"], [0.8888888888888888, \"#fdca26\"], [1.0, \"#f0f921\"]], \"type\": \"contour\"}], \"contourcarpet\": [{\"colorbar\": {\"outlinewidth\": 0, \"ticks\": \"\"}, \"type\": \"contourcarpet\"}], \"heatmap\": [{\"colorbar\": {\"outlinewidth\": 0, \"ticks\": \"\"}, \"colorscale\": [[0.0, \"#0d0887\"], [0.1111111111111111, \"#46039f\"], [0.2222222222222222, \"#7201a8\"], [0.3333333333333333, \"#9c179e\"], [0.4444444444444444, \"#bd3786\"], [0.5555555555555556, \"#d8576b\"], [0.6666666666666666, \"#ed7953\"], [0.7777777777777778, \"#fb9f3a\"], [0.8888888888888888, \"#fdca26\"], [1.0, \"#f0f921\"]], \"type\": \"heatmap\"}], \"heatmapgl\": [{\"colorbar\": {\"outlinewidth\": 0, \"ticks\": \"\"}, \"colorscale\": [[0.0, \"#0d0887\"], [0.1111111111111111, \"#46039f\"], [0.2222222222222222, \"#7201a8\"], [0.3333333333333333, \"#9c179e\"], [0.4444444444444444, \"#bd3786\"], [0.5555555555555556, \"#d8576b\"], [0.6666666666666666, \"#ed7953\"], [0.7777777777777778, \"#fb9f3a\"], [0.8888888888888888, \"#fdca26\"], [1.0, \"#f0f921\"]], \"type\": \"heatmapgl\"}], \"histogram\": [{\"marker\": {\"colorbar\": {\"outlinewidth\": 0, \"ticks\": \"\"}}, \"type\": \"histogram\"}], \"histogram2d\": [{\"colorbar\": {\"outlinewidth\": 0, \"ticks\": \"\"}, \"colorscale\": [[0.0, \"#0d0887\"], [0.1111111111111111, \"#46039f\"], [0.2222222222222222, \"#7201a8\"], [0.3333333333333333, \"#9c179e\"], [0.4444444444444444, \"#bd3786\"], [0.5555555555555556, \"#d8576b\"], [0.6666666666666666, \"#ed7953\"], [0.7777777777777778, \"#fb9f3a\"], [0.8888888888888888, \"#fdca26\"], [1.0, \"#f0f921\"]], \"type\": \"histogram2d\"}], \"histogram2dcontour\": [{\"colorbar\": {\"outlinewidth\": 0, \"ticks\": \"\"}, \"colorscale\": [[0.0, \"#0d0887\"], [0.1111111111111111, \"#46039f\"], [0.2222222222222222, \"#7201a8\"], [0.3333333333333333, \"#9c179e\"], [0.4444444444444444, \"#bd3786\"], [0.5555555555555556, \"#d8576b\"], [0.6666666666666666, \"#ed7953\"], [0.7777777777777778, \"#fb9f3a\"], [0.8888888888888888, \"#fdca26\"], [1.0, \"#f0f921\"]], \"type\": \"histogram2dcontour\"}], \"mesh3d\": [{\"colorbar\": {\"outlinewidth\": 0, \"ticks\": \"\"}, \"type\": \"mesh3d\"}], \"parcoords\": [{\"line\": {\"colorbar\": {\"outlinewidth\": 0, \"ticks\": \"\"}}, \"type\": \"parcoords\"}], \"pie\": [{\"automargin\": true, \"type\": \"pie\"}], \"scatter\": [{\"marker\": {\"colorbar\": {\"outlinewidth\": 0, \"ticks\": \"\"}}, \"type\": \"scatter\"}], \"scatter3d\": [{\"line\": {\"colorbar\": {\"outlinewidth\": 0, \"ticks\": \"\"}}, \"marker\": {\"colorbar\": {\"outlinewidth\": 0, \"ticks\": \"\"}}, \"type\": \"scatter3d\"}], \"scattercarpet\": [{\"marker\": {\"colorbar\": {\"outlinewidth\": 0, \"ticks\": \"\"}}, \"type\": \"scattercarpet\"}], \"scattergeo\": [{\"marker\": {\"colorbar\": {\"outlinewidth\": 0, \"ticks\": \"\"}}, \"type\": \"scattergeo\"}], \"scattergl\": [{\"marker\": {\"colorbar\": {\"outlinewidth\": 0, \"ticks\": \"\"}}, \"type\": \"scattergl\"}], \"scattermapbox\": [{\"marker\": {\"colorbar\": {\"outlinewidth\": 0, \"ticks\": \"\"}}, \"type\": \"scattermapbox\"}], \"scatterpolar\": [{\"marker\": {\"colorbar\": {\"outlinewidth\": 0, \"ticks\": \"\"}}, \"type\": \"scatterpolar\"}], \"scatterpolargl\": [{\"marker\": {\"colorbar\": {\"outlinewidth\": 0, \"ticks\": \"\"}}, \"type\": \"scatterpolargl\"}], \"scatterternary\": [{\"marker\": {\"colorbar\": {\"outlinewidth\": 0, \"ticks\": \"\"}}, \"type\": \"scatterternary\"}], \"surface\": [{\"colorbar\": {\"outlinewidth\": 0, \"ticks\": \"\"}, \"colorscale\": [[0.0, \"#0d0887\"], [0.1111111111111111, \"#46039f\"], [0.2222222222222222, \"#7201a8\"], [0.3333333333333333, \"#9c179e\"], [0.4444444444444444, \"#bd3786\"], [0.5555555555555556, \"#d8576b\"], [0.6666666666666666, \"#ed7953\"], [0.7777777777777778, \"#fb9f3a\"], [0.8888888888888888, \"#fdca26\"], [1.0, \"#f0f921\"]], \"type\": \"surface\"}], \"table\": [{\"cells\": {\"fill\": {\"color\": \"#EBF0F8\"}, \"line\": {\"color\": \"white\"}}, \"header\": {\"fill\": {\"color\": \"#C8D4E3\"}, \"line\": {\"color\": \"white\"}}, \"type\": \"table\"}]}, \"layout\": {\"annotationdefaults\": {\"arrowcolor\": \"#2a3f5f\", \"arrowhead\": 0, \"arrowwidth\": 1}, \"autotypenumbers\": \"strict\", \"coloraxis\": {\"colorbar\": {\"outlinewidth\": 0, \"ticks\": \"\"}}, \"colorscale\": {\"diverging\": [[0, \"#8e0152\"], [0.1, \"#c51b7d\"], [0.2, \"#de77ae\"], [0.3, \"#f1b6da\"], [0.4, \"#fde0ef\"], [0.5, \"#f7f7f7\"], [0.6, \"#e6f5d0\"], [0.7, \"#b8e186\"], [0.8, \"#7fbc41\"], [0.9, \"#4d9221\"], [1, \"#276419\"]], \"sequential\": [[0.0, \"#0d0887\"], [0.1111111111111111, \"#46039f\"], [0.2222222222222222, \"#7201a8\"], [0.3333333333333333, \"#9c179e\"], [0.4444444444444444, \"#bd3786\"], [0.5555555555555556, \"#d8576b\"], [0.6666666666666666, \"#ed7953\"], [0.7777777777777778, \"#fb9f3a\"], [0.8888888888888888, \"#fdca26\"], [1.0, \"#f0f921\"]], \"sequentialminus\": [[0.0, \"#0d0887\"], [0.1111111111111111, \"#46039f\"], [0.2222222222222222, \"#7201a8\"], [0.3333333333333333, \"#9c179e\"], [0.4444444444444444, \"#bd3786\"], [0.5555555555555556, \"#d8576b\"], [0.6666666666666666, \"#ed7953\"], [0.7777777777777778, \"#fb9f3a\"], [0.8888888888888888, \"#fdca26\"], [1.0, \"#f0f921\"]]}, \"colorway\": [\"#636efa\", \"#EF553B\", \"#00cc96\", \"#ab63fa\", \"#FFA15A\", \"#19d3f3\", \"#FF6692\", \"#B6E880\", \"#FF97FF\", \"#FECB52\"], \"font\": {\"color\": \"#2a3f5f\"}, \"geo\": {\"bgcolor\": \"white\", \"lakecolor\": \"white\", \"landcolor\": \"#E5ECF6\", \"showlakes\": true, \"showland\": true, \"subunitcolor\": \"white\"}, \"hoverlabel\": {\"align\": \"left\"}, \"hovermode\": \"closest\", \"mapbox\": {\"style\": \"light\"}, \"paper_bgcolor\": \"white\", \"plot_bgcolor\": \"#E5ECF6\", \"polar\": {\"angularaxis\": {\"gridcolor\": \"white\", \"linecolor\": \"white\", \"ticks\": \"\"}, \"bgcolor\": \"#E5ECF6\", \"radialaxis\": {\"gridcolor\": \"white\", \"linecolor\": \"white\", \"ticks\": \"\"}}, \"scene\": {\"xaxis\": {\"backgroundcolor\": \"#E5ECF6\", \"gridcolor\": \"white\", \"gridwidth\": 2, \"linecolor\": \"white\", \"showbackground\": true, \"ticks\": \"\", \"zerolinecolor\": \"white\"}, \"yaxis\": {\"backgroundcolor\": \"#E5ECF6\", \"gridcolor\": \"white\", \"gridwidth\": 2, \"linecolor\": \"white\", \"showbackground\": true, \"ticks\": \"\", \"zerolinecolor\": \"white\"}, \"zaxis\": {\"backgroundcolor\": \"#E5ECF6\", \"gridcolor\": \"white\", \"gridwidth\": 2, \"linecolor\": \"white\", \"showbackground\": true, \"ticks\": \"\", \"zerolinecolor\": \"white\"}}, \"shapedefaults\": {\"line\": {\"color\": \"#2a3f5f\"}}, \"ternary\": {\"aaxis\": {\"gridcolor\": \"white\", \"linecolor\": \"white\", \"ticks\": \"\"}, \"baxis\": {\"gridcolor\": \"white\", \"linecolor\": \"white\", \"ticks\": \"\"}, \"bgcolor\": \"#E5ECF6\", \"caxis\": {\"gridcolor\": \"white\", \"linecolor\": \"white\", \"ticks\": \"\"}}, \"title\": {\"x\": 0.05}, \"xaxis\": {\"automargin\": true, \"gridcolor\": \"white\", \"linecolor\": \"white\", \"ticks\": \"\", \"title\": {\"standoff\": 15}, \"zerolinecolor\": \"white\", \"zerolinewidth\": 2}, \"yaxis\": {\"automargin\": true, \"gridcolor\": \"white\", \"linecolor\": \"white\", \"ticks\": \"\", \"title\": {\"standoff\": 15}, \"zerolinecolor\": \"white\", \"zerolinewidth\": 2}}}},                        {\"responsive\": true}                    ).then(function(){\n",
       "                            \n",
       "var gd = document.getElementById('96dddffe-6af2-4f18-b425-7a2685916e4f');\n",
       "var x = new MutationObserver(function (mutations, observer) {{\n",
       "        var display = window.getComputedStyle(gd).display;\n",
       "        if (!display || display === 'none') {{\n",
       "            console.log([gd, 'removed!']);\n",
       "            Plotly.purge(gd);\n",
       "            observer.disconnect();\n",
       "        }}\n",
       "}});\n",
       "\n",
       "// Listen for the removal of the full notebook cells\n",
       "var notebookContainer = gd.closest('#notebook-container');\n",
       "if (notebookContainer) {{\n",
       "    x.observe(notebookContainer, {childList: true});\n",
       "}}\n",
       "\n",
       "// Listen for the clearing of the current output cell\n",
       "var outputEl = gd.closest('.output');\n",
       "if (outputEl) {{\n",
       "    x.observe(outputEl, {childList: true});\n",
       "}}\n",
       "\n",
       "                        })                };                });            </script>        </div>"
      ]
     },
     "metadata": {},
     "output_type": "display_data"
    }
   ],
   "source": [
    "fig = go.Figure(data=[go.Surface(z=Z2)])\n",
    "fig.update_layout( scene = {\n",
    "            #\"xaxis\": {\"nticks\": 20},\n",
    "            #\"zaxis\": {\"nticks\": 10},\n",
    "         #   'camera_eye': {\"x\": 0, \"y\": -1, \"z\": 0.5},\n",
    "            \"aspectratio\": {\"x\": 1, \"y\": 1, \"z\": 1}\n",
    "        }) #,width=500, height=400) #title='Mt Bruno Elevation', autosize=True,\n",
    "                  #width=500, height=400,\n",
    "                  #margin=dict(l=65, r=50, b=65, t=90))\n",
    "\n",
    "fig.show()"
   ]
  },
  {
   "cell_type": "code",
   "execution_count": 138,
   "metadata": {},
   "outputs": [],
   "source": [
    "from cvxopt import matrix, solvers"
   ]
  },
  {
   "cell_type": "code",
   "execution_count": 137,
   "metadata": {},
   "outputs": [
    {
     "name": "stdout",
     "output_type": "stream",
     "text": [
      "\u001b[33mDEPRECATION: Configuring installation scheme with distutils config files is deprecated and will no longer work in the near future. If you are using a Homebrew or Linuxbrew Python, please see discussion at https://github.com/Homebrew/homebrew-core/issues/76621\u001b[0m\n",
      "Collecting cvxopt\n",
      "  Downloading cvxopt-1.2.6-cp39-cp39-macosx_10_9_x86_64.whl (3.1 MB)\n",
      "\u001b[K     |████████████████████████████████| 3.1 MB 2.4 MB/s eta 0:00:01\n",
      "\u001b[?25hInstalling collected packages: cvxopt\n",
      "\u001b[33mDEPRECATION: Configuring installation scheme with distutils config files is deprecated and will no longer work in the near future. If you are using a Homebrew or Linuxbrew Python, please see discussion at https://github.com/Homebrew/homebrew-core/issues/76621\u001b[0m\n",
      "Successfully installed cvxopt-1.2.6\n"
     ]
    }
   ],
   "source": [
    "!pip3 install cvxopt"
   ]
  },
  {
   "cell_type": "code",
   "execution_count": 139,
   "metadata": {},
   "outputs": [],
   "source": [
    "import cvxpy as cp"
   ]
  },
  {
   "cell_type": "code",
   "execution_count": 148,
   "metadata": {},
   "outputs": [],
   "source": [
    "x=cp.Variable(2)\n",
    "h=np.ones(4)\n",
    "G=np.array([[1,0],[0,1],[-1,0],[0,-1]])\n",
    "P=np.array([[0.5,-0.25*0.001],[-0.25*0.001,0]])\n",
    "prob=cp.Problem(cp.Minimize(cp.quad_form(x,P)),[G@x<=h])"
   ]
  },
  {
   "cell_type": "code",
   "execution_count": 149,
   "metadata": {},
   "outputs": [
    {
     "ename": "DCPError",
     "evalue": "Problem does not follow DCP rules. Specifically:\nThe objective is not DCP, even though each sub-expression is.\nYou are trying to minimize a function that is concave.",
     "output_type": "error",
     "traceback": [
      "\u001b[0;31m---------------------------------------------------------------------------\u001b[0m",
      "\u001b[0;31mDCPError\u001b[0m                                  Traceback (most recent call last)",
      "\u001b[0;32m<ipython-input-149-613465fcbb4d>\u001b[0m in \u001b[0;36m<module>\u001b[0;34m\u001b[0m\n\u001b[0;32m----> 1\u001b[0;31m \u001b[0mprob\u001b[0m\u001b[0;34m.\u001b[0m\u001b[0msolve\u001b[0m\u001b[0;34m(\u001b[0m\u001b[0;34m)\u001b[0m\u001b[0;34m\u001b[0m\u001b[0;34m\u001b[0m\u001b[0m\n\u001b[0m",
      "\u001b[0;32m/usr/local/lib/python3.9/site-packages/cvxpy/problems/problem.py\u001b[0m in \u001b[0;36msolve\u001b[0;34m(self, *args, **kwargs)\u001b[0m\n\u001b[1;32m    399\u001b[0m         \u001b[0;32melse\u001b[0m\u001b[0;34m:\u001b[0m\u001b[0;34m\u001b[0m\u001b[0;34m\u001b[0m\u001b[0m\n\u001b[1;32m    400\u001b[0m             \u001b[0msolve_func\u001b[0m \u001b[0;34m=\u001b[0m \u001b[0mProblem\u001b[0m\u001b[0;34m.\u001b[0m\u001b[0m_solve\u001b[0m\u001b[0;34m\u001b[0m\u001b[0;34m\u001b[0m\u001b[0m\n\u001b[0;32m--> 401\u001b[0;31m         \u001b[0;32mreturn\u001b[0m \u001b[0msolve_func\u001b[0m\u001b[0;34m(\u001b[0m\u001b[0mself\u001b[0m\u001b[0;34m,\u001b[0m \u001b[0;34m*\u001b[0m\u001b[0margs\u001b[0m\u001b[0;34m,\u001b[0m \u001b[0;34m**\u001b[0m\u001b[0mkwargs\u001b[0m\u001b[0;34m)\u001b[0m\u001b[0;34m\u001b[0m\u001b[0;34m\u001b[0m\u001b[0m\n\u001b[0m\u001b[1;32m    402\u001b[0m \u001b[0;34m\u001b[0m\u001b[0m\n\u001b[1;32m    403\u001b[0m     \u001b[0;34m@\u001b[0m\u001b[0mclassmethod\u001b[0m\u001b[0;34m\u001b[0m\u001b[0;34m\u001b[0m\u001b[0m\n",
      "\u001b[0;32m/usr/local/lib/python3.9/site-packages/cvxpy/problems/problem.py\u001b[0m in \u001b[0;36m_solve\u001b[0;34m(self, solver, warm_start, verbose, gp, qcp, requires_grad, enforce_dpp, **kwargs)\u001b[0m\n\u001b[1;32m    813\u001b[0m                 \u001b[0;32mreturn\u001b[0m \u001b[0mself\u001b[0m\u001b[0;34m.\u001b[0m\u001b[0mvalue\u001b[0m\u001b[0;34m\u001b[0m\u001b[0;34m\u001b[0m\u001b[0m\n\u001b[1;32m    814\u001b[0m \u001b[0;34m\u001b[0m\u001b[0m\n\u001b[0;32m--> 815\u001b[0;31m         data, solving_chain, inverse_data = self.get_problem_data(\n\u001b[0m\u001b[1;32m    816\u001b[0m             solver, gp, enforce_dpp)\n\u001b[1;32m    817\u001b[0m         solution = solving_chain.solve_via_data(\n",
      "\u001b[0;32m/usr/local/lib/python3.9/site-packages/cvxpy/problems/problem.py\u001b[0m in \u001b[0;36mget_problem_data\u001b[0;34m(self, solver, gp, enforce_dpp)\u001b[0m\n\u001b[1;32m    502\u001b[0m         \u001b[0;32mif\u001b[0m \u001b[0mkey\u001b[0m \u001b[0;34m!=\u001b[0m \u001b[0mself\u001b[0m\u001b[0;34m.\u001b[0m\u001b[0m_cache\u001b[0m\u001b[0;34m.\u001b[0m\u001b[0mkey\u001b[0m\u001b[0;34m:\u001b[0m\u001b[0;34m\u001b[0m\u001b[0;34m\u001b[0m\u001b[0m\n\u001b[1;32m    503\u001b[0m             \u001b[0mself\u001b[0m\u001b[0;34m.\u001b[0m\u001b[0m_cache\u001b[0m\u001b[0;34m.\u001b[0m\u001b[0minvalidate\u001b[0m\u001b[0;34m(\u001b[0m\u001b[0;34m)\u001b[0m\u001b[0;34m\u001b[0m\u001b[0;34m\u001b[0m\u001b[0m\n\u001b[0;32m--> 504\u001b[0;31m             solving_chain = self._construct_chain(\n\u001b[0m\u001b[1;32m    505\u001b[0m                 solver=solver, gp=gp, enforce_dpp=enforce_dpp)\n\u001b[1;32m    506\u001b[0m             \u001b[0mself\u001b[0m\u001b[0;34m.\u001b[0m\u001b[0m_cache\u001b[0m\u001b[0;34m.\u001b[0m\u001b[0mkey\u001b[0m \u001b[0;34m=\u001b[0m \u001b[0mkey\u001b[0m\u001b[0;34m\u001b[0m\u001b[0;34m\u001b[0m\u001b[0m\n",
      "\u001b[0;32m/usr/local/lib/python3.9/site-packages/cvxpy/problems/problem.py\u001b[0m in \u001b[0;36m_construct_chain\u001b[0;34m(self, solver, gp, enforce_dpp)\u001b[0m\n\u001b[1;32m    699\u001b[0m         \u001b[0mcandidate_solvers\u001b[0m \u001b[0;34m=\u001b[0m \u001b[0mself\u001b[0m\u001b[0;34m.\u001b[0m\u001b[0m_find_candidate_solvers\u001b[0m\u001b[0;34m(\u001b[0m\u001b[0msolver\u001b[0m\u001b[0;34m=\u001b[0m\u001b[0msolver\u001b[0m\u001b[0;34m,\u001b[0m \u001b[0mgp\u001b[0m\u001b[0;34m=\u001b[0m\u001b[0mgp\u001b[0m\u001b[0;34m)\u001b[0m\u001b[0;34m\u001b[0m\u001b[0;34m\u001b[0m\u001b[0m\n\u001b[1;32m    700\u001b[0m         \u001b[0mself\u001b[0m\u001b[0;34m.\u001b[0m\u001b[0m_sort_candidate_solvers\u001b[0m\u001b[0;34m(\u001b[0m\u001b[0mcandidate_solvers\u001b[0m\u001b[0;34m)\u001b[0m\u001b[0;34m\u001b[0m\u001b[0;34m\u001b[0m\u001b[0m\n\u001b[0;32m--> 701\u001b[0;31m         return construct_solving_chain(self, candidate_solvers, gp=gp,\n\u001b[0m\u001b[1;32m    702\u001b[0m                                        enforce_dpp=enforce_dpp)\n\u001b[1;32m    703\u001b[0m \u001b[0;34m\u001b[0m\u001b[0m\n",
      "\u001b[0;32m/usr/local/lib/python3.9/site-packages/cvxpy/reductions/solvers/solving_chain.py\u001b[0m in \u001b[0;36mconstruct_solving_chain\u001b[0;34m(problem, candidates, gp, enforce_dpp)\u001b[0m\n\u001b[1;32m    149\u001b[0m     \u001b[0;32mif\u001b[0m \u001b[0mlen\u001b[0m\u001b[0;34m(\u001b[0m\u001b[0mproblem\u001b[0m\u001b[0;34m.\u001b[0m\u001b[0mvariables\u001b[0m\u001b[0;34m(\u001b[0m\u001b[0;34m)\u001b[0m\u001b[0;34m)\u001b[0m \u001b[0;34m==\u001b[0m \u001b[0;36m0\u001b[0m\u001b[0;34m:\u001b[0m\u001b[0;34m\u001b[0m\u001b[0;34m\u001b[0m\u001b[0m\n\u001b[1;32m    150\u001b[0m         \u001b[0;32mreturn\u001b[0m \u001b[0mSolvingChain\u001b[0m\u001b[0;34m(\u001b[0m\u001b[0mreductions\u001b[0m\u001b[0;34m=\u001b[0m\u001b[0;34m[\u001b[0m\u001b[0mConstantSolver\u001b[0m\u001b[0;34m(\u001b[0m\u001b[0;34m)\u001b[0m\u001b[0;34m]\u001b[0m\u001b[0;34m)\u001b[0m\u001b[0;34m\u001b[0m\u001b[0;34m\u001b[0m\u001b[0m\n\u001b[0;32m--> 151\u001b[0;31m     \u001b[0mreductions\u001b[0m \u001b[0;34m=\u001b[0m \u001b[0m_reductions_for_problem_class\u001b[0m\u001b[0;34m(\u001b[0m\u001b[0mproblem\u001b[0m\u001b[0;34m,\u001b[0m \u001b[0mcandidates\u001b[0m\u001b[0;34m,\u001b[0m \u001b[0mgp\u001b[0m\u001b[0;34m)\u001b[0m\u001b[0;34m\u001b[0m\u001b[0;34m\u001b[0m\u001b[0m\n\u001b[0m\u001b[1;32m    152\u001b[0m \u001b[0;34m\u001b[0m\u001b[0m\n\u001b[1;32m    153\u001b[0m     \u001b[0mdpp_context\u001b[0m \u001b[0;34m=\u001b[0m \u001b[0;34m'dcp'\u001b[0m \u001b[0;32mif\u001b[0m \u001b[0;32mnot\u001b[0m \u001b[0mgp\u001b[0m \u001b[0;32melse\u001b[0m \u001b[0;34m'dgp'\u001b[0m\u001b[0;34m\u001b[0m\u001b[0;34m\u001b[0m\u001b[0m\n",
      "\u001b[0;32m/usr/local/lib/python3.9/site-packages/cvxpy/reductions/solvers/solving_chain.py\u001b[0m in \u001b[0;36m_reductions_for_problem_class\u001b[0;34m(problem, candidates, gp)\u001b[0m\n\u001b[1;32m     87\u001b[0m             append += (\"\\nHowever, the problem does follow DQCP rules. \"\n\u001b[1;32m     88\u001b[0m                        \"Consider calling solve() with `qcp=True`.\")\n\u001b[0;32m---> 89\u001b[0;31m         raise DCPError(\n\u001b[0m\u001b[1;32m     90\u001b[0m             \"Problem does not follow DCP rules. Specifically:\\n\" + append)\n\u001b[1;32m     91\u001b[0m     \u001b[0;32melif\u001b[0m \u001b[0mgp\u001b[0m \u001b[0;32mand\u001b[0m \u001b[0;32mnot\u001b[0m \u001b[0mproblem\u001b[0m\u001b[0;34m.\u001b[0m\u001b[0mis_dgp\u001b[0m\u001b[0;34m(\u001b[0m\u001b[0;34m)\u001b[0m\u001b[0;34m:\u001b[0m\u001b[0;34m\u001b[0m\u001b[0;34m\u001b[0m\u001b[0m\n",
      "\u001b[0;31mDCPError\u001b[0m: Problem does not follow DCP rules. Specifically:\nThe objective is not DCP, even though each sub-expression is.\nYou are trying to minimize a function that is concave."
     ]
    }
   ],
   "source": [
    "prob.solve()"
   ]
  },
  {
   "cell_type": "code",
   "execution_count": 192,
   "metadata": {},
   "outputs": [
    {
     "name": "stdout",
     "output_type": "stream",
     "text": [
      "$\\xi_1/(2\\beta_1)$ :  1.5\n",
      "$\\xi_2/(2\\beta_2)$ :  2.5\n"
     ]
    }
   ],
   "source": [
    "xi    = [3, 5]  \n",
    "beta  = [1,1]\n",
    "\n",
    "gamma = [1,1]\n",
    "print(r\"$\\xi_1/(2\\beta_1)$ : \", xi[0]/(2*beta[0]))\n",
    "print(r\"$\\xi_2/(2\\beta_2)$ : \", xi[1]/(2*beta[1]))\n",
    "a=0.1\n",
    "h=lambda x, a: (x-a)\n",
    "\n",
    "def f1(x, eps=[1,1], a=0, h=h): \n",
    "    return (xi[0]/2)*x[0]**2-beta[0]*eps[0]*x[0]*h(x[0],a)-beta[0]*gamma[0]*x[0]*x[1]\n",
    "def f2(x, eps=[1,1]):\n",
    "    return (xi[1]/2)*x[1]**2-beta[1]*eps[1]*x[1]*x[1]-beta[1]*gamma[1]*x[0]*x[1]\n",
    "\n",
    "def f1_(x,y, eps=1, a=0, h=h): \n",
    "    return (xi[0]/2)*x**2-beta[0]*eps[0]*x*h(x,a)-beta[0]*gamma[0]*x*y\n",
    "def f2_( x,y, eps=1):\n",
    "    return (xi[1]/2)*y**2-beta[1]*eps[1]*y**2-beta[1]*gamma[1]*x*y\n",
    "\n",
    "def socost(x,y, eps=1, a=0): \n",
    "    return f1_(x,y, eps=eps, a=a)+f2_(x,y, eps=eps)\n",
    "\n",
    "def getNash(eps=[1,1], a=0):\n",
    "    denom1=(xi[0]*(-2*beta[1]*eps[1] + xi[1]) + beta[0]*(4*beta[1]*eps[0]*eps[1] - beta[1]*gamma[1]*gamma[0] - 2*eps[0]*xi[1]))\n",
    "    NE1=(a*beta[0]*eps[0]*(2*beta[1]*eps[1] - xi[1]))/denom1\n",
    "    denom2=(4*beta[0]*beta[1]*eps[1]*eps[0] - beta[0]*beta[1]*gamma[0]*gamma[1] -   2*beta[1]*eps[1]*xi[0] - 2*beta[0]*eps[0] *xi[1] + xi[0]*xi[1])\n",
    "    NE2=-(a*beta[0]*beta[1]*eps[0]*gamma[1])/denom2\n",
    "    return np.array([NE1,NE2])\n",
    "\n",
    "def getSO(eps=[1,1], a=0):\n",
    "    beta1=beta[0]; beta2=beta[1]\n",
    "    gamma1=gamma[0]; gamma2=gamma[1]\n",
    "    eps1=eps[0]; eps2=eps[1]; xi1=xi[0]; xi2=xi[1]\n",
    "    \n",
    "    denom1=(beta1**2*gamma1**2 + beta2**2*gamma2**2 + 2*beta2*eps2*xi1 - xi1*xi2 + beta1*(-4*beta2*eps1*eps2 + 2*beta2*gamma1*gamma2 + 2*eps1*xi2))\n",
    "    SO1=(a*beta1*eps1*(-2*beta2*eps2 + xi2))/denom1\n",
    "    \n",
    "    denom2=(beta1**2*gamma1**2 + beta2**2*gamma2**2 + 2*beta2*eps2*xi1 - xi1*xi2 + beta1*(-4*beta2*eps1*eps2 + 2*beta2*gamma1*gamma2 + 2*eps1*xi2))\n",
    "    SO2=(a*beta1*eps1*(beta1*gamma1 + beta2*gamma2))/denom2\n",
    "    return np.array([SO1,SO2])\n",
    "    \n",
    "def getPS(eps=[1,1],a=0):\n",
    "    beta1=beta[0]; beta2=beta[1]\n",
    "    gamma1=gamma[0]; gamma2=gamma[1]\n",
    "    eps1=eps[0]; eps2=eps[1]; xi1=xi[0]; xi2=xi[1]\n",
    "    \n",
    "    denom1=(xi1*(-beta2*eps2 + xi2) +  beta1*(beta2*eps1*eps2 - beta2*gamma1*gamma2 - eps1*xi2))\n",
    "    PS1=(a*beta1*eps1*(beta2*eps2 - xi2))/denom1\n",
    "    \n",
    "    denom2=(beta1*beta2*eps1*eps2 - beta1*beta2*gamma1*gamma2 - beta2*eps2*xi1 - beta1*eps1*xi2 + xi1*xi2)\n",
    "    PS2=-(a*beta1*beta2*eps1*gamma2)/denom2\n",
    "    \n",
    "    return np.array([PS1,PS2])\n",
    "    \n",
    "df1= autograd.grad(f1_,0)\n",
    "df2= autograd.grad(f2_,1)\n",
    "d11f1 = autograd.grad(df1,0)\n",
    "d12f1 = autograd.grad(df1,1)\n",
    "d22f2 = autograd.grad(df2,1)\n",
    "d21f2 = autograd.grad(df2,0)\n",
    "\n",
    "def gamejac(x, eps=1, a=0):\n",
    "    x_,y_=x\n",
    "    return np.array([[d11f1(x_,y_, eps=eps, a=a), d12f1(x_,y_, eps=eps, a=a)],[d21f2(x_,y_, eps=eps),d22f2(x_,y_, eps=eps)]])\n",
    "\n",
    "def isNash(x, eps=1, a=0):\n",
    "    x_,y_=x\n",
    "    if d11f1(x_,y_, eps=eps, a=a)>0 and d22f2(x_,y_, eps=eps)>0:\n",
    "        print(\" {},{} is a Nash equilibrium\".format(x_,y_))\n",
    "        out=True\n",
    "    else:\n",
    "        print(\" {},{} is NOT a Nash equilibrium\".format(x_,y_))\n",
    "        out=False\n",
    "    return out\n",
    "\n"
   ]
  },
  {
   "cell_type": "code",
   "execution_count": 193,
   "metadata": {},
   "outputs": [
    {
     "name": "stdout",
     "output_type": "stream",
     "text": [
      "(100, 2)\n",
      "(100,)\n"
     ]
    },
    {
     "data": {
      "image/png": "[encoded data removed]",
      "text/plain": [
       "<Figure size 720x576 with 1 Axes>"
      ]
     },
     "metadata": {},
     "output_type": "display_data"
    },
    {
     "data": {
      "image/png": "[encoded data removed]",
      "text/plain": [
       "<Figure size 720x576 with 1 Axes>"
      ]
     },
     "metadata": {},
     "output_type": "display_data"
    },
    {
     "data": {
      "image/png": "[encoded data removed]",
      "text/plain": [
       "<Figure size 720x576 with 1 Axes>"
      ]
     },
     "metadata": {},
     "output_type": "display_data"
    }
   ],
   "source": [
    "import seaborn as sns\n",
    "sns.set_style(\"whitegrid\")\n",
    "ne_=[]; f1nash=[]; f2nash=[]\n",
    "so_=[]; f1so=[]; f2so=[]\n",
    "ps_=[]; f1ps=[]; f2ps=[]\n",
    "epsvals=np.linspace(0,3/2, 100)\n",
    "\n",
    "for eps_ in epsvals:\n",
    "    ne=getNash(eps=[eps_,eps_],a=a)\n",
    "    ne_.append(ne)\n",
    "    f1nash.append(f1_(ne[0], ne[1], eps=[eps_,eps_], a=a))\n",
    "    f2nash.append(f2_(ne[0], ne[1], eps=[eps_,eps_]))\n",
    "    so=getSO(eps=[eps_,eps_],a=a)\n",
    "    f1so.append(f1_(so[0], so[1], eps=[eps_,eps_], a=a))\n",
    "    f2so.append(f2_(so[0], so[1], eps=[eps_,eps_]))\n",
    "    so_.append(so)\n",
    "    ps=getPS(eps=[eps_,eps_], a=a)\n",
    "    f1ps.append(f1_(ps[0], ps[1], eps=[eps_,eps_], a=a))\n",
    "    f2ps.append(f2_(ps[0], ps[1], eps=[eps_,eps_]))\n",
    "    ps_.append(ps)\n",
    "    #print(\"Nash : \", ne)\n",
    "    #print(\"SO   : \", so)\n",
    "    #print(\"PS   : \", ps)\n",
    "    \n",
    "cols=['xkcd:tomato red', 'xkcd:cerulean', 'xkcd:golden rod']\n",
    "ne_=np.asarray(ne_)\n",
    "so_=np.asarray(so_)\n",
    "ps_=np.asarray(ps_)\n",
    "print(np.shape(ne_))\n",
    "plt.figure(figsize=(10,8))\n",
    "plt.title(r\"Equilibrium, $a={}$\".format(a), fontsize=20)\n",
    "plt.plot(epsvals,ne_[:,0], linewidth=4, color=cols[0], label=\"NE\")\n",
    "plt.plot(epsvals,ps_[:,0], linewidth=4, color=cols[1], label=\"PS\")\n",
    "plt.plot(epsvals,so_[:,0], linewidth=4, color=cols[2], label=\"SO\")\n",
    "plt.xlabel(r'$\\epsilon$', fontsize=20)\n",
    "plt.tick_params(labelsize=20)\n",
    "plt.legend(fontsize=16)\n",
    "plt.ylabel(r'$\\theta_1$', fontsize=20)\n",
    "for tag in ['png', 'pdf']:\n",
    "    plt.savefig('./figs/equilibrium_a={}_varyingeps.'.format(a)+tag, dpi=300, transparent=True, bbox_inches='tight')\n",
    "\n",
    "f1nash=np.asarray(f1nash)\n",
    "f2nash=np.asarray(f2nash)\n",
    "f1so=np.asarray(f1so)\n",
    "f2so=np.asarray(f2so)\n",
    "f1ps=np.asarray(f1ps)\n",
    "f2ps=np.asarray(f2ps)\n",
    "print(np.shape(f1nash))\n",
    "plt.figure(figsize=(10,8))\n",
    "plt.title(r\"Player 1 Cost, $a={}$\".format(a), fontsize=20)\n",
    "plt.plot(epsvals,f1nash[:], linewidth=4, label=\"NE\", color=cols[0])\n",
    "plt.plot(epsvals,f1ps[:], linewidth=4, label=\"PS\", color=cols[1])\n",
    "plt.plot(epsvals,f1so[:], linewidth=4, label=\"SO\", color=cols[2])\n",
    "plt.ylim([-10,10])\n",
    "plt.xlabel(r'$\\epsilon$', fontsize=20)\n",
    "plt.ylabel(r'Performative Risk, $\\mathcal{R}_1(\\theta)$', fontsize=20)\n",
    "plt.legend(fontsize=16)\n",
    "plt.tick_params(labelsize=20)\n",
    "for tag in ['png', 'pdf']:\n",
    "    plt.savefig('./figs/p1costs_a={}_varyingeps.'.format(a)+tag, dpi=300, transparent=True, bbox_inches='tight')\n",
    "    \n",
    "plt.figure(figsize=(10,8))\n",
    "plt.title(r\"Player 2 Cost, $a={}$\".format(a), fontsize=20)\n",
    "plt.plot(epsvals,f2nash[:], linewidth=4, label=\"NE\", color=cols[0])\n",
    "plt.plot(epsvals,f2ps[:], linewidth=4, label=\"PS\", color=cols[1])\n",
    "plt.plot(epsvals,f2so[:], linewidth=4, label=\"SO\", color=cols[2])\n",
    "plt.ylim([-10,10])\n",
    "plt.xlabel(r'$\\epsilon$', fontsize=20)\n",
    "plt.ylabel(r'Performative Risk, $\\mathcal{R}_2(\\theta)$', fontsize=20)\n",
    "plt.legend(fontsize=16)\n",
    "plt.tick_params(labelsize=20)\n",
    "for tag in ['png', 'pdf']:\n",
    "    plt.savefig('./figs/p2costs_a={}_varyingeps.'.format(a)+tag, dpi=300, transparent=True, bbox_inches='tight')"
   ]
  },
  {
   "cell_type": "code",
   "execution_count": 102,
   "metadata": {},
   "outputs": [],
   "source": [
    "#df1(ne[0],ne[1]), ddf1(ne[0],ne[1])\n",
    "#la.eigvals(gamejac(ne))"
   ]
  },
  {
   "cell_type": "code",
   "execution_count": 103,
   "metadata": {},
   "outputs": [
    {
     "name": "stdout",
     "output_type": "stream",
     "text": [
      "Player 1 : \n",
      "Nash Cost : -0.011\n",
      "So Cost   : 0.015\n",
      "PS Cost   : -0.005\n",
      "\n",
      "Player 2 : \n",
      "Nash Cost : -0.004\n",
      "So Cost   : 0.000\n",
      "PS Cost   : -0.001\n"
     ]
    }
   ],
   "source": [
    "print(\"Player 1 : \")\n",
    "print(\"Nash Cost : {:0.3f}\".format(f1(ne)))\n",
    "print(\"So Cost   : {:0.3f}\".format(f1(so)))\n",
    "print(\"PS Cost   : {:0.3f}\".format( f1(ps)))\n",
    "print()\n",
    "print(\"Player 2 : \")\n",
    "print(\"Nash Cost : {:0.3f}\".format(f2(ne)))\n",
    "print(\"So Cost   : {:0.3f}\".format(f2(so)))\n",
    "print(\"PS Cost   : {:0.3f}\".format(f2(ps)))"
   ]
  },
  {
   "cell_type": "code",
   "execution_count": 197,
   "metadata": {},
   "outputs": [
    {
     "name": "stdout",
     "output_type": "stream",
     "text": [
      "(100, 2)\n",
      "(100,)\n"
     ]
    },
    {
     "data": {
      "image/png": "[encoded data removed]",
      "text/plain": [
       "<Figure size 720x576 with 1 Axes>"
      ]
     },
     "metadata": {},
     "output_type": "display_data"
    },
    {
     "data": {
      "image/png": "[encoded data removed]",
      "text/plain": [
       "<Figure size 720x576 with 1 Axes>"
      ]
     },
     "metadata": {},
     "output_type": "display_data"
    },
    {
     "data": {
      "image/png": "[encoded data removed]",
      "text/plain": [
       "<Figure size 720x576 with 1 Axes>"
      ]
     },
     "metadata": {},
     "output_type": "display_data"
    }
   ],
   "source": [
    "import seaborn as sns\n",
    "sns.set_style(\"whitegrid\")\n",
    "ne_=[]; f1nash=[]; f2nash=[]\n",
    "so_=[]; f1so=[]; f2so=[]\n",
    "ps_=[]; f1ps=[]; f2ps=[]\n",
    "avals=np.linspace(0,10, 100)\n",
    "eps_=1 #[1,1]\n",
    "for a in avals:\n",
    "    ne=getNash(eps=[eps_,eps_],a=a)\n",
    "    ne_.append(ne)\n",
    "    f1nash.append(f1_(ne[0], ne[1], eps=[eps_,eps_], a=a))\n",
    "    f2nash.append(f2_(ne[0], ne[1], eps=[eps_,eps_]))\n",
    "    so=getSO(eps=[eps_,eps_],a=a)\n",
    "    f1so.append(f1_(so[0], so[1], eps=[eps_,eps_], a=a))\n",
    "    f2so.append(f2_(so[0], so[1], eps=[eps_,eps_]))\n",
    "    so_.append(so)\n",
    "    ps=getPS(eps=[eps_,eps_], a=a)\n",
    "    f1ps.append(f1_(ps[0], ps[1], eps=[eps_,eps_], a=a))\n",
    "    f2ps.append(f2_(ps[0], ps[1], eps=[eps_,eps_]))\n",
    "    ps_.append(ps)\n",
    "    #print(\"Nash : \", ne)\n",
    "    #print(\"SO   : \", so)\n",
    "    #print(\"PS   : \", ps)\n",
    "    \n",
    "cols=['xkcd:tomato red', 'xkcd:cerulean', 'xkcd:golden rod']\n",
    "ne_=np.asarray(ne_)\n",
    "so_=np.asarray(so_)\n",
    "ps_=np.asarray(ps_)\n",
    "print(np.shape(ne_))\n",
    "plt.figure(figsize=(10,8))\n",
    "plt.title(r\"Equilibrium, $\\epsilon={}$\".format(eps_), fontsize=20)\n",
    "plt.plot(epsvals,ne_[:,0], linewidth=4, color=cols[0], label=\"NE\")\n",
    "plt.plot(epsvals,ps_[:,0], linewidth=4, color=cols[1], label=\"PS\")\n",
    "plt.plot(epsvals,so_[:,0], linewidth=4, color=cols[2], label=\"SO\")\n",
    "plt.xlabel(r'$a$', fontsize=20)\n",
    "plt.tick_params(labelsize=20)\n",
    "plt.legend(fontsize=16)\n",
    "plt.ylabel(r'$\\theta_1$', fontsize=20)\n",
    "for tag in ['png', 'pdf']:\n",
    "    plt.savefig('./figs/equilibrium_eps={}_varyinga.'.format(eps_)+tag, dpi=300, transparent=True, bbox_inches='tight')\n",
    "\n",
    "f1nash=np.asarray(f1nash)\n",
    "f2nash=np.asarray(f2nash)\n",
    "f1so=np.asarray(f1so)\n",
    "f2so=np.asarray(f2so)\n",
    "f1ps=np.asarray(f1ps)\n",
    "f2ps=np.asarray(f2ps)\n",
    "print(np.shape(f1nash))\n",
    "plt.figure(figsize=(10,8))\n",
    "plt.title(r\"Player 1 Cost, $\\epsilon={}$\".format(eps_), fontsize=20)\n",
    "plt.plot(epsvals,f1nash[:], linewidth=4, label=\"NE\", color=cols[0])\n",
    "plt.plot(epsvals,f1ps[:], linewidth=4, label=\"PS\", color=cols[1])\n",
    "plt.plot(epsvals,f1so[:], linewidth=4, label=\"SO\", color=cols[2])\n",
    "#plt.ylim([-10,10])\n",
    "plt.xlabel(r'$a$', fontsize=20)\n",
    "plt.ylabel(r'Performative Risk, $\\mathcal{R}_1(\\theta)$', fontsize=20)\n",
    "plt.legend(fontsize=16)\n",
    "plt.tick_params(labelsize=20)\n",
    "for tag in ['png', 'pdf']:\n",
    "    plt.savefig('./figs/p1costs_eps={}_varyinga.'.format(eps_)+tag, dpi=300, transparent=True, bbox_inches='tight')\n",
    "    \n",
    "plt.figure(figsize=(10,8))\n",
    "plt.title(r\"Player 2 Cost, $\\epsilon={}$\".format(eps_), fontsize=20)\n",
    "plt.plot(epsvals,f2nash[:], linewidth=4, label=\"NE\", color=cols[0])\n",
    "plt.plot(epsvals,f2ps[:], linewidth=4, label=\"PS\", color=cols[1])\n",
    "plt.plot(epsvals,f2so[:], linewidth=4, label=\"SO\", color=cols[2])\n",
    "#plt.ylim([-20,20])\n",
    "plt.xlabel(r'$a$', fontsize=20)\n",
    "plt.ylabel(r'Performative Risk, $\\mathcal{R}_2(\\theta)$', fontsize=20)\n",
    "plt.legend(fontsize=16)\n",
    "plt.tick_params(labelsize=20)\n",
    "for tag in ['png', 'pdf']:\n",
    "    plt.savefig('./figs/p2costs_eps={}_varyinga.'.format(eps_)+tag, dpi=300, transparent=True, bbox_inches='tight')"
   ]
  },
  {
   "cell_type": "code",
   "execution_count": null,
   "metadata": {},
   "outputs": [],
   "source": []
  }
 ],
 "metadata": {
  "kernelspec": {
   "display_name": "Python 3",
   "language": "python",
   "name": "python3"
  },
  "language_info": {
   "codemirror_mode": {
    "name": "ipython",
    "version": 3
   },
   "file_extension": ".py",
   "mimetype": "text/x-python",
   "name": "python",
   "nbconvert_exporter": "python",
   "pygments_lexer": "ipython3",
   "version": "3.9.2"
  }
 },
 "nbformat": 4,
 "nbformat_minor": 4
}
