{
 "cells": [
  {
   "cell_type": "markdown",
   "metadata": {},
   "source": [
    "# Decision Dependent Games Simulation\n",
    "## Synthetic Linear Regression Problem with Location Families\n",
    "\n",
    "We extend the linear regression example from Miller et. al. (http://arxiv.org/abs/2102.08570) to the multiplayer framework where the models of each player affect the distributions of data seen by all."
   ]
  },
  {
   "cell_type": "code",
   "execution_count": 1,
   "metadata": {},
   "outputs": [],
   "source": [
    "import numpy as np\n",
    "import sys\n",
    "import ipdb\n",
    "\n",
    "sys.path.append(\"../\")\n",
    "\n",
    "sys.path.append(\"../utils/\")\n",
    "from utils_functions import *\n",
    "\n",
    "from dd_game import *\n",
    "from dfo_player import *\n",
    "\n",
    "import matplotlib.pyplot as plt\n",
    "import seaborn as sns\n",
    "sns.set_style('darkgrid')\n",
    "\n",
    "np.random.seed(0)"
   ]
  },
  {
   "cell_type": "markdown",
   "metadata": {},
   "source": [
    "The performative 2-player linear regression problem is set up as follows. For each player $k\\in\\{1,2\\}$ we generate data\n",
    "\n",
    "$$x^k \\sim \\mathcal{N}(0,\\Sigma_{x^k}),\\quad U^k \\sim \\mathcal{N}(0,\\sigma_{y^k}), \\quad y^k = \\langle \\beta^k, x^k \\rangle + \\langle \\mu^k, \\theta^k \\rangle + \\langle \\gamma^k, \\theta^{-k} \\rangle + U^k$$\n",
    "\n",
    "Where $x^k\\in\\mathbb{R}^d, y^k\\in\\mathbb{R}, U^k\\in\\mathbb{R}$. The performative effects are given by $\\mu^k,\\gamma^k$, which are drawn randomly by sampling a vector from the radius $\\varepsilon^k$ spheres in $\\mathbb{R}^{d_1+d_2}$ so that the distribution map for each player $k\\in\\{1,2\\}$ is $\\varepsilon^k$-sensitive.\n",
    "$$\\varepsilon^k = \\sqrt{||\\mu^k||_2^2+||\\gamma^k||_2^2}$$\n",
    "\\\n",
    "The loss function is quadratic\n",
    "$$\\ell((x^k,y^k);\\theta^k) = \\tfrac{1}{2}(y^k-{x^k}^T\\theta^k)^2 = \\tfrac{1}{2}||y^k||_2^2+\\tfrac{1}{2}||{x^k}^T\\theta^k||_2^2-y^k{x^k}^T\\theta^k$$\n",
    "so it is $1$-strongly convex in $\\theta^k$ and $1$-smooth in $z^k$  \n",
    "\\\n",
    "We showed that if $\\ell^k(z^k,\\theta^k)$ is $\\eta^k$-strongly convex in $\\theta^k$, is $\\beta^k$-smooth in $z^k$, and the distribution map is $\\varepsilon^k$-sensitive, then the game is convex, and $PR^k(\\theta^k)$ for each player $k\\in\\{1,2\\}$ is $\\lambda^k$-weakly convex where $$\\lambda^k=2\\beta^k\\varepsilon^k-\\eta^k$$\n",
    "If the performative risks are both strongly convex, then the game is diagonally strictly convex, so the game will have a unique Nash equilibrium, so we can enforce DSC by choosing parameters such that\n",
    "$$2\\beta^k\\varepsilon^k\\leq\\eta^k$$\n",
    "That is,\n",
    "$$\\varepsilon^k\\leq\\frac{1}{2} \\iff DSC$$"
   ]
  },
  {
   "cell_type": "markdown",
   "metadata": {},
   "source": [
    "# Configurations"
   ]
  },
  {
   "cell_type": "code",
   "execution_count": 2,
   "metadata": {},
   "outputs": [],
   "source": [
    "d_1 = 2  # Dimension of each player's data/strategy\n",
    "d_2 = 2\n",
    "\n",
    "epsilon_1 = 0.4  # Epsilon sensitivity parameters\n",
    "epsilon_2 = 0.4\n",
    "\n",
    "Sigma_x_p1 = np.eye(d_1)  # Covariance of x^k\n",
    "Sigma_x_p2 = np.eye(d_2)\n",
    "\n",
    "sigma_y_p1 = 0.01  # Variance of y^k\n",
    "sigma_y_p2 = 0.01\n",
    "\n",
    "beta_p1 = np.random.normal(size=d_1)  # Linear parameter vector\n",
    "beta_p2 = np.random.normal(size=d_2)\n",
    "\n",
    "s_1 = sample_sphere(epsilon_1,d_1+d_2)  # Performativity parameters\n",
    "mu_p1 = s_1[0:d_1]\n",
    "gamma_p1 = s_1[d_1:]\n",
    "s_2 = sample_sphere(epsilon_2,d_1+d_2)\n",
    "mu_p2 = s_2[0:d_2]\n",
    "gamma_p2 = s_2[d_2:]\n",
    "\n",
    "#Fixing mu and gamma for testing purposes\n",
    "if False:\n",
    "    mu_p2 = np.array([2.1, -1.8])\n",
    "    gamma_p2 = np.array([1.2, 0.9])\n",
    "    mu_p1 = np.array([-2.8, 2.2])\n",
    "    gamma_p1 = np.array([0.7, -0.3])\n",
    "\n",
    "if False:\n",
    "    mu_p1 = np.array([0, 0])\n",
    "    gamma_p1 = np.array([1, 1])\n",
    "    mu_p2 = np.array([0, 0])\n",
    "    gamma_p2 = np.array([1, 1])"
   ]
  },
  {
   "cell_type": "code",
   "execution_count": 3,
   "metadata": {},
   "outputs": [],
   "source": [
    "p1_data_params = (Sigma_x_p1, sigma_y_p1, beta_p1, mu_p1, gamma_p1)\n",
    "p1_data_generating_func = sample_from_location_family\n",
    "\n",
    "p2_data_params = (Sigma_x_p2, sigma_y_p2, beta_p2, mu_p2, gamma_p2)\n",
    "p2_data_generating_func = sample_from_location_family"
   ]
  },
  {
   "cell_type": "markdown",
   "metadata": {},
   "source": [
    "# Run Game"
   ]
  },
  {
   "cell_type": "code",
   "execution_count": 11,
   "metadata": {},
   "outputs": [
    {
     "name": "stdout",
     "output_type": "stream",
     "text": [
      "---------------------\n",
      "Iteration 50000\n",
      "Player 1 risk:\n",
      "2.977671059896503\n",
      "Player 2 risk\n",
      "3.8169755352892465\n",
      "---------------------\n",
      "Iteration 100000\n",
      "Player 1 risk:\n",
      "2.9829434063248295\n",
      "Player 2 risk\n",
      "2.702785331532188\n",
      "---------------------\n",
      "Iteration 150000\n",
      "Player 1 risk:\n",
      "3.1722888788768757\n",
      "Player 2 risk\n",
      "2.1053191278114434\n",
      "---------------------\n",
      "Iteration 200000\n",
      "Player 1 risk:\n",
      "3.6690635861569154\n",
      "Player 2 risk\n",
      "1.780090950193965\n",
      "---------------------\n",
      "Iteration 250000\n",
      "Player 1 risk:\n",
      "4.586656460045302\n",
      "Player 2 risk\n",
      "1.62979688636792\n",
      "---------------------\n",
      "Iteration 300000\n",
      "Player 1 risk:\n",
      "6.2706478446751746\n",
      "Player 2 risk\n",
      "1.6395657795497438\n",
      "---------------------\n",
      "Iteration 350000\n",
      "Player 1 risk:\n",
      "9.754858521532967\n",
      "Player 2 risk\n",
      "1.8784832716518711\n",
      "---------------------\n",
      "Iteration 400000\n",
      "Player 1 risk:\n",
      "18.496378500811506\n",
      "Player 2 risk\n",
      "2.6510375390358876\n",
      "---------------------\n",
      "Iteration 450000\n",
      "Player 1 risk:\n",
      "51.99680324538434\n",
      "Player 2 risk\n",
      "5.627798128345368\n",
      "---------------------\n",
      "Iteration 500000\n",
      "Player 1 risk:\n",
      "575.2875631051679\n",
      "Player 2 risk\n",
      "47.316850717628434\n"
     ]
    }
   ],
   "source": [
    "p1_risks = []\n",
    "p2_risks = []\n",
    "\n",
    "num_rounds = 500000\n",
    "delta = 1e-2\n",
    "eta = 5e-3\n",
    "batch = 1\n",
    "\n",
    "player_two = DFOPlayer(delta,eta,batch)\n",
    "player_one = DFOPlayer(delta,eta,batch)\n",
    "game = DecisionDependentGame(player_one, player_two,\n",
    "                             p1_data_params, p2_data_params,\n",
    "                             p1_data_generating_func, p2_data_generating_func)\n",
    "\n",
    "for i in range(2,num_rounds+1):\n",
    "    \n",
    "    game.theta_p1 = player_one.perturb_theta()\n",
    "    game.theta_p2 = player_two.perturb_theta()\n",
    "    \n",
    "    PR_1_oracle, PR_2_oracle = game.evaluate_closed_perf_risk()\n",
    "    \n",
    "    game.theta_p1 = player_one.update_theta(PR_1_oracle,i)\n",
    "    game.theta_p2 = player_two.update_theta(PR_2_oracle,i)\n",
    "    \n",
    "    p1_risks.append(PR_1_oracle)\n",
    "    p2_risks.append(PR_2_oracle)\n",
    "    \n",
    "    #Change this flag if one wants to change print settings\n",
    "    if i%(num_rounds/10)==0:\n",
    "        print(\"---------------------\")\n",
    "        print(f\"Iteration {i}\")\n",
    "        print(\"Player 1 risk:\")\n",
    "        print(PR_1_oracle)\n",
    "\n",
    "        print(\"Player 2 risk\")\n",
    "        print(PR_2_oracle)"
   ]
  },
  {
   "cell_type": "markdown",
   "metadata": {},
   "source": [
    "## Evaluate the performative risks after DFO"
   ]
  },
  {
   "cell_type": "code",
   "execution_count": 5,
   "metadata": {},
   "outputs": [],
   "source": [
    "# PR_1, PR_2 = game.evaluate_closed_perf_risk()\n",
    "# print(f'Player 1 PR = {PR_1.round(3)}\\tPlayer 2 PR = {PR_2.round(3)}')"
   ]
  },
  {
   "cell_type": "code",
   "execution_count": 6,
   "metadata": {},
   "outputs": [
    {
     "name": "stdout",
     "output_type": "stream",
     "text": [
      "[0.77269603 0.13341363]\n",
      "[0.48357394 0.37336666]\n"
     ]
    }
   ],
   "source": [
    "print(player_one.theta_history[-1])\n",
    "print(player_two.theta_history[-1])"
   ]
  },
  {
   "cell_type": "code",
   "execution_count": 7,
   "metadata": {},
   "outputs": [
    {
     "name": "stdout",
     "output_type": "stream",
     "text": [
      "Player 1 PO = 0.149\tPlayer 2 PO = 0.026\n"
     ]
    }
   ],
   "source": [
    "game.theta_p1, game.theta_p2 = game.solve_nash()\n",
    "PO_1, PO_2 = game.evaluate_closed_perf_risk()\n",
    "print(f'Player 1 PO = {PO_1.round(3)}\\tPlayer 2 PO = {PO_2.round(3)}')"
   ]
  },
  {
   "cell_type": "code",
   "execution_count": 8,
   "metadata": {},
   "outputs": [
    {
     "name": "stdout",
     "output_type": "stream",
     "text": [
      "Player 1 SO = 0.151\tPlayer 2 SO = 0.022\n"
     ]
    }
   ],
   "source": [
    "game.theta_p1, game.theta_p2 = game.solve_social_opt()\n",
    "SO_1, SO_2 = game.evaluate_closed_perf_risk()\n",
    "print(f'Player 1 SO = {SO_1.round(3)}\\tPlayer 2 SO = {SO_2.round(3)}')"
   ]
  },
  {
   "cell_type": "markdown",
   "metadata": {},
   "source": [
    "## Plots"
   ]
  },
  {
   "cell_type": "code",
   "execution_count": 12,
   "metadata": {},
   "outputs": [
    {
     "data": {
      "image/png": "[encoded data removed]",
      "text/plain": [
       "<Figure size 720x720 with 1 Axes>"
      ]
     },
     "metadata": {},
     "output_type": "display_data"
    }
   ],
   "source": [
    "plt.figure(figsize=(10,10))\n",
    "PO_1, PO_2 = game.solve_nash()\n",
    "x_nash_p1 = PO_1[0]\n",
    "y_nash_p1 = PO_1[1]\n",
    "plt.scatter(x_nash_p1, y_nash_p1,\n",
    "            label='Nash Equilibrium P1', marker='*', color='g', s=120)\n",
    "\n",
    "x_nash_p2 = PO_2[0]\n",
    "y_nash_p2 = PO_2[1]\n",
    "plt.scatter(x_nash_p2,y_nash_p2,\n",
    "            label='Nash Equilibrium P2', marker='*', color='r', s=120)\n",
    "\n",
    "SO_1, SO_2 = game.solve_social_opt()\n",
    "x_so_p1 = SO_1[0]\n",
    "y_so_p1 = SO_1[1]\n",
    "plt.scatter(x_so_p1, y_so_p1,\n",
    "            label='Social Optimum P1', marker='o', color='g', s=120)\n",
    "\n",
    "x_so_p2 = SO_2[0]\n",
    "y_so_p2 = SO_2[1]\n",
    "plt.scatter(x_so_p2,y_so_p2,\n",
    "            label='Social Optimum P2', marker='o', color='r', s=120)\n",
    "\n",
    "theta_1 = np.array(player_one.theta_history)\n",
    "plt.plot(theta_1[:,0],theta_1[:,1],\n",
    "         label='P1 trajectory', color='g')\n",
    "\n",
    "theta_2 = np.array(player_two.theta_history)\n",
    "plt.plot(theta_2[:,0],theta_2[:,1],\n",
    "         label='P2 trajectory', color='r')\n",
    "\n",
    "plt.legend()\n",
    "plt.title(\"Params learned after stage 2 with n points\")\n",
    "plt.show()"
   ]
  },
  {
   "cell_type": "code",
   "execution_count": 10,
   "metadata": {},
   "outputs": [],
   "source": [
    "u_ = np.array(player_one.u_history)"
   ]
  },
  {
   "cell_type": "code",
   "execution_count": null,
   "metadata": {},
   "outputs": [],
   "source": []
  }
 ],
 "metadata": {
  "kernelspec": {
   "display_name": "Python 3",
   "language": "python",
   "name": "python3"
  },
  "language_info": {
   "codemirror_mode": {
    "name": "ipython",
    "version": 3
   },
   "file_extension": ".py",
   "mimetype": "text/x-python",
   "name": "python",
   "nbconvert_exporter": "python",
   "pygments_lexer": "ipython3",
   "version": "3.8.5"
  }
 },
 "nbformat": 4,
 "nbformat_minor": 4
}
