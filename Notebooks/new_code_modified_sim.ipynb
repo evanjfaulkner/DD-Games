{
 "cells": [
  {
   "cell_type": "code",
   "execution_count": 1,
   "metadata": {},
   "outputs": [],
   "source": [
    "import numpy as np\n",
    "import sys\n",
    "import ipdb\n",
    "\n",
    "sys.path.append(\"../\")\n",
    "\n",
    "sys.path.append(\"../utils/\")\n",
    "from utils_functions import *\n",
    "\n",
    "from dd_game import *\n",
    "from two_stage_player import *"
   ]
  },
  {
   "cell_type": "markdown",
   "metadata": {},
   "source": [
    "# Configurations"
   ]
  },
  {
   "cell_type": "code",
   "execution_count": 2,
   "metadata": {},
   "outputs": [],
   "source": [
    "#TODO: There are many configuration parameters here. It is important to understand the effect of all.\n",
    "d = 2\n",
    "coeff_var = 1\n",
    "\n",
    "Sigma_x_p1 = np.eye(d)\n",
    "Sigma_x_p2 = np.eye(d)\n",
    "\n",
    "sigma_y_p1 = 1\n",
    "sigma_y_p2 = 1\n",
    "\n",
    "beta_p1 = np.random.normal(size = d)\n",
    "beta_p2 = np.random.normal(size = d)\n",
    "\n",
    "\"\"\"\n",
    "mu_p1 = np.random.normal(scale = coeff_var, size = d)\n",
    "mu_p2 = np.random.normal(scale = coeff_var, size = d)\n",
    "gamma_p1 = np.random.normal(scale = coeff_var, size = d)\n",
    "gamma_p2 = np.random.normal(scale = coeff_var, size = d)\n",
    "\"\"\"\n",
    "\n",
    "#Fixing mu and gamma for testing purposes\n",
    "mu_p1 = np.array([2.1, -1.8])\n",
    "gamma_p1 = np.array([1.2, 0.9])\n",
    "mu_p2 = np.array([-2.8, 2.2])\n",
    "gamma_p2 = np.array([0.7, -0.3])"
   ]
  },
  {
   "cell_type": "code",
   "execution_count": 3,
   "metadata": {},
   "outputs": [],
   "source": [
    "p1_data_params = (Sigma_x_p1, sigma_y_p1, beta_p1, mu_p1, gamma_p1)\n",
    "p1_data_generating_func = sample_from_location_family\n",
    "\n",
    "p2_data_params = (Sigma_x_p2, sigma_y_p2, beta_p2, mu_p2, gamma_p2)\n",
    "p2_data_generating_func = sample_from_location_family\n",
    "\n",
    "num_rounds_lst = [10, 100, 1000, 10000, 40000]\n",
    "num_alternate_rounds = 1000\n",
    "num_test = 10000"
   ]
  },
  {
   "cell_type": "markdown",
   "metadata": {},
   "source": [
    "# Run Game"
   ]
  },
  {
   "cell_type": "code",
   "execution_count": 4,
   "metadata": {},
   "outputs": [
    {
     "name": "stdout",
     "output_type": "stream",
     "text": [
      "(array([-0.08937719, -0.54499883]), array([-0.00955091, -1.09602379]))\n",
      "Stage 1 finished. Performing estimation now\n",
      "Stage 1 finished. Performing estimation now\n",
      "Stage 2 finished. Finding qs now.\n",
      "Stage 2 finished. Finding qs now.\n",
      "10.126125228609986\n",
      "8.910342381815143\n",
      "100.90224197318942\n",
      "182.78642347021596\n",
      "(array([-0.08937719, -0.54499883]), array([-0.00955091, -1.09602379]))\n",
      "Stage 1 finished. Performing estimation now\n",
      "Stage 1 finished. Performing estimation now\n",
      "Stage 2 finished. Finding qs now.\n",
      "Stage 2 finished. Finding qs now.\n",
      "4.850133442188525\n",
      "252.08962974706782\n",
      "2.367476584496769\n",
      "3.323535466533957\n",
      "(array([-0.08937719, -0.54499883]), array([-0.00955091, -1.09602379]))\n",
      "Stage 1 finished. Performing estimation now\n",
      "Stage 1 finished. Performing estimation now\n",
      "Stage 2 finished. Finding qs now.\n",
      "Stage 2 finished. Finding qs now.\n",
      "6.28638723066219\n",
      "7.544273924833674\n",
      "2.476769724980002\n",
      "3.2007079483310226\n",
      "(array([-0.08937719, -0.54499883]), array([-0.00955091, -1.09602379]))\n",
      "Stage 1 finished. Performing estimation now\n",
      "Stage 1 finished. Performing estimation now\n",
      "Stage 2 finished. Finding qs now.\n",
      "Stage 2 finished. Finding qs now.\n",
      "10.195132378825479\n",
      "5.150906929311063\n",
      "2.5316851321484757\n",
      "3.1567830177233094\n",
      "(array([-0.08937719, -0.54499883]), array([-0.00955091, -1.09602379]))\n",
      "Stage 1 finished. Performing estimation now\n",
      "Stage 1 finished. Performing estimation now\n",
      "Stage 2 finished. Finding qs now.\n",
      "Stage 2 finished. Finding qs now.\n",
      "12.302051693162811\n",
      "14.183438951035118\n",
      "2.6382852382815543\n",
      "3.1657592576695426\n"
     ]
    }
   ],
   "source": [
    "#Initialize game with configurations specified above\n",
    "\n",
    "\n",
    "for num_rounds in num_rounds_lst:\n",
    "    player_two = TwoStagePlayer()\n",
    "    player_one = TwoStagePlayer()\n",
    "    game = DecisionDependentGame(player_one, player_two, p1_data_params, p2_data_params, \n",
    "                             p1_data_generating_func, p2_data_generating_func, \n",
    "                             num_rounds, num_alternate_rounds, num_test)\n",
    "    print(game.solve_nash())\n",
    "    game.run_train()\n",
    "    \n",
    "    print(game.evaluate_test_perf_risk_p1())\n",
    "    print(game.evaluate_test_perf_risk_p2())\n",
    "    \n",
    "    game.run_post_train_alternating()\n",
    "    \n",
    "    print(game.evaluate_test_perf_risk_p1())\n",
    "    print(game.evaluate_test_perf_risk_p2())\n",
    "    \n",
    "    #Change this flag if one wants to change print settings\n",
    "    if False:\n",
    "        print(\"---------------------\")\n",
    "        print(\"Player 1\")\n",
    "        print(mu_p1, gamma_p1)\n",
    "        print(player_one.mu_hat, player_one.gamma_hat)\n",
    "\n",
    "        print(\"Player 2\")\n",
    "        print(mu_p2, gamma_p2)\n",
    "        print(player_two.mu_hat, player_two.gamma_hat)"
   ]
  },
  {
   "cell_type": "code",
   "execution_count": 5,
   "metadata": {},
   "outputs": [],
   "source": [
    "if False:\n",
    "    print(mu_p1, gamma_p1)\n",
    "    print(player_one.mu_hat.round(2), player_one.gamma_hat.round(2))\n",
    "\n",
    "    print(mu_p2, gamma_p2)\n",
    "    print(player_two.mu_hat.round(2), player_two.gamma_hat.round(2))\n",
    "\n",
    "    print(game.solve_nash())\n",
    "    \n",
    "    print(game.solve_social_opt())\n",
    "    \n",
    "    print(game.evaluate_test_perf_risk_p1().round(3))\n",
    "    print(game.evaluate_test_perf_risk_p2().round(3))"
   ]
  },
  {
   "cell_type": "markdown",
   "metadata": {},
   "source": [
    "## Checking stage 1"
   ]
  },
  {
   "cell_type": "code",
   "execution_count": 6,
   "metadata": {},
   "outputs": [
    {
     "name": "stdout",
     "output_type": "stream",
     "text": [
      "[ 2.11062538 -1.8139493 ] [1.20467457 0.88274074]\n",
      "[-2.77932406  2.18267021] [ 0.68695142 -0.28524824]\n"
     ]
    }
   ],
   "source": [
    "print(player_one.mu_hat, player_one.gamma_hat)\n",
    "print(player_two.mu_hat, player_two.gamma_hat)"
   ]
  },
  {
   "cell_type": "code",
   "execution_count": 7,
   "metadata": {},
   "outputs": [
    {
     "name": "stdout",
     "output_type": "stream",
     "text": [
      "[ 2.1 -1.8] [1.2 0.9]\n",
      "[-2.8  2.2] [ 0.7 -0.3]\n"
     ]
    }
   ],
   "source": [
    "print(mu_p1, gamma_p1)\n",
    "print(mu_p2, gamma_p2)"
   ]
  },
  {
   "cell_type": "markdown",
   "metadata": {},
   "source": [
    "## Evaluate the performative risks before and after Stage 3"
   ]
  },
  {
   "cell_type": "code",
   "execution_count": 8,
   "metadata": {},
   "outputs": [
    {
     "name": "stdout",
     "output_type": "stream",
     "text": [
      "Player 1 PR = 2.556\tPlayer 2 PR = 3.205\n"
     ]
    }
   ],
   "source": [
    "PR_1 = game.evaluate_test_perf_risk_p1()\n",
    "PR_2 = game.evaluate_test_perf_risk_p2()\n",
    "print(f'Player 1 PR = {PR_1.round(3)}\\tPlayer 2 PR = {PR_2.round(3)}')"
   ]
  },
  {
   "cell_type": "code",
   "execution_count": 9,
   "metadata": {},
   "outputs": [
    {
     "name": "stdout",
     "output_type": "stream",
     "text": [
      "[-0.07962925 -0.56002032]\n",
      "[-0.59377613 -0.62589447]\n"
     ]
    }
   ],
   "source": [
    "print(player_one.theta_history[-1])\n",
    "print(player_two.theta_history[-1])"
   ]
  },
  {
   "cell_type": "code",
   "execution_count": 10,
   "metadata": {},
   "outputs": [
    {
     "name": "stdout",
     "output_type": "stream",
     "text": [
      "Player 1 PO = 2.425\tPlayer 2 PO = 11.15\n"
     ]
    }
   ],
   "source": [
    "game.theta_p1, game.theta_p2 = game.solve_nash()\n",
    "PO_1 = game.evaluate_test_perf_risk_p1()\n",
    "PO_2 = game.evaluate_test_perf_risk_p2()\n",
    "print(f'Player 1 PO = {PO_1.round(3)}\\tPlayer 2 PO = {PO_2.round(3)}')"
   ]
  },
  {
   "cell_type": "code",
   "execution_count": 11,
   "metadata": {},
   "outputs": [
    {
     "name": "stdout",
     "output_type": "stream",
     "text": [
      "Player 1 SO = 2.471\tPlayer 2 SO = 4.244\n"
     ]
    }
   ],
   "source": [
    "game.theta_p1, game.theta_p2 = game.solve_social_opt()\n",
    "SO_1 = game.evaluate_test_perf_risk_p1()\n",
    "SO_2 = game.evaluate_test_perf_risk_p2()\n",
    "print(f'Player 1 SO = {SO_1.round(3)}\\tPlayer 2 SO = {SO_2.round(3)}')"
   ]
  }
 ],
 "metadata": {
  "kernelspec": {
   "display_name": "Python 3",
   "language": "python",
   "name": "python3"
  },
  "language_info": {
   "codemirror_mode": {
    "name": "ipython",
    "version": 3
   },
   "file_extension": ".py",
   "mimetype": "text/x-python",
   "name": "python",
   "nbconvert_exporter": "python",
   "pygments_lexer": "ipython3",
   "version": "3.8.5"
  }
 },
 "nbformat": 4,
 "nbformat_minor": 4
}
