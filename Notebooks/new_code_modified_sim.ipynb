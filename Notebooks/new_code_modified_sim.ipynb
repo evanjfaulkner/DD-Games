{
 "cells": [
  {
   "cell_type": "code",
   "execution_count": 1,
   "metadata": {},
   "outputs": [],
   "source": [
    "import numpy as np\n",
    "import sys\n",
    "import ipdb\n",
    "\n",
    "sys.path.append(\"../\")\n",
    "\n",
    "sys.path.append(\"../utils/\")\n",
    "from utils_functions import *\n",
    "\n",
    "from dd_game import *\n",
    "from two_stage_player import *"
   ]
  },
  {
   "cell_type": "markdown",
   "metadata": {},
   "source": [
    "# Configurations"
   ]
  },
  {
   "cell_type": "code",
   "execution_count": 2,
   "metadata": {},
   "outputs": [],
   "source": [
    "#TODO: There are many configuration parameters here. It is important to understand the effect of all.\n",
    "d = 2\n",
    "coeff_var = 1\n",
    "\n",
    "Sigma_x_p1 = np.eye(d)\n",
    "Sigma_x_p2 = np.eye(d)\n",
    "\n",
    "sigma_y_p1 = 1\n",
    "sigma_y_p2 = 1\n",
    "\n",
    "beta_p1 = np.random.normal(size = d)\n",
    "beta_p2 = np.random.normal(size = d)\n",
    "\n",
    "\"\"\"\n",
    "mu_p1 = np.random.normal(scale = coeff_var, size = d)\n",
    "mu_p2 = np.random.normal(scale = coeff_var, size = d)\n",
    "gamma_p1 = np.random.normal(scale = coeff_var, size = d)\n",
    "gamma_p2 = np.random.normal(scale = coeff_var, size = d)\n",
    "\"\"\"\n",
    "\n",
    "#Fixing mu and gamma for testing purposes\n",
    "mu_p1 = np.array([2.1, -1.8])\n",
    "gamma_p1 = np.array([1.2, 0.9])\n",
    "mu_p2 = np.array([-2.8, 2.2])\n",
    "gamma_p2 = np.array([0.7, -0.3])"
   ]
  },
  {
   "cell_type": "code",
   "execution_count": 3,
   "metadata": {},
   "outputs": [],
   "source": [
    "p1_data_params = (Sigma_x_p1, sigma_y_p1, beta_p1, mu_p1, gamma_p1)\n",
    "p1_data_generating_func = sample_from_location_family\n",
    "\n",
    "p2_data_params = (Sigma_x_p2, sigma_y_p2, beta_p2, mu_p2, gamma_p2)\n",
    "p2_data_generating_func = sample_from_location_family\n",
    "\n",
    "num_rounds_lst = [10, 100, 1000, 10000, 40000]\n",
    "num_alternate_rounds = 1000\n",
    "num_test = 10000"
   ]
  },
  {
   "cell_type": "markdown",
   "metadata": {},
   "source": [
    "# Run Game"
   ]
  },
  {
   "cell_type": "code",
   "execution_count": 4,
   "metadata": {},
   "outputs": [
    {
     "name": "stdout",
     "output_type": "stream",
     "text": [
      "(array([1.5, 0.5]), array([-4.,  4.]))\n",
      "Stage 1 finished. Performing estimation now\n",
      "Stage 1 finished. Performing estimation now\n",
      "Stage 2 finished. Finding qs now.\n",
      "Stage 2 finished. Finding qs now.\n",
      "5.49075744509879\n",
      "6.496634005476843\n",
      "4.540195258411655\n",
      "1.6003429861552052\n",
      "(array([1.5, 0.5]), array([-4.,  4.]))\n",
      "Stage 1 finished. Performing estimation now\n",
      "Stage 1 finished. Performing estimation now\n",
      "Stage 2 finished. Finding qs now.\n",
      "Stage 2 finished. Finding qs now.\n",
      "6.7615063995473745\n",
      "10.464569907935047\n",
      "2.54727293100174\n",
      "1.211914533609614\n",
      "(array([1.5, 0.5]), array([-4.,  4.]))\n",
      "Stage 1 finished. Performing estimation now\n",
      "Stage 1 finished. Performing estimation now\n",
      "Stage 2 finished. Finding qs now.\n",
      "Stage 2 finished. Finding qs now.\n",
      "28.92096972756537\n",
      "73.02078648208133\n",
      "2.2001769860509635\n",
      "1.0443344192530826\n",
      "(array([1.5, 0.5]), array([-4.,  4.]))\n",
      "Stage 1 finished. Performing estimation now\n",
      "Stage 1 finished. Performing estimation now\n",
      "Stage 2 finished. Finding qs now.\n",
      "Stage 2 finished. Finding qs now.\n",
      "6.093138851096153\n",
      "3.5829211069234472\n",
      "2.260953675173163\n",
      "1.0223684783181144\n",
      "(array([1.5, 0.5]), array([-4.,  4.]))\n",
      "Stage 1 finished. Performing estimation now\n",
      "Stage 1 finished. Performing estimation now\n",
      "Stage 2 finished. Finding qs now.\n",
      "Stage 2 finished. Finding qs now.\n",
      "29.953589945930954\n",
      "10.499222826110717\n",
      "2.2129851349102063\n",
      "1.027662625012351\n"
     ]
    }
   ],
   "source": [
    "#Initialize game with configurations specified above\n",
    "\n",
    "\n",
    "for num_rounds in num_rounds_lst:\n",
    "    player_two = TwoStagePlayer()\n",
    "    player_one = TwoStagePlayer()\n",
    "    game = DecisionDependentGame(player_one, player_two, p1_data_params, p2_data_params, \n",
    "                             p1_data_generating_func, p2_data_generating_func, \n",
    "                             num_rounds, num_alternate_rounds, num_test)\n",
    "    print(game.solve_nash())\n",
    "    game.run_train()\n",
    "    \n",
    "    print(game.evaluate_test_perf_risk_p1())\n",
    "    print(game.evaluate_test_perf_risk_p2())\n",
    "    \n",
    "    game.run_post_train_alternating()\n",
    "    \n",
    "    print(game.evaluate_test_perf_risk_p1())\n",
    "    print(game.evaluate_test_perf_risk_p2())\n",
    "    \n",
    "    #Change this flag if one wants to change print settings\n",
    "    if False:\n",
    "        print(\"---------------------\")\n",
    "        print(\"Player 1\")\n",
    "        print(mu_p1, gamma_p1)\n",
    "        print(player_one.mu_hat, player_one.gamma_hat)\n",
    "\n",
    "        print(\"Player 2\")\n",
    "        print(mu_p2, gamma_p2)\n",
    "        print(player_two.mu_hat, player_two.gamma_hat)"
   ]
  },
  {
   "cell_type": "code",
   "execution_count": 5,
   "metadata": {},
   "outputs": [],
   "source": [
    "if False:\n",
    "    print(mu_p1, gamma_p1)\n",
    "    print(player_one.mu_hat, player_one.gamma_hat)\n",
    "\n",
    "    print(mu_p2, gamma_p2)\n",
    "    print(player_two.mu_hat, player_two.gamma_hat)\n",
    "\n",
    "    print(game.evaluate_test_perf_risk_p1())\n",
    "    print(game.evaluate_test_perf_risk_p2())"
   ]
  },
  {
   "cell_type": "code",
   "execution_count": 6,
   "metadata": {},
   "outputs": [
    {
     "data": {
      "text/plain": [
       "(array([1.5, 0.5]), array([-4.,  4.]))"
      ]
     },
     "execution_count": 6,
     "metadata": {},
     "output_type": "execute_result"
    }
   ],
   "source": [
    "game.solve_nash()"
   ]
  },
  {
   "cell_type": "markdown",
   "metadata": {},
   "source": [
    "## Checking stage 1"
   ]
  },
  {
   "cell_type": "code",
   "execution_count": 7,
   "metadata": {},
   "outputs": [
    {
     "name": "stdout",
     "output_type": "stream",
     "text": [
      "[ 2.1123807  -1.79650061] [1.18516172 0.90853582]\n",
      "[-2.78799242  2.19420615] [ 0.71014845 -0.29098006]\n"
     ]
    }
   ],
   "source": [
    "print(player_one.mu_hat, player_one.gamma_hat)\n",
    "print(player_two.mu_hat, player_two.gamma_hat)"
   ]
  },
  {
   "cell_type": "code",
   "execution_count": 8,
   "metadata": {},
   "outputs": [
    {
     "name": "stdout",
     "output_type": "stream",
     "text": [
      "[ 2.1 -1.8] [1.2 0.9]\n",
      "[-2.8  2.2] [ 0.7 -0.3]\n"
     ]
    }
   ],
   "source": [
    "print(mu_p1, gamma_p1)\n",
    "print(mu_p2, gamma_p2)"
   ]
  },
  {
   "cell_type": "markdown",
   "metadata": {},
   "source": [
    "## Evaluate the performative risks before and after Stage 3"
   ]
  },
  {
   "cell_type": "code",
   "execution_count": 9,
   "metadata": {},
   "outputs": [
    {
     "data": {
      "text/plain": [
       "2.250693442898109"
      ]
     },
     "execution_count": 9,
     "metadata": {},
     "output_type": "execute_result"
    }
   ],
   "source": [
    "game.evaluate_test_perf_risk_p1()"
   ]
  },
  {
   "cell_type": "code",
   "execution_count": 10,
   "metadata": {},
   "outputs": [
    {
     "data": {
      "text/plain": [
       "1.041499970660623"
      ]
     },
     "execution_count": 10,
     "metadata": {},
     "output_type": "execute_result"
    }
   ],
   "source": [
    "game.evaluate_test_perf_risk_p2()"
   ]
  },
  {
   "cell_type": "code",
   "execution_count": 11,
   "metadata": {},
   "outputs": [
    {
     "data": {
      "text/plain": [
       "array([-0.58991312, -0.75757562])"
      ]
     },
     "execution_count": 11,
     "metadata": {},
     "output_type": "execute_result"
    }
   ],
   "source": [
    "player_one.theta_history[-1]\n",
    "player_two.theta_history[-1]"
   ]
  }
 ],
 "metadata": {
  "kernelspec": {
   "display_name": "Python 3",
   "language": "python",
   "name": "python3"
  },
  "language_info": {
   "codemirror_mode": {
    "name": "ipython",
    "version": 3
   },
   "file_extension": ".py",
   "mimetype": "text/x-python",
   "name": "python",
   "nbconvert_exporter": "python",
   "pygments_lexer": "ipython3",
   "version": "3.7.3"
  }
 },
 "nbformat": 4,
 "nbformat_minor": 2
}
