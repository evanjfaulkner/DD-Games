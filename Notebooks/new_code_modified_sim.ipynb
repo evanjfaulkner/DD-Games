{
 "cells": [
  {
   "cell_type": "code",
   "execution_count": 14,
   "metadata": {},
   "outputs": [],
   "source": [
    "import numpy as np\n",
    "import sys\n",
    "import ipdb\n",
    "\n",
    "sys.path.append(\"../\")\n",
    "\n",
    "sys.path.append(\"../utils/\")\n",
    "from utils_functions import *\n",
    "\n",
    "from dd_game import *\n",
    "from two_stage_player import *"
   ]
  },
  {
   "cell_type": "markdown",
   "metadata": {},
   "source": [
    "# Configurations"
   ]
  },
  {
   "cell_type": "code",
   "execution_count": 15,
   "metadata": {},
   "outputs": [],
   "source": [
    "#TODO: There are many configuration parameters here. It is important to understand the effect of all.\n",
    "d = 2\n",
    "coeff_var = 1\n",
    "\n",
    "Sigma_x_p1 = np.eye(d)\n",
    "Sigma_x_p2 = np.eye(d)\n",
    "\n",
    "sigma_y_p1 = 1\n",
    "sigma_y_p2 = 1\n",
    "\n",
    "beta_p1 = np.random.normal(size = d)\n",
    "beta_p2 = np.random.normal(size = d)\n",
    "\n",
    "\"\"\"\n",
    "mu_p1 = np.random.normal(scale = coeff_var, size = d)\n",
    "mu_p2 = np.random.normal(scale = coeff_var, size = d)\n",
    "gamma_p1 = np.random.normal(scale = coeff_var, size = d)\n",
    "gamma_p2 = np.random.normal(scale = coeff_var, size = d)\n",
    "\"\"\"\n",
    "\n",
    "#Fixing mu and gamma for testing purposes\n",
    "mu_p1 = np.array([2.1, -1.8])\n",
    "gamma_p1 = np.array([1.2, 0.9])\n",
    "mu_p2 = np.array([-2.8, 2.2])\n",
    "gamma_p2 = np.array([0.7, -0.3])"
   ]
  },
  {
   "cell_type": "code",
   "execution_count": 16,
   "metadata": {},
   "outputs": [],
   "source": [
    "p1_data_params = (Sigma_x_p1, sigma_y_p1, beta_p1, mu_p1, gamma_p1)\n",
    "p1_data_generating_func = sample_from_location_family\n",
    "\n",
    "p2_data_params = (Sigma_x_p2, sigma_y_p2, beta_p2, mu_p2, gamma_p2)\n",
    "p2_data_generating_func = sample_from_location_family\n",
    "\n",
    "num_rounds_lst = [10, 100, 1000, 10000, 40000]\n",
    "num_alternate_rounds = 1000\n",
    "num_test = 10000"
   ]
  },
  {
   "cell_type": "markdown",
   "metadata": {},
   "source": [
    "# Run Game"
   ]
  },
  {
   "cell_type": "code",
   "execution_count": 17,
   "metadata": {},
   "outputs": [
    {
     "name": "stdout",
     "output_type": "stream",
     "text": [
      "Stage 1 finished. Performing estimation now\n",
      "Stage 1 finished. Performing estimation now\n",
      "Stage 2 finished. Finding qs now.\n",
      "Stage 2 finished. Finding qs now.\n",
      "---------------------\n",
      "Player 1\n",
      "[ 2.1 -1.8] [1.2 0.9]\n",
      "[ 2.59658323 -1.53613243] [ 0.04367939 -2.22639563]\n",
      "Player 2\n",
      "[-2.8  2.2] [ 0.7 -0.3]\n",
      "[-3.23211196 -0.13386714] [ 0.6474658  -1.50188569]\n",
      "Stage 1 finished. Performing estimation now\n",
      "Stage 1 finished. Performing estimation now\n",
      "Stage 2 finished. Finding qs now.\n",
      "Stage 2 finished. Finding qs now.\n",
      "---------------------\n",
      "Player 1\n",
      "[ 2.1 -1.8] [1.2 0.9]\n",
      "[ 2.02904738 -1.94941939] [1.63571681 0.63913216]\n",
      "Player 2\n",
      "[-2.8  2.2] [ 0.7 -0.3]\n",
      "[-2.66656638  2.19608912] [ 0.73466731 -0.48520135]\n",
      "Stage 1 finished. Performing estimation now\n",
      "Stage 1 finished. Performing estimation now\n",
      "Stage 2 finished. Finding qs now.\n",
      "Stage 2 finished. Finding qs now.\n",
      "---------------------\n",
      "Player 1\n",
      "[ 2.1 -1.8] [1.2 0.9]\n",
      "[ 2.12504064 -1.73713103] [1.13866399 0.82581274]\n",
      "Player 2\n",
      "[-2.8  2.2] [ 0.7 -0.3]\n",
      "[-2.74940494  2.19763337] [ 0.59095155 -0.39553485]\n",
      "Stage 1 finished. Performing estimation now\n",
      "Stage 1 finished. Performing estimation now\n",
      "Stage 2 finished. Finding qs now.\n",
      "Stage 2 finished. Finding qs now.\n",
      "---------------------\n",
      "Player 1\n",
      "[ 2.1 -1.8] [1.2 0.9]\n",
      "[ 2.12931261 -1.7653967 ] [1.17560479 0.89783117]\n",
      "Player 2\n",
      "[-2.8  2.2] [ 0.7 -0.3]\n",
      "[-2.78633359  2.198516  ] [ 0.69777342 -0.29084237]\n",
      "Stage 1 finished. Performing estimation now\n",
      "Stage 1 finished. Performing estimation now\n",
      "Stage 2 finished. Finding qs now.\n",
      "Stage 2 finished. Finding qs now.\n",
      "---------------------\n",
      "Player 1\n",
      "[ 2.1 -1.8] [1.2 0.9]\n",
      "[ 2.08998115 -1.79014962] [1.19133436 0.92513648]\n",
      "Player 2\n",
      "[-2.8  2.2] [ 0.7 -0.3]\n",
      "[-2.79098286  2.20984645] [ 0.69805986 -0.29857337]\n"
     ]
    }
   ],
   "source": [
    "#Initialize game with configurations specified above\n",
    "\n",
    "\n",
    "for num_rounds in num_rounds_lst:\n",
    "    player_two = TwoStagePlayer()\n",
    "    player_one = TwoStagePlayer()\n",
    "    game = DecisionDependentGame(player_one, player_two, p1_data_params, p2_data_params, \n",
    "                             p1_data_generating_func, p2_data_generating_func, \n",
    "                             num_rounds, num_alternate_rounds, num_test)\n",
    "    game.run_train()\n",
    "    print(\"---------------------\")\n",
    "    print(\"Player 1\")\n",
    "    print(mu_p1, gamma_p1)\n",
    "    print(player_one.mu_hat, player_one.gamma_hat)\n",
    "    \n",
    "    print(\"Player 2\")\n",
    "    print(mu_p2, gamma_p2)\n",
    "    print(player_two.mu_hat, player_two.gamma_hat)"
   ]
  },
  {
   "cell_type": "code",
   "execution_count": 5,
   "metadata": {},
   "outputs": [],
   "source": [
    "#game.run_train()"
   ]
  },
  {
   "cell_type": "markdown",
   "metadata": {},
   "source": [
    "## Checking stage 1"
   ]
  },
  {
   "cell_type": "code",
   "execution_count": 6,
   "metadata": {},
   "outputs": [
    {
     "name": "stdout",
     "output_type": "stream",
     "text": [
      "[ 2.19722211 -1.65796154] [1.14222762 0.91727065]\n",
      "[-3.07443107  2.25700635] [ 0.52519599 -0.42916865]\n"
     ]
    }
   ],
   "source": [
    "print(player_one.mu_hat, player_one.gamma_hat)\n",
    "print(player_two.mu_hat, player_two.gamma_hat)"
   ]
  },
  {
   "cell_type": "code",
   "execution_count": 7,
   "metadata": {},
   "outputs": [
    {
     "name": "stdout",
     "output_type": "stream",
     "text": [
      "[ 2.1 -1.8] [1.2 0.9]\n",
      "[-2.8  2.2] [ 0.7 -0.3]\n"
     ]
    }
   ],
   "source": [
    "print(mu_p1, gamma_p1)\n",
    "print(mu_p2, gamma_p2)"
   ]
  },
  {
   "cell_type": "markdown",
   "metadata": {},
   "source": [
    "## Evaluate the performative risks before and after Stage 3"
   ]
  },
  {
   "cell_type": "code",
   "execution_count": 8,
   "metadata": {},
   "outputs": [
    {
     "data": {
      "text/plain": [
       "124.5059923748503"
      ]
     },
     "execution_count": 8,
     "metadata": {},
     "output_type": "execute_result"
    }
   ],
   "source": [
    "game.evaluate_test_perf_risk_p1()"
   ]
  },
  {
   "cell_type": "code",
   "execution_count": 9,
   "metadata": {},
   "outputs": [
    {
     "data": {
      "text/plain": [
       "103.75116427300328"
      ]
     },
     "execution_count": 9,
     "metadata": {},
     "output_type": "execute_result"
    }
   ],
   "source": [
    "game.evaluate_test_perf_risk_p2()"
   ]
  },
  {
   "cell_type": "code",
   "execution_count": 10,
   "metadata": {},
   "outputs": [
    {
     "data": {
      "text/plain": [
       "array([-0.10587816, -0.63755366])"
      ]
     },
     "execution_count": 10,
     "metadata": {},
     "output_type": "execute_result"
    }
   ],
   "source": [
    "player_one.theta_history[-1]\n",
    "player_two.theta_history[-1]"
   ]
  }
 ],
 "metadata": {
  "kernelspec": {
   "display_name": "Python 3",
   "language": "python",
   "name": "python3"
  },
  "language_info": {
   "codemirror_mode": {
    "name": "ipython",
    "version": 3
   },
   "file_extension": ".py",
   "mimetype": "text/x-python",
   "name": "python",
   "nbconvert_exporter": "python",
   "pygments_lexer": "ipython3",
   "version": "3.7.3"
  }
 },
 "nbformat": 4,
 "nbformat_minor": 2
}
