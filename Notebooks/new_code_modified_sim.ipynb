{
 "cells": [
  {
   "cell_type": "markdown",
   "metadata": {},
   "source": [
    "# Decision Dependent Games Simulation\n",
    "## Synthetic Linear Regression Problem with Location Families\n",
    "\n",
    "We extend the linear regression example from Miller et. al. (http://arxiv.org/abs/2102.08570) to the multiplayer framework where the models of each player affect the distributions of data seen by all."
   ]
  },
  {
   "cell_type": "code",
   "execution_count": 1,
   "metadata": {},
   "outputs": [],
   "source": [
    "import numpy as np\n",
    "import sys\n",
    "import ipdb\n",
    "\n",
    "sys.path.append(\"../\")\n",
    "\n",
    "sys.path.append(\"../utils/\")\n",
    "from utils_functions import *\n",
    "\n",
    "from dd_game import *\n",
    "from two_stage_player import *\n",
    "\n",
    "import matplotlib.pyplot as plt\n",
    "import seaborn as sns\n",
    "sns.set_style('darkgrid')"
   ]
  },
  {
   "cell_type": "markdown",
   "metadata": {},
   "source": [
    "The performative 2-player linear regression problem is set up as follows. For each player $k\\in\\{1,2\\}$ we generate data\n",
    "\n",
    "$$x^k \\sim \\mathcal{N}(0,\\Sigma_{x^k}),\\quad U^k \\sim \\mathcal{N}(0,\\sigma_{y^k}), \\quad y^k = \\langle \\beta^k, x^k \\rangle + \\langle \\mu^k, \\theta^k \\rangle + \\langle \\gamma^k, \\theta^{-k} \\rangle + U^k$$\n",
    "\n",
    "Where $x^k\\in\\mathbb{R}^d, y^k\\in\\mathbb{R}, U^k\\in\\mathbb{R}$. The performative effects are given by $\\mu^k,\\gamma^k$, which are drawn randomly by sampling a vector from the radius $\\varepsilon^k$ spheres in $\\mathbb{R}^{d_1+d_2}$ so that the distribution map for each player is $\\varepsilon^k$-sensitive.\n",
    "$$\\varepsilon^k = \\sqrt{||\\mu^k||_2^2+||\\gamma^k||_2^2}$$"
   ]
  },
  {
   "cell_type": "markdown",
   "metadata": {},
   "source": [
    "# Configurations"
   ]
  },
  {
   "cell_type": "code",
   "execution_count": 2,
   "metadata": {},
   "outputs": [],
   "source": [
    "d_1 = 2  # Dimension of each player's data/strategy\n",
    "d_2 = 2\n",
    "\n",
    "epsilon_1 = 1  # Epsilon sensitivity parameters\n",
    "epsilon_2 = 1\n",
    "\n",
    "Sigma_x_p1 = np.eye(d_1)  # Covariance of x^k\n",
    "Sigma_x_p2 = np.eye(d_2)\n",
    "\n",
    "sigma_y_p1 = 0  # Variance of y^k\n",
    "sigma_y_p2 = 0\n",
    "\n",
    "beta_p1 = np.random.normal(size=d_1)  # Linear parameter vector\n",
    "beta_p2 = np.random.normal(size=d_2)\n",
    "\n",
    "s_1 = sample_sphere(epsilon_1,d_1+d_2)  # Performativity parameters\n",
    "mu_p1 = s_1[0:d_1]\n",
    "gamma_p1 = s_1[d_1:]\n",
    "s_2 = sample_sphere(epsilon_2,d_1+d_2)\n",
    "mu_p2 = s_2[0:d_2]\n",
    "gamma_p2 = s_2[d_2:]\n",
    "\n",
    "#Fixing mu and gamma for testing purposes\n",
    "if False:\n",
    "    mu_p2 = np.array([2.1, -1.8])\n",
    "    gamma_p2 = np.array([1.2, 0.9])\n",
    "    mu_p1 = np.array([-2.8, 2.2])\n",
    "    gamma_p1 = np.array([0.7, -0.3])\n",
    "\n",
    "if False:\n",
    "    mu_p1 = np.array([0, 0])\n",
    "    gamma_p1 = np.array([1, 1])\n",
    "    mu_p2 = np.array([0, 0])\n",
    "    gamma_p2 = np.array([1, 1])"
   ]
  },
  {
   "cell_type": "code",
   "execution_count": 3,
   "metadata": {},
   "outputs": [],
   "source": [
    "p1_data_params = (Sigma_x_p1, sigma_y_p1, beta_p1, mu_p1, gamma_p1)\n",
    "p1_data_generating_func = sample_from_location_family\n",
    "\n",
    "p2_data_params = (Sigma_x_p2, sigma_y_p2, beta_p2, mu_p2, gamma_p2)\n",
    "p2_data_generating_func = sample_from_location_family"
   ]
  },
  {
   "cell_type": "code",
   "execution_count": 4,
   "metadata": {},
   "outputs": [],
   "source": [
    "num_rounds_lst = [10, 100, 1000, 10000, 40000, 100000]\n",
    "num_alternate_rounds = 50\n",
    "num_test = 10000"
   ]
  },
  {
   "cell_type": "markdown",
   "metadata": {},
   "source": [
    "# Run Game"
   ]
  },
  {
   "cell_type": "code",
   "execution_count": 5,
   "metadata": {},
   "outputs": [
    {
     "name": "stdout",
     "output_type": "stream",
     "text": [
      "Stage 1 finished. Performing estimation now\n",
      "Stage 1 finished. Performing estimation now\n",
      "Stage 2 finished. Finding qs now.\n",
      "Stage 2 finished. Finding qs now.\n",
      "---------------------\n",
      "Player 1: Actual mu, gamma\n",
      "[0.1200017  0.01444183] [0.63926721 0.22628926]\n",
      "Player 1: Estimated mu, gamma\n",
      "[ 0.02828541 -0.14927554] [0.83623146 0.12117929]\n",
      "Player 2: Actual mu, gamma\n",
      "[0.04958545 0.53524682] [0.20342115 0.21174658]\n",
      "Player 2: Estimated mu, gamma\n",
      "[-0.39470778  0.76579736] [0.53062952 0.0968504 ]\n",
      "Stage 1 finished. Performing estimation now\n",
      "Stage 1 finished. Performing estimation now\n",
      "Stage 2 finished. Finding qs now.\n",
      "Stage 2 finished. Finding qs now.\n",
      "---------------------\n",
      "Player 1: Actual mu, gamma\n",
      "[0.1200017  0.01444183] [0.63926721 0.22628926]\n",
      "Player 1: Estimated mu, gamma\n",
      "[ 0.12958666 -0.00651223] [0.60233152 0.17217569]\n",
      "Player 2: Actual mu, gamma\n",
      "[0.04958545 0.53524682] [0.20342115 0.21174658]\n",
      "Player 2: Estimated mu, gamma\n",
      "[0.03607237 0.39832838] [ 0.33363233 -0.33987735]\n",
      "Stage 1 finished. Performing estimation now\n",
      "Stage 1 finished. Performing estimation now\n",
      "Stage 2 finished. Finding qs now.\n",
      "Stage 2 finished. Finding qs now.\n",
      "---------------------\n",
      "Player 1: Actual mu, gamma\n",
      "[0.1200017  0.01444183] [0.63926721 0.22628926]\n",
      "Player 1: Estimated mu, gamma\n",
      "[0.12566437 0.00204695] [0.61978174 0.2392776 ]\n",
      "Player 2: Actual mu, gamma\n",
      "[0.04958545 0.53524682] [0.20342115 0.21174658]\n",
      "Player 2: Estimated mu, gamma\n",
      "[-0.02073356  0.55249567] [0.1728324  0.22005128]\n",
      "Stage 1 finished. Performing estimation now\n",
      "Stage 1 finished. Performing estimation now\n",
      "Stage 2 finished. Finding qs now.\n",
      "Stage 2 finished. Finding qs now.\n",
      "---------------------\n",
      "Player 1: Actual mu, gamma\n",
      "[0.1200017  0.01444183] [0.63926721 0.22628926]\n",
      "Player 1: Estimated mu, gamma\n",
      "[0.11592467 0.01023054] [0.6366896  0.22144222]\n",
      "Player 2: Actual mu, gamma\n",
      "[0.04958545 0.53524682] [0.20342115 0.21174658]\n",
      "Player 2: Estimated mu, gamma\n",
      "[0.04911685 0.54789657] [0.18409386 0.20364366]\n",
      "Stage 1 finished. Performing estimation now\n",
      "Stage 1 finished. Performing estimation now\n",
      "Stage 2 finished. Finding qs now.\n",
      "Stage 2 finished. Finding qs now.\n",
      "---------------------\n",
      "Player 1: Actual mu, gamma\n",
      "[0.1200017  0.01444183] [0.63926721 0.22628926]\n",
      "Player 1: Estimated mu, gamma\n",
      "[0.11876558 0.01250727] [0.64044295 0.22570521]\n",
      "Player 2: Actual mu, gamma\n",
      "[0.04958545 0.53524682] [0.20342115 0.21174658]\n",
      "Player 2: Estimated mu, gamma\n",
      "[0.04475582 0.5292646 ] [0.1984233  0.21549798]\n",
      "Stage 1 finished. Performing estimation now\n",
      "Stage 1 finished. Performing estimation now\n",
      "Stage 2 finished. Finding qs now.\n",
      "Stage 2 finished. Finding qs now.\n",
      "---------------------\n",
      "Player 1: Actual mu, gamma\n",
      "[0.1200017  0.01444183] [0.63926721 0.22628926]\n",
      "Player 1: Estimated mu, gamma\n",
      "[0.11989115 0.01610966] [0.64036992 0.22495224]\n",
      "Player 2: Actual mu, gamma\n",
      "[0.04958545 0.53524682] [0.20342115 0.21174658]\n",
      "Player 2: Estimated mu, gamma\n",
      "[0.0444972 0.5341692] [0.20047399 0.21464437]\n"
     ]
    }
   ],
   "source": [
    "#Initialize game with configurations specified above\n",
    "p1_risks = []\n",
    "p2_risks = []\n",
    "theta_final_p1 = []\n",
    "theta_final_p2 = []\n",
    "\n",
    "for num_rounds in num_rounds_lst:\n",
    "    player_two = TwoStagePlayer()\n",
    "    player_one = TwoStagePlayer()\n",
    "    game = DecisionDependentGame(player_one, player_two,\n",
    "                                 p1_data_params, p2_data_params,\n",
    "                                 p1_data_generating_func, p2_data_generating_func,\n",
    "                                 num_rounds, num_alternate_rounds, num_test)\n",
    "    \n",
    "    game.run_train()\n",
    "    game.run_post_train_alternating()\n",
    "    \n",
    "    p1_risks.append(game.evaluate_test_perf_risk_p1())\n",
    "    p2_risks.append(game.evaluate_test_perf_risk_p2())\n",
    "    \n",
    "    theta_final_p1.append(game.theta_p1)\n",
    "    theta_final_p2.append(game.theta_p2)\n",
    "    \n",
    "    #Change this flag if one wants to change print settings\n",
    "    if True:\n",
    "        print(\"---------------------\")\n",
    "        print(\"Player 1: Actual mu, gamma\")\n",
    "        print(mu_p1, gamma_p1)\n",
    "        print(\"Player 1: Estimated mu, gamma\")\n",
    "        print(player_one.mu_hat, player_one.gamma_hat)\n",
    "\n",
    "        print(\"Player 2: Actual mu, gamma\")\n",
    "        print(mu_p2, gamma_p2)\n",
    "        print(\"Player 2: Estimated mu, gamma\")\n",
    "        print(player_two.mu_hat, player_two.gamma_hat)"
   ]
  },
  {
   "cell_type": "code",
   "execution_count": 6,
   "metadata": {},
   "outputs": [
    {
     "data": {
      "text/plain": [
       "array([0.03096091, 0.24583162])"
      ]
     },
     "execution_count": 6,
     "metadata": {},
     "output_type": "execute_result"
    }
   ],
   "source": [
    "theta_PO_1, theta_PO_2 = game.solve_nash()\n",
    "theta_PO_1"
   ]
  },
  {
   "cell_type": "code",
   "execution_count": 7,
   "metadata": {},
   "outputs": [
    {
     "data": {
      "text/plain": [
       "array([[ 0.41637889,  1.42051857],\n",
       "       [ 0.04616243,  0.32022551],\n",
       "       [-0.01553779,  0.21851818],\n",
       "       [ 0.02857949,  0.23861866],\n",
       "       [ 0.02848257,  0.24736931],\n",
       "       [ 0.03308784,  0.24312463]])"
      ]
     },
     "execution_count": 7,
     "metadata": {},
     "output_type": "execute_result"
    }
   ],
   "source": [
    "theta_final_p1 = np.array(theta_final_p1)\n",
    "theta_final_p2 = np.array(theta_final_p2)\n",
    "theta_final_p1"
   ]
  },
  {
   "cell_type": "code",
   "execution_count": 8,
   "metadata": {},
   "outputs": [
    {
     "data": {
      "text/plain": [
       "[2.2660126491080987,\n",
       " 0.33778514926466263,\n",
       " 0.285534344225554,\n",
       " 0.271707009655292,\n",
       " 0.26618065606528013,\n",
       " 0.25935588032227425]"
      ]
     },
     "execution_count": 8,
     "metadata": {},
     "output_type": "execute_result"
    }
   ],
   "source": [
    "p1_risks"
   ]
  },
  {
   "cell_type": "code",
   "execution_count": 9,
   "metadata": {},
   "outputs": [
    {
     "data": {
      "text/plain": [
       "[1.3266978442451403,\n",
       " 0.37777454316579795,\n",
       " 0.30548428537071415,\n",
       " 0.31381141745877983,\n",
       " 0.31977546558031417,\n",
       " 0.31297067404646445]"
      ]
     },
     "execution_count": 9,
     "metadata": {},
     "output_type": "execute_result"
    }
   ],
   "source": [
    "p2_risks"
   ]
  },
  {
   "cell_type": "code",
   "execution_count": 10,
   "metadata": {},
   "outputs": [],
   "source": [
    "if False:\n",
    "    print(mu_p1, gamma_p1)\n",
    "    print(player_one.mu_hat.round(2), player_one.gamma_hat.round(2))\n",
    "\n",
    "    print(mu_p2, gamma_p2)\n",
    "    print(player_two.mu_hat.round(2), player_two.gamma_hat.round(2))\n",
    "\n",
    "    print(game.solve_nash())\n",
    "    print(game.solve_social_opt())\n",
    "    \n",
    "    print(game.evaluate_test_perf_risk_p1().round(3))\n",
    "    print(game.evaluate_test_perf_risk_p2().round(3))"
   ]
  },
  {
   "cell_type": "markdown",
   "metadata": {},
   "source": [
    "## Checking stage 1"
   ]
  },
  {
   "cell_type": "code",
   "execution_count": 11,
   "metadata": {},
   "outputs": [
    {
     "name": "stdout",
     "output_type": "stream",
     "text": [
      "[0.11989115 0.01610966] [0.64036992 0.22495224]\n",
      "[0.0444972 0.5341692] [0.20047399 0.21464437]\n"
     ]
    }
   ],
   "source": [
    "print(player_one.mu_hat, player_one.gamma_hat)\n",
    "print(player_two.mu_hat, player_two.gamma_hat)"
   ]
  },
  {
   "cell_type": "code",
   "execution_count": 12,
   "metadata": {},
   "outputs": [
    {
     "name": "stdout",
     "output_type": "stream",
     "text": [
      "[0.1200017  0.01444183] [0.63926721 0.22628926]\n",
      "[0.04958545 0.53524682] [0.20342115 0.21174658]\n"
     ]
    }
   ],
   "source": [
    "print(mu_p1, gamma_p1)\n",
    "print(mu_p2, gamma_p2)"
   ]
  },
  {
   "cell_type": "markdown",
   "metadata": {},
   "source": [
    "## Evaluate the performative risks before and after Stage 3"
   ]
  },
  {
   "cell_type": "code",
   "execution_count": 13,
   "metadata": {},
   "outputs": [
    {
     "name": "stdout",
     "output_type": "stream",
     "text": [
      "Player 1 PR = 0.26\tPlayer 2 PR = 0.317\n"
     ]
    }
   ],
   "source": [
    "PR_1 = game.evaluate_test_perf_risk_p1()\n",
    "PR_2 = game.evaluate_test_perf_risk_p2()\n",
    "print(f'Player 1 PR = {PR_1.round(3)}\\tPlayer 2 PR = {PR_2.round(3)}')"
   ]
  },
  {
   "cell_type": "code",
   "execution_count": 14,
   "metadata": {},
   "outputs": [
    {
     "name": "stdout",
     "output_type": "stream",
     "text": [
      "[0.03308784 0.24312463]\n",
      "[0.50627109 0.77027451]\n"
     ]
    }
   ],
   "source": [
    "print(player_one.theta_history[-1])\n",
    "print(player_two.theta_history[-1])"
   ]
  },
  {
   "cell_type": "code",
   "execution_count": 15,
   "metadata": {},
   "outputs": [
    {
     "name": "stdout",
     "output_type": "stream",
     "text": [
      "Player 1 PO = 0.259\tPlayer 2 PO = 0.316\n"
     ]
    }
   ],
   "source": [
    "game.theta_p1, game.theta_p2 = game.solve_nash()\n",
    "PO_1 = game.evaluate_test_perf_risk_p1()\n",
    "PO_2 = game.evaluate_test_perf_risk_p2()\n",
    "print(f'Player 1 PO = {PO_1.round(3)}\\tPlayer 2 PO = {PO_2.round(3)}')"
   ]
  },
  {
   "cell_type": "code",
   "execution_count": 16,
   "metadata": {},
   "outputs": [
    {
     "name": "stdout",
     "output_type": "stream",
     "text": [
      "Player 1 SO = 0.122\tPlayer 2 SO = 0.376\n"
     ]
    }
   ],
   "source": [
    "game.theta_p1, game.theta_p2 = game.solve_social_opt()\n",
    "SO_1 = game.evaluate_test_perf_risk_p1()\n",
    "SO_2 = game.evaluate_test_perf_risk_p2()\n",
    "print(f'Player 1 SO = {SO_1.round(3)}\\tPlayer 2 SO = {SO_2.round(3)}')"
   ]
  },
  {
   "cell_type": "markdown",
   "metadata": {},
   "source": [
    "## Plots"
   ]
  },
  {
   "cell_type": "code",
   "execution_count": 17,
   "metadata": {},
   "outputs": [
    {
     "data": {
      "image/png": "[encoded data removed]",
      "text/plain": [
       "<Figure size 720x720 with 1 Axes>"
      ]
     },
     "metadata": {},
     "output_type": "display_data"
    }
   ],
   "source": [
    "plt.figure(figsize=(10,10))\n",
    "x_nash_p1 = [theta_PO_1[0]]\n",
    "y_nash_p1 = [theta_PO_1[1]]\n",
    "plt.scatter(x_nash_p1, y_nash_p1,\n",
    "            label='Nash Equilibrium P1', marker='*', color='g', s=120)\n",
    "\n",
    "x_nash_p2 = theta_PO_2[0]\n",
    "y_nash_p2 = theta_PO_2[1]\n",
    "plt.scatter(x_nash_p2,y_nash_p2,\n",
    "            label='Nash Equilibrium P2', marker='*', color='r', s=120)\n",
    "\n",
    "x2 = theta_final_p1[:, 0]\n",
    "y2 = theta_final_p1[:, 1]\n",
    "plt.plot(x2[1:],y2[1:],\n",
    "         label='P1 trajectory', marker='o', color='g', markersize=5)\n",
    "\n",
    "x3 = theta_final_p2[:, 0]\n",
    "y3 = theta_final_p2[:, 1]\n",
    "plt.plot(x3[1:],y3[1:],\n",
    "         label='P2 trajectory', marker='o', color='r', markersize=5)\n",
    "\n",
    "plt.legend()\n",
    "plt.title(\"Params learned after stage 2 with n points\")\n",
    "plt.show()"
   ]
  },
  {
   "cell_type": "code",
   "execution_count": 19,
   "metadata": {},
   "outputs": [
    {
     "data": {
      "image/png": "[encoded data removed]",
      "text/plain": [
       "<Figure size 1080x360 with 2 Axes>"
      ]
     },
     "metadata": {},
     "output_type": "display_data"
    }
   ],
   "source": [
    "plt.figure(figsize=(15,5))\n",
    "plt.subplot(1,2,1)\n",
    "plt.plot(num_rounds_lst, p1_risks,\n",
    "         color='#5553E6', label='P1 Performative Risk')\n",
    "plt.semilogx(num_rounds_lst, p2_risks,\n",
    "         color='#E07110', label='P2 Performative Risk')\n",
    "plt.semilogx(num_rounds_lst, [PO_1 for i in num_rounds_lst],\n",
    "         '--', color='#5553E6', label='P1 Performative Optimum')\n",
    "plt.semilogx(num_rounds_lst, [PO_2 for i in num_rounds_lst],\n",
    "         '--', color='#E07110', label='P2 Performative Optimum')\n",
    "plt.semilogx(num_rounds_lst, [SO_1 for i in num_rounds_lst],\n",
    "         '-.', color='#5BD9EB', label='P1 Social Optimum')\n",
    "plt.semilogx(num_rounds_lst, [SO_2 for i in num_rounds_lst],\n",
    "         '-.', color='#EBD839', label='P2 Social Optimum')\n",
    "plt.xlabel(\"Num. train points both phases\")\n",
    "plt.ylabel(r\"$PR(\\theta)$\")\n",
    "plt.title(\"Convergence of Performative Risks\")\n",
    "plt.legend()\n",
    "\n",
    "plt.subplot(1,2,2)\n",
    "plt.loglog(num_rounds_lst, p1_risks,\n",
    "         color='#5553E6', label='P1 Performative Risk')\n",
    "plt.loglog(num_rounds_lst, p2_risks,\n",
    "         color='#E07110', label='P2 Performative Risk')\n",
    "plt.loglog(num_rounds_lst, [PO_1 for i in num_rounds_lst],\n",
    "         '--', color='#5553E6', label='P1 Performative Optimum')\n",
    "plt.loglog(num_rounds_lst, [PO_2 for i in num_rounds_lst],\n",
    "         '--', color='#E07110', label='P2 Performative Optimum')\n",
    "plt.loglog(num_rounds_lst, [SO_1 for i in num_rounds_lst],\n",
    "         '-.', color='#5BD9EB', label='P1 Social Optimum')\n",
    "plt.loglog(num_rounds_lst, [SO_2 for i in num_rounds_lst],\n",
    "         '-.', color='#EBD839', label='P2 Social Optimum')\n",
    "plt.ylabel(r\"$\\log(PR(\\theta))$\")\n",
    "plt.show()"
   ]
  },
  {
   "cell_type": "code",
   "execution_count": null,
   "metadata": {},
   "outputs": [],
   "source": []
  }
 ],
 "metadata": {
  "kernelspec": {
   "display_name": "Python 3",
   "language": "python",
   "name": "python3"
  },
  "language_info": {
   "codemirror_mode": {
    "name": "ipython",
    "version": 3
   },
   "file_extension": ".py",
   "mimetype": "text/x-python",
   "name": "python",
   "nbconvert_exporter": "python",
   "pygments_lexer": "ipython3",
   "version": "3.8.5"
  }
 },
 "nbformat": 4,
 "nbformat_minor": 4
}
