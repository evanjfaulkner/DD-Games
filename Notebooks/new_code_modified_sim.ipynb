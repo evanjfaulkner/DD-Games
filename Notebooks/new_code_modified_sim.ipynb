{
 "cells": [
  {
   "cell_type": "code",
   "execution_count": 1,
   "metadata": {},
   "outputs": [],
   "source": [
    "import numpy as np\n",
    "import sys\n",
    "import ipdb\n",
    "\n",
    "sys.path.append(\"../\")\n",
    "\n",
    "sys.path.append(\"../utils/\")\n",
    "from utils_functions import *\n",
    "\n",
    "from dd_game import *\n",
    "from two_stage_player import *"
   ]
  },
  {
   "cell_type": "markdown",
   "metadata": {},
   "source": [
    "# Configurations"
   ]
  },
  {
   "cell_type": "code",
   "execution_count": 2,
   "metadata": {},
   "outputs": [],
   "source": [
    "#TODO: There are many configuration parameters here. It is important to understand the effect of all.\n",
    "d = 2\n",
    "coeff_var = 1\n",
    "\n",
    "Sigma_x_p1 = np.eye(d)\n",
    "Sigma_x_p2 = np.eye(d)\n",
    "\n",
    "sigma_y_p1 = 0\n",
    "sigma_y_p2 = 0\n",
    "\n",
    "beta_p1 = np.random.normal(size = d)\n",
    "beta_p2 = np.random.normal(size = d)\n",
    "\n",
    "mu_p1 = np.random.normal(scale = coeff_var, size = d)\n",
    "mu_p2 = np.random.normal(scale = coeff_var, size = d)\n",
    "gamma_p1 = np.random.normal(scale = coeff_var, size = d)\n",
    "gamma_p2 = np.random.normal(scale = coeff_var, size = d)\n",
    "\n",
    "#Fixing mu and gamma for testing purposes\n",
    "if False:\n",
    "    mu_p2 = np.array([2.1, -1.8])\n",
    "    gamma_p2 = np.array([1.2, 0.9])\n",
    "    mu_p1 = np.array([-2.8, 2.2])\n",
    "    gamma_p1 = np.array([0.7, -0.3])\n",
    "\n",
    "if False:\n",
    "    mu_p1 = np.array([0, 0])\n",
    "    gamma_p1 = np.array([1, 1])\n",
    "    mu_p2 = np.array([0, 0])\n",
    "    gamma_p2 = np.array([1, 1])"
   ]
  },
  {
   "cell_type": "code",
   "execution_count": 3,
   "metadata": {},
   "outputs": [],
   "source": [
    "p1_data_params = (Sigma_x_p1, sigma_y_p1, beta_p1, mu_p1, gamma_p1)\n",
    "p1_data_generating_func = sample_from_location_family\n",
    "\n",
    "p2_data_params = (Sigma_x_p2, sigma_y_p2, beta_p2, mu_p2, gamma_p2)\n",
    "p2_data_generating_func = sample_from_location_family\n",
    "\n",
    "num_rounds_lst = [10, 100, 1000, 10000, 40000]\n",
    "num_alternate_rounds = 10000\n",
    "num_test = 10000"
   ]
  },
  {
   "cell_type": "markdown",
   "metadata": {},
   "source": [
    "# Run Game"
   ]
  },
  {
   "cell_type": "code",
   "execution_count": 4,
   "metadata": {},
   "outputs": [
    {
     "name": "stdout",
     "output_type": "stream",
     "text": [
      "Stage 1 finished. Performing estimation now\n",
      "Stage 1 finished. Performing estimation now\n",
      "Stage 2 finished. Finding qs now.\n",
      "Stage 2 finished. Finding qs now.\n",
      "---------------------\n",
      "Player 1\n",
      "[-1.62006853 -0.64829627] [1.22302896 1.14905918]\n",
      "[-1.41435178 -0.77266509] [0.94591574 1.23647187]\n",
      "Player 2\n",
      "[0.99784833 0.78263443] [-0.27212025  0.31324862]\n",
      "[0.52644049 0.67019277] [0.64678478 1.05436967]\n",
      "Stage 1 finished. Performing estimation now\n",
      "Stage 1 finished. Performing estimation now\n",
      "Stage 2 finished. Finding qs now.\n",
      "Stage 2 finished. Finding qs now.\n",
      "---------------------\n",
      "Player 1\n",
      "[-1.62006853 -0.64829627] [1.22302896 1.14905918]\n",
      "[-1.67259319 -0.6747885 ] [1.25049589 1.14436032]\n",
      "Player 2\n",
      "[0.99784833 0.78263443] [-0.27212025  0.31324862]\n",
      "[1.11194821 0.45134757] [-0.31247668  0.25667477]\n",
      "Stage 1 finished. Performing estimation now\n",
      "Stage 1 finished. Performing estimation now\n",
      "Stage 2 finished. Finding qs now.\n",
      "Stage 2 finished. Finding qs now.\n",
      "---------------------\n",
      "Player 1\n",
      "[-1.62006853 -0.64829627] [1.22302896 1.14905918]\n",
      "[-1.63886754 -0.63111757] [1.20797207 1.18360151]\n",
      "Player 2\n",
      "[0.99784833 0.78263443] [-0.27212025  0.31324862]\n",
      "[1.00833359 0.79401311] [-0.38862729  0.37081346]\n",
      "Stage 1 finished. Performing estimation now\n",
      "Stage 1 finished. Performing estimation now\n",
      "Stage 2 finished. Finding qs now.\n",
      "Stage 2 finished. Finding qs now.\n",
      "---------------------\n",
      "Player 1\n",
      "[-1.62006853 -0.64829627] [1.22302896 1.14905918]\n",
      "[-1.62525766 -0.63883899] [1.229107   1.14082035]\n",
      "Player 2\n",
      "[0.99784833 0.78263443] [-0.27212025  0.31324862]\n",
      "[0.9931921  0.79188959] [-0.28035667  0.3118577 ]\n",
      "Stage 1 finished. Performing estimation now\n",
      "Stage 1 finished. Performing estimation now\n",
      "Stage 2 finished. Finding qs now.\n",
      "Stage 2 finished. Finding qs now.\n",
      "---------------------\n",
      "Player 1\n",
      "[-1.62006853 -0.64829627] [1.22302896 1.14905918]\n",
      "[-1.61965815 -0.64970048] [1.2229349  1.14991866]\n",
      "Player 2\n",
      "[0.99784833 0.78263443] [-0.27212025  0.31324862]\n",
      "[0.99892413 0.78700993] [-0.25703513  0.31454662]\n"
     ]
    }
   ],
   "source": [
    "#Initialize game with configurations specified above\n",
    "p1_risks = []\n",
    "p2_risks = []\n",
    "theta_final_p1 = []\n",
    "theta_final_p2 = []\n",
    "\n",
    "\n",
    "for num_rounds in num_rounds_lst:\n",
    "    player_two = TwoStagePlayer()\n",
    "    player_one = TwoStagePlayer()\n",
    "    game = DecisionDependentGame(player_one, player_two, p1_data_params, p2_data_params, \n",
    "                             p1_data_generating_func, p2_data_generating_func, \n",
    "                             num_rounds, num_alternate_rounds, num_test)\n",
    "    \n",
    "    game.run_train()\n",
    "    game.run_post_train_alternating()\n",
    "    \n",
    "    p1_risks.append(game.evaluate_test_perf_risk_p1())\n",
    "    p2_risks.append(game.evaluate_test_perf_risk_p2())\n",
    "    \n",
    "    theta_final_p1.append(game.theta_p1)\n",
    "    theta_final_p2.append(game.theta_p2)\n",
    "    \n",
    "    #Change this flag if one wants to change print settings\n",
    "    if True:\n",
    "        print(\"---------------------\")\n",
    "        print(\"Player 1\")\n",
    "        print(mu_p1, gamma_p1)\n",
    "        print(player_one.mu_hat, player_one.gamma_hat)\n",
    "\n",
    "        print(\"Player 2\")\n",
    "        print(mu_p2, gamma_p2)\n",
    "        print(player_two.mu_hat, player_two.gamma_hat)"
   ]
  },
  {
   "cell_type": "code",
   "execution_count": 16,
   "metadata": {},
   "outputs": [
    {
     "data": {
      "text/plain": [
       "array([ 0.50813744, -1.02238872])"
      ]
     },
     "execution_count": 16,
     "metadata": {},
     "output_type": "execute_result"
    }
   ],
   "source": [
    "theta_PO_1, theta_PO_2 = game.solve_nash()\n",
    "theta_PO_2"
   ]
  },
  {
   "cell_type": "code",
   "execution_count": 17,
   "metadata": {},
   "outputs": [
    {
     "data": {
      "text/plain": [
       "[array([ 0.04343122, -0.3950157 ]),\n",
       " array([ 0.44214491, -1.14367345]),\n",
       " array([ 0.49711898, -0.98457521]),\n",
       " array([ 0.51962443, -0.99520161]),\n",
       " array([ 0.5258376 , -0.99715729])]"
      ]
     },
     "execution_count": 17,
     "metadata": {},
     "output_type": "execute_result"
    }
   ],
   "source": [
    "theta_final_p2"
   ]
  },
  {
   "cell_type": "code",
   "execution_count": 7,
   "metadata": {},
   "outputs": [
    {
     "data": {
      "text/plain": [
       "array([-0.20040189, -0.46700161])"
      ]
     },
     "execution_count": 7,
     "metadata": {},
     "output_type": "execute_result"
    }
   ],
   "source": [
    "beta_p1"
   ]
  },
  {
   "cell_type": "code",
   "execution_count": 8,
   "metadata": {},
   "outputs": [
    {
     "data": {
      "text/plain": [
       "[0.05208038198988852,\n",
       " 0.007638845321388945,\n",
       " 0.004531289965334142,\n",
       " 0.0035929662129384234,\n",
       " 0.0038535470013841247]"
      ]
     },
     "execution_count": 8,
     "metadata": {},
     "output_type": "execute_result"
    }
   ],
   "source": [
    "p1_risks"
   ]
  },
  {
   "cell_type": "code",
   "execution_count": 9,
   "metadata": {},
   "outputs": [
    {
     "data": {
      "text/plain": [
       "[0.956080336857491,\n",
       " 0.3819308789291651,\n",
       " 0.33778924409747096,\n",
       " 0.3322599637249413,\n",
       " 0.34222110487418256]"
      ]
     },
     "execution_count": 9,
     "metadata": {},
     "output_type": "execute_result"
    }
   ],
   "source": [
    "p2_risks"
   ]
  },
  {
   "cell_type": "code",
   "execution_count": 10,
   "metadata": {},
   "outputs": [],
   "source": [
    "if False:\n",
    "    print(mu_p1, gamma_p1)\n",
    "    print(player_one.mu_hat.round(2), player_one.gamma_hat.round(2))\n",
    "\n",
    "    print(mu_p2, gamma_p2)\n",
    "    print(player_two.mu_hat.round(2), player_two.gamma_hat.round(2))\n",
    "\n",
    "    print(game.solve_nash())\n",
    "    print(game.solve_social_opt())\n",
    "    \n",
    "    print(game.evaluate_test_perf_risk_p1().round(3))\n",
    "    print(game.evaluate_test_perf_risk_p2().round(3))"
   ]
  },
  {
   "cell_type": "markdown",
   "metadata": {},
   "source": [
    "## Checking stage 1"
   ]
  },
  {
   "cell_type": "code",
   "execution_count": 11,
   "metadata": {},
   "outputs": [
    {
     "name": "stdout",
     "output_type": "stream",
     "text": [
      "[-1.61965815 -0.64970048] [1.2229349  1.14991866]\n",
      "[0.99892413 0.78700993] [-0.25703513  0.31454662]\n"
     ]
    }
   ],
   "source": [
    "print(player_one.mu_hat, player_one.gamma_hat)\n",
    "print(player_two.mu_hat, player_two.gamma_hat)"
   ]
  },
  {
   "cell_type": "code",
   "execution_count": 12,
   "metadata": {},
   "outputs": [
    {
     "name": "stdout",
     "output_type": "stream",
     "text": [
      "[-1.62006853 -0.64829627] [1.22302896 1.14905918]\n",
      "[0.99784833 0.78263443] [-0.27212025  0.31324862]\n"
     ]
    }
   ],
   "source": [
    "print(mu_p1, gamma_p1)\n",
    "print(mu_p2, gamma_p2)"
   ]
  },
  {
   "cell_type": "markdown",
   "metadata": {},
   "source": [
    "## Evaluate the performative risks before and after Stage 3"
   ]
  },
  {
   "cell_type": "code",
   "execution_count": 13,
   "metadata": {},
   "outputs": [
    {
     "ename": "NameError",
     "evalue": "name 'a' is not defined",
     "output_type": "error",
     "traceback": [
      "\u001b[0;31m---------------------------------------------------------------------------\u001b[0m",
      "\u001b[0;31mNameError\u001b[0m                                 Traceback (most recent call last)",
      "\u001b[0;32m<ipython-input-13-3f786850e387>\u001b[0m in \u001b[0;36m<module>\u001b[0;34m\u001b[0m\n\u001b[0;32m----> 1\u001b[0;31m \u001b[0ma\u001b[0m\u001b[0;34m\u001b[0m\u001b[0;34m\u001b[0m\u001b[0m\n\u001b[0m",
      "\u001b[0;31mNameError\u001b[0m: name 'a' is not defined"
     ]
    }
   ],
   "source": [
    "a"
   ]
  },
  {
   "cell_type": "code",
   "execution_count": null,
   "metadata": {},
   "outputs": [],
   "source": [
    "PR_1 = game.evaluate_test_perf_risk_p1()\n",
    "PR_2 = game.evaluate_test_perf_risk_p2()\n",
    "print(f'Player 1 PR = {PR_1.round(3)}\\tPlayer 2 PR = {PR_2.round(3)}')"
   ]
  },
  {
   "cell_type": "code",
   "execution_count": null,
   "metadata": {},
   "outputs": [],
   "source": [
    "print(player_one.theta_history[-1])\n",
    "print(player_two.theta_history[-1])"
   ]
  },
  {
   "cell_type": "code",
   "execution_count": null,
   "metadata": {},
   "outputs": [],
   "source": [
    "game.theta_p1, game.theta_p2 = game.solve_nash()\n",
    "PO_1 = game.evaluate_test_perf_risk_p1()\n",
    "PO_2 = game.evaluate_test_perf_risk_p2()\n",
    "print(f'Player 1 PO = {PO_1.round(3)}\\tPlayer 2 PO = {PO_2.round(3)}')"
   ]
  },
  {
   "cell_type": "code",
   "execution_count": null,
   "metadata": {},
   "outputs": [],
   "source": [
    "game.theta_p1, game.theta_p2 = game.solve_social_opt()\n",
    "SO_1 = game.evaluate_test_perf_risk_p1()\n",
    "SO_2 = game.evaluate_test_perf_risk_p2()\n",
    "print(f'Player 1 SO = {SO_1.round(3)}\\tPlayer 2 SO = {SO_2.round(3)}')"
   ]
  }
 ],
 "metadata": {
  "kernelspec": {
   "display_name": "Python 3",
   "language": "python",
   "name": "python3"
  },
  "language_info": {
   "codemirror_mode": {
    "name": "ipython",
    "version": 3
   },
   "file_extension": ".py",
   "mimetype": "text/x-python",
   "name": "python",
   "nbconvert_exporter": "python",
   "pygments_lexer": "ipython3",
   "version": "3.7.3"
  }
 },
 "nbformat": 4,
 "nbformat_minor": 4
}
