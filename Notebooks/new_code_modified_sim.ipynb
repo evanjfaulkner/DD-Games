{
 "cells": [
  {
   "cell_type": "code",
   "execution_count": 1,
   "metadata": {},
   "outputs": [],
   "source": [
    "import numpy as np\n",
    "import sys\n",
    "import ipdb\n",
    "\n",
    "sys.path.append(\"../\")\n",
    "\n",
    "sys.path.append(\"../utils/\")\n",
    "from utils_functions import *\n",
    "\n",
    "from dd_game import *\n",
    "from two_stage_player import *\n",
    "\n",
    "import matplotlib.pyplot as plt\n",
    "import seaborn as sns\n",
    "sns.set_style('darkgrid')"
   ]
  },
  {
   "cell_type": "markdown",
   "metadata": {},
   "source": [
    "# Configurations"
   ]
  },
  {
   "cell_type": "code",
   "execution_count": 2,
   "metadata": {},
   "outputs": [],
   "source": [
    "#TODO: There are many configuration parameters here. It is important to understand the effect of all.\n",
    "d = 2\n",
    "coeff_var = 1\n",
    "\n",
    "Sigma_x_p1 = np.eye(d)\n",
    "Sigma_x_p2 = np.eye(d)\n",
    "\n",
    "sigma_y_p1 = 0\n",
    "sigma_y_p2 = 0\n",
    "\n",
    "beta_p1 = np.random.normal(size=d)\n",
    "beta_p2 = np.random.normal(size=d)\n",
    "\n",
    "mu_p1 = np.random.normal(scale=coeff_var, size=d)\n",
    "mu_p2 = np.random.normal(scale=coeff_var, size=d)\n",
    "gamma_p1 = np.random.normal(scale=coeff_var, size=d)\n",
    "gamma_p2 = np.random.normal(scale=coeff_var, size=d)\n",
    "\n",
    "#Fixing mu and gamma for testing purposes\n",
    "if False:\n",
    "    mu_p2 = np.array([2.1, -1.8])\n",
    "    gamma_p2 = np.array([1.2, 0.9])\n",
    "    mu_p1 = np.array([-2.8, 2.2])\n",
    "    gamma_p1 = np.array([0.7, -0.3])\n",
    "\n",
    "if False:\n",
    "    mu_p1 = np.array([0, 0])\n",
    "    gamma_p1 = np.array([1, 1])\n",
    "    mu_p2 = np.array([0, 0])\n",
    "    gamma_p2 = np.array([1, 1])"
   ]
  },
  {
   "cell_type": "code",
   "execution_count": 3,
   "metadata": {},
   "outputs": [],
   "source": [
    "p1_data_params = (Sigma_x_p1, sigma_y_p1, beta_p1, mu_p1, gamma_p1)\n",
    "p1_data_generating_func = sample_from_location_family\n",
    "\n",
    "p2_data_params = (Sigma_x_p2, sigma_y_p2, beta_p2, mu_p2, gamma_p2)\n",
    "p2_data_generating_func = sample_from_location_family"
   ]
  },
  {
   "cell_type": "code",
   "execution_count": 4,
   "metadata": {},
   "outputs": [],
   "source": [
    "num_rounds_lst = [10, 100, 1000, 10000, 40000, 100000]\n",
    "num_alternate_rounds = 50\n",
    "num_test = 10000"
   ]
  },
  {
   "cell_type": "markdown",
   "metadata": {},
   "source": [
    "# Run Game"
   ]
  },
  {
   "cell_type": "code",
   "execution_count": 5,
   "metadata": {},
   "outputs": [
    {
     "name": "stdout",
     "output_type": "stream",
     "text": [
      "Stage 1 finished. Performing estimation now\n",
      "Stage 1 finished. Performing estimation now\n",
      "Stage 2 finished. Finding qs now.\n",
      "Stage 2 finished. Finding qs now.\n",
      "---------------------\n",
      "Player 1: Actual mu, gamma\n",
      "[ 0.56169405 -0.2479162 ] [ 0.95193634 -0.46011103]\n",
      "Player 1: Estimated mu, gamma\n",
      "[ 2.13683325 -0.09353807] [6.58819885 0.43938395]\n",
      "Player 2: Actual mu, gamma\n",
      "[0.79450241 0.66336077] [0.58653929 1.39785571]\n",
      "Player 2: Estimated mu, gamma\n",
      "[8.91859887e+00 2.53193622e-03] [3.44350732 1.37108857]\n",
      "Stage 1 finished. Performing estimation now\n",
      "Stage 1 finished. Performing estimation now\n",
      "Stage 2 finished. Finding qs now.\n",
      "Stage 2 finished. Finding qs now.\n",
      "---------------------\n",
      "Player 1: Actual mu, gamma\n",
      "[ 0.56169405 -0.2479162 ] [ 0.95193634 -0.46011103]\n",
      "Player 1: Estimated mu, gamma\n",
      "[ 0.55494079 -0.31106903] [ 1.13069286 -0.33186544]\n",
      "Player 2: Actual mu, gamma\n",
      "[0.79450241 0.66336077] [0.58653929 1.39785571]\n",
      "Player 2: Estimated mu, gamma\n",
      "[0.79751755 1.1977773 ] [0.97833307 2.05357283]\n",
      "Stage 1 finished. Performing estimation now\n",
      "Stage 1 finished. Performing estimation now\n",
      "Stage 2 finished. Finding qs now.\n",
      "Stage 2 finished. Finding qs now.\n",
      "---------------------\n",
      "Player 1: Actual mu, gamma\n",
      "[ 0.56169405 -0.2479162 ] [ 0.95193634 -0.46011103]\n",
      "Player 1: Estimated mu, gamma\n",
      "[ 0.52510969 -0.34066107] [ 0.91707127 -0.43801637]\n",
      "Player 2: Actual mu, gamma\n",
      "[0.79450241 0.66336077] [0.58653929 1.39785571]\n",
      "Player 2: Estimated mu, gamma\n",
      "[0.76903201 0.72448004] [0.5660811  1.55252181]\n",
      "Stage 1 finished. Performing estimation now\n",
      "Stage 1 finished. Performing estimation now\n",
      "Stage 2 finished. Finding qs now.\n",
      "Stage 2 finished. Finding qs now.\n",
      "---------------------\n",
      "Player 1: Actual mu, gamma\n",
      "[ 0.56169405 -0.2479162 ] [ 0.95193634 -0.46011103]\n",
      "Player 1: Estimated mu, gamma\n",
      "[ 0.57546265 -0.24339812] [ 0.93143464 -0.43405775]\n",
      "Player 2: Actual mu, gamma\n",
      "[0.79450241 0.66336077] [0.58653929 1.39785571]\n",
      "Player 2: Estimated mu, gamma\n",
      "[0.80921788 0.66797626] [0.60368674 1.40416942]\n",
      "Stage 1 finished. Performing estimation now\n",
      "Stage 1 finished. Performing estimation now\n",
      "Stage 2 finished. Finding qs now.\n",
      "Stage 2 finished. Finding qs now.\n",
      "---------------------\n",
      "Player 1: Actual mu, gamma\n",
      "[ 0.56169405 -0.2479162 ] [ 0.95193634 -0.46011103]\n",
      "Player 1: Estimated mu, gamma\n",
      "[ 0.56234282 -0.24675243] [ 0.95328619 -0.4565652 ]\n",
      "Player 2: Actual mu, gamma\n",
      "[0.79450241 0.66336077] [0.58653929 1.39785571]\n",
      "Player 2: Estimated mu, gamma\n",
      "[0.79763696 0.65790476] [0.58062875 1.39611988]\n",
      "Stage 1 finished. Performing estimation now\n",
      "Stage 1 finished. Performing estimation now\n",
      "Stage 2 finished. Finding qs now.\n",
      "Stage 2 finished. Finding qs now.\n",
      "---------------------\n",
      "Player 1: Actual mu, gamma\n",
      "[ 0.56169405 -0.2479162 ] [ 0.95193634 -0.46011103]\n",
      "Player 1: Estimated mu, gamma\n",
      "[ 0.55819302 -0.25366657] [ 0.95103592 -0.46124815]\n",
      "Player 2: Actual mu, gamma\n",
      "[0.79450241 0.66336077] [0.58653929 1.39785571]\n",
      "Player 2: Estimated mu, gamma\n",
      "[0.78314374 0.65942589] [0.58557461 1.38732952]\n"
     ]
    }
   ],
   "source": [
    "#Initialize game with configurations specified above\n",
    "p1_risks = []\n",
    "p2_risks = []\n",
    "theta_final_p1 = []\n",
    "theta_final_p2 = []\n",
    "\n",
    "for num_rounds in num_rounds_lst:\n",
    "    player_two = TwoStagePlayer()\n",
    "    player_one = TwoStagePlayer()\n",
    "    game = DecisionDependentGame(player_one, player_two,\n",
    "                                 p1_data_params, p2_data_params,\n",
    "                                 p1_data_generating_func, p2_data_generating_func,\n",
    "                                 num_rounds, num_alternate_rounds, num_test)\n",
    "    \n",
    "    game.run_train()\n",
    "    game.run_post_train_alternating()\n",
    "    \n",
    "    p1_risks.append(game.evaluate_test_perf_risk_p1())\n",
    "    p2_risks.append(game.evaluate_test_perf_risk_p2())\n",
    "    \n",
    "    theta_final_p1.append(game.theta_p1)\n",
    "    theta_final_p2.append(game.theta_p2)\n",
    "    \n",
    "    #Change this flag if one wants to change print settings\n",
    "    if True:\n",
    "        print(\"---------------------\")\n",
    "        print(\"Player 1: Actual mu, gamma\")\n",
    "        print(mu_p1, gamma_p1)\n",
    "        print(\"Player 1: Estimated mu, gamma\")\n",
    "        print(player_one.mu_hat, player_one.gamma_hat)\n",
    "\n",
    "        print(\"Player 2: Actual mu, gamma\")\n",
    "        print(mu_p2, gamma_p2)\n",
    "        print(\"Player 2: Estimated mu, gamma\")\n",
    "        print(player_two.mu_hat, player_two.gamma_hat)"
   ]
  },
  {
   "cell_type": "code",
   "execution_count": 6,
   "metadata": {},
   "outputs": [
    {
     "data": {
      "text/plain": [
       "array([1.08849721, 0.67543574])"
      ]
     },
     "execution_count": 6,
     "metadata": {},
     "output_type": "execute_result"
    }
   ],
   "source": [
    "theta_PO_1, theta_PO_2 = game.solve_nash()\n",
    "theta_PO_1"
   ]
  },
  {
   "cell_type": "code",
   "execution_count": 7,
   "metadata": {},
   "outputs": [
    {
     "data": {
      "text/plain": [
       "array([[2.77419738, 1.45377018],\n",
       "       [1.08568473, 0.78648129],\n",
       "       [1.01565341, 0.64551502],\n",
       "       [1.02617264, 0.69669792],\n",
       "       [1.03354665, 0.7044807 ],\n",
       "       [1.03161238, 0.70246003]])"
      ]
     },
     "execution_count": 7,
     "metadata": {},
     "output_type": "execute_result"
    }
   ],
   "source": [
    "theta_final_p1 = np.array(theta_final_p1)\n",
    "theta_final_p2 = np.array(theta_final_p2)\n",
    "theta_final_p1"
   ]
  },
  {
   "cell_type": "code",
   "execution_count": 8,
   "metadata": {},
   "outputs": [
    {
     "data": {
      "text/plain": [
       "[5.9560347697623195,\n",
       " 0.3450039876751397,\n",
       " 0.7318608537441826,\n",
       " 0.720785988072134,\n",
       " 0.7050806202445471,\n",
       " 0.6628968690163498]"
      ]
     },
     "execution_count": 8,
     "metadata": {},
     "output_type": "execute_result"
    }
   ],
   "source": [
    "p1_risks"
   ]
  },
  {
   "cell_type": "code",
   "execution_count": 9,
   "metadata": {},
   "outputs": [
    {
     "data": {
      "text/plain": [
       "[24.887482463470345,\n",
       " 5.321616930664694,\n",
       " 3.809583286053464,\n",
       " 3.974037581953242,\n",
       " 4.007436006361958,\n",
       " 3.997135440521595]"
      ]
     },
     "execution_count": 9,
     "metadata": {},
     "output_type": "execute_result"
    }
   ],
   "source": [
    "p2_risks"
   ]
  },
  {
   "cell_type": "code",
   "execution_count": 10,
   "metadata": {},
   "outputs": [],
   "source": [
    "if False:\n",
    "    print(mu_p1, gamma_p1)\n",
    "    print(player_one.mu_hat.round(2), player_one.gamma_hat.round(2))\n",
    "\n",
    "    print(mu_p2, gamma_p2)\n",
    "    print(player_two.mu_hat.round(2), player_two.gamma_hat.round(2))\n",
    "\n",
    "    print(game.solve_nash())\n",
    "    print(game.solve_social_opt())\n",
    "    \n",
    "    print(game.evaluate_test_perf_risk_p1().round(3))\n",
    "    print(game.evaluate_test_perf_risk_p2().round(3))"
   ]
  },
  {
   "cell_type": "markdown",
   "metadata": {},
   "source": [
    "## Checking stage 1"
   ]
  },
  {
   "cell_type": "code",
   "execution_count": 11,
   "metadata": {},
   "outputs": [
    {
     "name": "stdout",
     "output_type": "stream",
     "text": [
      "[ 0.55819302 -0.25366657] [ 0.95103592 -0.46124815]\n",
      "[0.78314374 0.65942589] [0.58557461 1.38732952]\n"
     ]
    }
   ],
   "source": [
    "print(player_one.mu_hat, player_one.gamma_hat)\n",
    "print(player_two.mu_hat, player_two.gamma_hat)"
   ]
  },
  {
   "cell_type": "code",
   "execution_count": 12,
   "metadata": {},
   "outputs": [
    {
     "name": "stdout",
     "output_type": "stream",
     "text": [
      "[ 0.56169405 -0.2479162 ] [ 0.95193634 -0.46011103]\n",
      "[0.79450241 0.66336077] [0.58653929 1.39785571]\n"
     ]
    }
   ],
   "source": [
    "print(mu_p1, gamma_p1)\n",
    "print(mu_p2, gamma_p2)"
   ]
  },
  {
   "cell_type": "markdown",
   "metadata": {},
   "source": [
    "## Evaluate the performative risks before and after Stage 3"
   ]
  },
  {
   "cell_type": "code",
   "execution_count": 13,
   "metadata": {},
   "outputs": [
    {
     "name": "stdout",
     "output_type": "stream",
     "text": [
      "Player 1 PR = 0.664\tPlayer 2 PR = 4.004\n"
     ]
    }
   ],
   "source": [
    "PR_1 = game.evaluate_test_perf_risk_p1()\n",
    "PR_2 = game.evaluate_test_perf_risk_p2()\n",
    "print(f'Player 1 PR = {PR_1.round(3)}\\tPlayer 2 PR = {PR_2.round(3)}')"
   ]
  },
  {
   "cell_type": "code",
   "execution_count": 14,
   "metadata": {},
   "outputs": [
    {
     "name": "stdout",
     "output_type": "stream",
     "text": [
      "[1.03161238 0.70246003]\n",
      "[-0.8177612   0.69557882]\n"
     ]
    }
   ],
   "source": [
    "print(player_one.theta_history[-1])\n",
    "print(player_two.theta_history[-1])"
   ]
  },
  {
   "cell_type": "code",
   "execution_count": 15,
   "metadata": {},
   "outputs": [
    {
     "name": "stdout",
     "output_type": "stream",
     "text": [
      "Player 1 PO = 0.688\tPlayer 2 PO = 3.851\n"
     ]
    }
   ],
   "source": [
    "game.theta_p1, game.theta_p2 = game.solve_nash()\n",
    "PO_1 = game.evaluate_test_perf_risk_p1()\n",
    "PO_2 = game.evaluate_test_perf_risk_p2()\n",
    "print(f'Player 1 PO = {PO_1.round(3)}\\tPlayer 2 PO = {PO_2.round(3)}')"
   ]
  },
  {
   "cell_type": "code",
   "execution_count": 16,
   "metadata": {},
   "outputs": [
    {
     "name": "stdout",
     "output_type": "stream",
     "text": [
      "Player 1 SO = 0.741\tPlayer 2 SO = 1.645\n"
     ]
    }
   ],
   "source": [
    "game.theta_p1, game.theta_p2 = game.solve_social_opt()\n",
    "SO_1 = game.evaluate_test_perf_risk_p1()\n",
    "SO_2 = game.evaluate_test_perf_risk_p2()\n",
    "print(f'Player 1 SO = {SO_1.round(3)}\\tPlayer 2 SO = {SO_2.round(3)}')"
   ]
  },
  {
   "cell_type": "markdown",
   "metadata": {},
   "source": [
    "## Plots"
   ]
  },
  {
   "cell_type": "code",
   "execution_count": 17,
   "metadata": {},
   "outputs": [
    {
     "data": {
      "image/png": "[encoded data removed]",
      "text/plain": [
       "<Figure size 432x288 with 1 Axes>"
      ]
     },
     "metadata": {},
     "output_type": "display_data"
    }
   ],
   "source": [
    "x_nash_p1 = [theta_PO_1[0]]\n",
    "y_nash_p1 = [theta_PO_1[1]]\n",
    "plt.scatter(x_nash_p1, y_nash_p1,\n",
    "            label='Nash Equilibrium P1', marker='*', color='g', s=120)\n",
    "\n",
    "x_nash_p2 = theta_PO_2[0]\n",
    "y_nash_p2 = theta_PO_2[1]\n",
    "plt.scatter(x_nash_p2,y_nash_p2,\n",
    "            label='Nash Equilibrium P2', marker='*', color='r', s=120)\n",
    "\n",
    "x2 = theta_final_p1[:, 0]\n",
    "y2 = theta_final_p1[:, 1]\n",
    "plt.plot(x2[1:],y2[1:],\n",
    "         label='P1 trajectory', marker='o', color='g', markersize=5)\n",
    "\n",
    "x3 = theta_final_p2[:, 0]\n",
    "y3 = theta_final_p2[:, 1]\n",
    "plt.plot(x3[1:],y3[1:],\n",
    "         label='P2 trajectory', marker='o', color='r', markersize=5)\n",
    "\n",
    "plt.legend()\n",
    "plt.title(\"Params learned after stage 2 with n points\")\n",
    "plt.show()"
   ]
  },
  {
   "cell_type": "code",
   "execution_count": 18,
   "metadata": {},
   "outputs": [
    {
     "data": {
      "image/png": "[encoded data removed]",
      "text/plain": [
       "<Figure size 864x288 with 2 Axes>"
      ]
     },
     "metadata": {},
     "output_type": "display_data"
    }
   ],
   "source": [
    "plt.figure(figsize=(15,4))\n",
    "plt.subplot(1,2,1)\n",
    "plt.plot(num_rounds_lst, p1_risks,\n",
    "         color='#5553E6', label='P1 Performative Risk')\n",
    "plt.plot(num_rounds_lst, p2_risks,\n",
    "         color='#E07110', label='P2 Performative Risk')\n",
    "plt.plot(num_rounds_lst, [PO_1 for i in num_rounds_lst],\n",
    "         '--', color='#5553E6', label='P1 Performative Optimum')\n",
    "plt.plot(num_rounds_lst, [PO_2 for i in num_rounds_lst],\n",
    "         '--', color='#E07110', label='P2 Performative Optimum')\n",
    "plt.plot(num_rounds_lst, [SO_1 for i in num_rounds_lst],\n",
    "         '-.', color='#5BD9EB', label='P1 Social Optimum')\n",
    "plt.plot(num_rounds_lst, [SO_2 for i in num_rounds_lst],\n",
    "         '-.', color='#EBD839', label='P2 Social Optimum')\n",
    "plt.xlabel(\"Num. train points both phases\")\n",
    "plt.ylabel(r\"$PR(\\theta)$\")\n",
    "plt.title(\"Convergence of Performative Risks\")\n",
    "plt.legend()\n",
    "\n",
    "plt.subplot(1,2,2)\n",
    "plt.semilogy(num_rounds_lst, p1_risks,\n",
    "         color='#5553E6', label='P1 Performative Risk')\n",
    "plt.semilogy(num_rounds_lst, p2_risks,\n",
    "         color='#E07110', label='P2 Performative Risk')\n",
    "plt.semilogy(num_rounds_lst, [PO_1 for i in num_rounds_lst],\n",
    "         '--', color='#5553E6', label='P1 Performative Optimum')\n",
    "plt.semilogy(num_rounds_lst, [PO_2 for i in num_rounds_lst],\n",
    "         '--', color='#E07110', label='P2 Performative Optimum')\n",
    "plt.semilogy(num_rounds_lst, [SO_1 for i in num_rounds_lst],\n",
    "         '-.', color='#5BD9EB', label='P1 Social Optimum')\n",
    "plt.semilogy(num_rounds_lst, [SO_2 for i in num_rounds_lst],\n",
    "         '-.', color='#EBD839', label='P2 Social Optimum')\n",
    "plt.ylabel(r\"\\log(PR(\\theta))\")\n",
    "plt.show()"
   ]
  },
  {
   "cell_type": "code",
   "execution_count": null,
   "metadata": {},
   "outputs": [],
   "source": []
  }
 ],
 "metadata": {
  "kernelspec": {
   "display_name": "Python 3",
   "language": "python",
   "name": "python3"
  },
  "language_info": {
   "codemirror_mode": {
    "name": "ipython",
    "version": 3
   },
   "file_extension": ".py",
   "mimetype": "text/x-python",
   "name": "python",
   "nbconvert_exporter": "python",
   "pygments_lexer": "ipython3",
   "version": "3.8.5"
  }
 },
 "nbformat": 4,
 "nbformat_minor": 4
}
