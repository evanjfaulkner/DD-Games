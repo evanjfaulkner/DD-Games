{
 "cells": [
  {
   "cell_type": "markdown",
   "metadata": {},
   "source": [
    "# Decision Dependent Games Simulation\n",
    "## Synthetic Linear Regression Problem with Location Families\n",
    "\n",
    "We extend the linear regression example from Miller et. al. (http://arxiv.org/abs/2102.08570) to the multiplayer framework where the models of each player affect the distributions of data seen by all."
   ]
  },
  {
   "cell_type": "code",
   "execution_count": 1,
   "metadata": {},
   "outputs": [],
   "source": [
    "import numpy as np\n",
    "import sys\n",
    "import ipdb\n",
    "\n",
    "sys.path.append(\"../\")\n",
    "\n",
    "sys.path.append(\"../utils/\")\n",
    "from utils_functions import *\n",
    "\n",
    "from dd_game import *\n",
    "from two_stage_player import *\n",
    "\n",
    "import matplotlib.pyplot as plt\n",
    "import seaborn as sns\n",
    "sns.set_style('darkgrid')"
   ]
  },
  {
   "cell_type": "markdown",
   "metadata": {},
   "source": [
    "The performative 2-player linear regression problem is set up as follows. For each player $k\\in\\{1,2\\}$ we generate data\n",
    "\n",
    "$$x^k \\sim \\mathcal{N}(0,\\Sigma_{x^k}),\\quad U^k \\sim \\mathcal{N}(0,\\sigma_{y^k}), \\quad y^k = \\langle \\beta^k, x^k \\rangle + \\langle \\mu^k, \\theta^k \\rangle + \\langle \\gamma^k, \\theta^{-k} \\rangle + U^k$$\n",
    "\n",
    "Where $x^k\\in\\mathbb{R}^d, y^k\\in\\mathbb{R}, U^k\\in\\mathbb{R}$. The performative effects are given by $\\mu^k,\\gamma^k$, which are drawn randomly by sampling a vector from the radius $\\varepsilon^k$ spheres in $\\mathbb{R}^{d_1+d_2}$ so that the distribution map for each player is $\\varepsilon^k$-sensitive.\n",
    "$$\\varepsilon^k = \\sqrt{||\\mu^k||_2^2+||\\gamma^k||_2^2}$$"
   ]
  },
  {
   "cell_type": "markdown",
   "metadata": {},
   "source": [
    "# Configurations"
   ]
  },
  {
   "cell_type": "code",
   "execution_count": 2,
   "metadata": {},
   "outputs": [],
   "source": [
    "d_1 = 2  # Dimension of each player's data/strategy\n",
    "d_2 = 2\n",
    "\n",
    "epsilon_1 = 1  # Epsilon sensitivity parameters\n",
    "epsilon_2 = 1\n",
    "\n",
    "Sigma_x_p1 = np.eye(d_1)  # Covariance of x^k\n",
    "Sigma_x_p2 = np.eye(d_2)\n",
    "\n",
    "sigma_y_p1 = 0  # Variance of y^k\n",
    "sigma_y_p2 = 0\n",
    "\n",
    "beta_p1 = np.random.normal(size=d_1)  # Linear parameter vector\n",
    "beta_p2 = np.random.normal(size=d_2)\n",
    "\n",
    "s_1 = sample_sphere(epsilon_1,d_1+d_2)  # Performativity parameters\n",
    "mu_p1 = s_1[0:d_1]\n",
    "gamma_p1 = s_1[d_1:]\n",
    "s_2 = sample_sphere(epsilon_2,d_1+d_2)\n",
    "mu_p2 = s_2[0:d_2]\n",
    "gamma_p2 = s_2[d_2:]\n",
    "\n",
    "#Fixing mu and gamma for testing purposes\n",
    "if False:\n",
    "    mu_p2 = np.array([2.1, -1.8])\n",
    "    gamma_p2 = np.array([1.2, 0.9])\n",
    "    mu_p1 = np.array([-2.8, 2.2])\n",
    "    gamma_p1 = np.array([0.7, -0.3])\n",
    "\n",
    "if True:\n",
    "    #mu_p1 = np.array([0, 0])\n",
    "    gamma_p1 = np.array([0, 0])\n",
    "    #mu_p2 = np.array([0, 0])\n",
    "    gamma_p2 = np.array([0, 0])"
   ]
  },
  {
   "cell_type": "code",
   "execution_count": 3,
   "metadata": {},
   "outputs": [],
   "source": [
    "p1_data_params = (Sigma_x_p1, sigma_y_p1, beta_p1, mu_p1, gamma_p1)\n",
    "p1_data_generating_func = sample_from_location_family\n",
    "\n",
    "p2_data_params = (Sigma_x_p2, sigma_y_p2, beta_p2, mu_p2, gamma_p2)\n",
    "p2_data_generating_func = sample_from_location_family"
   ]
  },
  {
   "cell_type": "code",
   "execution_count": 4,
   "metadata": {},
   "outputs": [],
   "source": [
    "num_rounds_lst = [10, 100, 1000, 10000, 40000, 100000]\n",
    "num_alternate_rounds = 50\n",
    "num_test = 10000"
   ]
  },
  {
   "cell_type": "markdown",
   "metadata": {},
   "source": [
    "# Run Game"
   ]
  },
  {
   "cell_type": "code",
   "execution_count": 5,
   "metadata": {},
   "outputs": [
    {
     "name": "stdout",
     "output_type": "stream",
     "text": [
      "Stage 1 finished. Performing estimation now\n",
      "Stage 1 finished. Performing estimation now\n",
      "Stage 2 finished. Finding qs now.\n",
      "Stage 2 finished. Finding qs now.\n",
      "---------------------\n",
      "Player 1: Actual mu, gamma\n",
      "[8.97352093e-06 4.00119697e-01] [0 0]\n",
      "Player 1: Estimated mu, gamma\n",
      "[-0.29519208 -0.46763652] [-0.11938538 -0.63673219]\n",
      "Player 2: Actual mu, gamma\n",
      "[0.22323763 0.38840028] [0 0]\n",
      "Player 2: Estimated mu, gamma\n",
      "[0.01954454 1.53060374] [-0.10856331  0.65603156]\n",
      "Stage 1 finished. Performing estimation now\n",
      "Stage 1 finished. Performing estimation now\n",
      "Stage 2 finished. Finding qs now.\n",
      "Stage 2 finished. Finding qs now.\n",
      "---------------------\n",
      "Player 1: Actual mu, gamma\n",
      "[8.97352093e-06 4.00119697e-01] [0 0]\n",
      "Player 1: Estimated mu, gamma\n",
      "[0.06920379 0.48093725] [ 0.0449008  -0.12777383]\n",
      "Player 2: Actual mu, gamma\n",
      "[0.22323763 0.38840028] [0 0]\n",
      "Player 2: Estimated mu, gamma\n",
      "[0.07890029 0.37310605] [0.08462458 0.09255228]\n",
      "Stage 1 finished. Performing estimation now\n",
      "Stage 1 finished. Performing estimation now\n",
      "Stage 2 finished. Finding qs now.\n",
      "Stage 2 finished. Finding qs now.\n",
      "---------------------\n",
      "Player 1: Actual mu, gamma\n",
      "[8.97352093e-06 4.00119697e-01] [0 0]\n",
      "Player 1: Estimated mu, gamma\n",
      "[-0.00612323  0.38842145] [-0.05219875 -0.04117744]\n",
      "Player 2: Actual mu, gamma\n",
      "[0.22323763 0.38840028] [0 0]\n",
      "Player 2: Estimated mu, gamma\n",
      "[0.17063924 0.43906515] [-0.01681391  0.0538144 ]\n",
      "Stage 1 finished. Performing estimation now\n",
      "Stage 1 finished. Performing estimation now\n",
      "Stage 2 finished. Finding qs now.\n",
      "Stage 2 finished. Finding qs now.\n",
      "---------------------\n",
      "Player 1: Actual mu, gamma\n",
      "[8.97352093e-06 4.00119697e-01] [0 0]\n",
      "Player 1: Estimated mu, gamma\n",
      "[0.00721704 0.39817742] [0.01970208 0.01881961]\n",
      "Player 2: Actual mu, gamma\n",
      "[0.22323763 0.38840028] [0 0]\n",
      "Player 2: Estimated mu, gamma\n",
      "[0.21814472 0.3917727 ] [-0.01912047 -0.01977241]\n",
      "Stage 1 finished. Performing estimation now\n",
      "Stage 1 finished. Performing estimation now\n",
      "Stage 2 finished. Finding qs now.\n",
      "Stage 2 finished. Finding qs now.\n",
      "---------------------\n",
      "Player 1: Actual mu, gamma\n",
      "[8.97352093e-06 4.00119697e-01] [0 0]\n",
      "Player 1: Estimated mu, gamma\n",
      "[-0.00343905  0.40144024] [0.00043311 0.00456011]\n",
      "Player 2: Actual mu, gamma\n",
      "[0.22323763 0.38840028] [0 0]\n",
      "Player 2: Estimated mu, gamma\n",
      "[0.22906378 0.3822325 ] [-0.00232165  0.00026689]\n",
      "Stage 1 finished. Performing estimation now\n",
      "Stage 1 finished. Performing estimation now\n",
      "Stage 2 finished. Finding qs now.\n",
      "Stage 2 finished. Finding qs now.\n",
      "---------------------\n",
      "Player 1: Actual mu, gamma\n",
      "[8.97352093e-06 4.00119697e-01] [0 0]\n",
      "Player 1: Estimated mu, gamma\n",
      "[0.00229717 0.39612198] [ 0.00227436 -0.00073708]\n",
      "Player 2: Actual mu, gamma\n",
      "[0.22323763 0.38840028] [0 0]\n",
      "Player 2: Estimated mu, gamma\n",
      "[0.22119743 0.39178203] [-0.00358275 -0.00356129]\n"
     ]
    }
   ],
   "source": [
    "#Initialize game with configurations specified above\n",
    "p1_risks = []\n",
    "p2_risks = []\n",
    "theta_diff_p1 = []\n",
    "theta_diff_p2 = []\n",
    "\n",
    "for num_rounds in num_rounds_lst:\n",
    "    player_two = TwoStagePlayer()\n",
    "    player_one = TwoStagePlayer()\n",
    "    game = DecisionDependentGame(player_one, player_two,\n",
    "                                 p1_data_params, p2_data_params,\n",
    "                                 p1_data_generating_func, p2_data_generating_func,\n",
    "                                 num_rounds, num_alternate_rounds, num_test)\n",
    "    \n",
    "    game.run_train()\n",
    "    game.run_post_train_alternating()\n",
    "    \n",
    "    theta_PO_1, theta_PO_2 = game.solve_nash()\n",
    "    \n",
    "    p1_risks.append(game.evaluate_test_perf_risk_p1())\n",
    "    p2_risks.append(game.evaluate_test_perf_risk_p2())\n",
    "    \n",
    "    theta_p1 = game.theta_p1\n",
    "    p1_dist_from_nash = np.linalg.norm(theta_p1 - theta_PO_1)\n",
    "    theta_p2 = game.theta_p2\n",
    "    p2_dist_from_nash = np.linalg.norm(theta_p2 - theta_PO_2)\n",
    "\n",
    "    \n",
    "    theta_diff_p1.append(p1_dist_from_nash)\n",
    "    theta_diff_p2.append(p2_dist_from_nash)\n",
    "    \n",
    "    #Change this flag if one wants to change print settings\n",
    "    if True:\n",
    "        print(\"---------------------\")\n",
    "        print(\"Player 1: Actual mu, gamma\")\n",
    "        print(mu_p1, gamma_p1)\n",
    "        print(\"Player 1: Estimated mu, gamma\")\n",
    "        print(player_one.mu_hat, player_one.gamma_hat)\n",
    "\n",
    "        print(\"Player 2: Actual mu, gamma\")\n",
    "        print(mu_p2, gamma_p2)\n",
    "        print(\"Player 2: Estimated mu, gamma\")\n",
    "        print(player_two.mu_hat, player_two.gamma_hat)"
   ]
  },
  {
   "cell_type": "code",
   "execution_count": 18,
   "metadata": {},
   "outputs": [
    {
     "data": {
      "text/plain": [
       "<matplotlib.legend.Legend at 0x121273400>"
      ]
     },
     "execution_count": 18,
     "metadata": {},
     "output_type": "execute_result"
    },
    {
     "data": {
      "image/png": "[encoded data removed]",
      "text/plain": [
       "<Figure size 432x288 with 1 Axes>"
      ]
     },
     "metadata": {
      "needs_background": "light"
     },
     "output_type": "display_data"
    }
   ],
   "source": [
    "plt.plot(num_rounds_lst[1:], theta_diff_p1[1:], label = 'P1 in 1-player game')\n",
    "\n",
    "plt.plot(num_rounds_lst[1:], theta_diff_p1_game[1:], linestyle = '--', label = 'P1 in 2-player game')\n",
    "plt.xscale(\"log\")\n",
    "plt.yscale(\"log\")\n",
    "plt.xlabel(\"num samples\")\n",
    "plt.ylabel(r\"Distance from Nash\")\n",
    "plt.legend()"
   ]
  },
  {
   "cell_type": "code",
   "execution_count": 20,
   "metadata": {},
   "outputs": [
    {
     "data": {
      "text/plain": [
       "<matplotlib.legend.Legend at 0x121ab6860>"
      ]
     },
     "execution_count": 20,
     "metadata": {},
     "output_type": "execute_result"
    },
    {
     "data": {
      "image/png": "[encoded data removed]",
      "text/plain": [
       "<Figure size 432x288 with 1 Axes>"
      ]
     },
     "metadata": {
      "needs_background": "light"
     },
     "output_type": "display_data"
    }
   ],
   "source": [
    "plt.plot(num_rounds_lst[1:], theta_diff_p2[1:], label = 'P2 in 1-player game')\n",
    "\n",
    "plt.plot(num_rounds_lst[1:], theta_diff_p2_game[1:], linestyle = '--', label = 'P2 in 2-player game')\n",
    "plt.xscale(\"log\")\n",
    "plt.yscale(\"log\")\n",
    "plt.xlabel(\"num samples\")\n",
    "plt.ylabel(r\"Distance from Nash\")\n",
    "plt.legend()"
   ]
  },
  {
   "cell_type": "code",
   "execution_count": 7,
   "metadata": {},
   "outputs": [],
   "source": [
    "#np.save(\"/Users/adhyyan/Desktop/theta_diff_p1.npy\", theta_diff_p1)\n",
    "#np.save(\"/Users/adhyyan/Desktop/theta_diff_p2.npy\", theta_diff_p2)"
   ]
  },
  {
   "cell_type": "code",
   "execution_count": 11,
   "metadata": {},
   "outputs": [],
   "source": [
    "theta_diff_p1_game = np.load(\"/Users/adhyyan/Desktop/theta_diff_p1.npy\")\n",
    "theta_diff_p2_game = np.load(\"/Users/adhyyan/Desktop/theta_diff_p2.npy\")"
   ]
  },
  {
   "cell_type": "code",
   "execution_count": null,
   "metadata": {},
   "outputs": [],
   "source": []
  }
 ],
 "metadata": {
  "kernelspec": {
   "display_name": "Python 3",
   "language": "python",
   "name": "python3"
  },
  "language_info": {
   "codemirror_mode": {
    "name": "ipython",
    "version": 3
   },
   "file_extension": ".py",
   "mimetype": "text/x-python",
   "name": "python",
   "nbconvert_exporter": "python",
   "pygments_lexer": "ipython3",
   "version": "3.7.3"
  }
 },
 "nbformat": 4,
 "nbformat_minor": 4
}
