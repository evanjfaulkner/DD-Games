{
 "cells": [
  {
   "cell_type": "code",
   "execution_count": 1,
   "metadata": {},
   "outputs": [
    {
     "name": "stdout",
     "output_type": "stream",
     "text": [
      "reading  20210716_1352_scooter.json\n",
      "reading  20210717_1630AM_scooter.json\n",
      "reading  20210717_840AM_scooter.json\n",
      "reading  20210718_705AM_scooter.json\n",
      "reading  20210719_900AM_scooter.json\n"
     ]
    }
   ],
   "source": [
    "import math\n",
    "import time\n",
    "import numpy as np\n",
    "import pandas as pd\n",
    "import matplotlib.pyplot as plt\n",
    "import os\n",
    "import geopy.distance as dist\n",
    "\n",
    "dir_string = \"../data/20210716-19-scooterdata\"\n",
    "directory = os.fsencode(dir_string)\n",
    "data = pd.DataFrame()\n",
    "    \n",
    "for file in os.listdir(directory):\n",
    "    filename = os.fsdecode(file)\n",
    "    print('reading ',filename)\n",
    "    if filename.endswith(\".json\"):\n",
    "        newdata = pd.read_json(os.path.join(dir_string, filename))\n",
    "        for i in range(newdata.shape[0]):\n",
    "            if 'data' in newdata.alldata[i]:\n",
    "                df = pd.DataFrame(newdata.alldata[i]['data']['bikes'])\n",
    "                df.insert(0,'timestamp', newdata.alldata[i]['last_updated'])\n",
    "                df.insert(0,'company',newdata.alldata[i]['company'])\n",
    "                data = data.append(df, ignore_index=True)\n",
    "                \n",
    "data.to_csv(dir_string + '.csv', index=False)"
   ]
  },
  {
   "cell_type": "code",
   "execution_count": 12,
   "metadata": {},
   "outputs": [
    {
     "name": "stdout",
     "output_type": "stream",
     "text": [
      "10891 unique link ids\n",
      "1000 link ids processed, 856 trips detected\n",
      "2000 link ids processed, 1815 trips detected\n",
      "3000 link ids processed, 2871 trips detected\n",
      "4000 link ids processed, 4046 trips detected\n",
      "5000 link ids processed, 6032 trips detected\n",
      "6000 link ids processed, 7739 trips detected\n",
      "7000 link ids processed, 8421 trips detected\n",
      "8000 link ids processed, 9277 trips detected\n",
      "9000 link ids processed, 9909 trips detected\n",
      "10000 link ids processed, 10662 trips detected\n",
      "852 unique wheels ids\n"
     ]
    }
   ],
   "source": [
    "comp_ = ('link','wheels')\n",
    "trip_count = np.zeros(len(comp_))\n",
    "trip_time = np.zeros(len(comp_))\n",
    "trips = pd.DataFrame()\n",
    "\n",
    "for comp in comp_:\n",
    "    df_comp = data[(data['company']==comp)&(data['is_disabled']==0)]\n",
    "    ids=df_comp['bike_id'].unique()\n",
    "    print(f'{len(ids)} unique {comp} ids')\n",
    "    n = 0\n",
    "    for scooter_id in ids:\n",
    "        coords = df_comp[(df_comp['bike_id']==scooter_id)][['lat','lon','timestamp']].to_numpy()\n",
    "        state = 'stopped'\n",
    "        for i in range(coords.shape[0]-1):\n",
    "            if dist.geodesic((coords[i,0],coords[i,1]),(coords[i+1,0],coords[i+1,1])).km>=0.1:\n",
    "                if state != 'moving':\n",
    "                    time_start = coords[i,2]\n",
    "                    lat_start = coords[i,0]\n",
    "                    lon_start = coords[i,1]\n",
    "                state = 'moving'\n",
    "            else:\n",
    "                if state == 'moving':\n",
    "                    state = 'end trip'\n",
    "                    trips = trips.append({'bike_id':scooter_id, 'company':comp,\n",
    "                                         'time_start':time_start, 'time_end':coords[i,2],\n",
    "                                         'lat_start':lat_start, 'lon_start':lon_start,\n",
    "                                         'lat_end':coords[i,0], 'lon_end':coords[i,1]},\n",
    "                                         ignore_index=True)                    \n",
    "                else:\n",
    "                    state = 'stopped'\n",
    "        n += 1\n",
    "        if n%1000 == 0:\n",
    "            print(f'{n} {comp} ids processed, {len(trips)} trips detected')"
   ]
  },
  {
   "cell_type": "code",
   "execution_count": 17,
   "metadata": {},
   "outputs": [],
   "source": [
    "trips.to_csv('../data/20210716-19-trips.csv', index=False)"
   ]
  },
  {
   "cell_type": "code",
   "execution_count": null,
   "metadata": {},
   "outputs": [],
   "source": []
  }
 ],
 "metadata": {
  "kernelspec": {
   "display_name": "Python 3",
   "language": "python",
   "name": "python3"
  },
  "language_info": {
   "codemirror_mode": {
    "name": "ipython",
    "version": 3
   },
   "file_extension": ".py",
   "mimetype": "text/x-python",
   "name": "python",
   "nbconvert_exporter": "python",
   "pygments_lexer": "ipython3",
   "version": "3.8.5"
  }
 },
 "nbformat": 4,
 "nbformat_minor": 4
}
