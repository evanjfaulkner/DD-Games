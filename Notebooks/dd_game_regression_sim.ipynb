{
 "cells": [
  {
   "cell_type": "markdown",
   "metadata": {},
   "source": [
    "# Decision Dependent Games Simulation\n",
    "## Synthetic Linear Regression Problem with Location Families\n",
    "\n",
    "We extend the linear regression example from Miller et. al. (http://arxiv.org/abs/2102.08570) to the multiplayer framework where the models of each player affect the distributions of data seen by all."
   ]
  },
  {
   "cell_type": "code",
   "execution_count": 1,
   "metadata": {},
   "outputs": [],
   "source": [
    "import numpy as np\n",
    "import sys\n",
    "import ipdb\n",
    "\n",
    "sys.path.append(\"../\")\n",
    "\n",
    "sys.path.append(\"../utils/\")\n",
    "from utils_functions import *\n",
    "\n",
    "from dd_game import *\n",
    "from two_stage_player import *\n",
    "from dfo_player import *\n",
    "from solo_player import *\n",
    "\n",
    "import matplotlib as mpl\n",
    "import matplotlib.pyplot as plt\n",
    "import seaborn as sns\n",
    "sns.set_style('darkgrid')\n",
    "\n",
    "np.random.seed(37)"
   ]
  },
  {
   "cell_type": "markdown",
   "metadata": {},
   "source": [
    "The performative 2-player linear regression problem is set up as follows. For each player $k\\in\\{1,2\\}$ we generate data\n",
    "\n",
    "$$x^k \\sim \\mathcal{N}(0,\\Sigma_{x^k}),\\quad U^k \\sim \\mathcal{N}(0,\\sigma_{y^k}), \\quad y^k = \\langle \\beta^k, x^k \\rangle + \\langle \\mu^k, \\theta^k \\rangle + \\langle \\gamma^k, \\theta^{-k} \\rangle + U^k$$\n",
    "\n",
    "Where $x^k\\in\\mathbb{R}^d, y^k\\in\\mathbb{R}, U^k\\in\\mathbb{R}$. The performative effects are given by $\\mu^k,\\gamma^k$, which are drawn randomly by sampling a vector from the radius $\\varepsilon^k$ spheres in $\\mathbb{R}^{d_1+d_2}$ so that the distribution map for each player $k\\in\\{1,2\\}$ is $\\varepsilon^k$-sensitive.\n",
    "$$\\varepsilon^k = \\sqrt{||\\mu^k||_2^2+||\\gamma^k||_2^2}$$\n",
    "\\\n",
    "The loss function is quadratic\n",
    "$$\\ell((x^k,y^k);\\theta^k) = \\tfrac{1}{2}(y^k-{x^k}^T\\theta^k)^2 = \\tfrac{1}{2}||y^k||_2^2+\\tfrac{1}{2}||{x^k}^T\\theta^k||_2^2-y^k{x^k}^T\\theta^k$$\n",
    "so it is $1$-strongly convex in $\\theta^k$ and $1$-smooth in $z^k$  \n",
    "\\\n",
    "We showed that if $\\ell^k(z^k,\\theta^k)$ is $\\eta^k$-strongly convex in $\\theta^k$, is $\\beta^k$-smooth in $z^k$, and the distribution map is $\\varepsilon^k$-sensitive, then the game is convex, and $PR^k(\\theta^k)$ for each player $k\\in\\{1,2\\}$ is $\\lambda^k$-weakly convex where $$\\lambda^k=2\\beta^k\\varepsilon^k-\\eta^k$$\n",
    "If the performative risks are both strongly convex, then the game is diagonally strictly convex, so the game will have a unique Nash equilibrium, so we can enforce DSC by choosing parameters such that\n",
    "$$2\\beta^k\\varepsilon^k\\leq\\eta^k$$\n",
    "That is,\n",
    "$$\\varepsilon^k\\leq\\frac{1}{2} \\iff DSC$$"
   ]
  },
  {
   "cell_type": "markdown",
   "metadata": {},
   "source": [
    "# Configurations"
   ]
  },
  {
   "cell_type": "code",
   "execution_count": 2,
   "metadata": {},
   "outputs": [],
   "source": [
    "d_1 = 2  # Dimension of each player's data/strategy\n",
    "d_2 = 2\n",
    "\n",
    "epsilon_0 = 0.3\n",
    "epsilon_1 = 0.3  # Epsilon sensitivity parameters\n",
    "epsilon_2 = 0.3\n",
    "\n",
    "Sigma_x_p1 = np.eye(d_1)  # Covariance of x^k\n",
    "Sigma_x_p2 = np.eye(d_2)\n",
    "\n",
    "sigma_y_p1 = 0.1  # Variance of y^k\n",
    "sigma_y_p2 = 0.1\n",
    "\n",
    "beta_p1 = np.random.normal(size=d_1)  # Linear parameter vector\n",
    "beta_p2 = np.random.normal(size=d_2)\n",
    "\n",
    "# s_1 = sample_sphere(epsilon_1,d_1+d_2)  # Performativity parameters\n",
    "# mu_p1 = s_1[0:d_1]\n",
    "# gamma_p1 = s_1[d_1:]\n",
    "# s_2 = sample_sphere(epsilon_2,d_1+d_2)\n",
    "# mu_p2 = s_2[0:d_2]\n",
    "# gamma_p2 = s_2[d_2:]\n",
    "\n",
    "mu_p1 = sample_sphere(epsilon_0,d_1)\n",
    "gamma_p1 = sample_sphere(epsilon_1,d_2)\n",
    "mu_p2 = sample_sphere(epsilon_0,d_2)\n",
    "gamma_p2 = sample_sphere(epsilon_2,d_1)"
   ]
  },
  {
   "cell_type": "code",
   "execution_count": 3,
   "metadata": {},
   "outputs": [],
   "source": [
    "p1_data_params = (Sigma_x_p1, sigma_y_p1, beta_p1, mu_p1, gamma_p1)\n",
    "p1_data_generating_func = sample_from_location_family\n",
    "\n",
    "p2_data_params = (Sigma_x_p2, sigma_y_p2, beta_p2, mu_p2, gamma_p2)\n",
    "p2_data_generating_func = sample_from_location_family"
   ]
  },
  {
   "cell_type": "code",
   "execution_count": 4,
   "metadata": {},
   "outputs": [],
   "source": [
    "num_rounds_lst = [10, 50, 100, 500, 1000, 5000, 10000, 50000, 100000]\n",
    "num_alternate_rounds = 100\n",
    "num_test = 1000"
   ]
  },
  {
   "cell_type": "markdown",
   "metadata": {},
   "source": [
    "# Run game with 2-stage algorithm"
   ]
  },
  {
   "cell_type": "code",
   "execution_count": 5,
   "metadata": {},
   "outputs": [
    {
     "name": "stdout",
     "output_type": "stream",
     "text": [
      "num_rounds = 10\n",
      "num_rounds = 50\n",
      "num_rounds = 100\n",
      "num_rounds = 500\n",
      "num_rounds = 1000\n",
      "num_rounds = 5000\n",
      "num_rounds = 10000\n",
      "num_rounds = 50000\n",
      "num_rounds = 100000\n"
     ]
    }
   ],
   "source": [
    "p1_risks = []\n",
    "p2_risks = []\n",
    "theta_final_p1 = []\n",
    "theta_final_p2 = []\n",
    "\n",
    "for num_rounds in num_rounds_lst:\n",
    "    print(f\"num_rounds = {num_rounds}\")\n",
    "    player_two = TwoStagePlayer()\n",
    "    player_one = TwoStagePlayer()\n",
    "    game = DecisionDependentGame(player_one, player_two,\n",
    "                                 p1_data_params, p2_data_params,\n",
    "                                 p1_data_generating_func, p2_data_generating_func,\n",
    "                                 num_rounds, num_alternate_rounds, num_test)\n",
    "    \n",
    "    game.run_train()\n",
    "    game.run_post_train_alternating()\n",
    "    \n",
    "    PR1, PR2 = game.evaluate_closed_perf_risk()\n",
    "    p1_risks.append(PR1)\n",
    "    p2_risks.append(PR2)\n",
    "    \n",
    "    theta_final_p1.append(game.theta_p1)\n",
    "    theta_final_p2.append(game.theta_p2)\n",
    "    \n",
    "    #Change this flag if one wants to change print settings\n",
    "    if False:\n",
    "        print(\"---------------------\")\n",
    "        print(\"Player 1: Actual mu, gamma\")\n",
    "        print(mu_p1, gamma_p1)\n",
    "        print(\"Player 1: Estimated mu, gamma\")\n",
    "        print(player_one.mu_hat, player_one.gamma_hat)\n",
    "\n",
    "        print(\"Player 2: Actual mu, gamma\")\n",
    "        print(mu_p2, gamma_p2)\n",
    "        print(\"Player 2: Estimated mu, gamma\")\n",
    "        print(player_two.mu_hat, player_two.gamma_hat)\n",
    "        print(\"---------------------\")"
   ]
  },
  {
   "cell_type": "markdown",
   "metadata": {},
   "source": [
    "# Run game with DFO players"
   ]
  },
  {
   "cell_type": "code",
   "execution_count": 6,
   "metadata": {},
   "outputs": [],
   "source": [
    "p3_risks = []\n",
    "p4_risks = []\n",
    "\n",
    "delta = 1e-0\n",
    "eta = 1e-1\n",
    "num_rounds = num_rounds_lst[-1]\n",
    "\n",
    "player_three = DFOPlayer(delta,eta)\n",
    "player_four = DFOPlayer(delta,eta)\n",
    "game_dfo = DecisionDependentGame(player_three, player_four,\n",
    "                                 p1_data_params, p2_data_params,\n",
    "                                 p1_data_generating_func, p2_data_generating_func)\n",
    "\n",
    "for i in range(num_rounds+1):\n",
    "    \n",
    "    game_dfo.theta_p1 = player_three.perturb_theta()\n",
    "    game_dfo.theta_p2 = player_four.perturb_theta()\n",
    "    \n",
    "    PR_3_oracle, PR_4_oracle = game_dfo.evaluate_closed_perf_risk()\n",
    "    \n",
    "    game_dfo.theta_p1 = player_three.update_theta(PR_3_oracle)\n",
    "    game_dfo.theta_p2 = player_four.update_theta(PR_4_oracle)\n",
    "    \n",
    "    if i in num_rounds_lst:\n",
    "        p3_risks.append(PR_3_oracle)\n",
    "        p4_risks.append(PR_4_oracle)\n",
    "    \n",
    "    if False:  # i%(num_rounds/5)==0:\n",
    "        print(\"---------------------\")\n",
    "        print(f\"Iteration {i}\")\n",
    "        print(\"Player 3 risk:\")\n",
    "        print(PR_3_oracle)\n",
    "\n",
    "        print(\"Player 4 risk\")\n",
    "        print(PR_4_oracle)"
   ]
  },
  {
   "cell_type": "markdown",
   "metadata": {},
   "source": [
    "# Run Game With Solo Players"
   ]
  },
  {
   "cell_type": "code",
   "execution_count": 7,
   "metadata": {},
   "outputs": [
    {
     "name": "stdout",
     "output_type": "stream",
     "text": [
      "num_rounds = 10\n",
      "num_rounds = 50\n",
      "num_rounds = 100\n",
      "num_rounds = 500\n",
      "num_rounds = 1000\n",
      "num_rounds = 5000\n",
      "num_rounds = 10000\n",
      "num_rounds = 50000\n",
      "num_rounds = 100000\n"
     ]
    }
   ],
   "source": [
    "p5_risks = []\n",
    "p6_risks = []\n",
    "theta_final_p5 = []\n",
    "theta_final_p6 = []\n",
    "\n",
    "for num_rounds in num_rounds_lst:\n",
    "    print(f\"num_rounds = {num_rounds}\")\n",
    "    player_five = SoloPlayer()\n",
    "    player_six = SoloPlayer()\n",
    "    game = DecisionDependentGame(player_five, player_six,\n",
    "                                 p1_data_params, p2_data_params,\n",
    "                                 p1_data_generating_func, p2_data_generating_func,\n",
    "                                 num_rounds, num_alternate_rounds, num_test)\n",
    "    \n",
    "    game.run_train()\n",
    "    game.run_post_train_alternating()\n",
    "    \n",
    "    PR1, PR2 = game.evaluate_closed_perf_risk()\n",
    "    p5_risks.append(PR1)\n",
    "    p6_risks.append(PR2)\n",
    "    \n",
    "    theta_final_p5.append(game.theta_p1)\n",
    "    theta_final_p6.append(game.theta_p2)\n",
    "    \n",
    "    #Change this flag if one wants to change print settings\n",
    "    if False:\n",
    "        print(\"---------------------\")\n",
    "        print(\"Player 1: Actual mu, gamma\")\n",
    "        print(mu_p1, gamma_p1)\n",
    "        print(\"Player 1: Estimated mu, gamma\")\n",
    "        print(player_one.mu_hat, player_one.gamma_hat)\n",
    "\n",
    "        print(\"Player 2: Actual mu, gamma\")\n",
    "        print(mu_p2, gamma_p2)\n",
    "        print(\"Player 2: Estimated mu, gamma\")\n",
    "        print(player_two.mu_hat, player_two.gamma_hat)\n",
    "        print(\"---------------------\")"
   ]
  },
  {
   "cell_type": "code",
   "execution_count": 8,
   "metadata": {},
   "outputs": [],
   "source": [
    "theta_PO_1, theta_PO_2 = game.solve_nash()\n",
    "theta_SO_1, theta_SO_2 = game.solve_social_opt()\n",
    "theta_final_p1 = np.array(theta_final_p1)\n",
    "theta_final_p2 = np.array(theta_final_p2)\n",
    "theta_final_p5 = np.array(theta_final_p5)\n",
    "theta_final_p6 = np.array(theta_final_p6)"
   ]
  },
  {
   "cell_type": "code",
   "execution_count": 9,
   "metadata": {},
   "outputs": [],
   "source": [
    "if False:\n",
    "    print(mu_p1, gamma_p1)\n",
    "    print(player_one.mu_hat.round(2), player_one.gamma_hat.round(2))\n",
    "\n",
    "    print(mu_p2, gamma_p2)\n",
    "    print(player_two.mu_hat.round(2), player_two.gamma_hat.round(2))\n",
    "\n",
    "    print(game.solve_nash())\n",
    "    print(game.solve_social_opt())\n",
    "    \n",
    "    print(game.evaluate_test_perf_risk_p1().round(3))\n",
    "    print(game.evaluate_test_perf_risk_p2().round(3))"
   ]
  },
  {
   "cell_type": "code",
   "execution_count": 10,
   "metadata": {},
   "outputs": [
    {
     "name": "stdout",
     "output_type": "stream",
     "text": [
      "Player 1 PO = 0.141\tPlayer 2 PO = 0.156\n"
     ]
    }
   ],
   "source": [
    "game.theta_p1, game.theta_p2 = game.solve_nash()\n",
    "PO_1, PO_2 = game.evaluate_closed_perf_risk()\n",
    "print(f'Player 1 PO = {PO_1.round(3)}\\tPlayer 2 PO = {PO_2.round(3)}')"
   ]
  },
  {
   "cell_type": "code",
   "execution_count": 11,
   "metadata": {},
   "outputs": [
    {
     "name": "stdout",
     "output_type": "stream",
     "text": [
      "Player 1 SO = 0.154\tPlayer 2 SO = 0.157\n"
     ]
    }
   ],
   "source": [
    "game.theta_p1, game.theta_p2 = game.solve_social_opt()\n",
    "SO_1, SO_2 = game.evaluate_closed_perf_risk()\n",
    "print(f'Player 1 SO = {SO_1.round(3)}\\tPlayer 2 SO = {SO_2.round(3)}')"
   ]
  },
  {
   "cell_type": "markdown",
   "metadata": {},
   "source": [
    "## Checking stage 1"
   ]
  },
  {
   "cell_type": "code",
   "execution_count": 12,
   "metadata": {},
   "outputs": [
    {
     "name": "stdout",
     "output_type": "stream",
     "text": [
      "[0.25336554 0.16069776] [ 0.16172076 -0.2613666 ]\n",
      "[ 0.22370028 -0.19401621] [0.11283648 0.26836746]\n"
     ]
    }
   ],
   "source": [
    "print(player_one.mu_hat, player_one.gamma_hat)\n",
    "print(player_two.mu_hat, player_two.gamma_hat)"
   ]
  },
  {
   "cell_type": "code",
   "execution_count": 13,
   "metadata": {},
   "outputs": [
    {
     "name": "stdout",
     "output_type": "stream",
     "text": [
      "[0.25347198 0.16740154] [0. 0.]\n",
      "[ 0.23059445 -0.18883889] [0. 0.]\n"
     ]
    }
   ],
   "source": [
    "print(player_five.mu_hat, player_five.gamma_hat)\n",
    "print(player_six.mu_hat, player_six.gamma_hat)"
   ]
  },
  {
   "cell_type": "code",
   "execution_count": 14,
   "metadata": {},
   "outputs": [
    {
     "name": "stdout",
     "output_type": "stream",
     "text": [
      "[0.2513218  0.16382109] [ 0.15789928 -0.25508394]\n",
      "[ 0.22742193 -0.19565087] [0.11972632 0.27507382]\n"
     ]
    }
   ],
   "source": [
    "print(mu_p1, gamma_p1)\n",
    "print(mu_p2, gamma_p2)"
   ]
  },
  {
   "cell_type": "markdown",
   "metadata": {},
   "source": [
    "## Plots"
   ]
  },
  {
   "cell_type": "code",
   "execution_count": 16,
   "metadata": {},
   "outputs": [
    {
     "data": {
      "image/png": "[encoded data removed]",
      "text/plain": [
       "<Figure size 720x720 with 1 Axes>"
      ]
     },
     "metadata": {},
     "output_type": "display_data"
    }
   ],
   "source": [
    "plt.figure(figsize=(10,10))\n",
    "plt.rcParams['font.size'] = 18\n",
    "plt.rcParams['axes.linewidth'] = 2\n",
    "\n",
    "theta_3 = np.array(player_three.theta_history)\n",
    "plt.plot(theta_3[:,0],theta_3[:,1],\n",
    "         label='P1 DFO trajectory', color='cornflowerblue')\n",
    "\n",
    "theta_4 = np.array(player_four.theta_history)\n",
    "plt.plot(theta_4[:,0],theta_4[:,1],\n",
    "        label='P2 DFO trajectory', color='mediumseagreen')\n",
    "\n",
    "x2 = theta_final_p1[:,0]\n",
    "y2 = theta_final_p1[:,1]\n",
    "plt.plot(x2,y2,\n",
    "         '--', color='darkblue', label='P1 2-Stage trajectory')\n",
    "\n",
    "x3 = theta_final_p2[:,0]\n",
    "y3 = theta_final_p2[:,1]\n",
    "plt.plot(x3,y3,\n",
    "         '--', color='darkgreen', label='P2 2-Stage trajectory')\n",
    "\n",
    "x5 = theta_final_p5[:,0]\n",
    "y5 = theta_final_p5[:,1]\n",
    "plt.plot(x5,y5,\n",
    "         '-.', color='blue', label='P1 Solo trajectory')\n",
    "\n",
    "x6 = theta_final_p6[:,0]\n",
    "y6 = theta_final_p6[:,1]\n",
    "plt.plot(x6,y6,\n",
    "         '-.', color='lime', label='P2 Solo trajectory')\n",
    "\n",
    "x_nash_p1 = theta_PO_1[0]\n",
    "y_nash_p1 = theta_PO_1[1]\n",
    "plt.scatter(x_nash_p1, y_nash_p1,\n",
    "            label='Nash Equilibrium', marker='*', color='k', s=120, zorder=10)\n",
    "\n",
    "x_nash_p2 = theta_PO_2[0]\n",
    "y_nash_p2 = theta_PO_2[1]\n",
    "plt.scatter(x_nash_p2,y_nash_p2,\n",
    "            marker='*', color='k', s=120, zorder=10)\n",
    "\n",
    "x_so_p1 = theta_SO_1[0]\n",
    "y_so_p1 = theta_SO_1[1]\n",
    "plt.scatter(x_so_p1, y_so_p1,\n",
    "            label='Social Optimum', marker='o', color='k', s=120, zorder=10)\n",
    "\n",
    "x_so_p2 = theta_SO_2[0]\n",
    "y_so_p2 = theta_SO_2[1]\n",
    "plt.scatter(x_so_p2,y_so_p2,\n",
    "            marker='o', color='k', s=120, zorder=10)\n",
    "\n",
    "plt.legend(loc='best',fontsize=14)\n",
    "plt.xlabel(r\"$\\{\\theta_i\\}_1$\")\n",
    "plt.ylabel(r\"$\\{\\theta_i\\}_2$\")\n",
    "plt.tight_layout()\n",
    "plt.savefig('../figures/DD_regression_trajectory.pdf', format='pdf')\n",
    "plt.show()"
   ]
  },
  {
   "cell_type": "code",
   "execution_count": null,
   "metadata": {},
   "outputs": [],
   "source": [
    "plt.figure(figsize=(20,7))\n",
    "plt.subplot(1,2,1)\n",
    "plt.semilogx(num_rounds_lst, [PO_1 for i in num_rounds_lst],\n",
    "             '-', color='k', label='P1 Performative Optimum')\n",
    "plt.semilogx(num_rounds_lst, [PO_2 for i in num_rounds_lst],\n",
    "             '-', color='k', label='P2 Performative Optimum') \n",
    "\n",
    "plt.semilogx(num_rounds_lst[1:], p1_risks[1:],\n",
    "             '--', color='#5553E6', label='P1 Performative Risk')\n",
    "plt.semilogx(num_rounds_lst[1:], p2_risks[1:],\n",
    "             '--', color='#E07110', label='P2 Performative Risk')\n",
    "\n",
    "plt.semilogx(num_rounds_lst, p3_risks,\n",
    "             '-', color='#5553E6', label='P1 DFO Performative Risk')\n",
    "plt.semilogx(num_rounds_lst, p4_risks,\n",
    "             '-', color='#E07110', label='P2 DFO Performative Risk')\n",
    "\n",
    "plt.semilogx(num_rounds_lst, p5_risks,\n",
    "             '-.', color='#5553E6', label='P1 Solo Performative Risk')\n",
    "plt.semilogx(num_rounds_lst, p6_risks,\n",
    "             '-.', color='#E07110', label='P2 Solo Performative Risk')\n",
    "plt.xlabel(\"Iterations\")\n",
    "plt.ylabel(r\"$PR(\\theta)$\")\n",
    "plt.title(\"Evolution of Performative Risks\")\n",
    "plt.legend(fontsize=14)\n",
    "\n",
    "plt.subplot(1,2,2)\n",
    "plt.loglog(num_rounds_lst, [PO_1 for i in num_rounds_lst],\n",
    "           '-', color='k', label='P1 Performative Optimum')\n",
    "plt.loglog(num_rounds_lst, [PO_2 for i in num_rounds_lst],\n",
    "           '-', color='k', label='P2 Performative Optimum')\n",
    "\n",
    "plt.loglog(num_rounds_lst[1:], p1_risks[1:],\n",
    "           '--', color='#5553E6', label='P1 Performative Risk')\n",
    "plt.loglog(num_rounds_lst[1:], p2_risks[1:],\n",
    "           '--', color='#E07110', label='P2 Performative Risk')\n",
    "\n",
    "plt.loglog(num_rounds_lst, p3_risks,\n",
    "           '-', color='#5553E6', label='P1 DFO Performative Risk')\n",
    "plt.loglog(num_rounds_lst, p4_risks,\n",
    "           '-', color='#E07110', label='P2 DFO Performative Risk')\n",
    "\n",
    "plt.loglog(num_rounds_lst, p5_risks,\n",
    "           '-.', color='#5553E6', label='P1 Solo Performative Risk')\n",
    "plt.loglog(num_rounds_lst, p6_risks,\n",
    "           '-.', color='#E07110', label='P2 Solo Performative Risk')\n",
    "plt.ylabel(r\"$\\log(PR(\\theta))$\")\n",
    "plt.tight_layout()\n",
    "plt.show()"
   ]
  },
  {
   "cell_type": "code",
   "execution_count": null,
   "metadata": {},
   "outputs": [],
   "source": [
    "plt.figure(figsize=(20,12))\n",
    "plt.subplot(2,2,1)\n",
    "plt.semilogy([t for t in range(len(player_one.theta_history))],np.linalg.norm(theta_PO_1-np.array(player_one.theta_history),axis=1),label='Player 1')\n",
    "plt.semilogy([t for t in range(len(player_two.theta_history))],np.linalg.norm(theta_PO_2-np.array(player_two.theta_history),axis=1),label='Player 2')\n",
    "plt.title(\"2-Stage Distance to Nash vs. Iteration\")\n",
    "plt.ylabel(r\"$\\log||\\theta - \\theta_{PO}||_2$\")\n",
    "plt.xlabel(r\"t\")\n",
    "plt.legend()\n",
    "plt.subplot(2,2,2)\n",
    "plt.loglog([t for t in range(len(player_one.theta_history))],np.linalg.norm(theta_PO_1-np.array(player_one.theta_history),axis=1),label='Player 1')\n",
    "plt.loglog([t for t in range(len(player_two.theta_history))],np.linalg.norm(theta_PO_2-np.array(player_two.theta_history),axis=1),label='Player 2')\n",
    "plt.title(\"2-Stage Distance to Nash vs. Iteration\")\n",
    "plt.ylabel(r\"$\\log||\\theta - \\theta_{PO}||_2$\")\n",
    "plt.xlabel(r\"$\\log t$\")\n",
    "plt.legend()\n",
    "plt.subplot(2,2,3)\n",
    "plt.semilogy([t for t in range(len(player_three.theta_history))],np.linalg.norm(theta_PO_1-np.array(player_three.theta_history),axis=1),label='Player 1')\n",
    "plt.semilogy([t for t in range(len(player_four.theta_history))],np.linalg.norm(theta_PO_2-np.array(player_four.theta_history),axis=1),label='Player 2')\n",
    "plt.title(\"DFO Distance to Nash vs. Iteration\")\n",
    "plt.ylabel(r\"$\\log||\\theta - \\theta_{PO}||_2$\")\n",
    "plt.xlabel(r\"t\")\n",
    "plt.legend()\n",
    "plt.subplot(2,2,4)\n",
    "plt.loglog([t for t in range(len(player_three.theta_history))],np.linalg.norm(theta_PO_1-np.array(player_three.theta_history),axis=1),label='Player 1')\n",
    "plt.loglog([t for t in range(len(player_four.theta_history))],np.linalg.norm(theta_PO_2-np.array(player_four.theta_history),axis=1),label='Player 2')\n",
    "plt.title(\"DFO Distance to Nash vs. Iteration\")\n",
    "plt.ylabel(r\"$\\log||\\theta - \\theta_{PO}||_2$\")\n",
    "plt.xlabel(r\"$\\log t$\")\n",
    "plt.legend(fontsize=14)\n",
    "plt.tight_layout()\n",
    "plt.show()"
   ]
  },
  {
   "cell_type": "code",
   "execution_count": null,
   "metadata": {},
   "outputs": [],
   "source": [
    "plt.figure(figsize=(10,10))\n",
    "labels = [r'$PR_{2stage}$', r'$PR_{solo}$', r'$PR_{DFO}$', r'$PO$', r'$SO$']\n",
    "plt.bar((1,2,3,4,5), (p1_risks[-1],p5_risks[-1],p3_risks[-1],PO_1,SO_1),\n",
    "        label='P1', tick_label=labels, color='#5553E6')\n",
    "plt.bar((1,2,3,4,5), (p2_risks[-1],p6_risks[-1],p4_risks[-1],PO_2,SO_2),\n",
    "        bottom=(p1_risks[-1],p5_risks[-1],p3_risks[-1],PO_1,SO_1),\n",
    "        label='P2', color='#E07110')\n",
    "plt.title('Total Performative Risk')\n",
    "plt.ylabel(r'$PR(\\theta)$')\n",
    "plt.legend(fontsize=14)\n",
    "plt.tight_layout()\n",
    "plt.show()"
   ]
  },
  {
   "cell_type": "code",
   "execution_count": null,
   "metadata": {},
   "outputs": [],
   "source": []
  }
 ],
 "metadata": {
  "kernelspec": {
   "display_name": "Python 3",
   "language": "python",
   "name": "python3"
  },
  "language_info": {
   "codemirror_mode": {
    "name": "ipython",
    "version": 3
   },
   "file_extension": ".py",
   "mimetype": "text/x-python",
   "name": "python",
   "nbconvert_exporter": "python",
   "pygments_lexer": "ipython3",
   "version": "3.8.5"
  }
 },
 "nbformat": 4,
 "nbformat_minor": 4
}
