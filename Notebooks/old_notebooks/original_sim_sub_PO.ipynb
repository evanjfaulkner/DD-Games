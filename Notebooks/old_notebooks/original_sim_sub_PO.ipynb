{
 "cells": [
  {
   "cell_type": "code",
   "execution_count": 1,
   "metadata": {},
   "outputs": [],
   "source": [
    "import numpy as np\n",
    "import matplotlib.pyplot as plt\n",
    "#import ipdb"
   ]
  },
  {
   "cell_type": "markdown",
   "metadata": {},
   "source": [
    "## Configurations"
   ]
  },
  {
   "cell_type": "code",
   "execution_count": 2,
   "metadata": {},
   "outputs": [],
   "source": [
    "#TODO: There are many configuration parameters here. It is important to understand the effect of all.\n",
    "d = 20\n",
    "\n",
    "#This variance will determine the size of sensitivity parameter.\n",
    "coeff_var = 1\n",
    "Sigma_x = np.eye(d)\n",
    "sigma_y = 10\n",
    "stage_two_iter = 70\n",
    "num_test = 10000"
   ]
  },
  {
   "cell_type": "code",
   "execution_count": 3,
   "metadata": {},
   "outputs": [],
   "source": [
    "beta_p1 = np.random.normal(size = d)\n",
    "beta_p2 = np.random.normal(size = d)\n",
    "\n",
    "\n",
    "mu_p1 = np.random.normal(scale = coeff_var, size = d)\n",
    "mu_p2 = np.random.normal(scale = coeff_var, size = d)\n",
    "gamma_p1 = np.random.normal(scale = coeff_var, size = d)\n",
    "gamma_p2 = np.random.normal(scale = coeff_var, size = d)"
   ]
  },
  {
   "cell_type": "markdown",
   "metadata": {},
   "source": [
    "## Helper functions"
   ]
  },
  {
   "cell_type": "code",
   "execution_count": 4,
   "metadata": {},
   "outputs": [],
   "source": [
    "\"\"\"\n",
    "TODO:\n",
    "Fill in these missing functions\n",
    "Pass the arguments around correctly\n",
    "Debug and make plot of performative risk\n",
    "Try for d=2 and make a trajectory plot too\n",
    "\"\"\"\n",
    "\n",
    "def obtain_data(n, d, mu_p1, gamma_p1, mu_p2, gamma_p2, cov_x, sigma_y):\n",
    "    theta_p1_lst = []\n",
    "    z_p1_lst, z_p2_lst = [], []\n",
    "    theta_p2_lst = []\n",
    "    \n",
    "    for i in np.arange(2*n):\n",
    "        #Both players play random actions to gather information\n",
    "        theta_p1_i, theta_p2_i = np.random.normal(size = d), np.random.normal(size = d)\n",
    "        theta_p1_lst.append(theta_p1_i)\n",
    "        theta_p2_lst.append(theta_p2_i)\n",
    "\n",
    "        #Both players \n",
    "        z_p1_i = sample_from_distribution(cov_x, sigma_y, beta_p1, mu_p1, gamma_p1, theta_p1_i, theta_p2_i)\n",
    "        z_p2_i = sample_from_distribution(cov_x, sigma_y, beta_p2, mu_p2, gamma_p2, theta_p1_i, theta_p2_i)\n",
    "        z_p1_lst.append(z_p1_i)\n",
    "        z_p2_lst.append(z_p2_i)\n",
    "    \n",
    "    return np.array(z_p1_lst), np.array(z_p2_lst), np.array(theta_p1_lst), np.array(theta_p2_lst)\n",
    "\n",
    "\n",
    "def sample_from_distribution(cov_x, sigma_y, beta, mu, gamma, theta_p1, theta_p2):\n",
    "    x = np.random.multivariate_normal(np.zeros(len(cov_x)), cov_x)\n",
    "    U_y = np.random.normal(0, sigma_y)\n",
    "    y = beta.T @ x + mu.T @ theta_p1 + gamma.T @ theta_p2 + U_y\n",
    "    return (x, y)\n",
    "    \n",
    "def solve_distribution_params(z_lst, theta_p1_lst, theta_p2_lst):\n",
    "    y = [e[1] for e in z_lst]\n",
    "    A = np.hstack((theta_p1_lst, theta_p2_lst))\n",
    "    mu_tilde = np.linalg.inv(A.T @ A) @ A.T @ y\n",
    "    \n",
    "    num_each = int(len(mu_tilde)/2)\n",
    "    mu_hat = mu_tilde[:num_each]\n",
    "    gamma_hat = mu_tilde[num_each:]\n",
    "    return mu_hat, gamma_hat\n",
    "\n",
    "def find_qs(mu_hat, gamma_hat, z_lst, theta_p1_lst, theta_p2_lst):\n",
    "    y_lst = [e[1] for e in z_lst]\n",
    "    q_lst = []\n",
    "    for (idx, y) in enumerate(y_lst):\n",
    "        theta_p1 = theta_p1_lst[idx]\n",
    "        theta_p2 = theta_p2_lst[idx]\n",
    "        q = y - np.dot(mu_hat, theta_p1) - np.dot(gamma_hat, theta_p2)\n",
    "        q_lst.append(q)\n",
    "    return np.array(q_lst)\n",
    "        \n",
    "    \n",
    "def solve_theta(x_lst, q, mu_hat, gamma_hat, theta_other):\n",
    "    y_mod = q + np.dot(gamma_hat, theta_other)*np.ones(len(q))\n",
    "    x_arr = np.array(x_lst)\n",
    "    #TODO: Ensure that this subtracts from each row like I expect\n",
    "    A = x_arr - mu_hat\n",
    "    theta = np.linalg.inv(A.T @ A) @ A.T @ y_mod\n",
    "    #ipdb.set_trace()\n",
    "    return theta\n",
    "\n",
    "def solve_subPO_given_theta(mu, gamma, beta, Sigma_x, theta_other):\n",
    "    mu_Sig = np.outer(mu, mu) - Sigma_x\n",
    "    mu_gamma = np.outer(mu, gamma) \n",
    "    A = Sigma_x @ beta - mu_gamma @ theta_other\n",
    "    \n",
    "    theta_sub_PO = np.linalg.inv(mu_Sig) @ A\n",
    "    return theta_sub_PO\n",
    "\n",
    "\n",
    "def run_first_stage(z_p1_lst, z_p2_lst, theta_p1_lst, theta_p2_lst):\n",
    "    mu_hat_p1, gamma_hat_p1 = solve_distribution_params(z_p1_lst, theta_p1_lst, theta_p2_lst)\n",
    "    mu_hat_p2, gamma_hat_p2 = solve_distribution_params(z_p2_lst, theta_p1_lst, theta_p2_lst)\n",
    "    return mu_hat_p1, gamma_hat_p1, mu_hat_p2, gamma_hat_p2\n",
    "\n",
    "def run_second_stage(x_p1_lst, q_p1, x_p2_lst, q_p2, mu_hat_p1, \n",
    "                        gamma_hat_p1, mu_hat_p2, gamma_hat_p2, num_iter):\n",
    "    \n",
    "    theta_p1_init, theta_p2_init = np.random.normal(size = d), np.random.normal(size = d)\n",
    "    theta_p1_lst, theta_p2_lst = [theta_p1_init], [theta_p2_init]\n",
    "    \n",
    "    for k in range(num_iter):\n",
    "        #Solve theta for player 1\n",
    "        theta_p2_prev = theta_p2_lst[-1]\n",
    "        theta_p1_k= solve_theta(x_p1_lst, q_p1, mu_hat_p1, gamma_hat_p1, theta_p2_prev)\n",
    "        \n",
    "        \n",
    "        #Solve theta for player 2\n",
    "        theta_p1_prev = theta_p1_lst[-1]\n",
    "        theta_p2_k= solve_theta(x_p2_lst, q_p2, mu_hat_p2, gamma_hat_p2, theta_p1_prev)\n",
    "        \n",
    "        theta_p1_lst.append(theta_p1_k)\n",
    "        theta_p2_lst.append(theta_p2_k)\n",
    "    \n",
    "    return theta_p1_lst, theta_p2_lst\n",
    "\n",
    "def evaluate_test_performative_risk(beta, mu, gamma, theta_p1, theta_p2, cov_x, sigma_y, num_test):\n",
    "    test_set = [sample_from_distribution(cov_x, sigma_y, beta, mu, gamma, theta_p1, theta_p2) for e in range(num_test)]\n",
    "    x_test = np.array([e[0] for e in test_set])\n",
    "    y_test = [e[1] for e in test_set]\n",
    "    y_pred = x_test @ theta_p1\n",
    "    mse = np.linalg.norm(y_test - y_pred)**2\n",
    "    mse_avg = mse/len(y_test)\n",
    "    return mse_avg\n",
    "\n",
    "\n",
    "\n",
    "#TODO: cov_x and sigma_y could also be different for the two players. Change this later.\n",
    "def run_game(n, d, mu_p1, gamma_p1, mu_p2, gamma_p2, num_iter_stage_two, num_test, cov_x, sigma_y, beta_p1, beta_p2): \n",
    "    \n",
    "    #Obtain and split up the data for both stages\n",
    "    z_p1_lst, z_p2_lst, theta_p1_lst, theta_p2_lst = obtain_data(n, d, mu_p1, gamma_p1, \n",
    "                                                                 mu_p2, gamma_p2, cov_x, sigma_y)\n",
    "    \n",
    "    num_first_stage = n\n",
    "    z_p1_lst_sliced = (z_p1_lst[:num_first_stage], z_p1_lst[num_first_stage:])\n",
    "    z_p2_lst_sliced = (z_p2_lst[:num_first_stage], z_p2_lst[num_first_stage:])\n",
    "\n",
    "    theta_p1_lst_sliced = (theta_p1_lst[:num_first_stage], theta_p1_lst[num_first_stage:])\n",
    "    theta_p2_lst_sliced = (theta_p2_lst[:num_first_stage], theta_p2_lst[num_first_stage:])\n",
    "    \n",
    "    #Stage 1\n",
    "    mu_hat_p1, gamma_hat_p1, mu_hat_p2, gamma_hat_p2 = run_first_stage(z_p1_lst_sliced[0], z_p2_lst_sliced[0], \n",
    "                                                                       theta_p1_lst_sliced[0], theta_p2_lst_sliced[0])\n",
    "    \n",
    "    #print(\"mu_p1 is:\",mu_p1)\n",
    "    #print(\"mu_hat_p1 is:\",mu_hat_p1)\n",
    "    #print(mu_p2)\n",
    "    #print(mu_hat_p2)\n",
    "    \n",
    "    #Obtain qs for stage 2\n",
    "    q_p1_lst = find_qs(mu_hat_p1, gamma_hat_p1, z_p1_lst_sliced[1], theta_p1_lst_sliced[1], theta_p2_lst_sliced[1])\n",
    "    q_p2_lst = find_qs(mu_hat_p2, gamma_hat_p2, z_p2_lst_sliced[1], theta_p1_lst_sliced[1], theta_p2_lst_sliced[1])\n",
    "    \n",
    "    #Stage 2\n",
    "    x_lst_p1 = [e[0] for e in z_p1_lst_sliced[1]]\n",
    "    x_lst_p2 = [e[0] for e in z_p2_lst_sliced[1]]\n",
    "    \n",
    "    theta_p1_final_lst, theta_p2_final_lst = run_second_stage(x_lst_p1, q_p1_lst, x_lst_p2, q_p2_lst, \n",
    "                                                  mu_hat_p1, gamma_hat_p1, mu_hat_p2, gamma_hat_p2, num_iter_stage_two)\n",
    "    \n",
    "    \n",
    "    perf_risk_p1 = evaluate_test_performative_risk(beta_p1, mu_p1, gamma_p1, theta_p1_final_lst[-1], \n",
    "                                                   theta_p2_final_lst[-1], cov_x, sigma_y, num_test)\n",
    "    \n",
    "    perf_risk_p2 = evaluate_test_performative_risk(beta_p2, mu_p2, gamma_p2, theta_p1_final_lst[-1], \n",
    "                                                   theta_p2_final_lst[-1], cov_x, sigma_y, num_test)\n",
    "    \n",
    "    #print(\"theta_p1_final_lst[-1]:\",theta_p1_final_lst[-1])\n",
    "    #print(\"theta_p2_final_lst[-1]:\",theta_p2_final_lst[-1])\n",
    "    \n",
    "    theta_subPO_p1 = solve_subPO_given_theta(mu_p1, gamma_p1, beta_p1, cov_x, theta_p2_final_lst[-1])\n",
    "    theta_subPO_p2 = solve_subPO_given_theta(mu_p2, gamma_p2, beta_p2, cov_x, theta_p1_final_lst[-1])\n",
    "    \n",
    "    pr_subPO_p1 = evaluate_test_performative_risk(beta_p1, mu_p1, gamma_p1, theta_subPO_p1, \n",
    "                                                   theta_p2_final_lst[-1], cov_x, sigma_y, num_test)\n",
    "    \n",
    "    pr_subPO_p2 = evaluate_test_performative_risk(beta_p2, mu_p2, gamma_p2, theta_p1_final_lst[-1], \n",
    "                                                   theta_subPO_p2, cov_x, sigma_y, num_test)\n",
    "    \n",
    "    return perf_risk_p1, perf_risk_p2, pr_subPO_p1, pr_subPO_p2"
   ]
  },
  {
   "cell_type": "code",
   "execution_count": 5,
   "metadata": {},
   "outputs": [
    {
     "name": "stderr",
     "output_type": "stream",
     "text": [
      "<ipython-input-4-95c6ccb48343>:26: VisibleDeprecationWarning: Creating an ndarray from ragged nested sequences (which is a list-or-tuple of lists-or-tuples-or ndarrays with different lengths or shapes) is deprecated. If you meant to do this, you must specify 'dtype=object' when creating the ndarray\n",
      "  return np.array(z_p1_lst), np.array(z_p2_lst), np.array(theta_p1_lst), np.array(theta_p2_lst)\n"
     ]
    }
   ],
   "source": [
    "n_lst = [10, 20, 30, 50, 100, 1000, 10000]\n",
    "pr_p1_lst = []\n",
    "pr_p2_lst = []\n",
    "\n",
    "pr_subPO_p1_lst = []\n",
    "pr_subPO_p2_lst = []\n",
    "\n",
    "\n",
    "for n_r in n_lst:\n",
    "    pr_p1, pr_p2, pr_subPO_p1, pr_subPO_p2 = run_game(n_r, d, mu_p1, gamma_p1, mu_p2, gamma_p2, stage_two_iter, num_test, \n",
    "                            Sigma_x, sigma_y, beta_p1, beta_p2)\n",
    "    pr_p1_lst.append(pr_p1)\n",
    "    pr_p2_lst.append(pr_p2)\n",
    "    pr_subPO_p1_lst.append(pr_subPO_p1)\n",
    "    pr_subPO_p2_lst.append(pr_subPO_p2)"
   ]
  },
  {
   "cell_type": "code",
   "execution_count": 6,
   "metadata": {},
   "outputs": [],
   "source": [
    "# get the Performative Optima\n",
    "def solve_theta_PO(mu_1,mu_2,gamma_1,gamma_2, beta_1,beta_2,Sigma_x):\n",
    "    mu_Sig_1 = np.outer(mu_1, mu_1) - Sigma_x\n",
    "    mu_Sig_2 = np.outer(mu_2, mu_2) - Sigma_x\n",
    "    mu_gamma_1 = np.outer(mu_1, gamma_1) \n",
    "    mu_gamma_2 = np.outer(mu_2, gamma_2) \n",
    "    A_1 = np.linalg.inv(mu_Sig_2 @ np.linalg.inv(mu_gamma_1) @ mu_Sig_1 - mu_gamma_2)\n",
    "    A_2 = np.linalg.inv(mu_Sig_1 @ np.linalg.inv(mu_gamma_2) @ mu_Sig_2 - mu_gamma_1)\n",
    "    \n",
    "    B_1 = mu_Sig_2 @ np.linalg.inv(mu_gamma_1) @ Sigma_x @ beta_1 - Sigma_x @ beta_2\n",
    "    B_2 = mu_Sig_1 @ np.linalg.inv(mu_gamma_2) @ Sigma_x @ beta_2 - Sigma_x @ beta_1\n",
    "    \n",
    "    \n",
    "    theta_PO_1 = A_1 @ B_1\n",
    "    theta_PO_2 = A_2 @ B_2\n",
    "    return theta_PO_1, theta_PO_2\n",
    "\n",
    "\n",
    "theta_PO_p1, theta_PO_p2 = solve_theta_PO(mu_p1,mu_p2,gamma_p1,gamma_p2, beta_p1, beta_p2, Sigma_x)\n",
    "\n",
    "pr_PO_p1 = evaluate_test_performative_risk(beta_p1, mu_p1, gamma_p1, theta_PO_p1, \n",
    "                                                   theta_PO_p2, Sigma_x, sigma_y, num_test)\n",
    "pr_PO_p2 = evaluate_test_performative_risk(beta_p2, mu_p2, gamma_p2, theta_PO_p1, \n",
    "                                                   theta_PO_p2, Sigma_x, sigma_y, num_test)\n",
    "    "
   ]
  },
  {
   "cell_type": "code",
   "execution_count": 7,
   "metadata": {},
   "outputs": [
    {
     "name": "stdout",
     "output_type": "stream",
     "text": [
      "979.9764395778427 783.455778178062\n"
     ]
    }
   ],
   "source": [
    "print(pr_PO_p1, pr_PO_p2)\n",
    "A = [1 ,2 ,3 ,4]"
   ]
  },
  {
   "cell_type": "markdown",
   "metadata": {},
   "source": [
    "## Create plot"
   ]
  },
  {
   "cell_type": "code",
   "execution_count": 8,
   "metadata": {},
   "outputs": [],
   "source": [
    "import seaborn as sns\n",
    "sns.set_style('darkgrid')"
   ]
  },
  {
   "cell_type": "code",
   "execution_count": 9,
   "metadata": {},
   "outputs": [
    {
     "data": {
      "text/plain": [
       "Text(0, 0.5, '$PR(\\\\theta)$')"
      ]
     },
     "execution_count": 9,
     "metadata": {},
     "output_type": "execute_result"
    },
    {
     "data": {
      "image/png": "[encoded data removed]",
      "text/plain": [
       "<Figure size 432x288 with 1 Axes>"
      ]
     },
     "metadata": {},
     "output_type": "display_data"
    }
   ],
   "source": [
    "plt.plot(n_lst[2:], pr_p1_lst[2:], label = 'First Player')\n",
    "plt.plot(n_lst[2:], pr_subPO_p1_lst[2:], label = 'First Player\\'s sub_PO')\n",
    "\n",
    "plt.plot(n_lst[2:], pr_p2_lst[2:], label = 'Second Player')\n",
    "plt.plot(n_lst[2:], pr_subPO_p2_lst[2:], label = 'Second Player\\'s sub_PO')\n",
    "#plt.plot(n_lst[2:], pr_PO_p1* np.ones( (len(n_lst[2:]), 1)) , label = 'First Player\\'s PO')\n",
    "#plt.plot(n_lst[2:], pr_PO_p2* np.ones( (len(n_lst[2:]), 1)) , label = 'Second Player\\'s PO')\n",
    "plt.xscale('log')\n",
    "plt.yscale('log')\n",
    "plt.legend()\n",
    "\n",
    "plt.xlabel(\"Num. train points both phases\")\n",
    "plt.ylabel(r\"$PR(\\theta)$\")\n",
    "#plt.savefig(\"/Users/adhyyan/Desktop/multiplayer_pp_simulation.pdf\", format = 'pdf')"
   ]
  },
  {
   "cell_type": "code",
   "execution_count": null,
   "metadata": {},
   "outputs": [],
   "source": []
  }
 ],
 "metadata": {
  "kernelspec": {
   "display_name": "Python 3",
   "language": "python",
   "name": "python3"
  },
  "language_info": {
   "codemirror_mode": {
    "name": "ipython",
    "version": 3
   },
   "file_extension": ".py",
   "mimetype": "text/x-python",
   "name": "python",
   "nbconvert_exporter": "python",
   "pygments_lexer": "ipython3",
   "version": "3.8.5"
  }
 },
 "nbformat": 4,
 "nbformat_minor": 4
}
