{
 "cells": [
  {
   "cell_type": "markdown",
   "metadata": {},
   "source": [
    "# Figure 2b\n",
    "# Learning trajectories for DD Linear Regression Games\n",
    "\n",
    "We extend the linear regression example from Miller et. al. (http://arxiv.org/abs/2102.08570) to the multiplayer framework where the models of each player affect the distributions of data seen by all."
   ]
  },
  {
   "cell_type": "code",
   "execution_count": 1,
   "metadata": {},
   "outputs": [],
   "source": [
    "import numpy as np\n",
    "import sys\n",
    "import ipdb\n",
    "\n",
    "sys.path.append(\"../\")\n",
    "\n",
    "sys.path.append(\"../utils/\")\n",
    "from utils_functions import *\n",
    "\n",
    "from dd_game import *\n",
    "from two_stage_player import *\n",
    "from dfo_player import *\n",
    "from rgd_player import *\n",
    "\n",
    "import matplotlib as mpl\n",
    "import matplotlib.pyplot as plt\n",
    "import seaborn as sns\n",
    "sns.set_style('darkgrid')\n",
    "\n",
    "np.random.seed(10)"
   ]
  },
  {
   "cell_type": "markdown",
   "metadata": {},
   "source": [
    "# Configurations"
   ]
  },
  {
   "cell_type": "code",
   "execution_count": 2,
   "metadata": {},
   "outputs": [],
   "source": [
    "d_1 = 2  # Dimension of each player's data/strategy\n",
    "d_2 = 2\n",
    "\n",
    "epsilon_0 = 0.3\n",
    "epsilon_1 = 0.3  # Epsilon sensitivity parameters\n",
    "epsilon_2 = 0.3\n",
    "\n",
    "Sigma_x_p1 = np.eye(d_1)  # Covariance of x_k\n",
    "Sigma_x_p2 = np.eye(d_2)\n",
    "\n",
    "sigma_y_p1 = 0.1  # Variance of y_k\n",
    "sigma_y_p2 = 0.1\n",
    "\n",
    "beta_p1 = np.random.normal(size=d_1)  # Linear parameter vector\n",
    "beta_p2 = np.random.normal(size=d_2)\n",
    "\n",
    "mu_p1 = sample_sphere(epsilon_0,d_1)\n",
    "gamma_p1 = sample_sphere(epsilon_1,d_2)  # Performativity parameters\n",
    "mu_p2 = sample_sphere(epsilon_0,d_2)\n",
    "gamma_p2 = sample_sphere(epsilon_2,d_1)\n",
    "\n",
    "p1_data_params = (Sigma_x_p1, sigma_y_p1, beta_p1, mu_p1, gamma_p1)\n",
    "p1_data_generating_func = sample_from_location_family\n",
    "\n",
    "p2_data_params = (Sigma_x_p2, sigma_y_p2, beta_p2, mu_p2, gamma_p2)\n",
    "p2_data_generating_func = sample_from_location_family\n",
    "\n",
    "num_rounds_lst = np.logspace(1,5,10,dtype='int')\n",
    "num_alternate_rounds = 100\n",
    "num_test = 1000"
   ]
  },
  {
   "cell_type": "markdown",
   "metadata": {},
   "source": [
    "# Run Algorithm 1"
   ]
  },
  {
   "cell_type": "code",
   "execution_count": 3,
   "metadata": {},
   "outputs": [
    {
     "name": "stdout",
     "output_type": "stream",
     "text": [
      "num_rounds = 10\n",
      "num_rounds = 27\n",
      "num_rounds = 77\n",
      "num_rounds = 215\n",
      "num_rounds = 599\n",
      "num_rounds = 1668\n",
      "num_rounds = 4641\n",
      "num_rounds = 12915\n",
      "num_rounds = 35938\n",
      "num_rounds = 100000\n"
     ]
    }
   ],
   "source": [
    "p1_risks = []\n",
    "p2_risks = []\n",
    "theta_final_p1 = []\n",
    "theta_final_p2 = []\n",
    "\n",
    "for num_rounds in num_rounds_lst:\n",
    "    print(f\"num_rounds = {num_rounds}\")\n",
    "    player_two = TwoStagePlayer()\n",
    "    player_one = TwoStagePlayer()\n",
    "    game = DecisionDependentGame(player_one, player_two,\n",
    "                                 p1_data_params, p2_data_params,\n",
    "                                 p1_data_generating_func, p2_data_generating_func,\n",
    "                                 num_rounds, num_alternate_rounds, num_test)\n",
    "    \n",
    "    game.run_train()\n",
    "    game.run_post_train_alternating()\n",
    "    \n",
    "    PR1, PR2 = game.evaluate_closed_perf_risk()\n",
    "    p1_risks.append(PR1)\n",
    "    p2_risks.append(PR2)\n",
    "    \n",
    "    theta_final_p1.append(game.theta_p1)\n",
    "    theta_final_p2.append(game.theta_p2)\n",
    "    \n",
    "    #Change this flag to change print settings\n",
    "    if False:\n",
    "        print(\"---------------------\")\n",
    "        print(\"Player 1: Actual mu, gamma\")\n",
    "        print(mu_p1, gamma_p1)\n",
    "        print(\"Player 1: Estimated mu, gamma\")\n",
    "        print(player_one.mu_hat, player_one.gamma_hat)\n",
    "\n",
    "        print(\"Player 2: Actual mu, gamma\")\n",
    "        print(mu_p2, gamma_p2)\n",
    "        print(\"Player 2: Estimated mu, gamma\")\n",
    "        print(player_two.mu_hat, player_two.gamma_hat)\n",
    "        print(\"Player 3 risk:\")\n",
    "        print(PR1)\n",
    "\n",
    "        print(\"Player 4 risk\")\n",
    "        print(PR2)"
   ]
  },
  {
   "cell_type": "markdown",
   "metadata": {},
   "source": [
    "# Run Derivative Free Optimization"
   ]
  },
  {
   "cell_type": "code",
   "execution_count": 4,
   "metadata": {},
   "outputs": [
    {
     "name": "stdout",
     "output_type": "stream",
     "text": [
      "num_rounds = 10\n",
      "num_rounds = 27\n",
      "num_rounds = 77\n",
      "num_rounds = 215\n",
      "num_rounds = 599\n",
      "num_rounds = 1668\n",
      "num_rounds = 4641\n",
      "num_rounds = 12915\n",
      "num_rounds = 35938\n",
      "num_rounds = 100000\n"
     ]
    }
   ],
   "source": [
    "p3_risks = []\n",
    "p4_risks = []\n",
    "theta_final_p3 = []\n",
    "theta_final_p4 = []\n",
    "\n",
    "delta = 1e-0\n",
    "eta = 1e-1\n",
    "num_rounds = num_rounds_lst[-1]\n",
    "\n",
    "player_three = DFOPlayer(delta,eta)\n",
    "player_four = DFOPlayer(delta,eta)\n",
    "game_dfo = DecisionDependentGame(player_three, player_four,\n",
    "                                 p1_data_params, p2_data_params,\n",
    "                                 p1_data_generating_func, p2_data_generating_func)\n",
    "\n",
    "for i in range(num_rounds+1):\n",
    "    game_dfo.theta_p1 = player_three.perturb_theta()\n",
    "    game_dfo.theta_p2 = player_four.perturb_theta()\n",
    "    \n",
    "    PR_3_oracle, PR_4_oracle = game_dfo.evaluate_closed_perf_risk()\n",
    "    \n",
    "    game_dfo.theta_p1 = player_three.update_theta(PR_3_oracle)\n",
    "    game_dfo.theta_p2 = player_four.update_theta(PR_4_oracle)\n",
    "    \n",
    "    if i in num_rounds_lst:\n",
    "        print(f\"num_rounds = {i}\")\n",
    "        p3_risks.append(PR_3_oracle)\n",
    "        p4_risks.append(PR_4_oracle)\n",
    "        \n",
    "        theta_final_p3.append(game_dfo.theta_p1)\n",
    "        theta_final_p4.append(game_dfo.theta_p2)\n",
    "        \n",
    "        #Change this flag to change print settings\n",
    "        if False:\n",
    "            print(\"---------------------\")\n",
    "            print(f\"Iteration {i}\")\n",
    "            print(\"Player 3 risk:\")\n",
    "            print(PR_3_oracle)\n",
    "\n",
    "            print(\"Player 4 risk\")\n",
    "            print(PR_4_oracle)"
   ]
  },
  {
   "cell_type": "markdown",
   "metadata": {},
   "source": [
    "# Run game with RGD players"
   ]
  },
  {
   "cell_type": "code",
   "execution_count": 5,
   "metadata": {},
   "outputs": [
    {
     "name": "stdout",
     "output_type": "stream",
     "text": [
      "num_rounds = 10\n",
      "num_rounds = 27\n",
      "num_rounds = 77\n",
      "num_rounds = 215\n",
      "num_rounds = 599\n",
      "num_rounds = 1668\n",
      "num_rounds = 4641\n",
      "num_rounds = 12915\n",
      "num_rounds = 35938\n",
      "num_rounds = 100000\n"
     ]
    }
   ],
   "source": [
    "p5_risks = []\n",
    "p6_risks = []\n",
    "theta_final_p5 = []\n",
    "theta_final_p6 = []\n",
    "\n",
    "eta = 1e-2\n",
    "num_rounds = num_rounds_lst[-1]\n",
    "\n",
    "player_five = RGDPlayer(eta)\n",
    "player_six = RGDPlayer(eta)\n",
    "game_rgd = DecisionDependentGame(player_five, player_six,\n",
    "                                 p1_data_params, p2_data_params,\n",
    "                                 p1_data_generating_func, p2_data_generating_func)\n",
    "cov_x_p5, sigma_y_p5, beta_p5, mu_p5, gamma_p5 = game_rgd.p1_data_params\n",
    "cov_x_p6, sigma_y_p6, beta_p6, mu_p6, gamma_p6 = game_rgd.p2_data_params\n",
    "\n",
    "for i in range(num_rounds+1):\n",
    "    z_p5 = game_rgd.p1_generate_data_func(cov_x_p5, sigma_y_p5,\n",
    "                                      beta_p5, mu_p5, gamma_p5,\n",
    "                                      game_rgd.theta_p1, game_rgd.theta_p2)\n",
    "    z_p6 = game_rgd.p2_generate_data_func(cov_x_p6, sigma_y_p6,\n",
    "                                      beta_p6, mu_p6, gamma_p6,\n",
    "                                      game_rgd.theta_p2, game_rgd.theta_p1)\n",
    "    \n",
    "    game_rgd.theta_p1 = player_five.update_theta(z_p5)\n",
    "    game_rgd.theta_p2 = player_six.update_theta(z_p6)\n",
    "    \n",
    "    if i in num_rounds_lst:\n",
    "        print(f\"num_rounds = {i}\")\n",
    "        PR5, PR6 = game_rgd.evaluate_closed_perf_risk()\n",
    "        p5_risks.append(PR5.squeeze())\n",
    "        p6_risks.append(PR6.squeeze())\n",
    "\n",
    "        theta_final_p5.append(game_rgd.theta_p1)\n",
    "        theta_final_p6.append(game_rgd.theta_p2)\n",
    "        \n",
    "        #Change this flag to change print settings\n",
    "        if False:\n",
    "            print(\"---------------------\")\n",
    "            print(f\"Iteration {i}\")\n",
    "            print(\"Player 5 risk:\")\n",
    "            print(PR5)\n",
    "\n",
    "            print(\"Player 6 risk:\")\n",
    "            print(PR6)"
   ]
  },
  {
   "cell_type": "code",
   "execution_count": 6,
   "metadata": {},
   "outputs": [],
   "source": [
    "theta_PO_1, theta_PO_2 = game.solve_nash()\n",
    "theta_SO_1, theta_SO_2 = game.solve_social_opt()\n",
    "theta_final_p1 = np.array(theta_final_p1)\n",
    "theta_final_p2 = np.array(theta_final_p2)\n",
    "theta_final_p5 = np.array(theta_final_p5)\n",
    "theta_final_p6 = np.array(theta_final_p6)"
   ]
  },
  {
   "cell_type": "code",
   "execution_count": 7,
   "metadata": {},
   "outputs": [
    {
     "name": "stdout",
     "output_type": "stream",
     "text": [
      "Player 1 PO = 0.098\tPlayer 2 PO = 0.096\n"
     ]
    }
   ],
   "source": [
    "game.theta_p1, game.theta_p2 = game.solve_nash()\n",
    "PO_1, PO_2 = game.evaluate_closed_perf_risk()\n",
    "print(f'Player 1 PO = {PO_1.round(3)}\\tPlayer 2 PO = {PO_2.round(3)}')"
   ]
  },
  {
   "cell_type": "code",
   "execution_count": 8,
   "metadata": {},
   "outputs": [
    {
     "name": "stdout",
     "output_type": "stream",
     "text": [
      "Player 1 SO = 0.094\tPlayer 2 SO = 0.093\n"
     ]
    }
   ],
   "source": [
    "game.theta_p1 = np.array([1.35682, 0.581561])\n",
    "game.theta_p2 = np.array([-1.47398, 0.0999326])\n",
    "SO_1, SO_2 = game.evaluate_closed_perf_risk()\n",
    "print(f'Player 1 SO = {SO_1.round(3)}\\tPlayer 2 SO = {SO_2.round(3)}')"
   ]
  },
  {
   "cell_type": "markdown",
   "metadata": {},
   "source": [
    "## Plots"
   ]
  },
  {
   "cell_type": "code",
   "execution_count": 32,
   "metadata": {},
   "outputs": [
    {
     "data": {
      "image/png": "[encoded data removed]",
      "text/plain": [
       "<Figure size 720x720 with 2 Axes>"
      ]
     },
     "metadata": {},
     "output_type": "display_data"
    }
   ],
   "source": [
    "f, ax = plt.subplots(figsize=(10,10))\n",
    "plt.rcParams['font.size'] = 30\n",
    "plt.rcParams['axes.linewidth'] = 4\n",
    "\n",
    "theta_3 = np.array(player_three.theta_history)\n",
    "ax.plot(theta_3[:,0],theta_3[:,1],\n",
    "         label='DFO', color='#5553E6', lw=4, zorder=5)\n",
    "\n",
    "theta_5 = np.array(player_five.theta_history)\n",
    "ax.plot(theta_5[:,0],theta_5[:,1],\n",
    "         label='RGD', color='y', lw=4, zorder=6)\n",
    "\n",
    "x1 = np.insert(theta_final_p1[:,0],0,0)\n",
    "y1 = np.insert(theta_final_p1[:,1],0,0)\n",
    "ax.plot(x1,y1,\n",
    "         color='#E07110', label='Alg. 1', lw=4, zorder=7)\n",
    "\n",
    "ax2 = ax.twinx()\n",
    "x_nash_p1 = theta_PO_1[0]\n",
    "y_nash_p1 = theta_PO_1[1]\n",
    "ax2.scatter(x_nash_p1, y_nash_p1,\n",
    "            label='PO', marker='*', color='k', s=400, zorder=10)\n",
    "\n",
    "x_so_p1 = 1.35682\n",
    "y_so_p1 = 0.581561\n",
    "ax2.scatter(x_so_p1, y_so_p1,\n",
    "            label='SO', marker='o', color='k', s=400, zorder=10)\n",
    "\n",
    "x_ps_p1 = np.mean(theta_5[-1000,0])\n",
    "y_ps_p1 = np.mean(theta_5[-1000,1])\n",
    "ax2.scatter(x_ps_p1, y_ps_p1,\n",
    "            label='PS', marker='s', color='k', s=400, zorder=10)\n",
    "\n",
    "ax2.set_ylim(ax.get_ylim())\n",
    "ax2.set_xlim(ax.get_xlim())\n",
    "ax2.get_yaxis().set_visible(False)\n",
    "plt.yticks(rotation=90)\n",
    "ax.set_xlabel(r\"$\\theta_1[0]$\")\n",
    "ax.set_ylabel(r\"$\\theta_1[1]$\")\n",
    "lines = ax.get_lines()\n",
    "ax.legend(loc='upper left', fontsize=30, ncol=1)\n",
    "ax2.legend(loc='lower right', fontsize=30, ncol=1)\n",
    "plt.tight_layout()\n",
    "plt.savefig('../figures/dd_trajectory.png', dpi=300, format='png')\n",
    "plt.show()"
   ]
  },
  {
   "cell_type": "code",
   "execution_count": null,
   "metadata": {},
   "outputs": [],
   "source": []
  }
 ],
 "metadata": {
  "kernelspec": {
   "display_name": "Python 3",
   "language": "python",
   "name": "python3"
  },
  "language_info": {
   "codemirror_mode": {
    "name": "ipython",
    "version": 3
   },
   "file_extension": ".py",
   "mimetype": "text/x-python",
   "name": "python",
   "nbconvert_exporter": "python",
   "pygments_lexer": "ipython3",
   "version": "3.8.5"
  }
 },
 "nbformat": 4,
 "nbformat_minor": 4
}
