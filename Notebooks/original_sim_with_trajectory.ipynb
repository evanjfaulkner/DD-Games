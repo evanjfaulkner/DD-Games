{
 "cells": [
  {
   "cell_type": "code",
   "execution_count": 1,
   "metadata": {},
   "outputs": [],
   "source": [
    "import numpy as np\n",
    "import matplotlib.pyplot as plt\n",
    "#import ipdb"
   ]
  },
  {
   "cell_type": "markdown",
   "metadata": {},
   "source": [
    "## Configurations"
   ]
  },
  {
   "cell_type": "code",
   "execution_count": 2,
   "metadata": {},
   "outputs": [],
   "source": [
    "#TODO: There are many configuration parameters here. It is important to understand the effect of all.\n",
    "d = 2\n",
    "\n",
    "#This variance will determine the size of sensitivity parameter.\n",
    "coeff_var = 1\n",
    "Sigma_x = np.eye(d)\n",
    "sigma_y = 10\n",
    "stage_two_iter = 1000\n",
    "num_test = 10000"
   ]
  },
  {
   "cell_type": "code",
   "execution_count": 3,
   "metadata": {},
   "outputs": [],
   "source": [
    "beta_p1 = np.random.normal(size = d)\n",
    "beta_p2 = np.random.normal(size = d)\n",
    "\n",
    "\n",
    "mu_p1 = np.random.normal(scale = coeff_var, size = d)\n",
    "mu_p2 = np.random.normal(scale = coeff_var, size = d)\n",
    "gamma_p1 = np.random.normal(scale = coeff_var, size = d)\n",
    "gamma_p2 = np.random.normal(scale = coeff_var, size = d)"
   ]
  },
  {
   "cell_type": "markdown",
   "metadata": {},
   "source": [
    "## Helper functions"
   ]
  },
  {
   "cell_type": "code",
   "execution_count": 4,
   "metadata": {},
   "outputs": [],
   "source": [
    "\"\"\"\n",
    "TODO:\n",
    "Fill in these missing functions\n",
    "Pass the arguments around correctly\n",
    "Debug and make plot of performative risk\n",
    "Try for d=2 and make a trajectory plot too\n",
    "\"\"\"\n",
    "\n",
    "def obtain_data(n, d, mu_p1, gamma_p1, mu_p2, gamma_p2, cov_x, sigma_y):\n",
    "    theta_p1_lst = []\n",
    "    z_p1_lst, z_p2_lst = [], []\n",
    "    theta_p2_lst = []\n",
    "    \n",
    "    for i in np.arange(2*n):\n",
    "        #Both players play random actions to gather information\n",
    "        theta_p1_i, theta_p2_i = np.random.normal(size = d), np.random.normal(size = d)\n",
    "        theta_p1_lst.append(theta_p1_i)\n",
    "        theta_p2_lst.append(theta_p2_i)\n",
    "\n",
    "        #Both players \n",
    "        z_p1_i = sample_from_distribution(cov_x, sigma_y, beta_p1, mu_p1, gamma_p1, theta_p1_i, theta_p2_i)\n",
    "        z_p2_i = sample_from_distribution(cov_x, sigma_y, beta_p2, mu_p2, gamma_p2, theta_p1_i, theta_p2_i)\n",
    "        z_p1_lst.append(z_p1_i)\n",
    "        z_p2_lst.append(z_p2_i)\n",
    "    \n",
    "    return np.array(z_p1_lst), np.array(z_p2_lst), np.array(theta_p1_lst), np.array(theta_p2_lst)\n",
    "\n",
    "\n",
    "def sample_from_distribution(cov_x, sigma_y, beta, mu, gamma, theta_p1, theta_p2):\n",
    "    x = np.random.multivariate_normal(np.zeros(len(cov_x)), cov_x)\n",
    "    U_y = np.random.normal(0, sigma_y)\n",
    "    y = beta.T @ x + mu.T @ theta_p1 + gamma.T @ theta_p2 + U_y\n",
    "    return (x, y)\n",
    "    \n",
    "def solve_distribution_params(z_lst, theta_p1_lst, theta_p2_lst):\n",
    "    y = [e[1] for e in z_lst]\n",
    "    A = np.hstack((theta_p1_lst, theta_p2_lst))\n",
    "    mu_tilde = np.linalg.inv(A.T @ A) @ A.T @ y\n",
    "    \n",
    "    num_each = int(len(mu_tilde)/2)\n",
    "    mu_hat = mu_tilde[:num_each]\n",
    "    gamma_hat = mu_tilde[num_each:]\n",
    "    return mu_hat, gamma_hat\n",
    "\n",
    "def find_qs(mu_hat, gamma_hat, z_lst, theta_p1_lst, theta_p2_lst):\n",
    "    y_lst = [e[1] for e in z_lst]\n",
    "    q_lst = []\n",
    "    for (idx, y) in enumerate(y_lst):\n",
    "        theta_p1 = theta_p1_lst[idx]\n",
    "        theta_p2 = theta_p2_lst[idx]\n",
    "        q = y - np.dot(mu_hat, theta_p1) - np.dot(gamma_hat, theta_p2)\n",
    "        q_lst.append(q)\n",
    "    return np.array(q_lst)\n",
    "        \n",
    "    \n",
    "def solve_theta(x_lst, q, mu_hat, gamma_hat, theta_other):\n",
    "    y_mod = q + np.dot(gamma_hat, theta_other)*np.ones(len(q))\n",
    "    x_arr = np.array(x_lst)\n",
    "    #TODO: Ensure that this subtracts from each row like I expect\n",
    "    A = x_arr - mu_hat\n",
    "    theta = np.linalg.inv(A.T @ A) @ A.T @ y_mod\n",
    "    #ipdb.set_trace()\n",
    "    return theta\n",
    "\n",
    "\n",
    "def run_first_stage(z_p1_lst, z_p2_lst, theta_p1_lst, theta_p2_lst):\n",
    "    mu_hat_p1, gamma_hat_p1 = solve_distribution_params(z_p1_lst, theta_p1_lst, theta_p2_lst)\n",
    "    mu_hat_p2, gamma_hat_p2 = solve_distribution_params(z_p2_lst, theta_p1_lst, theta_p2_lst)\n",
    "    return mu_hat_p1, gamma_hat_p1, mu_hat_p2, gamma_hat_p2\n",
    "\n",
    "def run_second_stage(x_p1_lst, q_p1, x_p2_lst, q_p2, mu_hat_p1, \n",
    "                        gamma_hat_p1, mu_hat_p2, gamma_hat_p2, num_iter):\n",
    "    \n",
    "    theta_p1_init, theta_p2_init = np.random.normal(size = d), np.random.normal(size = d)\n",
    "    theta_p1_lst, theta_p2_lst = [theta_p1_init], [theta_p2_init]\n",
    "    \n",
    "    for k in range(num_iter):\n",
    "        #Solve theta for player 1\n",
    "        theta_p2_prev = theta_p2_lst[-1]\n",
    "        theta_p1_k= solve_theta(x_p1_lst, q_p1, mu_hat_p1, gamma_hat_p1, theta_p2_prev)\n",
    "        \n",
    "        \n",
    "        #Solve theta for player 2\n",
    "        theta_p1_prev = theta_p1_lst[-1]\n",
    "        theta_p2_k= solve_theta(x_p2_lst, q_p2, mu_hat_p2, gamma_hat_p2, theta_p1_prev)\n",
    "        \n",
    "        theta_p1_lst.append(theta_p1_k)\n",
    "        theta_p2_lst.append(theta_p2_k)\n",
    "    \n",
    "    return theta_p1_lst, theta_p2_lst\n",
    "\n",
    "def evaluate_test_performative_risk(beta, mu, gamma, theta_p1, theta_p2, cov_x, sigma_y, num_test):\n",
    "    test_set = [sample_from_distribution(cov_x, sigma_y, beta, mu, gamma, theta_p1, theta_p2) for e in range(num_test)]\n",
    "    x_test = np.array([e[0] for e in test_set])\n",
    "    y_test = [e[1] for e in test_set]\n",
    "    y_pred = x_test @ theta_p1\n",
    "    mse = np.linalg.norm(y_test - y_pred)**2\n",
    "    mse_avg = mse/len(y_test)\n",
    "    return mse_avg\n",
    "\n",
    "def solve_PO_given_theta():\n",
    "    pass\n",
    "\n",
    "#TODO: cov_x and sigma_y could also be different for the two players. Change this later.\n",
    "def run_game(n, d, mu_p1, gamma_p1, mu_p2, gamma_p2, num_iter_stage_two, num_test, cov_x, sigma_y, beta_p1, beta_p2): \n",
    "    \n",
    "    #Obtain and split up the data for both stages\n",
    "    z_p1_lst, z_p2_lst, theta_p1_lst, theta_p2_lst = obtain_data(n, d, mu_p1, gamma_p1, \n",
    "                                                                 mu_p2, gamma_p2, cov_x, sigma_y)\n",
    "    \n",
    "    num_first_stage = n\n",
    "    z_p1_lst_sliced = (z_p1_lst[:num_first_stage], z_p1_lst[num_first_stage:])\n",
    "    z_p2_lst_sliced = (z_p2_lst[:num_first_stage], z_p2_lst[num_first_stage:])\n",
    "\n",
    "    theta_p1_lst_sliced = (theta_p1_lst[:num_first_stage], theta_p1_lst[num_first_stage:])\n",
    "    theta_p2_lst_sliced = (theta_p2_lst[:num_first_stage], theta_p2_lst[num_first_stage:])\n",
    "    \n",
    "    #Stage 1\n",
    "    mu_hat_p1, gamma_hat_p1, mu_hat_p2, gamma_hat_p2 = run_first_stage(z_p1_lst_sliced[0], z_p2_lst_sliced[0], \n",
    "                                                                       theta_p1_lst_sliced[0], theta_p2_lst_sliced[0])\n",
    "    \n",
    "    print(\"-------------\")\n",
    "    print(\"n=\"+ str(n))\n",
    "    print(\"Player 1:\")\n",
    "    print(mu_p1)\n",
    "    print(mu_hat_p1)\n",
    "    print(\"Player 2:\")\n",
    "    print(mu_p2)\n",
    "    print(mu_hat_p2)\n",
    "    print(\"-------------\")\n",
    "    \n",
    "    #Obtain qs for stage 2\n",
    "    q_p1_lst = find_qs(mu_hat_p1, gamma_hat_p1, z_p1_lst_sliced[1], theta_p1_lst_sliced[1], theta_p2_lst_sliced[1])\n",
    "    q_p2_lst = find_qs(mu_hat_p2, gamma_hat_p2, z_p2_lst_sliced[1], theta_p1_lst_sliced[1], theta_p2_lst_sliced[1])\n",
    "    \n",
    "    #Stage 2\n",
    "    x_lst_p1 = [e[0] for e in z_p1_lst_sliced[1]]\n",
    "    x_lst_p2 = [e[0] for e in z_p2_lst_sliced[1]]\n",
    "    \n",
    "    theta_p1_final_lst, theta_p2_final_lst = run_second_stage(x_lst_p1, q_p1_lst, x_lst_p2, q_p2_lst, \n",
    "                                                  mu_hat_p1, gamma_hat_p1, mu_hat_p2, gamma_hat_p2, num_iter_stage_two)\n",
    "    \n",
    "    perf_risk_p1 = evaluate_test_performative_risk(beta_p1, mu_p1, gamma_p1, theta_p1_final_lst[-1], \n",
    "                                                   theta_p2_final_lst[-1], cov_x, sigma_y, num_test)\n",
    "    \n",
    "    \n",
    "    perf_risk_p2 = evaluate_test_performative_risk(beta_p2, mu_p2, gamma_p2, theta_p1_final_lst[-1], \n",
    "                                                   theta_p2_final_lst[-1], cov_x, sigma_y, num_test)\n",
    "    \n",
    "    theta_p1, theta_p2 = theta_p1_final_lst[-1], theta_p2_final_lst[-1]\n",
    "    \n",
    "    return theta_p1, theta_p2, perf_risk_p1, perf_risk_p2"
   ]
  },
  {
   "cell_type": "code",
   "execution_count": 5,
   "metadata": {
    "scrolled": true
   },
   "outputs": [
    {
     "name": "stdout",
     "output_type": "stream",
     "text": [
      "-------------\n",
      "n=1\n",
      "Player 1:\n",
      "[-1.69191314  0.74440442]\n",
      "[-18.73328827 449.59891858]\n",
      "Player 2:\n",
      "[-0.80146634 -0.89855495]\n",
      "[  19.98815536 -479.71572873]\n",
      "-------------\n"
     ]
    },
    {
     "name": "stderr",
     "output_type": "stream",
     "text": [
      "/Users/adhyyan/anaconda3/lib/python3.7/site-packages/ipykernel_launcher.py:61: RuntimeWarning: invalid value encountered in matmul\n"
     ]
    },
    {
     "name": "stdout",
     "output_type": "stream",
     "text": [
      "-------------\n",
      "n=2\n",
      "Player 1:\n",
      "[-1.69191314  0.74440442]\n",
      "[-148.53486312   -1.21980632]\n",
      "Player 2:\n",
      "[-0.80146634 -0.89855495]\n",
      "[194.16039332   5.27755825]\n",
      "-------------\n",
      "-------------\n",
      "n=3\n",
      "Player 1:\n",
      "[-1.69191314  0.74440442]\n",
      "[-2.09998462  0.0741787 ]\n",
      "Player 2:\n",
      "[-0.80146634 -0.89855495]\n",
      "[-5.94513025  2.6178749 ]\n",
      "-------------\n",
      "-------------\n",
      "n=5\n",
      "Player 1:\n",
      "[-1.69191314  0.74440442]\n",
      "[33.96283215 47.02478533]\n",
      "Player 2:\n",
      "[-0.80146634 -0.89855495]\n",
      "[33.56305395 25.5483116 ]\n",
      "-------------\n",
      "-------------\n",
      "n=10\n",
      "Player 1:\n",
      "[-1.69191314  0.74440442]\n",
      "[-6.09452549  4.12628902]\n",
      "Player 2:\n",
      "[-0.80146634 -0.89855495]\n",
      "[-0.1492289  -6.89808682]\n",
      "-------------\n",
      "-------------\n",
      "n=100\n",
      "Player 1:\n",
      "[-1.69191314  0.74440442]\n",
      "[-2.47952915  1.52005453]\n",
      "Player 2:\n",
      "[-0.80146634 -0.89855495]\n",
      "[-0.30042997 -0.495153  ]\n",
      "-------------\n",
      "-------------\n",
      "n=1000\n",
      "Player 1:\n",
      "[-1.69191314  0.74440442]\n",
      "[-0.80088765  0.58028123]\n",
      "Player 2:\n",
      "[-0.80146634 -0.89855495]\n",
      "[-0.89416897 -0.92223452]\n",
      "-------------\n",
      "-------------\n",
      "n=10000\n",
      "Player 1:\n",
      "[-1.69191314  0.74440442]\n",
      "[-1.49579783  0.79759384]\n",
      "Player 2:\n",
      "[-0.80146634 -0.89855495]\n",
      "[-0.72209817 -0.77627125]\n",
      "-------------\n"
     ]
    }
   ],
   "source": [
    "n_lst = [1, 2, 3, 5, 10, 100, 1000, 10000]\n",
    "pr_p1_lst = []\n",
    "pr_p2_lst = []\n",
    "theta_p1_lst = []\n",
    "theta_p2_lst = []\n",
    "\n",
    "for n_r in n_lst:\n",
    "    tp1, tp2, pr_p1, pr_p2 = run_game(n_r, d, mu_p1, gamma_p1, mu_p2, gamma_p2, stage_two_iter, num_test, \n",
    "                            Sigma_x, sigma_y, beta_p1, beta_p2)\n",
    "    \n",
    "    theta_p1_lst.append(tp1)\n",
    "    theta_p2_lst.append(tp2)\n",
    "    pr_p1_lst.append(pr_p1)\n",
    "    pr_p2_lst.append(pr_p2)"
   ]
  },
  {
   "cell_type": "code",
   "execution_count": 6,
   "metadata": {},
   "outputs": [],
   "source": [
    "# get the Performative Optima\n",
    "def solve_theta_PO(mu_1,mu_2,gamma_1,gamma_2, beta_1,beta_2,Sigma_x):\n",
    "    mu_Sig_1 = np.outer(mu_1, mu_1) - Sigma_x\n",
    "    mu_Sig_2 = np.outer(mu_2, mu_2) - Sigma_x\n",
    "    mu_gamma_1 = np.outer(mu_1, gamma_1) \n",
    "    mu_gamma_2 = np.outer(mu_2, gamma_2) \n",
    "    A_1 = np.linalg.inv(mu_Sig_2 @ np.linalg.inv(mu_gamma_1) @ mu_Sig_1 - mu_gamma_2)\n",
    "    A_2 = np.linalg.inv(mu_Sig_1 @ np.linalg.inv(mu_gamma_2) @ mu_Sig_2 - mu_gamma_1)\n",
    "    \n",
    "    B_1 = mu_Sig_2 @ np.linalg.inv(mu_gamma_1) @ Sigma_x @ beta_1 - Sigma_x @ beta_2\n",
    "    B_2 = mu_Sig_1 @ np.linalg.inv(mu_gamma_2) @ Sigma_x @ beta_2 - Sigma_x @ beta_1\n",
    "    \n",
    "    \n",
    "    theta_PO_1 = A_1 @ B_1\n",
    "    theta_PO_2 = A_2 @ B_2\n",
    "    return theta_PO_1, theta_PO_2\n",
    "\n",
    "\n",
    "theta_PO_p1, theta_PO_p2 = solve_theta_PO(mu_p1,mu_p2,gamma_p1,gamma_p2, beta_p1, beta_p2, Sigma_x)\n",
    "\n",
    "pr_PO_p1 = evaluate_test_performative_risk(beta_p1, mu_p1, gamma_p1, theta_PO_p1, \n",
    "                                                   theta_PO_p2, Sigma_x, sigma_y, num_test)\n",
    "pr_PO_p2 = evaluate_test_performative_risk(beta_p2, mu_p2, gamma_p2, theta_PO_p1, \n",
    "                                                   theta_PO_p2, Sigma_x, sigma_y, num_test)\n",
    "    "
   ]
  },
  {
   "cell_type": "code",
   "execution_count": 7,
   "metadata": {},
   "outputs": [
    {
     "name": "stdout",
     "output_type": "stream",
     "text": [
      "103.69274092224587 101.93017112698814\n"
     ]
    }
   ],
   "source": [
    "print(pr_PO_p1, pr_PO_p2)"
   ]
  },
  {
   "cell_type": "code",
   "execution_count": 8,
   "metadata": {},
   "outputs": [],
   "source": [
    "theta_p1_lst = np.array(theta_p1_lst)\n",
    "theta_p2_lst = np.array(theta_p2_lst)"
   ]
  },
  {
   "cell_type": "code",
   "execution_count": 9,
   "metadata": {},
   "outputs": [
    {
     "data": {
      "text/plain": [
       "(8, 2)"
      ]
     },
     "execution_count": 9,
     "metadata": {},
     "output_type": "execute_result"
    }
   ],
   "source": [
    "theta_p1_lst.shape"
   ]
  },
  {
   "cell_type": "markdown",
   "metadata": {},
   "source": [
    "## Create plots"
   ]
  },
  {
   "cell_type": "code",
   "execution_count": 10,
   "metadata": {},
   "outputs": [],
   "source": [
    "import seaborn as sns\n",
    "sns.set_style('darkgrid')"
   ]
  },
  {
   "cell_type": "code",
   "execution_count": 11,
   "metadata": {},
   "outputs": [
    {
     "data": {
      "text/plain": [
       "Text(0.5, 1.0, 'Params learned after stage 2 with n points')"
      ]
     },
     "execution_count": 11,
     "metadata": {},
     "output_type": "execute_result"
    },
    {
     "data": {
      "image/png": "[encoded data removed]",
      "text/plain": [
       "<Figure size 432x288 with 1 Axes>"
      ]
     },
     "metadata": {},
     "output_type": "display_data"
    }
   ],
   "source": [
    "x = [theta_PO_p1[0], theta_PO_p2[0]]\n",
    "y = [theta_PO_p1[1], theta_PO_p2[1]]\n",
    "plt.scatter(x,y, label = 'Nash Equilibrium', marker = '*', color = 'k', s = 120)\n",
    "\n",
    "x2 = theta_p1_lst[:, 0]\n",
    "y2 = theta_p1_lst[:, 1]\n",
    "plt.scatter(x2,y2, label = 'P1 trajectory', marker = '*', color = 'g', s = 50)\n",
    "\n",
    "x3 = theta_p2_lst[:, 0]\n",
    "y3 = theta_p2_lst[:, 1]\n",
    "plt.scatter(x3,y3, label = 'P2 trajectory', marker = '*', color = 'r', s = 50)\n",
    "\n",
    "plt.xscale('log')\n",
    "plt.yscale('log')\n",
    "plt.legend()\n",
    "plt.title(\"Params learned after stage 2 with n points\")"
   ]
  },
  {
   "cell_type": "code",
   "execution_count": 12,
   "metadata": {},
   "outputs": [
    {
     "data": {
      "text/plain": [
       "array([[         nan,          nan],\n",
       "       [  2.04640342, -42.50328734],\n",
       "       [  3.86759364, -13.70282171],\n",
       "       [ -3.21279889,  -5.74718544],\n",
       "       [  2.73231661,  -1.75660167],\n",
       "       [ -0.46930245,   2.70509644],\n",
       "       [  0.34039875,   0.61423865],\n",
       "       [ -0.2125418 ,   0.65077429]])"
      ]
     },
     "execution_count": 12,
     "metadata": {},
     "output_type": "execute_result"
    }
   ],
   "source": [
    "theta_p2_lst"
   ]
  },
  {
   "cell_type": "code",
   "execution_count": 15,
   "metadata": {},
   "outputs": [
    {
     "data": {
      "text/plain": [
       "array([0., 0.])"
      ]
     },
     "execution_count": 15,
     "metadata": {},
     "output_type": "execute_result"
    }
   ],
   "source": [
    "theta_PO_p2"
   ]
  },
  {
   "cell_type": "code",
   "execution_count": 14,
   "metadata": {},
   "outputs": [
    {
     "data": {
      "text/plain": [
       "Text(0.5, 1.0, 'Convergence in performative risks')"
      ]
     },
     "execution_count": 14,
     "metadata": {},
     "output_type": "execute_result"
    },
    {
     "data": {
      "image/png": "[encoded data removed]",
      "text/plain": [
       "<Figure size 432x288 with 1 Axes>"
      ]
     },
     "metadata": {},
     "output_type": "display_data"
    }
   ],
   "source": [
    "plt.plot(n_lst[2:], pr_p1_lst[2:], label = 'First Player')\n",
    "plt.plot(n_lst[2:], pr_p2_lst[2:], label = 'Second Player')\n",
    "plt.plot(n_lst[2:], pr_PO_p1* np.ones( (len(n_lst[2:]), 1)) , label = 'First Player\\'s PO')\n",
    "plt.plot(n_lst[2:], pr_PO_p2* np.ones( (len(n_lst[2:]), 1)) , label = 'Second Player\\'s PO')\n",
    "plt.xscale('log')\n",
    "plt.yscale('log')\n",
    "plt.legend()\n",
    "\n",
    "plt.xlabel(\"Num. train points both phases\")\n",
    "plt.ylabel(r\"$PR(\\theta)$\")\n",
    "plt.title(\"Convergence in performative risks\")\n",
    "#plt.savefig(\"/Users/adhyyan/Desktop/multiplayer_pp_simulation.pdf\", format = 'pdf')"
   ]
  },
  {
   "cell_type": "code",
   "execution_count": null,
   "metadata": {},
   "outputs": [],
   "source": []
  }
 ],
 "metadata": {
  "kernelspec": {
   "display_name": "Python 3",
   "language": "python",
   "name": "python3"
  },
  "language_info": {
   "codemirror_mode": {
    "name": "ipython",
    "version": 3
   },
   "file_extension": ".py",
   "mimetype": "text/x-python",
   "name": "python",
   "nbconvert_exporter": "python",
   "pygments_lexer": "ipython3",
   "version": "3.7.7"
  }
 },
 "nbformat": 4,
 "nbformat_minor": 4
}
