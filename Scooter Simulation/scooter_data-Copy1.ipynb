{
 "cells": [
  {
   "cell_type": "code",
   "execution_count": 70,
   "metadata": {},
   "outputs": [],
   "source": [
    "import math\n",
    "import time\n",
    "import requests\n",
    "import numpy as np\n",
    "import pandas as pd\n",
    "\n",
    "lime = \"https://data.lime.bike/api/partners/v1/gbfs/seattle/free_bike_status.json\"\n",
    "link = \"https://wrangler-mds-production.herokuapp.com/gbfs/Seattle,%20WA/free_bike_status.json\"\n",
    "wheels = \"https://seattle-gbfs.getwheelsapp.com/free_bike_status.json\"\n",
    "\n",
    "import json\n",
    "  \n"
   ]
  },
  {
   "cell_type": "code",
   "execution_count": 71,
   "metadata": {},
   "outputs": [],
   "source": [
    "lime_json = requests.get(lime)\n",
    "#lime_json.json()\n"
   ]
  },
  {
   "cell_type": "code",
   "execution_count": 3,
   "metadata": {},
   "outputs": [],
   "source": [
    "def get_status():\n",
    "    print('getting status...')\n",
    "    lime_json = requests.get(lime).text\n",
    "    link_json = requests.get(link).text\n",
    "    wheels_json = requests.get(wheels).text\n",
    "    \n",
    "    timestamp_lime = pd.read_json(lime_json)['last_updated'][0]\n",
    "    data_lime = pd.DataFrame(pd.read_json(lime_json)['data'][0])\n",
    "    data_lime.insert(1,'timestamp',timestamp_lime)\n",
    "    data_lime.insert(0,'company','lime')\n",
    "    timestamp_link = pd.read_json(link_json)['last_updated'][0]\n",
    "    data_link = pd.DataFrame(pd.read_json(link_json)['data'][0])\n",
    "    data_link.insert(1,'timestamp',timestamp_link)\n",
    "    data_link.insert(0,'company','link')\n",
    "    timestamp_wheels = pd.read_json(wheels_json)['last_updated'][0]\n",
    "    data_wheels = pd.DataFrame(pd.read_json(wheels_json)['data'][0])\n",
    "    data_wheels.insert(1,'timestamp',timestamp_wheels)\n",
    "    data_wheels.insert(0,'company','wheels')\n",
    "\n",
    "    frames = [data_lime, data_link, data_wheels]\n",
    "    times = [timestamp_lime, timestamp_link, timestamp_wheels]\n",
    "    return frames, times"
   ]
  },
  {
   "cell_type": "code",
   "execution_count": 34,
   "metadata": {},
   "outputs": [],
   "source": [
    "lime_json = requests.get(lime).json()\n",
    "\n",
    "link_json = requests.get(link).json()\n",
    "data_json = link_json['data']\n",
    "time_json = {'timestamp': link_json['last_updated']}\n",
    "time.sleep(30)\n",
    "link_json = requests.get(link).json()\n",
    "data_json.update(link_json['data'])\n",
    "time_json.update({'timestamp': link_json['last_updated']})\n",
    "time_json=json.dumps(time_json)\n",
    "#data_json"
   ]
  },
  {
   "cell_type": "code",
   "execution_count": 93,
   "metadata": {},
   "outputs": [
    {
     "data": {
      "text/plain": [
       "960.0"
      ]
     },
     "execution_count": 93,
     "metadata": {},
     "output_type": "execute_result"
    }
   ],
   "source": [
    "(60*60)*8/30"
   ]
  },
  {
   "cell_type": "code",
   "execution_count": 94,
   "metadata": {},
   "outputs": [
    {
     "data": {
      "text/plain": [
       "8.0"
      ]
     },
     "execution_count": 94,
     "metadata": {},
     "output_type": "execute_result"
    }
   ],
   "source": [
    "960*30./(60*60)"
   ]
  },
  {
   "cell_type": "code",
   "execution_count": 81,
   "metadata": {},
   "outputs": [
    {
     "name": "stdout",
     "output_type": "stream",
     "text": [
      "Creating file...\n"
     ]
    }
   ],
   "source": [
    "import io\n",
    "import json\n",
    "import os\n",
    "import math\n",
    "import time\n",
    "import requests\n",
    "import numpy as np\n",
    "import pandas as pd\n",
    "\n",
    "def startupCheck(PATH='./', jsonname='test.json', datastart={}):\n",
    "    if os.path.isfile(PATH) and os.access(PATH, os.R_OK):\n",
    "        # checks if file exists\n",
    "        print (\"File exists and is readable\")\n",
    "    else:\n",
    "        print (\"Creating file...\")\n",
    "        with io.open(os.path.join(PATH, jsonname), 'w') as db_file:\n",
    "            db_file.write(json.dumps(datastart))\n",
    "            \n",
    "            \n",
    "if __name__ == \"__main__\":\n",
    "    lime = \"https://data.lime.bike/api/partners/v1/gbfs/seattle/free_bike_status.json\"\n",
    "    link = \"https://wrangler-mds-production.herokuapp.com/gbfs/Seattle,%20WA/free_bike_status.json\"\n",
    "    wheels = \"https://seattle-gbfs.getwheelsapp.com/free_bike_status.json\"\n",
    "    link_json = requests.get(link).json()\n",
    "    link_json['company']='link'\n",
    "    lime_json = requests.get(lime).json()\n",
    "    lime_json['company']='lime'\n",
    "    wheels_json = requests.get(wheels).json()\n",
    "    wheels_json['company']='wheels'\n",
    "    all_data={'alldata': [link_json, lime_json, wheels_json]}\n",
    "    startupCheck(jsonname='test2.json', datastart=all_data)\n",
    "\n",
    "    for i in range(4):\n",
    "        time.sleep(30)\n",
    "        link_json = requests.get(link).json()\n",
    "        link_json['company']='link'\n",
    "        lime_json = requests.get(lime).json()\n",
    "        lime_json['company']='lime'\n",
    "        wheels_json = requests.get(wheels).json()\n",
    "        wheels_json['company']='wheels'\n",
    "        with open('test2.json','r') as file:\n",
    "            # First we load existing data into a dict.\n",
    "            file_data = json.load(file)\n",
    "        \n",
    "        file_data['alldata'].append(lime_json)\n",
    "        file_data['alldata'].append(link_json)\n",
    "        file_data['alldata'].append(wheels_json)\n",
    "            ##print(file_data)\n",
    "        with open('test2.json','w') as file:\n",
    "            json.dump(file_data,file)"
   ]
  },
  {
   "cell_type": "code",
   "execution_count": 77,
   "metadata": {},
   "outputs": [
    {
     "data": {
      "text/plain": [
       "2"
      ]
     },
     "execution_count": 77,
     "metadata": {},
     "output_type": "execute_result"
    }
   ],
   "source": [
    "len(file_data['alldata'])"
   ]
  },
  {
   "cell_type": "code",
   "execution_count": 40,
   "metadata": {},
   "outputs": [
    {
     "name": "stdout",
     "output_type": "stream",
     "text": [
      "Either file is missing or is not readable, creating file...\n"
     ]
    }
   ],
   "source": [
    "startupCheck(jsonname='test.json')"
   ]
  },
  {
   "cell_type": "code",
   "execution_count": 65,
   "metadata": {},
   "outputs": [
    {
     "name": "stdout",
     "output_type": "stream",
     "text": [
      "Either file is missing or is not readable, creating file...\n"
     ]
    }
   ],
   "source": [
    "fd={'last_updated': 1600, 'data':{'bikes':[], 'scooters':[]}}\n",
    "fd_={'last_updated': 1601, 'data':{'bikes':[], 'scooters':[]}}\n",
    "fd['company']='link'\n",
    "fd_['company']='lime'\n",
    "t={'all data': [fd]}\n",
    "startupCheck(jsonname='test2.json', datastart=t)"
   ]
  },
  {
   "cell_type": "code",
   "execution_count": 66,
   "metadata": {},
   "outputs": [
    {
     "name": "stdout",
     "output_type": "stream",
     "text": [
      "{'all data': [{'last_updated': 1600, 'data': {'bikes': [], 'scooters': []}, 'company': 'link'}, {'last_updated': 1601, 'data': {'bikes': [], 'scooters': []}, 'company': 'lime'}]}\n"
     ]
    }
   ],
   "source": [
    "with open('test2.json','r+') as file:\n",
    "    # First we load existing data into a dict.\n",
    "    file_data = json.load(file)\n",
    "    file_data['all data'].append(fd_)\n",
    "    print(file_data)\n",
    "    json.dump(file_data,file)"
   ]
  },
  {
   "cell_type": "code",
   "execution_count": 50,
   "metadata": {},
   "outputs": [
    {
     "data": {
      "text/plain": [
       "{}"
      ]
     },
     "execution_count": 50,
     "metadata": {},
     "output_type": "execute_result"
    }
   ],
   "source": []
  },
  {
   "cell_type": "code",
   "execution_count": 44,
   "metadata": {},
   "outputs": [],
   "source": [
    "#data_json['data']\n",
    "#link_json\n",
    "# function to add to JSON\n",
    "def write_json(new_data, filename='data.json'):\n",
    "    with open(filename,'r+') as file:\n",
    "          # First we load existing data into a dict.\n",
    "        file_data = json.load(file)\n",
    "        # Join new_data with file_data inside emp_details\n",
    "        file_data.update(link_json)\n",
    "        # Sets file's current position at offset.\n",
    "        file.seek(0)\n",
    "        # convert back to json.\n",
    "        json.dump(file_data, file, indent = 4)\n",
    "\n",
    "write_json(link_json, filename='test.json')"
   ]
  },
  {
   "cell_type": "code",
   "execution_count": 45,
   "metadata": {},
   "outputs": [],
   "source": [
    "link_json = requests.get(link).json()\n",
    "write_json(link_json, filename='test.json')"
   ]
  },
  {
   "cell_type": "code",
   "execution_count": 4,
   "metadata": {},
   "outputs": [
    {
     "name": "stdout",
     "output_type": "stream",
     "text": [
      "getting status...\n",
      "getting status...\n",
      "6903 rows\n"
     ]
    },
    {
     "ename": "KeyboardInterrupt",
     "evalue": "",
     "output_type": "error",
     "traceback": [
      "\u001b[0;31m---------------------------------------------------------------------------\u001b[0m",
      "\u001b[0;31mKeyboardInterrupt\u001b[0m                         Traceback (most recent call last)",
      "\u001b[0;32m<ipython-input-4-66e03c02345c>\u001b[0m in \u001b[0;36m<module>\u001b[0;34m\u001b[0m\n\u001b[1;32m     17\u001b[0m         \u001b[0mdata\u001b[0m \u001b[0;34m=\u001b[0m \u001b[0mpd\u001b[0m\u001b[0;34m.\u001b[0m\u001b[0mconcat\u001b[0m\u001b[0;34m(\u001b[0m\u001b[0;34m[\u001b[0m\u001b[0mdata\u001b[0m\u001b[0;34m,\u001b[0m \u001b[0mframes_new\u001b[0m\u001b[0;34m[\u001b[0m\u001b[0;36m2\u001b[0m\u001b[0;34m]\u001b[0m\u001b[0;34m]\u001b[0m\u001b[0;34m,\u001b[0m \u001b[0mignore_index\u001b[0m\u001b[0;34m=\u001b[0m\u001b[0;32mTrue\u001b[0m\u001b[0;34m)\u001b[0m\u001b[0;34m\u001b[0m\u001b[0;34m\u001b[0m\u001b[0m\n\u001b[1;32m     18\u001b[0m     \u001b[0mprint\u001b[0m\u001b[0;34m(\u001b[0m\u001b[0;34mf'{data.shape[0]} rows'\u001b[0m\u001b[0;34m)\u001b[0m\u001b[0;34m\u001b[0m\u001b[0;34m\u001b[0m\u001b[0m\n\u001b[0;32m---> 19\u001b[0;31m     \u001b[0mtime\u001b[0m\u001b[0;34m.\u001b[0m\u001b[0msleep\u001b[0m\u001b[0;34m(\u001b[0m\u001b[0;36m30\u001b[0m\u001b[0;34m)\u001b[0m\u001b[0;34m\u001b[0m\u001b[0;34m\u001b[0m\u001b[0m\n\u001b[0m",
      "\u001b[0;31mKeyboardInterrupt\u001b[0m: "
     ]
    }
   ],
   "source": [
    "frames_new, times_new = get_status()\n",
    "data_new = pd.concat(frames_new, ignore_index=True)\n",
    "data = data_new\n",
    "\n",
    "for i in range(480):\n",
    "    times_old = times_new\n",
    "    frames_new, times_new = get_status()\n",
    "#     print(times_new)\n",
    "    if times_new[0] != times_old[0]:\n",
    "        #print('adding new lime data')\n",
    "        data = pd.concat([data, frames_new[0]], ignore_index=True)\n",
    "    if times_new[1] != times_old[1]:\n",
    "        #print('adding new link data')\n",
    "        data = pd.concat([data, frames_new[1]], ignore_index=True)\n",
    "    if times_new[2] != times_old[2]:\n",
    "        #print('adding new wheels data')\n",
    "        data = pd.concat([data, frames_new[2]], ignore_index=True)\n",
    "    print(f'{data.shape[0]} rows')\n",
    "    time.sleep(30)"
   ]
  },
  {
   "cell_type": "code",
   "execution_count": 59,
   "metadata": {},
   "outputs": [],
   "source": [
    "#link_json"
   ]
  },
  {
   "cell_type": "code",
   "execution_count": 5,
   "metadata": {},
   "outputs": [
    {
     "name": "stdout",
     "output_type": "stream",
     "text": [
      "<bound method NDFrame.head of      company                               bike_id   timestamp      lat  \\\n",
      "0       lime  47a00a6d-b0f3-4de6-b684-306e23e5eb4e  1626464967  47.5069   \n",
      "1       lime  955d53a2-66b7-454b-951d-1e4d96494e19  1626464967  47.5097   \n",
      "2       lime  88328454-1f23-4a3f-8715-5dbac99e1504  1626464967  47.5124   \n",
      "3       lime  05db4f25-0383-456e-bf58-8be583ec23f9  1626464967   47.516   \n",
      "4       lime  089a4340-d7ef-4a4c-a581-029e8584fd62  1626464967  47.5508   \n",
      "...      ...                                   ...         ...      ...   \n",
      "6898  wheels  13e4efc4-0e38-4808-a47a-edac5075f804  1626464971  47.6205   \n",
      "6899  wheels  09d8e84c-bb2e-47d3-baeb-3b1472c7abc6  1626464971  47.6309   \n",
      "6900  wheels  e5d429a5-fab9-40ad-8ca7-262285b312f4  1626464971  47.6323   \n",
      "6901  wheels  e79cccf6-66b2-40d5-a4ba-d57c9d151a90  1626464971  47.6907   \n",
      "6902  wheels  631115f3-584c-44b5-beee-a432ad682348  1626464971  47.6162   \n",
      "\n",
      "            lon  is_reserved  is_disabled vehicle_type  vehicle_type_id  \n",
      "0     -122.2489            0            0         bike              NaN  \n",
      "1       -122.25            0            0         bike              NaN  \n",
      "2     -122.2518            0            0         bike              NaN  \n",
      "3     -122.2572            0            0         bike              NaN  \n",
      "4     -122.2572            0            0         bike              NaN  \n",
      "...         ...          ...          ...          ...              ...  \n",
      "6898    -122.34            0            1          NaN              NaN  \n",
      "6899   -122.325            0            0          NaN              NaN  \n",
      "6900   -122.372            0            0          NaN              NaN  \n",
      "6901   -122.356            0            0          NaN              NaN  \n",
      "6902   -122.331            0            1          NaN              NaN  \n",
      "\n",
      "[6903 rows x 9 columns]>\n"
     ]
    }
   ],
   "source": [
    "print(data.head)"
   ]
  },
  {
   "cell_type": "code",
   "execution_count": 6,
   "metadata": {},
   "outputs": [],
   "source": [
    "data.to_csv('data/scooterdata20210716.csv', index=False)"
   ]
  },
  {
   "cell_type": "code",
   "execution_count": 7,
   "metadata": {},
   "outputs": [
    {
     "data": {
      "text/html": [
       "<div>\n",
       "<style scoped>\n",
       "    .dataframe tbody tr th:only-of-type {\n",
       "        vertical-align: middle;\n",
       "    }\n",
       "\n",
       "    .dataframe tbody tr th {\n",
       "        vertical-align: top;\n",
       "    }\n",
       "\n",
       "    .dataframe thead th {\n",
       "        text-align: right;\n",
       "    }\n",
       "</style>\n",
       "<table border=\"1\" class=\"dataframe\">\n",
       "  <thead>\n",
       "    <tr style=\"text-align: right;\">\n",
       "      <th></th>\n",
       "      <th>company</th>\n",
       "      <th>bike_id</th>\n",
       "      <th>timestamp</th>\n",
       "      <th>lat</th>\n",
       "      <th>lon</th>\n",
       "      <th>is_reserved</th>\n",
       "      <th>is_disabled</th>\n",
       "      <th>vehicle_type</th>\n",
       "      <th>vehicle_type_id</th>\n",
       "    </tr>\n",
       "  </thead>\n",
       "  <tbody>\n",
       "    <tr>\n",
       "      <th>3020</th>\n",
       "      <td>link</td>\n",
       "      <td>4beff7c1-4289-4cd9-a2b1-094d64a39fe7</td>\n",
       "      <td>1626455134</td>\n",
       "      <td>47.6352</td>\n",
       "      <td>-122.342</td>\n",
       "      <td>0</td>\n",
       "      <td>0</td>\n",
       "      <td>NaN</td>\n",
       "      <td>1.0</td>\n",
       "    </tr>\n",
       "    <tr>\n",
       "      <th>5830</th>\n",
       "      <td>link</td>\n",
       "      <td>4beff7c1-4289-4cd9-a2b1-094d64a39fe7</td>\n",
       "      <td>1626455135</td>\n",
       "      <td>47.6352</td>\n",
       "      <td>-122.342</td>\n",
       "      <td>0</td>\n",
       "      <td>0</td>\n",
       "      <td>NaN</td>\n",
       "      <td>1.0</td>\n",
       "    </tr>\n",
       "    <tr>\n",
       "      <th>8632</th>\n",
       "      <td>link</td>\n",
       "      <td>4beff7c1-4289-4cd9-a2b1-094d64a39fe7</td>\n",
       "      <td>1626455167</td>\n",
       "      <td>47.6352</td>\n",
       "      <td>-122.342</td>\n",
       "      <td>0</td>\n",
       "      <td>0</td>\n",
       "      <td>NaN</td>\n",
       "      <td>1.0</td>\n",
       "    </tr>\n",
       "    <tr>\n",
       "      <th>11430</th>\n",
       "      <td>link</td>\n",
       "      <td>4beff7c1-4289-4cd9-a2b1-094d64a39fe7</td>\n",
       "      <td>1626455198</td>\n",
       "      <td>47.6352</td>\n",
       "      <td>-122.342</td>\n",
       "      <td>0</td>\n",
       "      <td>0</td>\n",
       "      <td>NaN</td>\n",
       "      <td>1.0</td>\n",
       "    </tr>\n",
       "    <tr>\n",
       "      <th>14232</th>\n",
       "      <td>link</td>\n",
       "      <td>4beff7c1-4289-4cd9-a2b1-094d64a39fe7</td>\n",
       "      <td>1626455230</td>\n",
       "      <td>47.6352</td>\n",
       "      <td>-122.342</td>\n",
       "      <td>0</td>\n",
       "      <td>0</td>\n",
       "      <td>NaN</td>\n",
       "      <td>1.0</td>\n",
       "    </tr>\n",
       "    <tr>\n",
       "      <th>...</th>\n",
       "      <td>...</td>\n",
       "      <td>...</td>\n",
       "      <td>...</td>\n",
       "      <td>...</td>\n",
       "      <td>...</td>\n",
       "      <td>...</td>\n",
       "      <td>...</td>\n",
       "      <td>...</td>\n",
       "      <td>...</td>\n",
       "    </tr>\n",
       "    <tr>\n",
       "      <th>850950</th>\n",
       "      <td>link</td>\n",
       "      <td>4beff7c1-4289-4cd9-a2b1-094d64a39fe7</td>\n",
       "      <td>1626464360</td>\n",
       "      <td>47.6353</td>\n",
       "      <td>-122.342</td>\n",
       "      <td>0</td>\n",
       "      <td>0</td>\n",
       "      <td>NaN</td>\n",
       "      <td>1.0</td>\n",
       "    </tr>\n",
       "    <tr>\n",
       "      <th>853776</th>\n",
       "      <td>link</td>\n",
       "      <td>4beff7c1-4289-4cd9-a2b1-094d64a39fe7</td>\n",
       "      <td>1626464393</td>\n",
       "      <td>47.6353</td>\n",
       "      <td>-122.342</td>\n",
       "      <td>0</td>\n",
       "      <td>0</td>\n",
       "      <td>NaN</td>\n",
       "      <td>1.0</td>\n",
       "    </tr>\n",
       "    <tr>\n",
       "      <th>856602</th>\n",
       "      <td>link</td>\n",
       "      <td>4beff7c1-4289-4cd9-a2b1-094d64a39fe7</td>\n",
       "      <td>1626464426</td>\n",
       "      <td>47.6353</td>\n",
       "      <td>-122.342</td>\n",
       "      <td>0</td>\n",
       "      <td>0</td>\n",
       "      <td>NaN</td>\n",
       "      <td>1.0</td>\n",
       "    </tr>\n",
       "    <tr>\n",
       "      <th>859427</th>\n",
       "      <td>link</td>\n",
       "      <td>4beff7c1-4289-4cd9-a2b1-094d64a39fe7</td>\n",
       "      <td>1626464459</td>\n",
       "      <td>47.6353</td>\n",
       "      <td>-122.342</td>\n",
       "      <td>0</td>\n",
       "      <td>0</td>\n",
       "      <td>NaN</td>\n",
       "      <td>1.0</td>\n",
       "    </tr>\n",
       "    <tr>\n",
       "      <th>862256</th>\n",
       "      <td>link</td>\n",
       "      <td>4beff7c1-4289-4cd9-a2b1-094d64a39fe7</td>\n",
       "      <td>1626464492</td>\n",
       "      <td>47.6353</td>\n",
       "      <td>-122.342</td>\n",
       "      <td>0</td>\n",
       "      <td>0</td>\n",
       "      <td>NaN</td>\n",
       "      <td>1.0</td>\n",
       "    </tr>\n",
       "  </tbody>\n",
       "</table>\n",
       "<p>291 rows × 9 columns</p>\n",
       "</div>"
      ],
      "text/plain": [
       "       company                               bike_id   timestamp      lat  \\\n",
       "3020      link  4beff7c1-4289-4cd9-a2b1-094d64a39fe7  1626455134  47.6352   \n",
       "5830      link  4beff7c1-4289-4cd9-a2b1-094d64a39fe7  1626455135  47.6352   \n",
       "8632      link  4beff7c1-4289-4cd9-a2b1-094d64a39fe7  1626455167  47.6352   \n",
       "11430     link  4beff7c1-4289-4cd9-a2b1-094d64a39fe7  1626455198  47.6352   \n",
       "14232     link  4beff7c1-4289-4cd9-a2b1-094d64a39fe7  1626455230  47.6352   \n",
       "...        ...                                   ...         ...      ...   \n",
       "850950    link  4beff7c1-4289-4cd9-a2b1-094d64a39fe7  1626464360  47.6353   \n",
       "853776    link  4beff7c1-4289-4cd9-a2b1-094d64a39fe7  1626464393  47.6353   \n",
       "856602    link  4beff7c1-4289-4cd9-a2b1-094d64a39fe7  1626464426  47.6353   \n",
       "859427    link  4beff7c1-4289-4cd9-a2b1-094d64a39fe7  1626464459  47.6353   \n",
       "862256    link  4beff7c1-4289-4cd9-a2b1-094d64a39fe7  1626464492  47.6353   \n",
       "\n",
       "            lon  is_reserved  is_disabled vehicle_type  vehicle_type_id  \n",
       "3020   -122.342            0            0          NaN              1.0  \n",
       "5830   -122.342            0            0          NaN              1.0  \n",
       "8632   -122.342            0            0          NaN              1.0  \n",
       "11430  -122.342            0            0          NaN              1.0  \n",
       "14232  -122.342            0            0          NaN              1.0  \n",
       "...         ...          ...          ...          ...              ...  \n",
       "850950 -122.342            0            0          NaN              1.0  \n",
       "853776 -122.342            0            0          NaN              1.0  \n",
       "856602 -122.342            0            0          NaN              1.0  \n",
       "859427 -122.342            0            0          NaN              1.0  \n",
       "862256 -122.342            0            0          NaN              1.0  \n",
       "\n",
       "[291 rows x 9 columns]"
      ]
     },
     "execution_count": 7,
     "metadata": {},
     "output_type": "execute_result"
    }
   ],
   "source": [
    "idnum = data['bike_id'][3020]\n",
    "data[data['bike_id']==idnum]"
   ]
  },
  {
   "cell_type": "code",
   "execution_count": null,
   "metadata": {},
   "outputs": [],
   "source": []
  }
 ],
 "metadata": {
  "kernelspec": {
   "display_name": "Python 3",
   "language": "python",
   "name": "python3"
  },
  "language_info": {
   "codemirror_mode": {
    "name": "ipython",
    "version": 3
   },
   "file_extension": ".py",
   "mimetype": "text/x-python",
   "name": "python",
   "nbconvert_exporter": "python",
   "pygments_lexer": "ipython3",
   "version": "3.8.5"
  }
 },
 "nbformat": 4,
 "nbformat_minor": 4
}
